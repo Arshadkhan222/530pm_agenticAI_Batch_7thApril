{
 "cells": [
  {
   "cell_type": "code",
   "execution_count": null,
   "id": "f5e0c935-fbcd-4d33-b86d-9bfa801877a4",
   "metadata": {},
   "outputs": [],
   "source": [
    "# append():- Now it is Function.\n",
    "# list.append():- Now it is methode."
   ]
  },
  {
   "cell_type": "markdown",
   "id": "07a16cc8-ba0c-4ce3-8acc-091a5a803b29",
   "metadata": {},
   "source": [
    "# List"
   ]
  },
  {
   "cell_type": "markdown",
   "id": "df8f85eb-a407-465b-b0cd-50f102e54b9d",
   "metadata": {},
   "source": [
    "## * list.insert():-"
   ]
  },
  {
   "cell_type": "raw",
   "id": "4a6b9d51-3d38-4d74-aaa8-dd1ab72151c4",
   "metadata": {},
   "source": [
    "- used to insert a item in a specific index position.\n",
    "- list.insert(x,y) will add element item at 'y'  location index number 'x'.\n",
    " syntex:- list.insert(index number, item)"
   ]
  },
  {
   "cell_type": "code",
   "execution_count": 2,
   "id": "b5a56fdc-91a3-4b3d-a615-a05897d4790f",
   "metadata": {},
   "outputs": [
    {
     "name": "stdout",
     "output_type": "stream",
     "text": [
      "[11, 'srk', 12, 13, 14]\n"
     ]
    }
   ],
   "source": [
    "lst = [11,12,13,14]\n",
    "lst.insert(1,'srk')\n",
    "print(lst)"
   ]
  },
  {
   "cell_type": "code",
   "execution_count": 3,
   "id": "05aae92f-26b6-4038-922c-80aa8002b9ea",
   "metadata": {},
   "outputs": [],
   "source": [
    "# it add the element on specific place but does not remove item which alredy threre."
   ]
  },
  {
   "cell_type": "code",
   "execution_count": 4,
   "id": "9b219657-1cc6-4a77-befc-c08dfec987f3",
   "metadata": {},
   "outputs": [
    {
     "name": "stdout",
     "output_type": "stream",
     "text": [
      "['srk', 'is', 'no', 1]\n"
     ]
    }
   ],
   "source": [
    "lst = ['srk', 'is', 'no']\n",
    "lst.insert(3, 1)\n",
    "print(lst)"
   ]
  },
  {
   "cell_type": "code",
   "execution_count": 7,
   "id": "b8f729eb-32c4-4870-a1ae-159b00da0439",
   "metadata": {},
   "outputs": [
    {
     "name": "stdout",
     "output_type": "stream",
     "text": [
      "[11, 12, 13, 34, 14, 45, 16]\n"
     ]
    }
   ],
   "source": [
    "lst=[11,12,34,14,45,16]\n",
    "lst.insert(2,13)\n",
    "print(lst)"
   ]
  },
  {
   "cell_type": "code",
   "execution_count": 8,
   "id": "ded08e8e-8065-4990-a27c-25a8359206b1",
   "metadata": {},
   "outputs": [
    {
     "name": "stdout",
     "output_type": "stream",
     "text": [
      "['A', 'R', 'S', 'H', 'A', 'D']\n"
     ]
    }
   ],
   "source": [
    "name = ['A','S','H','A','D']\n",
    "name.insert(1,'R')\n",
    "print(name)"
   ]
  },
  {
   "cell_type": "code",
   "execution_count": 9,
   "id": "355bac40-0ec9-472d-883b-d5073179e168",
   "metadata": {},
   "outputs": [
    {
     "name": "stdout",
     "output_type": "stream",
     "text": [
      "['srk', 'sir', 'is', 'no', 1]\n"
     ]
    }
   ],
   "source": [
    "name = ['srk','is','no',1]\n",
    "name.insert(1,'sir')\n",
    "print(name)"
   ]
  },
  {
   "cell_type": "markdown",
   "id": "f3e6a2d0-5c0d-433d-9dfc-c33922e73f39",
   "metadata": {},
   "source": [
    "## * list.Remove():-"
   ]
  },
  {
   "cell_type": "raw",
   "id": "3d598ed3-2b83-4aff-9683-5a5eb6d4da9a",
   "metadata": {},
   "source": [
    "- used to removed item based on value.\n",
    "- If value repeat, it remove the first one only (which is 1st)."
   ]
  },
  {
   "cell_type": "code",
   "execution_count": 12,
   "id": "8bbeca92-9f9c-47bd-96b1-f6a9a66147d6",
   "metadata": {},
   "outputs": [
    {
     "data": {
      "text/plain": [
       "7"
      ]
     },
     "execution_count": 12,
     "metadata": {},
     "output_type": "execute_result"
    }
   ],
   "source": [
    "l = [10,20,30,40,10,[25,30],'srk']\n",
    "len(l)"
   ]
  },
  {
   "cell_type": "code",
   "execution_count": 13,
   "id": "b34a4399-6018-45d2-9dee-25a137740e21",
   "metadata": {},
   "outputs": [],
   "source": [
    "l.remove('srk')"
   ]
  },
  {
   "cell_type": "code",
   "execution_count": 14,
   "id": "d33a596e-b640-4c51-84f3-5267d763c9f7",
   "metadata": {},
   "outputs": [
    {
     "data": {
      "text/plain": [
       "[10, 20, 30, 40, 10, [25, 30]]"
      ]
     },
     "execution_count": 14,
     "metadata": {},
     "output_type": "execute_result"
    }
   ],
   "source": [
    "l\n",
    "# we removed srk from here"
   ]
  },
  {
   "cell_type": "code",
   "execution_count": 15,
   "id": "8e265693-e33e-4b6b-85aa-f8f12fa0d5c5",
   "metadata": {},
   "outputs": [
    {
     "data": {
      "text/plain": [
       "[20, 30, 40, 10, [25, 30]]"
      ]
     },
     "execution_count": 15,
     "metadata": {},
     "output_type": "execute_result"
    }
   ],
   "source": [
    "l.remove(10)\n",
    "l"
   ]
  },
  {
   "cell_type": "code",
   "execution_count": 17,
   "id": "6fc32af8-77ca-4a38-9cb1-1a0106f835ff",
   "metadata": {},
   "outputs": [
    {
     "data": {
      "text/plain": [
       "[1, 2, 3, 4, [22, 33]]"
      ]
     },
     "execution_count": 17,
     "metadata": {},
     "output_type": "execute_result"
    }
   ],
   "source": [
    "name = [1,2,3,4,'khan',[22,33]]\n",
    "name.remove('khan')\n",
    "name"
   ]
  },
  {
   "cell_type": "code",
   "execution_count": 18,
   "id": "8ab3df8c-dc42-46e0-9f64-c5fcd462a8f1",
   "metadata": {},
   "outputs": [
    {
     "ename": "TypeError",
     "evalue": "list.remove() takes exactly one argument (2 given)",
     "output_type": "error",
     "traceback": [
      "\u001b[1;31m---------------------------------------------------------------------------\u001b[0m",
      "\u001b[1;31mTypeError\u001b[0m                                 Traceback (most recent call last)",
      "Cell \u001b[1;32mIn[18], line 1\u001b[0m\n\u001b[1;32m----> 1\u001b[0m name\u001b[38;5;241m.\u001b[39mremove(\u001b[38;5;124m'\u001b[39m\u001b[38;5;124mkhan\u001b[39m\u001b[38;5;124m'\u001b[39m,\u001b[38;5;241m4\u001b[39m)\n",
      "\u001b[1;31mTypeError\u001b[0m: list.remove() takes exactly one argument (2 given)"
     ]
    }
   ],
   "source": [
    "name.remove('khan',4)  # it can remove only one at a time"
   ]
  },
  {
   "cell_type": "code",
   "execution_count": 19,
   "id": "c00d92ba-eb26-43af-980a-6b97990c2ce3",
   "metadata": {},
   "outputs": [
    {
     "data": {
      "text/plain": [
       "[1, 2, 3, 4, [22, 33]]"
      ]
     },
     "execution_count": 19,
     "metadata": {},
     "output_type": "execute_result"
    }
   ],
   "source": [
    "name"
   ]
  },
  {
   "cell_type": "code",
   "execution_count": 23,
   "id": "3946d049-5001-47bf-a6ae-f1740ba00843",
   "metadata": {},
   "outputs": [
    {
     "ename": "ValueError",
     "evalue": "list.remove(x): x not in list",
     "output_type": "error",
     "traceback": [
      "\u001b[1;31m---------------------------------------------------------------------------\u001b[0m",
      "\u001b[1;31mValueError\u001b[0m                                Traceback (most recent call last)",
      "Cell \u001b[1;32mIn[23], line 2\u001b[0m\n\u001b[0;32m      1\u001b[0m \u001b[38;5;66;03m# suppose i have to remove 33\u001b[39;00m\n\u001b[1;32m----> 2\u001b[0m name\u001b[38;5;241m.\u001b[39mremove([\u001b[38;5;241m25\u001b[39m,\u001b[38;5;241m33\u001b[39m])\n\u001b[0;32m      3\u001b[0m name\n",
      "\u001b[1;31mValueError\u001b[0m: list.remove(x): x not in list"
     ]
    }
   ],
   "source": [
    "# suppose i have to remove 33\n",
    "name.remove([25,33])\n",
    "name"
   ]
  },
  {
   "cell_type": "raw",
   "id": "bc6b9a01-3c90-4f92-a3f2-a072ee2d48e3",
   "metadata": {},
   "source": [
    "So for that we have pop() methode:-"
   ]
  },
  {
   "cell_type": "markdown",
   "id": "f6c99588-2d37-47b8-a640-04d85314840c",
   "metadata": {},
   "source": [
    "## * list.pop():-"
   ]
  },
  {
   "cell_type": "raw",
   "id": "d90df38f-156a-432c-99f2-12af5d0d2bd1",
   "metadata": {},
   "source": [
    "- Used to remove item based on index number.\n",
    "- If user did not pass any number by default it will take '-1' index.\n",
    "syntex :- list.pop(index number)"
   ]
  },
  {
   "cell_type": "code",
   "execution_count": 25,
   "id": "de2a5817-ee79-4764-883d-2fdb709409fd",
   "metadata": {},
   "outputs": [
    {
     "data": {
      "text/plain": [
       "[10, 20, 30, 40, 50]"
      ]
     },
     "execution_count": 25,
     "metadata": {},
     "output_type": "execute_result"
    }
   ],
   "source": [
    "l = [10,20,30,40,50,60]\n",
    "l.pop()\n",
    "l   # it will remove bydefault last one.becuse user did not pass anynumber"
   ]
  },
  {
   "cell_type": "code",
   "execution_count": 26,
   "id": "ab7bc155-3e9f-4040-b2b6-284add7ad92b",
   "metadata": {},
   "outputs": [
    {
     "data": {
      "text/plain": [
       "[20, 30, 40, 50]"
      ]
     },
     "execution_count": 26,
     "metadata": {},
     "output_type": "execute_result"
    }
   ],
   "source": [
    "l.pop(0)\n",
    "l"
   ]
  },
  {
   "cell_type": "code",
   "execution_count": 30,
   "id": "9883ee31-8b6f-40ee-ab0e-6c286ee5aa59",
   "metadata": {},
   "outputs": [
    {
     "data": {
      "text/plain": [
       "[1, 2, 3, 4, 'khan']"
      ]
     },
     "execution_count": 30,
     "metadata": {},
     "output_type": "execute_result"
    }
   ],
   "source": [
    "# i want remove 22\n",
    "name = [1,2,3,4,'khan',[22,33]]\n",
    "name.pop(5)\n",
    "name"
   ]
  },
  {
   "cell_type": "code",
   "execution_count": 29,
   "id": "9c7fd443-d9f4-4005-93e9-c80949918de0",
   "metadata": {},
   "outputs": [
    {
     "data": {
      "text/plain": [
       "[1, 2, 3, 66]"
      ]
     },
     "execution_count": 29,
     "metadata": {},
     "output_type": "execute_result"
    }
   ],
   "source": [
    "nm = [1,2,3,'arshad', 66]\n",
    "nm.pop(3)\n",
    "nm"
   ]
  },
  {
   "cell_type": "markdown",
   "id": "ad8c3e0f-e0e0-4d90-a2d9-fda1f4002ed4",
   "metadata": {},
   "source": [
    "## * list.clear():-"
   ]
  },
  {
   "cell_type": "raw",
   "id": "926d7b02-e508-4e7d-9ab5-596626cd0ec7",
   "metadata": {},
   "source": [
    "- Used to clear all iteam in a list return empty list.\n",
    "- Inside the value in a list will delete."
   ]
  },
  {
   "cell_type": "code",
   "execution_count": 35,
   "id": "be607def-2feb-4b75-a097-a014c8c5ae79",
   "metadata": {},
   "outputs": [
    {
     "name": "stdout",
     "output_type": "stream",
     "text": [
      "[]\n"
     ]
    }
   ],
   "source": [
    "a = [1,2,3,4]\n",
    "a.clear()\n",
    "print(a)"
   ]
  },
  {
   "cell_type": "code",
   "execution_count": 36,
   "id": "c1a9cf9f-04ae-427d-8a52-d9c763be0224",
   "metadata": {},
   "outputs": [
    {
     "data": {
      "text/plain": [
       "[]"
      ]
     },
     "execution_count": 36,
     "metadata": {},
     "output_type": "execute_result"
    }
   ],
   "source": [
    "a"
   ]
  },
  {
   "cell_type": "code",
   "execution_count": 38,
   "id": "deaeb2ac-dcbc-4c14-8067-0f0e13752c01",
   "metadata": {},
   "outputs": [
    {
     "name": "stdout",
     "output_type": "stream",
     "text": [
      "[]\n"
     ]
    }
   ],
   "source": [
    "b=['Arshad ','khan']\n",
    "b.clear()\n",
    "print(b)"
   ]
  },
  {
   "cell_type": "markdown",
   "id": "f9bbb0c0-1897-447c-a018-26b946ad0e06",
   "metadata": {},
   "source": [
    "### * del :-"
   ]
  },
  {
   "cell_type": "raw",
   "id": "531a9b99-b8e4-4513-a578-b0278d897e58",
   "metadata": {},
   "source": [
    "- it will remove the entire object."
   ]
  },
  {
   "cell_type": "code",
   "execution_count": 39,
   "id": "434c1ffe-892c-4122-9990-511960e9192a",
   "metadata": {},
   "outputs": [
    {
     "ename": "NameError",
     "evalue": "name 'a' is not defined",
     "output_type": "error",
     "traceback": [
      "\u001b[1;31m---------------------------------------------------------------------------\u001b[0m",
      "\u001b[1;31mNameError\u001b[0m                                 Traceback (most recent call last)",
      "Cell \u001b[1;32mIn[39], line 3\u001b[0m\n\u001b[0;32m      1\u001b[0m a \u001b[38;5;241m=\u001b[39m [\u001b[38;5;241m1\u001b[39m,\u001b[38;5;241m2\u001b[39m,\u001b[38;5;241m3\u001b[39m,\u001b[38;5;241m4\u001b[39m,\u001b[38;5;241m5\u001b[39m]\n\u001b[0;32m      2\u001b[0m \u001b[38;5;28;01mdel\u001b[39;00m a\n\u001b[1;32m----> 3\u001b[0m \u001b[38;5;28mprint\u001b[39m(a)\n",
      "\u001b[1;31mNameError\u001b[0m: name 'a' is not defined"
     ]
    }
   ],
   "source": [
    "a = [1,2,3,4,5]\n",
    "del a\n",
    "print(a)"
   ]
  },
  {
   "cell_type": "raw",
   "id": "4015a7ab-1656-4c41-990e-09f404b29019",
   "metadata": {},
   "source": [
    "Becuse del function removed it from the memory."
   ]
  },
  {
   "cell_type": "markdown",
   "id": "7cb90c07-60ab-440d-8931-e8aa58be829d",
   "metadata": {},
   "source": [
    "### * list.count():-"
   ]
  },
  {
   "cell_type": "raw",
   "id": "3f313348-c43d-4f9b-9c77-914aa2d8d622",
   "metadata": {},
   "source": [
    "- it will count howmany times iteams(repeat) in the list."
   ]
  },
  {
   "cell_type": "code",
   "execution_count": 44,
   "id": "ddf74897-7edb-4d57-8250-17195e71287b",
   "metadata": {},
   "outputs": [
    {
     "data": {
      "text/plain": [
       "0"
      ]
     },
     "execution_count": 44,
     "metadata": {},
     "output_type": "execute_result"
    }
   ],
   "source": [
    "l = [1,2,1,1,0,3,4,2,5,[2,3,4]]\n",
    "l.count(100)"
   ]
  },
  {
   "cell_type": "code",
   "execution_count": 43,
   "id": "a2ad3a28-99b8-4f9e-9d21-aa967490fd8d",
   "metadata": {},
   "outputs": [
    {
     "data": {
      "text/plain": [
       "3"
      ]
     },
     "execution_count": 43,
     "metadata": {},
     "output_type": "execute_result"
    }
   ],
   "source": [
    "l.count(1)"
   ]
  },
  {
   "cell_type": "code",
   "execution_count": 45,
   "id": "fec1981f-be4e-4748-8e2e-4f54b0bb916a",
   "metadata": {},
   "outputs": [
    {
     "data": {
      "text/plain": [
       "2"
      ]
     },
     "execution_count": 45,
     "metadata": {},
     "output_type": "execute_result"
    }
   ],
   "source": [
    "l.count(2)"
   ]
  },
  {
   "cell_type": "code",
   "execution_count": 46,
   "id": "be351f49-3539-4b62-a89d-6713f3cede9d",
   "metadata": {},
   "outputs": [
    {
     "data": {
      "text/plain": [
       "1"
      ]
     },
     "execution_count": 46,
     "metadata": {},
     "output_type": "execute_result"
    }
   ],
   "source": [
    "l.count([2,3,4])"
   ]
  },
  {
   "cell_type": "markdown",
   "id": "8c7f73c2-57a2-44aa-80a8-c138454b9b22",
   "metadata": {},
   "source": [
    "### * list.reverse():-"
   ]
  },
  {
   "cell_type": "raw",
   "id": "1441c069-f8a4-437f-9b01-4f8b37115aa8",
   "metadata": {},
   "source": [
    "- Used to reverse all iteam in a list."
   ]
  },
  {
   "cell_type": "code",
   "execution_count": 47,
   "id": "d912c1da-5733-43cd-a0b2-524a0d600fd3",
   "metadata": {},
   "outputs": [
    {
     "data": {
      "text/plain": [
       "[[9, 10, 2, 6], 4, 1]"
      ]
     },
     "execution_count": 47,
     "metadata": {},
     "output_type": "execute_result"
    }
   ],
   "source": [
    "l = [1,4,[9,10,2,6]]\n",
    "l.reverse()\n",
    "l"
   ]
  },
  {
   "cell_type": "code",
   "execution_count": 48,
   "id": "c73a7bff-373e-4f8f-a16e-22e4402a863b",
   "metadata": {},
   "outputs": [
    {
     "data": {
      "text/plain": [
       "[18, 17, 16, 15, 14, 13, 12, 11]"
      ]
     },
     "execution_count": 48,
     "metadata": {},
     "output_type": "execute_result"
    }
   ],
   "source": [
    "l = [11,12,13,14,15,16,17,18]\n",
    "l.reverse()\n",
    "l"
   ]
  },
  {
   "cell_type": "code",
   "execution_count": 49,
   "id": "547d4598-97ad-42b9-985d-45624a12e89f",
   "metadata": {},
   "outputs": [
    {
     "data": {
      "text/plain": [
       "['A', 'R', 'S', 'H', 'A', 'D']"
      ]
     },
     "execution_count": 49,
     "metadata": {},
     "output_type": "execute_result"
    }
   ],
   "source": [
    "l =['D', 'A', 'H','S','R','A']\n",
    "l.reverse()\n",
    "l"
   ]
  },
  {
   "cell_type": "code",
   "execution_count": 50,
   "id": "0e3e5480-dcdb-4dc7-9cd6-9a988f4900ad",
   "metadata": {},
   "outputs": [],
   "source": [
    "l = [1,4,[9,10,2,6]]\n",
    "l[-1].reverse()"
   ]
  },
  {
   "cell_type": "code",
   "execution_count": 51,
   "id": "2cc09c93-4a00-4968-a390-f7ebcdb6a089",
   "metadata": {},
   "outputs": [
    {
     "data": {
      "text/plain": [
       "[1, 4, [6, 2, 10, 9]]"
      ]
     },
     "execution_count": 51,
     "metadata": {},
     "output_type": "execute_result"
    }
   ],
   "source": [
    "l\n",
    "# here -1 index number would be removed"
   ]
  },
  {
   "cell_type": "markdown",
   "id": "e2d3cc28-4ecd-497f-8b11-4f0dc9e18822",
   "metadata": {},
   "source": [
    "### * list.sort():-"
   ]
  },
  {
   "cell_type": "raw",
   "id": "ff2c6bdd-fa28-4ea0-aa52-d344ad6a23d6",
   "metadata": {},
   "source": [
    "- Used to sort iteam in a list either in ascending order or decending order.\n",
    "- bydefault its sort in ascending order(if user donot pass).\n",
    "- Note:- sort is applicable for either only alphabate or only numeric values."
   ]
  },
  {
   "cell_type": "code",
   "execution_count": 53,
   "id": "4f69d970-4d52-4f84-85a1-fbb11f42f9b0",
   "metadata": {},
   "outputs": [
    {
     "data": {
      "text/plain": [
       "[1, 2, 4.2, 5, 5]"
      ]
     },
     "execution_count": 53,
     "metadata": {},
     "output_type": "execute_result"
    }
   ],
   "source": [
    "lst = [1,2,5,5,4.2]\n",
    "lst.sort()\n",
    "lst"
   ]
  },
  {
   "cell_type": "code",
   "execution_count": 54,
   "id": "a6d2f038-3d96-44cd-ab35-23a04db3e5f6",
   "metadata": {},
   "outputs": [
    {
     "data": {
      "text/plain": [
       "['a', 'b', 'm', 's', 'z']"
      ]
     },
     "execution_count": 54,
     "metadata": {},
     "output_type": "execute_result"
    }
   ],
   "source": [
    "lst = ['a', 's', 'm','z','b']\n",
    "lst.sort()\n",
    "lst"
   ]
  },
  {
   "cell_type": "code",
   "execution_count": 55,
   "id": "eae7f466-d1cd-4755-93e5-46e2fae77f1a",
   "metadata": {},
   "outputs": [
    {
     "data": {
      "text/plain": [
       "[1, 12, 15, 22, 66]"
      ]
     },
     "execution_count": 55,
     "metadata": {},
     "output_type": "execute_result"
    }
   ],
   "source": [
    "lst =[22,66,12,1,15]\n",
    "lst.sort()\n",
    "lst"
   ]
  },
  {
   "cell_type": "code",
   "execution_count": 57,
   "id": "c9cbdd90-3862-4861-b207-3a3f4a394c7c",
   "metadata": {},
   "outputs": [
    {
     "data": {
      "text/plain": [
       "[20, 5, 5, 2.5, 1]"
      ]
     },
     "execution_count": 57,
     "metadata": {},
     "output_type": "execute_result"
    }
   ],
   "source": [
    "# Now lets see decending order\n",
    "lst = [1,20,5,5,2.5]\n",
    "lst.sort(reverse = True)\n",
    "lst"
   ]
  },
  {
   "cell_type": "code",
   "execution_count": 58,
   "id": "029f2ebc-4812-45ad-a4f8-00c8963f228c",
   "metadata": {},
   "outputs": [
    {
     "data": {
      "text/plain": [
       "[43, 22, 12, 2, 1.64, 1.6, 1]"
      ]
     },
     "execution_count": 58,
     "metadata": {},
     "output_type": "execute_result"
    }
   ],
   "source": [
    "no = [12,43,1,1.64,1.60, 22,2]\n",
    "no.sort(reverse=True)\n",
    "no"
   ]
  },
  {
   "cell_type": "code",
   "execution_count": 59,
   "id": "202e6668-e39a-4fa8-82e3-f2b00c61878f",
   "metadata": {},
   "outputs": [
    {
     "data": {
      "text/plain": [
       "['d', 'c', 'b', 'a']"
      ]
     },
     "execution_count": 59,
     "metadata": {},
     "output_type": "execute_result"
    }
   ],
   "source": [
    "alphabtes = ['a', 'b', 'c','d']\n",
    "alphabtes.sort(reverse=True)\n",
    "alphabtes"
   ]
  },
  {
   "cell_type": "code",
   "execution_count": 61,
   "id": "e38a6f30-fe69-4fcb-9cf7-713021add6ed",
   "metadata": {},
   "outputs": [
    {
     "data": {
      "text/plain": [
       "[10, 9, 8, 7, 6, 5, 4, 3, 2, 1]"
      ]
     },
     "execution_count": 61,
     "metadata": {},
     "output_type": "execute_result"
    }
   ],
   "source": [
    "lst = [1,2,3,4,5,6,7,8,9,10]\n",
    "lst.reverse()\n",
    "lst"
   ]
  },
  {
   "cell_type": "code",
   "execution_count": 64,
   "id": "bbacb652-fb33-4285-aee9-352699ad32f7",
   "metadata": {},
   "outputs": [
    {
     "data": {
      "text/plain": [
       "['rama', 'siva', 'srk']"
      ]
     },
     "execution_count": 64,
     "metadata": {},
     "output_type": "execute_result"
    }
   ],
   "source": [
    "name =['srk','siva', 'rama']\n",
    "name.sort()\n",
    "name"
   ]
  },
  {
   "cell_type": "raw",
   "id": "9d145eed-5bc8-4966-9b69-2ab089e058a9",
   "metadata": {},
   "source": [
    "Difference between l.sort() & sorted(list)\n",
    "*)l.sort():-\n",
    "- l=[4,9,2,16,5].\n",
    "- l ist.sort():-(Methode)\n",
    "- [2,4,5,9,16]\n",
    "- print(l)\n",
    "- [2,4,5,9,16].\n",
    "- it will sort in originol 'L'\n",
    "\n",
    "*)sorted (list):-\n",
    "- l=[4,9,2,16,5].\n",
    "- sorted(l):-(Function)\n",
    "- [2,4,5,9,16]\n",
    "- it wil not store in originol 'L' untill\n",
    "  you give varible name.\n"
   ]
  },
  {
   "cell_type": "code",
   "execution_count": 65,
   "id": "5c8317ef-30fb-4ec9-b655-ad72af1c89c3",
   "metadata": {},
   "outputs": [
    {
     "data": {
      "text/plain": [
       "[1, 4.2, 5, 20]"
      ]
     },
     "execution_count": 65,
     "metadata": {},
     "output_type": "execute_result"
    }
   ],
   "source": [
    "lst = [1,20,5,4.2]\n",
    "lst.sort()\n",
    "lst"
   ]
  },
  {
   "cell_type": "markdown",
   "id": "afda7a38-edd5-41b8-b1b3-f7f42ff390a2",
   "metadata": {},
   "source": [
    "##### here both example are here"
   ]
  },
  {
   "cell_type": "code",
   "execution_count": 66,
   "id": "c05f3d57-4577-4d84-ba0a-6d230a7dea2b",
   "metadata": {},
   "outputs": [
    {
     "data": {
      "text/plain": [
       "[1, 4.2, 5, 20]"
      ]
     },
     "execution_count": 66,
     "metadata": {},
     "output_type": "execute_result"
    }
   ],
   "source": [
    "lst = [1,20,5,4.2]\n",
    "sorted (lst)\n"
   ]
  },
  {
   "cell_type": "markdown",
   "id": "1b08ecdb-51a0-4601-b1be-16c0ae30904d",
   "metadata": {},
   "source": [
    "### * list.copy():-"
   ]
  },
  {
   "cell_type": "raw",
   "id": "a508a42a-194e-4c38-a755-3f205d6aec4f",
   "metadata": {},
   "source": [
    "- used to create a new list object copy of iteam."
   ]
  },
  {
   "cell_type": "code",
   "execution_count": 67,
   "id": "5b6ad13d-4e23-497d-a141-46e62fe66765",
   "metadata": {},
   "outputs": [
    {
     "name": "stdout",
     "output_type": "stream",
     "text": [
      "[1, 2, 3, 4, 5]\n",
      "[1, 2, 3, 4, 5]\n"
     ]
    }
   ],
   "source": [
    "a = [1,2,3,4]\n",
    "b = a\n",
    "b.append(5)\n",
    "print(a)\n",
    "print(b)"
   ]
  },
  {
   "cell_type": "code",
   "execution_count": 68,
   "id": "362a8f3c-bac7-4db9-a7a5-3194f70bd2a7",
   "metadata": {},
   "outputs": [
    {
     "name": "stdout",
     "output_type": "stream",
     "text": [
      "[1, 2, 3, 4]\n",
      "[1, 2, 3, 4, 5]\n"
     ]
    }
   ],
   "source": [
    "# but in shallow copy\n",
    "a = [1,2,3,4]\n",
    "b=a.copy()\n",
    "b.append(5)\n",
    "print(a)\n",
    "print(b)"
   ]
  },
  {
   "cell_type": "raw",
   "id": "02aba3b0-284b-4d36-8894-41e3d5623754",
   "metadata": {},
   "source": [
    "- In pythone object are createded based on value based on variable name.\n",
    "- In pythone for 1 value 1 object only name can be multiple\n"
   ]
  },
  {
   "cell_type": "code",
   "execution_count": 70,
   "id": "5603ec18-c4bf-4e1a-a432-fa40a54790db",
   "metadata": {},
   "outputs": [
    {
     "name": "stdout",
     "output_type": "stream",
     "text": [
      "[1, 2, 3, 4]\n",
      "[1, 2, 3, 4, 5]\n"
     ]
    }
   ],
   "source": [
    "# shallow copy \n",
    "a = [1,2,3,4]\n",
    "b=a.copy()\n",
    "b.append(5)\n",
    "print(a)\n",
    "print(b)"
   ]
  },
  {
   "cell_type": "code",
   "execution_count": 71,
   "id": "e1367b07-16c9-45e4-88c0-531fa294e7b5",
   "metadata": {},
   "outputs": [
    {
     "name": "stdout",
     "output_type": "stream",
     "text": [
      "[1, 2, 3, 4, 5]\n",
      "[1, 2, 3, 4, 5]\n"
     ]
    }
   ],
   "source": [
    "# deep copy\n",
    "a =[1,2,3,4]\n",
    "b = a\n",
    "b.append(5)\n",
    "print(a)\n",
    "print(b)"
   ]
  },
  {
   "cell_type": "code",
   "execution_count": 72,
   "id": "6f8493cc-9525-4c9a-a893-82f9b39ae8bf",
   "metadata": {},
   "outputs": [
    {
     "name": "stdout",
     "output_type": "stream",
     "text": [
      "[11, 12, 13, 15, 4]\n",
      "[11, 12, 13, 15, 4]\n"
     ]
    }
   ],
   "source": [
    "# Deep copy :- it indicate the same object \n",
    "a = [11,12,13,15]\n",
    "b = a\n",
    "b.append(4)\n",
    "print(a)\n",
    "print(b)"
   ]
  },
  {
   "cell_type": "raw",
   "id": "2b8221fa-5013-4b5b-8e7f-3a1fa47cec88",
   "metadata": {},
   "source": [
    "* inside the list object we can add \n",
    "  we can add := append(), extend(), insert()\n",
    "  we can replace:= l [index number]= item \n",
    "  we can delete :=pop(), remove(), clear()"
   ]
  },
  {
   "cell_type": "code",
   "execution_count": null,
   "id": "5999889c-1b48-4833-9a82-e845354bfd12",
   "metadata": {},
   "outputs": [],
   "source": []
  }
 ],
 "metadata": {
  "kernelspec": {
   "display_name": "Python 3 (ipykernel)",
   "language": "python",
   "name": "python3"
  },
  "language_info": {
   "codemirror_mode": {
    "name": "ipython",
    "version": 3
   },
   "file_extension": ".py",
   "mimetype": "text/x-python",
   "name": "python",
   "nbconvert_exporter": "python",
   "pygments_lexer": "ipython3",
   "version": "3.12.7"
  }
 },
 "nbformat": 4,
 "nbformat_minor": 5
}
