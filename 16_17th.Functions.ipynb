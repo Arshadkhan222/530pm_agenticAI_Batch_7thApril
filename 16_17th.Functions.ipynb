{
 "cells": [
  {
   "cell_type": "markdown",
   "id": "68c43939-cebd-4153-8f78-e9689e3ca7d1",
   "metadata": {},
   "source": [
    "# * Functions :-"
   ]
  },
  {
   "cell_type": "markdown",
   "id": "5f264c4a-15a9-410c-af73-ebc32191e424",
   "metadata": {},
   "source": [
    "- Fuction is a group of releted statement that perform a specific task.\n",
    "- A function is a set of statement that take input do some specific compution and produce output.\n",
    "- It avoid repetetion and make code reusable .\n",
    "- If we use function return by other in the form of library, it can be termed as library fuction."
   ]
  },
  {
   "cell_type": "markdown",
   "id": "3511e906-eb35-4d22-825c-1163043a16fc",
   "metadata": {},
   "source": [
    "### Types of function :- "
   ]
  },
  {
   "cell_type": "markdown",
   "id": "6a85e5ed-9b56-44ed-aafb-628c2370c485",
   "metadata": {},
   "source": [
    ".) Inbuild fuction\n",
    ".) User dedine function"
   ]
  },
  {
   "cell_type": "code",
   "execution_count": 4,
   "id": "9915df72-42c9-42aa-bd8c-ed543e373606",
   "metadata": {},
   "outputs": [
    {
     "name": "stdout",
     "output_type": "stream",
     "text": [
      "[3, 4, 5, 6, 8]\n"
     ]
    }
   ],
   "source": [
    "# Q:- Write a fuction to remove multiple items in a given list.\n",
    "def l_r(l,i):\n",
    "    for j in i:\n",
    "        l.remove(j)\n",
    "    print(l)\n",
    "\n",
    "l = [1,2,3,4,5,6,7,8,9]\n",
    "i =[1,2,7,9]\n",
    "l_r(l,i)  # call the fuction"
   ]
  },
  {
   "cell_type": "code",
   "execution_count": 7,
   "id": "815d938c-9c45-4333-9a61-8f9ad7034b5f",
   "metadata": {},
   "outputs": [
    {
     "name": "stdin",
     "output_type": "stream",
     "text": [
      "Enter your number : 3\n",
      "Enter your number : 43\n",
      "Enter your number : 1\n",
      "Enter your number : 2\n",
      "Enter your number : 22\n"
     ]
    },
    {
     "name": "stdout",
     "output_type": "stream",
     "text": [
      "The list of 5 number which you have enterd : [3, 43, 1, 2, 22]\n"
     ]
    }
   ],
   "source": [
    "# Q :- Write a funvtion to collect 5 number from user and store them in a list.\n",
    "def s_L ():\n",
    "    l=[]\n",
    "    for i in range(5):\n",
    "        n= int(input('Enter your number :'))\n",
    "        l.append(n)\n",
    "    print(\"The list of 5 number which you have enterd :\",l)\n",
    "s_L()    "
   ]
  },
  {
   "cell_type": "markdown",
   "id": "c735b52f-2eb1-416b-987a-325720a139b2",
   "metadata": {},
   "source": [
    "### * Inbuild function :-"
   ]
  },
  {
   "cell_type": "markdown",
   "id": "792e81e8-8026-48c5-9a00-b2c5942fe290",
   "metadata": {},
   "source": [
    ". which is already creted or which is already integreted with pythone.\n"
   ]
  },
  {
   "cell_type": "code",
   "execution_count": 9,
   "id": "f8fcc5c2-da17-47b1-967a-c987a4c406f4",
   "metadata": {},
   "outputs": [
    {
     "data": {
      "text/plain": [
       "4"
      ]
     },
     "execution_count": 9,
     "metadata": {},
     "output_type": "execute_result"
    }
   ],
   "source": [
    "abs(-4)\n",
    "# abs is take onlyone value."
   ]
  },
  {
   "cell_type": "code",
   "execution_count": 10,
   "id": "45599250-79bd-4ec6-9dd8-3b212b1d7568",
   "metadata": {},
   "outputs": [
    {
     "data": {
      "text/plain": [
       "4"
      ]
     },
     "execution_count": 10,
     "metadata": {},
     "output_type": "execute_result"
    }
   ],
   "source": [
    "abs(4)"
   ]
  },
  {
   "cell_type": "code",
   "execution_count": 11,
   "id": "0f47e6be-58d7-4f5c-b59d-93304f77fb6b",
   "metadata": {},
   "outputs": [
    {
     "data": {
      "text/plain": [
       "8"
      ]
     },
     "execution_count": 11,
     "metadata": {},
     "output_type": "execute_result"
    }
   ],
   "source": [
    "pow(2,3) # this fun take 2 argument\n",
    "# base , exponent"
   ]
  },
  {
   "cell_type": "code",
   "execution_count": 12,
   "id": "1989a644-b836-43c2-8a05-9cb283afbd12",
   "metadata": {},
   "outputs": [
    {
     "data": {
      "text/plain": [
       "9"
      ]
     },
     "execution_count": 12,
     "metadata": {},
     "output_type": "execute_result"
    }
   ],
   "source": [
    "pow(3,2)"
   ]
  },
  {
   "cell_type": "code",
   "execution_count": 13,
   "id": "b0fbc50f-8dee-4cbd-9b86-8850194688f9",
   "metadata": {},
   "outputs": [
    {
     "data": {
      "text/plain": [
       "4.7"
      ]
     },
     "execution_count": 13,
     "metadata": {},
     "output_type": "execute_result"
    }
   ],
   "source": [
    "abs (-4.7)"
   ]
  },
  {
   "cell_type": "markdown",
   "id": "dea72a52-7e77-43c4-83a3-e5334433cc8a",
   "metadata": {},
   "source": [
    "### * Userdefine Functions :-"
   ]
  },
  {
   "cell_type": "markdown",
   "id": "59ae008a-9e97-45b2-95ba-f7dceac796c0",
   "metadata": {},
   "source": [
    "- Function that we define our selve to do certain specific task are refered as user define function.\n",
    "- userdefine function help to decompose a large program into small segment which make program easy\n",
    "to understand, maintain and debuge.\n",
    "- if repeted code occure in a program function can be used to include those code and execute when \n",
    "needed by calling the function.\n",
    "- program working on large project can divided the working load by making diffrent fuction."
   ]
  },
  {
   "cell_type": "code",
   "execution_count": 15,
   "id": "bf639b65-5316-4584-a758-c48a8beafb06",
   "metadata": {},
   "outputs": [
    {
     "data": {
      "text/plain": [
       "5"
      ]
     },
     "execution_count": 15,
     "metadata": {},
     "output_type": "execute_result"
    }
   ],
   "source": [
    "def add (a, b):\n",
    "    c = a + b\n",
    "    return c\n",
    "\n",
    "add(2,3)  # This fun have creted for adding two numbers."
   ]
  },
  {
   "cell_type": "code",
   "execution_count": 24,
   "id": "a3442968-5eb6-4cc7-ac13-bbc02b7e08e9",
   "metadata": {},
   "outputs": [
    {
     "name": "stdout",
     "output_type": "stream",
     "text": [
      "2.5\n"
     ]
    }
   ],
   "source": [
    "def abb (x):\n",
    "    if x >= 0:\n",
    "         print(x)\n",
    "    elif x < 0 :\n",
    "        print(-x)\n",
    "        # call the function\n",
    "\n",
    "abb(-2.5)"
   ]
  },
  {
   "cell_type": "code",
   "execution_count": 23,
   "id": "f49e70bc-81cc-4df6-8da9-69de5225d35e",
   "metadata": {},
   "outputs": [
    {
     "name": "stdout",
     "output_type": "stream",
     "text": [
      "2.5\n"
     ]
    }
   ],
   "source": [
    "def abb (x):\n",
    "    if x >= 0:\n",
    "        print(x)\n",
    "    elif x < 0:\n",
    "        print(-x)\n",
    "\n",
    "abb(2.5)"
   ]
  },
  {
   "cell_type": "markdown",
   "id": "b5ef3a79-125e-4a1a-a076-82329cf35aa8",
   "metadata": {},
   "source": [
    "  Q:- Write a function to print 'Grade A' if values is greater than 90.\n",
    "'Grade B' ifvalue is greater than 70 but less than or equal to 70 'Grade F'"
   ]
  },
  {
   "cell_type": "code",
   "execution_count": 25,
   "id": "a9972a4c-586a-4242-b4da-23c528eb32ac",
   "metadata": {},
   "outputs": [
    {
     "name": "stdout",
     "output_type": "stream",
     "text": [
      "Grade F\n"
     ]
    }
   ],
   "source": [
    "def grade (y):\n",
    "    if y > 90:\n",
    "        print('Grade A')\n",
    "    elif y > 70:\n",
    "        print('Grade B')\n",
    "    elif y <= 70:\n",
    "        print('Grade F')\n",
    "\n",
    "grade (69)"
   ]
  },
  {
   "cell_type": "code",
   "execution_count": 26,
   "id": "3d6047d3-9ee8-4965-8582-bad28e06a3c1",
   "metadata": {
    "scrolled": true
   },
   "outputs": [
    {
     "name": "stdout",
     "output_type": "stream",
     "text": [
      "Grade A\n"
     ]
    }
   ],
   "source": [
    "def grade (y):\n",
    "    if y > 90:\n",
    "        print('Grade A')\n",
    "    elif y > 70:\n",
    "        print('Grade B')\n",
    "    elif y <= 70:\n",
    "        print('Grade F')\n",
    "\n",
    "grade (91)"
   ]
  },
  {
   "cell_type": "code",
   "execution_count": 28,
   "id": "b8896744-e46d-45cc-bae8-3119c40b1c40",
   "metadata": {},
   "outputs": [
    {
     "name": "stdout",
     "output_type": "stream",
     "text": [
      "minimum value in the given list : 2\n",
      "maximum value in the given list : 24\n"
     ]
    }
   ],
   "source": [
    "# Q:- Write a function which gives minimum and maximum  value in the given list ?\n",
    "def min_max(l):\n",
    "    l.sort()\n",
    "    return l[0],l[-1]\n",
    "\n",
    "l = [12,16,2,6,16,18,24,3,5]\n",
    "a,b = min_max(l)\n",
    "print('minimum value in the given list :', a)\n",
    "print('maximum value in the given list :', b)"
   ]
  },
  {
   "cell_type": "markdown",
   "id": "613edd54-2319-4eb9-a8d4-e885d4622568",
   "metadata": {},
   "source": [
    "### Diffrence Types of Argument"
   ]
  },
  {
   "cell_type": "code",
   "execution_count": 2,
   "id": "f742112f-b8f2-4fc4-ae26-1608afbf13ac",
   "metadata": {},
   "outputs": [
    {
     "name": "stdout",
     "output_type": "stream",
     "text": [
      "Hello srk Good morning\n"
     ]
    }
   ],
   "source": [
    "# Function with no argument \n",
    "# Defining a funnction.\n",
    "def greet ():\n",
    "    print(\"Hello\",\"srk\",\"Good morning\")\n",
    "greet()"
   ]
  },
  {
   "cell_type": "code",
   "execution_count": 3,
   "id": "bf4cfb61-b655-42e8-a3ce-5794b12fb154",
   "metadata": {},
   "outputs": [],
   "source": [
    "# if function is creteded with no argument call function with no argument\n",
    "# example  'greet()' ."
   ]
  },
  {
   "cell_type": "code",
   "execution_count": 4,
   "id": "e685f1f1-1306-4363-8f8f-fef0863f402d",
   "metadata": {},
   "outputs": [],
   "source": [
    "# if function is creted with 1 argument call fuction with 1 argument (like (1)=(a))."
   ]
  },
  {
   "cell_type": "code",
   "execution_count": 5,
   "id": "a1b28e73-a6a7-42d0-8344-667abb7e688d",
   "metadata": {},
   "outputs": [],
   "source": [
    "# if funtion is creted with 2 argument call function with 2 argument(like(2)=(a,b))."
   ]
  },
  {
   "cell_type": "markdown",
   "id": "fb15370b-7678-4fc3-8e12-b0f242469aa8",
   "metadata": {},
   "source": [
    "### 1:- Positinol argument :-"
   ]
  },
  {
   "cell_type": "markdown",
   "id": "7f0186fc-0d1a-4a42-a5dd-0a455e988f9a",
   "metadata": {},
   "source": [
    "- The number of argument while define a function & calling a fuction\n",
    "shuod be same otherwise it throws error.\n",
    "- Order is preserved.\n",
    "- it executed in the same order."
   ]
  },
  {
   "cell_type": "code",
   "execution_count": 6,
   "id": "982d3124-0ca6-449d-a162-8c8c10e762e9",
   "metadata": {},
   "outputs": [
    {
     "name": "stdout",
     "output_type": "stream",
     "text": [
      "Hello srk good morning\n"
     ]
    }
   ],
   "source": [
    "def greet (name, msg):\n",
    "    print('Hello', name, msg)\n",
    "greet('srk',\"good morning\") # call the fun"
   ]
  },
  {
   "cell_type": "code",
   "execution_count": 7,
   "id": "9c3ccdf2-ad8f-4543-846c-530431abd118",
   "metadata": {},
   "outputs": [
    {
     "name": "stdout",
     "output_type": "stream",
     "text": [
      "Hello good morning srk\n"
     ]
    }
   ],
   "source": [
    "def greet(name, msg):\n",
    "    print(\"Hello\", name , msg)\n",
    "greet(\"good morning\", 'srk')"
   ]
  },
  {
   "cell_type": "markdown",
   "id": "f94ca6f0-dbd8-462a-9d37-e909510784e9",
   "metadata": {},
   "source": [
    "### 2 :- Default Argument :-"
   ]
  },
  {
   "cell_type": "markdown",
   "id": "a2eab7e1-ce7e-4565-9ccd-a7da0bdb2cee",
   "metadata": {},
   "source": [
    "- while creting a function we are assing a default value to an argument by \n",
    "usuing the assignment operator.\n",
    "- if you donot assing value for defualt argument it will automatically\n",
    "select a default value.\n",
    "- if you assign a value to default argument it will consider that value\n",
    "which you have assign."
   ]
  },
  {
   "cell_type": "code",
   "execution_count": 8,
   "id": "16412c08-34ef-4cc6-8671-da9b2835d331",
   "metadata": {},
   "outputs": [
    {
     "name": "stdout",
     "output_type": "stream",
     "text": [
      "Hello srk evening\n"
     ]
    }
   ],
   "source": [
    "def greet (name, msg):\n",
    "    print(\"Hello \", name,msg)\n",
    "def greet_1(name,msg ='good morning'):\n",
    "    print(\"Hello\", name,msg)\n",
    "greet_1('srk', 'evening')"
   ]
  },
  {
   "cell_type": "code",
   "execution_count": 9,
   "id": "c802a5b0-39a2-44ba-b858-b184cbbfcb79",
   "metadata": {},
   "outputs": [
    {
     "name": "stdout",
     "output_type": "stream",
     "text": [
      "1 2\n"
     ]
    }
   ],
   "source": [
    "# to attached 2 things we used \"sep\".\n",
    "# Example:-\n",
    "print(1,2)"
   ]
  },
  {
   "cell_type": "code",
   "execution_count": 10,
   "id": "b72f2f2a-f495-44a8-8ae5-c21b7b7f91a6",
   "metadata": {},
   "outputs": [
    {
     "name": "stdout",
     "output_type": "stream",
     "text": [
      "1:2\n"
     ]
    }
   ],
   "source": [
    "print(1,2, sep = \":\")"
   ]
  },
  {
   "cell_type": "markdown",
   "id": "ab30b030-bad7-4363-ad85-22e04f02f534",
   "metadata": {},
   "source": [
    "### 3 :- Keyword argument :-"
   ]
  },
  {
   "cell_type": "markdown",
   "id": "cca3fef9-8906-4b35-a7e1-be9e8e98b35e",
   "metadata": {},
   "source": [
    "- While creting a function there is no difference between positionol \n",
    "argument and keyword argument."
   ]
  },
  {
   "cell_type": "code",
   "execution_count": 11,
   "id": "a1c3d73b-d02e-404d-bf43-8ea582cd0200",
   "metadata": {},
   "outputs": [
    {
     "name": "stdout",
     "output_type": "stream",
     "text": [
      "Hello srk hi\n"
     ]
    }
   ],
   "source": [
    "def greet(name,msg):\n",
    "    print(\"Hello\", name,msg)\n",
    "greet('srk','hi')"
   ]
  },
  {
   "cell_type": "code",
   "execution_count": 13,
   "id": "caeef431-95e8-4e33-a43e-209ccb56b7f3",
   "metadata": {},
   "outputs": [
    {
     "data": {
      "text/plain": [
       "3"
      ]
     },
     "execution_count": 13,
     "metadata": {},
     "output_type": "execute_result"
    }
   ],
   "source": [
    "def add(a,b):\n",
    "    c = a + b\n",
    "    return c\n",
    "add(1,2)"
   ]
  },
  {
   "cell_type": "code",
   "execution_count": 14,
   "id": "e26cd7a1-08c1-46c5-9efa-85bd3615e88d",
   "metadata": {},
   "outputs": [
    {
     "data": {
      "text/plain": [
       "22"
      ]
     },
     "execution_count": 14,
     "metadata": {},
     "output_type": "execute_result"
    }
   ],
   "source": [
    "add (b=2, a=20)"
   ]
  },
  {
   "cell_type": "code",
   "execution_count": 15,
   "id": "b3a589b6-aaab-44d6-b724-1c86a5a9e5f6",
   "metadata": {},
   "outputs": [
    {
     "data": {
      "text/plain": [
       "18"
      ]
     },
     "execution_count": 15,
     "metadata": {},
     "output_type": "execute_result"
    }
   ],
   "source": [
    "def add (a,b):\n",
    "    c = a -b\n",
    "    return c\n",
    "\n",
    "add(20,2)"
   ]
  },
  {
   "cell_type": "code",
   "execution_count": 16,
   "id": "36c61c0a-28b0-4c5c-9089-8dd9dde4265d",
   "metadata": {},
   "outputs": [
    {
     "data": {
      "text/plain": [
       "18"
      ]
     },
     "execution_count": 16,
     "metadata": {},
     "output_type": "execute_result"
    }
   ],
   "source": [
    "add(b=2, a= 20)"
   ]
  },
  {
   "cell_type": "markdown",
   "id": "23da8465-ab08-4733-b99c-db316e8e80d5",
   "metadata": {},
   "source": [
    "### 4:- Arbitary argument :-"
   ]
  },
  {
   "cell_type": "raw",
   "id": "1adb6088-5fe9-47af-9f33-d010a19bff4b",
   "metadata": {},
   "source": [
    "- some time we donot know in advanced the number of argument that will be \n",
    "passed into a function.Pythone allowe us to handle this kind of situation \n",
    "throgh function call with arbitary number of argument.\n",
    "- which argument have star (*) that is arbitary mean unlimited."
   ]
  },
  {
   "cell_type": "code",
   "execution_count": 18,
   "id": "02c1670b-9532-467b-a541-18d06e088c2c",
   "metadata": {},
   "outputs": [
    {
     "name": "stdout",
     "output_type": "stream",
     "text": [
      "Hello 1\n",
      "Hello 2\n",
      "Hello srk\n",
      "Hello 4\n"
     ]
    }
   ],
   "source": [
    "def greet (*n):\n",
    "    for i in n:\n",
    "        print(\"Hello\",i)\n",
    "\n",
    "greet(1,2,'srk',4)"
   ]
  },
  {
   "cell_type": "markdown",
   "id": "a4f0f35a-4065-4b1f-9749-7ddd90e93636",
   "metadata": {},
   "source": [
    "### Modul :-"
   ]
  },
  {
   "cell_type": "markdown",
   "id": "78d93961-f09a-44b0-8305-abbf8938f087",
   "metadata": {},
   "source": [
    "- A group of function saved to a python file (.py) which is nothing but module."
   ]
  },
  {
   "cell_type": "markdown",
   "id": "8df67612-0682-4a5d-b50c-a5fdaaee9853",
   "metadata": {},
   "source": [
    "#### Types of Module :-"
   ]
  },
  {
   "cell_type": "markdown",
   "id": "b2d30c3c-1efd-44fd-8dc7-5c6e45f1084f",
   "metadata": {},
   "source": [
    "- inbuild module.\n",
    "- userdefine Module.(which we creat)"
   ]
  },
  {
   "cell_type": "code",
   "execution_count": null,
   "id": "d6a03af4-06bc-4407-9412-8f37d4bb2a49",
   "metadata": {},
   "outputs": [],
   "source": [
    "# Each function module name within the module is called attribute."
   ]
  },
  {
   "cell_type": "markdown",
   "id": "e35cfdcb-8267-482f-874e-c4f802d187b9",
   "metadata": {},
   "source": [
    "#### Working with Math Module."
   ]
  },
  {
   "cell_type": "markdown",
   "id": "bd7350e8-51ad-4fea-aa0b-62c7a1112c02",
   "metadata": {},
   "source": [
    "- pythone provide inbuild module math.\n",
    "- This module define several function which can used for mathamatical operations."
   ]
  },
  {
   "cell_type": "code",
   "execution_count": 20,
   "id": "f5fca670-dfc6-4c8a-92b4-27bf18bbed97",
   "metadata": {},
   "outputs": [
    {
     "name": "stdout",
     "output_type": "stream",
     "text": [
      "Help on built-in module math:\n",
      "\n",
      "NAME\n",
      "    math\n",
      "\n",
      "DESCRIPTION\n",
      "    This module provides access to the mathematical functions\n",
      "    defined by the C standard.\n",
      "\n",
      "FUNCTIONS\n",
      "    acos(x, /)\n",
      "        Return the arc cosine (measured in radians) of x.\n",
      "\n",
      "        The result is between 0 and pi.\n",
      "\n",
      "    acosh(x, /)\n",
      "        Return the inverse hyperbolic cosine of x.\n",
      "\n",
      "    asin(x, /)\n",
      "        Return the arc sine (measured in radians) of x.\n",
      "\n",
      "        The result is between -pi/2 and pi/2.\n",
      "\n",
      "    asinh(x, /)\n",
      "        Return the inverse hyperbolic sine of x.\n",
      "\n",
      "    atan(x, /)\n",
      "        Return the arc tangent (measured in radians) of x.\n",
      "\n",
      "        The result is between -pi/2 and pi/2.\n",
      "\n",
      "    atan2(y, x, /)\n",
      "        Return the arc tangent (measured in radians) of y/x.\n",
      "\n",
      "        Unlike atan(y/x), the signs of both x and y are considered.\n",
      "\n",
      "    atanh(x, /)\n",
      "        Return the inverse hyperbolic tangent of x.\n",
      "\n",
      "    cbrt(x, /)\n",
      "        Return the cube root of x.\n",
      "\n",
      "    ceil(x, /)\n",
      "        Return the ceiling of x as an Integral.\n",
      "\n",
      "        This is the smallest integer >= x.\n",
      "\n",
      "    comb(n, k, /)\n",
      "        Number of ways to choose k items from n items without repetition and without order.\n",
      "\n",
      "        Evaluates to n! / (k! * (n - k)!) when k <= n and evaluates\n",
      "        to zero when k > n.\n",
      "\n",
      "        Also called the binomial coefficient because it is equivalent\n",
      "        to the coefficient of k-th term in polynomial expansion of the\n",
      "        expression (1 + x)**n.\n",
      "\n",
      "        Raises TypeError if either of the arguments are not integers.\n",
      "        Raises ValueError if either of the arguments are negative.\n",
      "\n",
      "    copysign(x, y, /)\n",
      "        Return a float with the magnitude (absolute value) of x but the sign of y.\n",
      "\n",
      "        On platforms that support signed zeros, copysign(1.0, -0.0)\n",
      "        returns -1.0.\n",
      "\n",
      "    cos(x, /)\n",
      "        Return the cosine of x (measured in radians).\n",
      "\n",
      "    cosh(x, /)\n",
      "        Return the hyperbolic cosine of x.\n",
      "\n",
      "    degrees(x, /)\n",
      "        Convert angle x from radians to degrees.\n",
      "\n",
      "    dist(p, q, /)\n",
      "        Return the Euclidean distance between two points p and q.\n",
      "\n",
      "        The points should be specified as sequences (or iterables) of\n",
      "        coordinates.  Both inputs must have the same dimension.\n",
      "\n",
      "        Roughly equivalent to:\n",
      "            sqrt(sum((px - qx) ** 2.0 for px, qx in zip(p, q)))\n",
      "\n",
      "    erf(x, /)\n",
      "        Error function at x.\n",
      "\n",
      "    erfc(x, /)\n",
      "        Complementary error function at x.\n",
      "\n",
      "    exp(x, /)\n",
      "        Return e raised to the power of x.\n",
      "\n",
      "    exp2(x, /)\n",
      "        Return 2 raised to the power of x.\n",
      "\n",
      "    expm1(x, /)\n",
      "        Return exp(x)-1.\n",
      "\n",
      "        This function avoids the loss of precision involved in the direct evaluation of exp(x)-1 for small x.\n",
      "\n",
      "    fabs(x, /)\n",
      "        Return the absolute value of the float x.\n",
      "\n",
      "    factorial(n, /)\n",
      "        Find n!.\n",
      "\n",
      "        Raise a ValueError if x is negative or non-integral.\n",
      "\n",
      "    floor(x, /)\n",
      "        Return the floor of x as an Integral.\n",
      "\n",
      "        This is the largest integer <= x.\n",
      "\n",
      "    fmod(x, y, /)\n",
      "        Return fmod(x, y), according to platform C.\n",
      "\n",
      "        x % y may differ.\n",
      "\n",
      "    frexp(x, /)\n",
      "        Return the mantissa and exponent of x, as pair (m, e).\n",
      "\n",
      "        m is a float and e is an int, such that x = m * 2.**e.\n",
      "        If x is 0, m and e are both 0.  Else 0.5 <= abs(m) < 1.0.\n",
      "\n",
      "    fsum(seq, /)\n",
      "        Return an accurate floating-point sum of values in the iterable seq.\n",
      "\n",
      "        Assumes IEEE-754 floating-point arithmetic.\n",
      "\n",
      "    gamma(x, /)\n",
      "        Gamma function at x.\n",
      "\n",
      "    gcd(*integers)\n",
      "        Greatest Common Divisor.\n",
      "\n",
      "    hypot(...)\n",
      "        hypot(*coordinates) -> value\n",
      "\n",
      "        Multidimensional Euclidean distance from the origin to a point.\n",
      "\n",
      "        Roughly equivalent to:\n",
      "            sqrt(sum(x**2 for x in coordinates))\n",
      "\n",
      "        For a two dimensional point (x, y), gives the hypotenuse\n",
      "        using the Pythagorean theorem:  sqrt(x*x + y*y).\n",
      "\n",
      "        For example, the hypotenuse of a 3/4/5 right triangle is:\n",
      "\n",
      "            >>> hypot(3.0, 4.0)\n",
      "            5.0\n",
      "\n",
      "    isclose(a, b, *, rel_tol=1e-09, abs_tol=0.0)\n",
      "        Determine whether two floating-point numbers are close in value.\n",
      "\n",
      "          rel_tol\n",
      "            maximum difference for being considered \"close\", relative to the\n",
      "            magnitude of the input values\n",
      "          abs_tol\n",
      "            maximum difference for being considered \"close\", regardless of the\n",
      "            magnitude of the input values\n",
      "\n",
      "        Return True if a is close in value to b, and False otherwise.\n",
      "\n",
      "        For the values to be considered close, the difference between them\n",
      "        must be smaller than at least one of the tolerances.\n",
      "\n",
      "        -inf, inf and NaN behave similarly to the IEEE 754 Standard.  That\n",
      "        is, NaN is not close to anything, even itself.  inf and -inf are\n",
      "        only close to themselves.\n",
      "\n",
      "    isfinite(x, /)\n",
      "        Return True if x is neither an infinity nor a NaN, and False otherwise.\n",
      "\n",
      "    isinf(x, /)\n",
      "        Return True if x is a positive or negative infinity, and False otherwise.\n",
      "\n",
      "    isnan(x, /)\n",
      "        Return True if x is a NaN (not a number), and False otherwise.\n",
      "\n",
      "    isqrt(n, /)\n",
      "        Return the integer part of the square root of the input.\n",
      "\n",
      "    lcm(*integers)\n",
      "        Least Common Multiple.\n",
      "\n",
      "    ldexp(x, i, /)\n",
      "        Return x * (2**i).\n",
      "\n",
      "        This is essentially the inverse of frexp().\n",
      "\n",
      "    lgamma(x, /)\n",
      "        Natural logarithm of absolute value of Gamma function at x.\n",
      "\n",
      "    log(...)\n",
      "        log(x, [base=math.e])\n",
      "        Return the logarithm of x to the given base.\n",
      "\n",
      "        If the base is not specified, returns the natural logarithm (base e) of x.\n",
      "\n",
      "    log10(x, /)\n",
      "        Return the base 10 logarithm of x.\n",
      "\n",
      "    log1p(x, /)\n",
      "        Return the natural logarithm of 1+x (base e).\n",
      "\n",
      "        The result is computed in a way which is accurate for x near zero.\n",
      "\n",
      "    log2(x, /)\n",
      "        Return the base 2 logarithm of x.\n",
      "\n",
      "    modf(x, /)\n",
      "        Return the fractional and integer parts of x.\n",
      "\n",
      "        Both results carry the sign of x and are floats.\n",
      "\n",
      "    nextafter(x, y, /, *, steps=None)\n",
      "        Return the floating-point value the given number of steps after x towards y.\n",
      "\n",
      "        If steps is not specified or is None, it defaults to 1.\n",
      "\n",
      "        Raises a TypeError, if x or y is not a double, or if steps is not an integer.\n",
      "        Raises ValueError if steps is negative.\n",
      "\n",
      "    perm(n, k=None, /)\n",
      "        Number of ways to choose k items from n items without repetition and with order.\n",
      "\n",
      "        Evaluates to n! / (n - k)! when k <= n and evaluates\n",
      "        to zero when k > n.\n",
      "\n",
      "        If k is not specified or is None, then k defaults to n\n",
      "        and the function returns n!.\n",
      "\n",
      "        Raises TypeError if either of the arguments are not integers.\n",
      "        Raises ValueError if either of the arguments are negative.\n",
      "\n",
      "    pow(x, y, /)\n",
      "        Return x**y (x to the power of y).\n",
      "\n",
      "    prod(iterable, /, *, start=1)\n",
      "        Calculate the product of all the elements in the input iterable.\n",
      "\n",
      "        The default start value for the product is 1.\n",
      "\n",
      "        When the iterable is empty, return the start value.  This function is\n",
      "        intended specifically for use with numeric values and may reject\n",
      "        non-numeric types.\n",
      "\n",
      "    radians(x, /)\n",
      "        Convert angle x from degrees to radians.\n",
      "\n",
      "    remainder(x, y, /)\n",
      "        Difference between x and the closest integer multiple of y.\n",
      "\n",
      "        Return x - n*y where n*y is the closest integer multiple of y.\n",
      "        In the case where x is exactly halfway between two multiples of\n",
      "        y, the nearest even value of n is used. The result is always exact.\n",
      "\n",
      "    sin(x, /)\n",
      "        Return the sine of x (measured in radians).\n",
      "\n",
      "    sinh(x, /)\n",
      "        Return the hyperbolic sine of x.\n",
      "\n",
      "    sqrt(x, /)\n",
      "        Return the square root of x.\n",
      "\n",
      "    sumprod(p, q, /)\n",
      "        Return the sum of products of values from two iterables p and q.\n",
      "\n",
      "        Roughly equivalent to:\n",
      "\n",
      "            sum(itertools.starmap(operator.mul, zip(p, q, strict=True)))\n",
      "\n",
      "        For float and mixed int/float inputs, the intermediate products\n",
      "        and sums are computed with extended precision.\n",
      "\n",
      "    tan(x, /)\n",
      "        Return the tangent of x (measured in radians).\n",
      "\n",
      "    tanh(x, /)\n",
      "        Return the hyperbolic tangent of x.\n",
      "\n",
      "    trunc(x, /)\n",
      "        Truncates the Real x to the nearest Integral toward 0.\n",
      "\n",
      "        Uses the __trunc__ magic method.\n",
      "\n",
      "    ulp(x, /)\n",
      "        Return the value of the least significant bit of the float x.\n",
      "\n",
      "DATA\n",
      "    e = 2.718281828459045\n",
      "    inf = inf\n",
      "    nan = nan\n",
      "    pi = 3.141592653589793\n",
      "    tau = 6.283185307179586\n",
      "\n",
      "FILE\n",
      "    (built-in)\n",
      "\n",
      "\n"
     ]
    }
   ],
   "source": [
    "import math\n",
    "help(math)"
   ]
  },
  {
   "cell_type": "code",
   "execution_count": 21,
   "id": "511f85e8-dc33-47a8-b2bf-9d16be07dd4b",
   "metadata": {},
   "outputs": [
    {
     "data": {
      "text/plain": [
       "2.0"
      ]
     },
     "execution_count": 21,
     "metadata": {},
     "output_type": "execute_result"
    }
   ],
   "source": [
    "math.sqrt(4)"
   ]
  },
  {
   "cell_type": "code",
   "execution_count": 22,
   "id": "1ab68b23-33af-4166-9f78-6f114a90b4c1",
   "metadata": {},
   "outputs": [
    {
     "data": {
      "text/plain": [
       "8.0"
      ]
     },
     "execution_count": 22,
     "metadata": {},
     "output_type": "execute_result"
    }
   ],
   "source": [
    "math.pow(2,3)"
   ]
  },
  {
   "cell_type": "code",
   "execution_count": 23,
   "id": "3567ba11-dc93-433a-b00f-9d2853566aa6",
   "metadata": {},
   "outputs": [
    {
     "data": {
      "text/plain": [
       "20.085536923187668"
      ]
     },
     "execution_count": 23,
     "metadata": {},
     "output_type": "execute_result"
    }
   ],
   "source": [
    "math.exp(3)"
   ]
  },
  {
   "cell_type": "code",
   "execution_count": 24,
   "id": "9834570e-fe16-43db-98d8-413919c61a9b",
   "metadata": {},
   "outputs": [
    {
     "data": {
      "text/plain": [
       "2.718281828459045"
      ]
     },
     "execution_count": 24,
     "metadata": {},
     "output_type": "execute_result"
    }
   ],
   "source": [
    "math.exp(1)"
   ]
  },
  {
   "cell_type": "code",
   "execution_count": 25,
   "id": "a202c7c2-e9d6-4f01-a30d-e86973449d97",
   "metadata": {},
   "outputs": [
    {
     "data": {
      "text/plain": [
       "20.085536923187668"
      ]
     },
     "execution_count": 25,
     "metadata": {},
     "output_type": "execute_result"
    }
   ],
   "source": [
    "math.exp(3)"
   ]
  },
  {
   "cell_type": "code",
   "execution_count": 27,
   "id": "da9a1de2-37e9-4aa5-b131-aab8d0920e86",
   "metadata": {},
   "outputs": [
    {
     "data": {
      "text/plain": [
       "120"
      ]
     },
     "execution_count": 27,
     "metadata": {},
     "output_type": "execute_result"
    }
   ],
   "source": [
    "from math import factorial\n",
    "factorial(5)"
   ]
  },
  {
   "cell_type": "code",
   "execution_count": 28,
   "id": "c3ee89ea-478b-4041-8946-3630da1b3ef8",
   "metadata": {},
   "outputs": [
    {
     "data": {
      "text/plain": [
       "2.0"
      ]
     },
     "execution_count": 28,
     "metadata": {},
     "output_type": "execute_result"
    }
   ],
   "source": [
    "# diffrent function for imporing \n",
    "# 1st optn\n",
    "import math\n",
    "math.sqrt(4)"
   ]
  },
  {
   "cell_type": "code",
   "execution_count": 29,
   "id": "f03e16c9-ece1-424c-8c72-5bed63553e07",
   "metadata": {},
   "outputs": [
    {
     "data": {
      "text/plain": [
       "2.0"
      ]
     },
     "execution_count": 29,
     "metadata": {},
     "output_type": "execute_result"
    }
   ],
   "source": [
    "# 2nd\n",
    "from math import *\n",
    "sqrt(4)"
   ]
  },
  {
   "cell_type": "code",
   "execution_count": 30,
   "id": "23402196-0d1d-4811-8f37-a8c5184cf44c",
   "metadata": {},
   "outputs": [
    {
     "data": {
      "text/plain": [
       "2.0"
      ]
     },
     "execution_count": 30,
     "metadata": {},
     "output_type": "execute_result"
    }
   ],
   "source": [
    "# 3rd optn:-\n",
    "from math import sqrt\n",
    "sqrt(4)"
   ]
  },
  {
   "cell_type": "code",
   "execution_count": 31,
   "id": "2958b007-63cf-4ce8-9699-e82f22d58ff1",
   "metadata": {},
   "outputs": [
    {
     "data": {
      "text/plain": [
       "2.0"
      ]
     },
     "execution_count": 31,
     "metadata": {},
     "output_type": "execute_result"
    }
   ],
   "source": [
    "# shortcut\n",
    "import math as m\n",
    "m.sqrt(4)"
   ]
  },
  {
   "cell_type": "markdown",
   "id": "fb1cdb91-a4b2-4d0d-b2fe-7d43e524f2ca",
   "metadata": {},
   "source": [
    "### Various possibilies of imporiting :-"
   ]
  },
  {
   "cell_type": "markdown",
   "id": "8e91cba8-55b2-41b3-abf6-653edf9e870e",
   "metadata": {},
   "source": [
    "- import module name.\n",
    "- import module 1, module 2, module 3.\n",
    "- import module 1 as m.\n",
    "- import module 1 as m1, module 2 as m2, and module 3 as m3.\n",
    "- from module import membur.\n",
    "- from module import membur 1 membur 2 membur 3.\n",
    "- from module import membur 1 as x. \n",
    "#### member mean functions here"
   ]
  },
  {
   "cell_type": "markdown",
   "id": "7d3b6cf8-c6ee-494a-9a7e-04450bcb0099",
   "metadata": {},
   "source": [
    "### * Random module :-\n",
    "- This module define several functions to generate random number.\n",
    "- We can use these function while devloping game, in cryptography\n",
    "- and to generate random number for fly for authentication."
   ]
  },
  {
   "cell_type": "code",
   "execution_count": 36,
   "id": "9e121b92-b1b0-4ffc-bc78-efa675593282",
   "metadata": {},
   "outputs": [],
   "source": [
    "import  random \n",
    "# this fun always genrate same float value beteen 0 and 1 (not inculsive)"
   ]
  },
  {
   "cell_type": "code",
   "execution_count": 37,
   "id": "d4a17651-c042-4b54-90b8-ce5d5b5433cd",
   "metadata": {},
   "outputs": [
    {
     "data": {
      "text/plain": [
       "0.23109971723269918"
      ]
     },
     "execution_count": 37,
     "metadata": {},
     "output_type": "execute_result"
    }
   ],
   "source": [
    "random.random()"
   ]
  },
  {
   "cell_type": "code",
   "execution_count": 39,
   "id": "e679e6d0-9fd8-479e-b16d-669d45e94e07",
   "metadata": {},
   "outputs": [
    {
     "name": "stdout",
     "output_type": "stream",
     "text": [
      "0.2502818776101434\n",
      "0.2911298718660076\n",
      "0.9228577923407284\n",
      "0.8151630221026613\n",
      "0.14857129009819403\n"
     ]
    }
   ],
   "source": [
    "for i in range(5):\n",
    "    print(random.random())"
   ]
  },
  {
   "cell_type": "markdown",
   "id": "6aaeb584-e03d-40ca-9cd2-21999462faa2",
   "metadata": {},
   "source": [
    "### * randint() :- "
   ]
  },
  {
   "cell_type": "markdown",
   "id": "c0707645-59b5-4e92-8607-8a57d558abf1",
   "metadata": {},
   "source": [
    "- Within the random function we have one more function randint.\n",
    "- It will integer between a and b."
   ]
  },
  {
   "cell_type": "code",
   "execution_count": 41,
   "id": "23490e89-6131-4a75-b96d-b5e3d365a7c7",
   "metadata": {},
   "outputs": [
    {
     "data": {
      "text/plain": [
       "56"
      ]
     },
     "execution_count": 41,
     "metadata": {},
     "output_type": "execute_result"
    }
   ],
   "source": [
    "random.randint(1,100)"
   ]
  },
  {
   "cell_type": "code",
   "execution_count": 42,
   "id": "11868d17-d668-4d5e-bdf0-56a04c3e8499",
   "metadata": {},
   "outputs": [
    {
     "data": {
      "text/plain": [
       "93"
      ]
     },
     "execution_count": 42,
     "metadata": {},
     "output_type": "execute_result"
    }
   ],
   "source": [
    "random.randint(1,100)"
   ]
  },
  {
   "cell_type": "code",
   "execution_count": 43,
   "id": "e3da332e-b539-4205-af3f-5a324c5e3423",
   "metadata": {},
   "outputs": [
    {
     "data": {
      "text/plain": [
       "53"
      ]
     },
     "execution_count": 43,
     "metadata": {},
     "output_type": "execute_result"
    }
   ],
   "source": [
    "random.randint(1,100)"
   ]
  },
  {
   "cell_type": "code",
   "execution_count": 44,
   "id": "9dab333a-dce2-4c06-9f94-cd2014f20313",
   "metadata": {},
   "outputs": [],
   "source": [
    "# Like we see lucky draw system how the random function generate\n",
    "# so it genrate like this."
   ]
  },
  {
   "cell_type": "code",
   "execution_count": 45,
   "id": "4b0a45f6-0f31-4621-a20c-7ff64502bf0c",
   "metadata": {},
   "outputs": [
    {
     "name": "stdout",
     "output_type": "stream",
     "text": [
      "913\n",
      "256\n",
      "412\n",
      "707\n",
      "875\n"
     ]
    }
   ],
   "source": [
    "for i in range(5):\n",
    "    print(random.randint(1,1000))"
   ]
  },
  {
   "cell_type": "code",
   "execution_count": 46,
   "id": "50b18ec5-e9f9-4963-92f7-843356bd5c01",
   "metadata": {},
   "outputs": [
    {
     "name": "stdout",
     "output_type": "stream",
     "text": [
      "4691\n",
      "2121\n",
      "2348\n",
      "7775\n",
      "532\n"
     ]
    }
   ],
   "source": [
    "for i in range(5):\n",
    "    print(random.randint(1,10000))"
   ]
  },
  {
   "cell_type": "markdown",
   "id": "7df6b6b1-1466-475c-a5d5-e10835b804b5",
   "metadata": {},
   "source": [
    "### * randrange() :-"
   ]
  },
  {
   "cell_type": "markdown",
   "id": "dbf11699-f789-42d7-815e-7d4fc7903ba7",
   "metadata": {},
   "source": [
    "- To generate random integer or integer to given range."
   ]
  },
  {
   "cell_type": "code",
   "execution_count": 47,
   "id": "39c76959-645b-48e8-92a9-ff908edd3eb8",
   "metadata": {},
   "outputs": [
    {
     "data": {
      "text/plain": [
       "16"
      ]
     },
     "execution_count": 47,
     "metadata": {},
     "output_type": "execute_result"
    }
   ],
   "source": [
    "random.randrange(2,50,2)\n",
    "# it willl give even random number becuse we take here step ('2')."
   ]
  },
  {
   "cell_type": "code",
   "execution_count": 48,
   "id": "8048e761-db82-442b-8c2e-9880091135ec",
   "metadata": {},
   "outputs": [
    {
     "data": {
      "text/plain": [
       "12"
      ]
     },
     "execution_count": 48,
     "metadata": {},
     "output_type": "execute_result"
    }
   ],
   "source": [
    "random.randrange(2,50,2)"
   ]
  },
  {
   "cell_type": "markdown",
   "id": "b86459c6-e0ce-49ae-9fc6-f9a044c014a1",
   "metadata": {},
   "source": [
    "### * Choice ():-"
   ]
  },
  {
   "cell_type": "markdown",
   "id": "436ddaff-cca6-4c5f-898c-052588b162be",
   "metadata": {},
   "source": [
    "- It will not return random number it will return random object from the given list."
   ]
  },
  {
   "cell_type": "code",
   "execution_count": 49,
   "id": "d92dfb80-29d7-4de8-bc18-8f34a873a342",
   "metadata": {},
   "outputs": [
    {
     "data": {
      "text/plain": [
       "'suuny'"
      ]
     },
     "execution_count": 49,
     "metadata": {},
     "output_type": "execute_result"
    }
   ],
   "source": [
    "list = ['suuny','bunny','chinny','vinny']\n",
    "random.choice(list)"
   ]
  },
  {
   "cell_type": "code",
   "execution_count": 50,
   "id": "55b4691c-8423-4678-90d3-a91d9423b273",
   "metadata": {},
   "outputs": [
    {
     "data": {
      "text/plain": [
       "'bunny'"
      ]
     },
     "execution_count": 50,
     "metadata": {},
     "output_type": "execute_result"
    }
   ],
   "source": [
    "list = ['suuny','bunny','chinny','vinny']\n",
    "random.choice(list)"
   ]
  },
  {
   "cell_type": "code",
   "execution_count": 51,
   "id": "8f96f7d4-9c25-477f-8e72-ac5c7bed1fae",
   "metadata": {},
   "outputs": [],
   "source": [
    "# It will give random name between those selected name."
   ]
  },
  {
   "cell_type": "code",
   "execution_count": 52,
   "id": "4cb818c6-d1b7-4c63-a7e5-5224fb7e57cd",
   "metadata": {},
   "outputs": [
    {
     "data": {
      "text/plain": [
       "6"
      ]
     },
     "execution_count": 52,
     "metadata": {},
     "output_type": "execute_result"
    }
   ],
   "source": [
    "lst = [1,2,3,4,5,6]\n",
    "random.choice(lst)"
   ]
  },
  {
   "cell_type": "code",
   "execution_count": 55,
   "id": "3a6fab9a-6b23-4481-a9c5-38b94a86b56c",
   "metadata": {},
   "outputs": [
    {
     "data": {
      "text/plain": [
       "2"
      ]
     },
     "execution_count": 55,
     "metadata": {},
     "output_type": "execute_result"
    }
   ],
   "source": [
    "list = [1,2,3,4,5,]\n",
    "random.choice(list)"
   ]
  },
  {
   "cell_type": "code",
   "execution_count": 56,
   "id": "0562596a-37af-4720-9669-ed832b163788",
   "metadata": {},
   "outputs": [
    {
     "data": {
      "text/plain": [
       "True"
      ]
     },
     "execution_count": 56,
     "metadata": {},
     "output_type": "execute_result"
    }
   ],
   "source": [
    "list= [1,2,3,4,5,'srk',24.5,True]\n",
    "random.choice(list)"
   ]
  },
  {
   "cell_type": "code",
   "execution_count": 57,
   "id": "4c25a348-433f-4e5a-960c-ff71a14a74f4",
   "metadata": {},
   "outputs": [
    {
     "data": {
      "text/plain": [
       "24.5"
      ]
     },
     "execution_count": 57,
     "metadata": {},
     "output_type": "execute_result"
    }
   ],
   "source": [
    "list= [1,2,3,4,5,'srk',24.5,True]\n",
    "random.choice(list)"
   ]
  },
  {
   "cell_type": "markdown",
   "id": "2b00f442-141c-49b6-9476-d7aaaf9aaab3",
   "metadata": {},
   "source": []
  },
  {
   "cell_type": "code",
   "execution_count": 58,
   "id": "5431bf36-40af-4e27-adf5-5f6027148af2",
   "metadata": {},
   "outputs": [
    {
     "data": {
      "text/plain": [
       "2.995732273553991"
      ]
     },
     "execution_count": 58,
     "metadata": {},
     "output_type": "execute_result"
    }
   ],
   "source": [
    "import math\n",
    "math.log(20)"
   ]
  },
  {
   "cell_type": "code",
   "execution_count": 59,
   "id": "a5a5778e-03d0-424f-951c-7bd76d5e94ea",
   "metadata": {},
   "outputs": [
    {
     "data": {
      "text/plain": [
       "2.0"
      ]
     },
     "execution_count": 59,
     "metadata": {},
     "output_type": "execute_result"
    }
   ],
   "source": [
    "math.sqrt(4)"
   ]
  },
  {
   "cell_type": "code",
   "execution_count": 60,
   "id": "26b8587f-c69e-42f8-9fc3-7b138e69a47e",
   "metadata": {},
   "outputs": [
    {
     "data": {
      "text/plain": [
       "2.718281828459045"
      ]
     },
     "execution_count": 60,
     "metadata": {},
     "output_type": "execute_result"
    }
   ],
   "source": [
    "math.exp(1)"
   ]
  },
  {
   "cell_type": "code",
   "execution_count": 61,
   "id": "e918528e-3db2-4313-be50-27c4357ea9e8",
   "metadata": {},
   "outputs": [
    {
     "data": {
      "text/plain": [
       "8.0"
      ]
     },
     "execution_count": 61,
     "metadata": {},
     "output_type": "execute_result"
    }
   ],
   "source": [
    "math.pow(2,3)"
   ]
  },
  {
   "cell_type": "code",
   "execution_count": 62,
   "id": "f5c21f5a-5645-49fe-bc61-3251ad0654e3",
   "metadata": {},
   "outputs": [
    {
     "data": {
      "text/plain": [
       "120"
      ]
     },
     "execution_count": 62,
     "metadata": {},
     "output_type": "execute_result"
    }
   ],
   "source": [
    "math.factorial(5)"
   ]
  },
  {
   "cell_type": "code",
   "execution_count": null,
   "id": "8b42ad95-083a-4fc0-bc90-b18d2f08cbf9",
   "metadata": {},
   "outputs": [],
   "source": [
    "--------Function-------end----------------"
   ]
  }
 ],
 "metadata": {
  "kernelspec": {
   "display_name": "Python 3 (ipykernel)",
   "language": "python",
   "name": "python3"
  },
  "language_info": {
   "codemirror_mode": {
    "name": "ipython",
    "version": 3
   },
   "file_extension": ".py",
   "mimetype": "text/x-python",
   "name": "python",
   "nbconvert_exporter": "python",
   "pygments_lexer": "ipython3",
   "version": "3.12.7"
  }
 },
 "nbformat": 4,
 "nbformat_minor": 5
}
