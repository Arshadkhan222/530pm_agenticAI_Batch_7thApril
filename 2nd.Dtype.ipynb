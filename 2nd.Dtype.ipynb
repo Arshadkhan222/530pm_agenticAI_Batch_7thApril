{
 "cells": [
  {
   "cell_type": "markdown",
   "id": "7dbea1fb-2b1c-4c38-82bc-f66107aee9d7",
   "metadata": {},
   "source": [
    "# Data Type"
   ]
  },
  {
   "cell_type": "code",
   "execution_count": 1,
   "id": "83a9d16a-fc96-4969-966d-7e7b914c1807",
   "metadata": {},
   "outputs": [
    {
     "data": {
      "text/plain": [
       "5"
      ]
     },
     "execution_count": 1,
     "metadata": {},
     "output_type": "execute_result"
    }
   ],
   "source": [
    "a = 5\n",
    "a"
   ]
  },
  {
   "cell_type": "code",
   "execution_count": 2,
   "id": "46cb813b-cc67-4865-a03d-1302c17cedc2",
   "metadata": {},
   "outputs": [
    {
     "data": {
      "text/plain": [
       "int"
      ]
     },
     "execution_count": 2,
     "metadata": {},
     "output_type": "execute_result"
    }
   ],
   "source": [
    "#for cheaking type we used type().\n",
    "type(a)"
   ]
  },
  {
   "cell_type": "code",
   "execution_count": 5,
   "id": "232e8cfb-8bd3-455a-9803-2f9f5c2577bf",
   "metadata": {},
   "outputs": [
    {
     "data": {
      "text/plain": [
       "'3.12.7 | packaged by Anaconda, Inc. | (main, Oct  4 2024, 13:17:27) [MSC v.1929 64 bit (AMD64)]'"
      ]
     },
     "execution_count": 5,
     "metadata": {},
     "output_type": "execute_result"
    }
   ],
   "source": [
    "#for cheacking version we use this and 1st import \n",
    "import sys\n",
    "sys.version"
   ]
  },
  {
   "cell_type": "code",
   "execution_count": 6,
   "id": "3ec1f0db-84dd-41a3-9400-c454b2a922c1",
   "metadata": {},
   "outputs": [
    {
     "data": {
      "text/plain": [
       "10"
      ]
     },
     "execution_count": 6,
     "metadata": {},
     "output_type": "execute_result"
    }
   ],
   "source": [
    "a = 10\n",
    "a"
   ]
  },
  {
   "cell_type": "code",
   "execution_count": 7,
   "id": "3b4cb1a6-51b5-4c32-80b0-d049135a3a01",
   "metadata": {},
   "outputs": [
    {
     "data": {
      "text/plain": [
       "140734835469016"
      ]
     },
     "execution_count": 7,
     "metadata": {},
     "output_type": "execute_result"
    }
   ],
   "source": [
    "id(a)  # id mean address it will give address of a function"
   ]
  },
  {
   "cell_type": "code",
   "execution_count": 8,
   "id": "ce1613b6-ae7b-4cf4-88f4-180b35c15ae1",
   "metadata": {},
   "outputs": [],
   "source": [
    "# Datatype"
   ]
  },
  {
   "cell_type": "code",
   "execution_count": 9,
   "id": "e3f89798-31c0-4911-8eee-f2fa2aecbe67",
   "metadata": {},
   "outputs": [],
   "source": [
    "a = 4809"
   ]
  },
  {
   "cell_type": "code",
   "execution_count": 10,
   "id": "3fd6f3b9-f32e-4691-9c44-cad17ed3064c",
   "metadata": {},
   "outputs": [
    {
     "data": {
      "text/plain": [
       "4809"
      ]
     },
     "execution_count": 10,
     "metadata": {},
     "output_type": "execute_result"
    }
   ],
   "source": [
    "a"
   ]
  },
  {
   "cell_type": "code",
   "execution_count": 12,
   "id": "eb14cd43-2892-4d58-952a-04de4fa55b3d",
   "metadata": {},
   "outputs": [],
   "source": [
    "c = 0b111   # binary"
   ]
  },
  {
   "cell_type": "code",
   "execution_count": 13,
   "id": "f0b4b1ae-675e-4bd3-a714-1557aa999507",
   "metadata": {},
   "outputs": [
    {
     "data": {
      "text/plain": [
       "7"
      ]
     },
     "execution_count": 13,
     "metadata": {},
     "output_type": "execute_result"
    }
   ],
   "source": [
    "c"
   ]
  },
  {
   "cell_type": "code",
   "execution_count": 14,
   "id": "42a370b0-e586-4159-8887-9fc7b3fd6290",
   "metadata": {},
   "outputs": [],
   "source": [
    "a = 50"
   ]
  },
  {
   "cell_type": "code",
   "execution_count": 15,
   "id": "cd3960db-3374-4724-9541-efd46dd5805d",
   "metadata": {},
   "outputs": [
    {
     "data": {
      "text/plain": [
       "50"
      ]
     },
     "execution_count": 15,
     "metadata": {},
     "output_type": "execute_result"
    }
   ],
   "source": [
    "a    # in int we can store only one value"
   ]
  },
  {
   "cell_type": "code",
   "execution_count": 16,
   "id": "b1fe4fa9-7314-4372-bff5-d42b431d1440",
   "metadata": {},
   "outputs": [],
   "source": [
    "b = 50,60"
   ]
  },
  {
   "cell_type": "code",
   "execution_count": 17,
   "id": "7900bfc7-745d-4377-b254-bf8396b85721",
   "metadata": {},
   "outputs": [
    {
     "data": {
      "text/plain": [
       "(50, 60)"
      ]
     },
     "execution_count": 17,
     "metadata": {},
     "output_type": "execute_result"
    }
   ],
   "source": [
    "b   # it's tuple "
   ]
  },
  {
   "cell_type": "code",
   "execution_count": 18,
   "id": "397cec25-402a-4571-b24b-927484b5b65d",
   "metadata": {},
   "outputs": [],
   "source": [
    "# list, tuple, dict, set, = can store multiple value"
   ]
  },
  {
   "cell_type": "code",
   "execution_count": 20,
   "id": "f1ea38c5-1ea0-41bf-b2fa-8f8d8d4c54f3",
   "metadata": {},
   "outputs": [],
   "source": [
    "# Variable\n",
    "a = 24\n",
    "# for creating vareaible we have some role in pythone"
   ]
  },
  {
   "cell_type": "code",
   "execution_count": 21,
   "id": "877b2d16-c1bc-4dd4-959f-74a4c436a505",
   "metadata": {},
   "outputs": [],
   "source": [
    "# a1 = 45,----->this is correct\n",
    "# a_1= 23-----> this is correct\n",
    "# 1a = 43----->this is incoret\n",
    "# varaible can not starte with number"
   ]
  },
  {
   "cell_type": "code",
   "execution_count": 22,
   "id": "581a5ef5-35e7-4525-b89c-884b431f8082",
   "metadata": {},
   "outputs": [],
   "source": [
    "# numerical or non numerical\n",
    "# 24-----> numirical\n",
    "# srk----> non numerical"
   ]
  },
  {
   "cell_type": "code",
   "execution_count": 23,
   "id": "856372b4-ef45-44b9-a315-39377eec4805",
   "metadata": {},
   "outputs": [],
   "source": [
    "a = 25.50\n",
    "b = 'srk123'"
   ]
  },
  {
   "cell_type": "code",
   "execution_count": 24,
   "id": "31f64ac3-8790-46eb-88fb-97ab68447f4a",
   "metadata": {},
   "outputs": [
    {
     "name": "stdout",
     "output_type": "stream",
     "text": [
      "25.5\n"
     ]
    }
   ],
   "source": [
    "print(a)"
   ]
  },
  {
   "cell_type": "code",
   "execution_count": 27,
   "id": "b9930ea3-5e0b-49bb-83d5-0a027946fcea",
   "metadata": {},
   "outputs": [
    {
     "data": {
      "text/plain": [
       "float"
      ]
     },
     "execution_count": 27,
     "metadata": {},
     "output_type": "execute_result"
    }
   ],
   "source": [
    "type(a)"
   ]
  },
  {
   "cell_type": "code",
   "execution_count": 31,
   "id": "ac78af0b-3472-4f3a-987c-3f85b4ab83a6",
   "metadata": {},
   "outputs": [
    {
     "name": "stdout",
     "output_type": "stream",
     "text": [
      "srk123\n"
     ]
    }
   ],
   "source": [
    "print(b)"
   ]
  },
  {
   "cell_type": "code",
   "execution_count": 34,
   "id": "82961a13-f5ce-41f5-96d3-45ac29890f9f",
   "metadata": {},
   "outputs": [
    {
     "data": {
      "text/plain": [
       "str"
      ]
     },
     "execution_count": 34,
     "metadata": {},
     "output_type": "execute_result"
    }
   ],
   "source": [
    "type(b)"
   ]
  },
  {
   "cell_type": "code",
   "execution_count": 32,
   "id": "fdb53bf2-dfd9-4112-80a9-652268fd912b",
   "metadata": {},
   "outputs": [
    {
     "data": {
      "text/plain": [
       "'srk123'"
      ]
     },
     "execution_count": 32,
     "metadata": {},
     "output_type": "execute_result"
    }
   ],
   "source": [
    "b"
   ]
  },
  {
   "cell_type": "code",
   "execution_count": 33,
   "id": "307e274f-8447-4348-91b8-9c6d0d374d6d",
   "metadata": {},
   "outputs": [
    {
     "data": {
      "text/plain": [
       "str"
      ]
     },
     "execution_count": 33,
     "metadata": {},
     "output_type": "execute_result"
    }
   ],
   "source": [
    "type(b)"
   ]
  },
  {
   "cell_type": "code",
   "execution_count": 35,
   "id": "8beb6958-2cc8-4049-8932-c80d1b54561b",
   "metadata": {},
   "outputs": [
    {
     "name": "stdout",
     "output_type": "stream",
     "text": [
      "29\n"
     ]
    }
   ],
   "source": [
    "print(29)"
   ]
  },
  {
   "cell_type": "code",
   "execution_count": 36,
   "id": "74b4f0dc-a700-4a1e-bb71-7a34279054c1",
   "metadata": {},
   "outputs": [
    {
     "name": "stdout",
     "output_type": "stream",
     "text": [
      "ds\n"
     ]
    }
   ],
   "source": [
    "print('ds')"
   ]
  },
  {
   "cell_type": "code",
   "execution_count": 38,
   "id": "c2d794dd-90b4-46bd-9442-bb051e2df7e9",
   "metadata": {},
   "outputs": [
    {
     "name": "stdout",
     "output_type": "stream",
     "text": [
      "ds by srk\n"
     ]
    }
   ],
   "source": [
    "print('ds','by','srk')\n",
    "# by defualt it gives space"
   ]
  },
  {
   "cell_type": "code",
   "execution_count": 39,
   "id": "b6b2c05b-c04a-48e3-9449-3d635aa1fa49",
   "metadata": {},
   "outputs": [
    {
     "name": "stdout",
     "output_type": "stream",
     "text": [
      "25 python\n"
     ]
    }
   ],
   "source": [
    "print(25,'python')"
   ]
  },
  {
   "cell_type": "code",
   "execution_count": 40,
   "id": "e20af132-22d7-4119-9d5b-3b7728bb220d",
   "metadata": {},
   "outputs": [
    {
     "name": "stdout",
     "output_type": "stream",
     "text": [
      "24\n"
     ]
    }
   ],
   "source": [
    "a = 24\n",
    "print(a)"
   ]
  },
  {
   "cell_type": "code",
   "execution_count": 41,
   "id": "00a2ddd8-4453-42c8-9768-6cdab85b25c2",
   "metadata": {},
   "outputs": [
    {
     "name": "stdout",
     "output_type": "stream",
     "text": [
      "23 24\n"
     ]
    }
   ],
   "source": [
    "a = 23\n",
    "b = 24\n",
    "print(a,b)"
   ]
  },
  {
   "cell_type": "code",
   "execution_count": 42,
   "id": "d2681f62-9425-4243-b390-e5c75fef9024",
   "metadata": {},
   "outputs": [
    {
     "name": "stdout",
     "output_type": "stream",
     "text": [
      "23 24\n"
     ]
    }
   ],
   "source": [
    "print(a,b)"
   ]
  },
  {
   "cell_type": "code",
   "execution_count": 43,
   "id": "6e3baba2-0ae8-4ca4-8abd-f740fdbfe29a",
   "metadata": {},
   "outputs": [
    {
     "name": "stdout",
     "output_type": "stream",
     "text": [
      "srk 24\n"
     ]
    }
   ],
   "source": [
    "print('srk',b)"
   ]
  },
  {
   "cell_type": "code",
   "execution_count": 45,
   "id": "dba0fe27-19bf-4998-8df7-7d36a5b4c28f",
   "metadata": {},
   "outputs": [
    {
     "name": "stdout",
     "output_type": "stream",
     "text": [
      "The value of a is: 23\n"
     ]
    }
   ],
   "source": [
    "print('The value of a is:',a)"
   ]
  },
  {
   "cell_type": "code",
   "execution_count": 46,
   "id": "d50528de-1000-42a3-8985-8482d9f1a639",
   "metadata": {},
   "outputs": [
    {
     "name": "stdout",
     "output_type": "stream",
     "text": [
      "The value of a and b is : 23 24\n"
     ]
    }
   ],
   "source": [
    "print('The value of a and b is :', a,b)"
   ]
  },
  {
   "cell_type": "code",
   "execution_count": 48,
   "id": "70e40f3f-ed9e-4b17-a914-3253a45478b2",
   "metadata": {},
   "outputs": [
    {
     "name": "stdout",
     "output_type": "stream",
     "text": [
      "The value of a is : 23 and b is : 24\n"
     ]
    }
   ],
   "source": [
    "print('The value of a is :',a,'and b is :',b)"
   ]
  },
  {
   "cell_type": "markdown",
   "id": "b5118b0f-d687-4e50-a086-a31cd20908a3",
   "metadata": {},
   "source": [
    "## multiple variable assignment"
   ]
  },
  {
   "cell_type": "code",
   "execution_count": 50,
   "id": "2052e949-ca5e-4aa8-a593-2d15e7bf0b82",
   "metadata": {},
   "outputs": [],
   "source": [
    "a = 25"
   ]
  },
  {
   "cell_type": "code",
   "execution_count": 51,
   "id": "b8c6d98e-240e-4b15-bb56-42fe3eca8ba2",
   "metadata": {},
   "outputs": [],
   "source": [
    "b = 15"
   ]
  },
  {
   "cell_type": "code",
   "execution_count": 56,
   "id": "6abf3a55-4914-44cf-a519-9500e8887025",
   "metadata": {},
   "outputs": [
    {
     "name": "stdout",
     "output_type": "stream",
     "text": [
      "25 15\n"
     ]
    }
   ],
   "source": [
    "print(a,b)"
   ]
  },
  {
   "cell_type": "code",
   "execution_count": 57,
   "id": "b67eb367-b1ea-41c9-9cf3-e02904038e79",
   "metadata": {},
   "outputs": [],
   "source": [
    "a = 10\n",
    "b = 10\n",
    "c = 10"
   ]
  },
  {
   "cell_type": "code",
   "execution_count": 58,
   "id": "47bafb0d-55ab-4afd-af11-7593bc137712",
   "metadata": {},
   "outputs": [
    {
     "name": "stdout",
     "output_type": "stream",
     "text": [
      "10 10 10\n"
     ]
    }
   ],
   "source": [
    "print(a,b,c)"
   ]
  },
  {
   "cell_type": "code",
   "execution_count": 64,
   "id": "c37dc999-19b5-4008-a773-452b6a3d996a",
   "metadata": {},
   "outputs": [],
   "source": [
    "a = 25\n",
    "a = 50"
   ]
  },
  {
   "cell_type": "code",
   "execution_count": 65,
   "id": "077b47cd-6493-4076-b521-bdec68141c4f",
   "metadata": {},
   "outputs": [
    {
     "data": {
      "text/plain": [
       "50"
      ]
     },
     "execution_count": 65,
     "metadata": {},
     "output_type": "execute_result"
    }
   ],
   "source": [
    "a"
   ]
  },
  {
   "cell_type": "code",
   "execution_count": 61,
   "id": "8cb4719d-05f6-45e2-82ff-20120b8909c9",
   "metadata": {},
   "outputs": [],
   "source": [
    "a = 25"
   ]
  },
  {
   "cell_type": "code",
   "execution_count": 66,
   "id": "39fd30c3-cf6a-47ae-b978-6be2fd53854b",
   "metadata": {},
   "outputs": [],
   "source": [
    "a = 50 # it store always latest(New) value and previos one automatically deleted"
   ]
  },
  {
   "cell_type": "raw",
   "id": "b7ab626f-c50a-41d8-80c7-825a3fd0c649",
   "metadata": {},
   "source": [
    " delete the varaible"
   ]
  },
  {
   "cell_type": "code",
   "execution_count": 67,
   "id": "27e9cd65-4b01-4035-8f31-44e69a1269f3",
   "metadata": {},
   "outputs": [],
   "source": [
    "f = 55"
   ]
  },
  {
   "cell_type": "code",
   "execution_count": 68,
   "id": "6cff4386-aacf-4432-a3af-892493ef79b0",
   "metadata": {},
   "outputs": [
    {
     "name": "stdout",
     "output_type": "stream",
     "text": [
      "55\n"
     ]
    }
   ],
   "source": [
    "print(f)"
   ]
  },
  {
   "cell_type": "code",
   "execution_count": 69,
   "id": "87b4c089-5b98-4e98-bc5d-a1484f5cdf01",
   "metadata": {},
   "outputs": [],
   "source": [
    "del f"
   ]
  },
  {
   "cell_type": "code",
   "execution_count": 71,
   "id": "32982240-266c-47f8-8e8a-de51b13becc9",
   "metadata": {},
   "outputs": [
    {
     "ename": "NameError",
     "evalue": "name 'f' is not defined",
     "output_type": "error",
     "traceback": [
      "\u001b[1;31m---------------------------------------------------------------------------\u001b[0m",
      "\u001b[1;31mNameError\u001b[0m                                 Traceback (most recent call last)",
      "Cell \u001b[1;32mIn[71], line 1\u001b[0m\n\u001b[1;32m----> 1\u001b[0m \u001b[38;5;28mprint\u001b[39m(f)\n",
      "\u001b[1;31mNameError\u001b[0m: name 'f' is not defined"
     ]
    }
   ],
   "source": [
    "print(f) # becuse it is deleted now from memory throgh del function"
   ]
  },
  {
   "cell_type": "code",
   "execution_count": null,
   "id": "0690c619-4e0d-403e-9b42-50d495f806e4",
   "metadata": {},
   "outputs": [],
   "source": [
    "# del is a keyword\n",
    "# print() :- print is a function becuse it have pranthesis\n",
    "# Data type == value\n",
    "# bsed on value we have diffrent object\n",
    "\n",
    "#  numeric value without decimal = int datatype\n",
    "# numeric value with decimal = Float datatype\n",
    "# non numeric value  = String(str) datatype\n",
    "# True or False as the value = boolean(bool)datatype"
   ]
  }
 ],
 "metadata": {
  "kernelspec": {
   "display_name": "Python 3 (ipykernel)",
   "language": "python",
   "name": "python3"
  },
  "language_info": {
   "codemirror_mode": {
    "name": "ipython",
    "version": 3
   },
   "file_extension": ".py",
   "mimetype": "text/x-python",
   "name": "python",
   "nbconvert_exporter": "python",
   "pygments_lexer": "ipython3",
   "version": "3.12.7"
  }
 },
 "nbformat": 4,
 "nbformat_minor": 5
}
