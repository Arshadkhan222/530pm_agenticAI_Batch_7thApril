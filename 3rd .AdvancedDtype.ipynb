{
 "cells": [
  {
   "cell_type": "markdown",
   "id": "a2ccfd01-05ed-4270-881e-df9a803d7a53",
   "metadata": {},
   "source": [
    "## * Advanced data type"
   ]
  },
  {
   "cell_type": "raw",
   "id": "35085750-31eb-4434-9fa4-956e8197f5b3",
   "metadata": {},
   "source": [
    "#if we want to store more than one value in a single object so for that we will use advanced datatype"
   ]
  },
  {
   "cell_type": "raw",
   "id": "432f3ddb-1457-4585-b34e-ce2979b6f250",
   "metadata": {},
   "source": [
    "# list data type\n",
    "# tuple data type\n",
    "# set data type\n",
    "# Dictionary data type\n",
    "# advanced data type is also called as--->container--->Data Structure"
   ]
  },
  {
   "cell_type": "code",
   "execution_count": 1,
   "id": "c1d851c9-df7b-4bb6-8973-a7043ff8d706",
   "metadata": {},
   "outputs": [],
   "source": [
    "# integer:- numrical value with no decimal"
   ]
  },
  {
   "cell_type": "code",
   "execution_count": 2,
   "id": "ec7d92ae-7df6-4c76-99cd-d2993522174c",
   "metadata": {},
   "outputs": [
    {
     "name": "stdout",
     "output_type": "stream",
     "text": [
      "10\n"
     ]
    }
   ],
   "source": [
    "a = 10\n",
    "print(a)"
   ]
  },
  {
   "cell_type": "code",
   "execution_count": 3,
   "id": "d75203bb-a6ae-4d40-8c6f-4cb6be3d3259",
   "metadata": {},
   "outputs": [
    {
     "data": {
      "text/plain": [
       "int"
      ]
     },
     "execution_count": 3,
     "metadata": {},
     "output_type": "execute_result"
    }
   ],
   "source": [
    "type(a)   # this function for cheacking type"
   ]
  },
  {
   "cell_type": "code",
   "execution_count": 4,
   "id": "57eb59a3-7281-4b25-80ae-3c7f9c30e823",
   "metadata": {},
   "outputs": [
    {
     "data": {
      "text/plain": [
       "140722066893528"
      ]
     },
     "execution_count": 4,
     "metadata": {},
     "output_type": "execute_result"
    }
   ],
   "source": [
    "id(a)   # this for cheaking id "
   ]
  },
  {
   "cell_type": "markdown",
   "id": "84723fbb-1b75-4461-b71f-629289fe2d19",
   "metadata": {},
   "source": [
    "### Int, float, string, bool--> is immutable\n",
    "### immutable---> we can not replace add or modify the data "
   ]
  },
  {
   "cell_type": "code",
   "execution_count": 6,
   "id": "670939af-a7ef-46c8-af43-95b309816eb7",
   "metadata": {},
   "outputs": [
    {
     "name": "stdout",
     "output_type": "stream",
     "text": [
      "45\n"
     ]
    }
   ],
   "source": [
    "a = 45\n",
    "print(a)"
   ]
  },
  {
   "cell_type": "code",
   "execution_count": 7,
   "id": "6ac596f5-dea4-4c9b-b581-9c7ba7387088",
   "metadata": {},
   "outputs": [
    {
     "data": {
      "text/plain": [
       "140722066894648"
      ]
     },
     "execution_count": 7,
     "metadata": {},
     "output_type": "execute_result"
    }
   ],
   "source": [
    "id(a)"
   ]
  },
  {
   "cell_type": "markdown",
   "id": "edef1063-3a71-416c-ba40-add173b32156",
   "metadata": {},
   "source": [
    "### mutable---> we can add modify and change the value of orignol object/variable"
   ]
  },
  {
   "cell_type": "code",
   "execution_count": 9,
   "id": "22bf3324-f0de-45e5-862a-591bb7fb73da",
   "metadata": {},
   "outputs": [
    {
     "data": {
      "text/plain": [
       "2902384103424"
      ]
     },
     "execution_count": 9,
     "metadata": {},
     "output_type": "execute_result"
    }
   ],
   "source": [
    "# list is a Advanced datatype\n",
    "list \n",
    "l = [1,2,3,4,5]\n",
    "id(l)"
   ]
  },
  {
   "cell_type": "code",
   "execution_count": 10,
   "id": "db18ab0f-0478-41f9-8ec9-4478cc08693a",
   "metadata": {},
   "outputs": [
    {
     "name": "stdout",
     "output_type": "stream",
     "text": [
      "[1, 2, 3, 4, 5]\n"
     ]
    }
   ],
   "source": [
    "print(l)"
   ]
  },
  {
   "cell_type": "code",
   "execution_count": 11,
   "id": "15e25dd2-f104-4972-9f86-9cde6ca56767",
   "metadata": {},
   "outputs": [
    {
     "data": {
      "text/plain": [
       "2902384103424"
      ]
     },
     "execution_count": 11,
     "metadata": {},
     "output_type": "execute_result"
    }
   ],
   "source": [
    "id(l)"
   ]
  },
  {
   "cell_type": "code",
   "execution_count": 13,
   "id": "a82937de-46c3-46a4-86ba-79a8de107a8e",
   "metadata": {},
   "outputs": [],
   "source": [
    "l.clear()   # to this function all list have cleard"
   ]
  },
  {
   "cell_type": "code",
   "execution_count": 14,
   "id": "d2eeb5bb-e890-4355-8c7a-335b5d1d9675",
   "metadata": {},
   "outputs": [
    {
     "name": "stdout",
     "output_type": "stream",
     "text": [
      "[]\n"
     ]
    }
   ],
   "source": [
    "print(l)"
   ]
  },
  {
   "cell_type": "code",
   "execution_count": 15,
   "id": "62f43f31-c479-4089-b340-0fe7749dd5a3",
   "metadata": {},
   "outputs": [
    {
     "name": "stdout",
     "output_type": "stream",
     "text": [
      "3.99\n"
     ]
    }
   ],
   "source": [
    "# Float---> numerical value with decimol\n",
    "b = 3.99\n",
    "print(b)"
   ]
  },
  {
   "cell_type": "code",
   "execution_count": 16,
   "id": "e139d6f0-bfc6-42b2-b785-4f436b1b2c25",
   "metadata": {},
   "outputs": [
    {
     "data": {
      "text/plain": [
       "float"
      ]
     },
     "execution_count": 16,
     "metadata": {},
     "output_type": "execute_result"
    }
   ],
   "source": [
    "type(b)"
   ]
  },
  {
   "cell_type": "code",
   "execution_count": 17,
   "id": "93160d53-9db7-4e84-a892-02db725c8523",
   "metadata": {},
   "outputs": [],
   "source": [
    "# boolean(bool)----> for True or False"
   ]
  },
  {
   "cell_type": "code",
   "execution_count": 18,
   "id": "10409bb3-2b28-4eb4-a588-b324aac62f43",
   "metadata": {},
   "outputs": [
    {
     "name": "stdout",
     "output_type": "stream",
     "text": [
      "True\n"
     ]
    }
   ],
   "source": [
    "b1 = True\n",
    "print(b1)"
   ]
  },
  {
   "cell_type": "code",
   "execution_count": 19,
   "id": "4fb4f613-b8a5-4204-a94b-197f6335be48",
   "metadata": {},
   "outputs": [
    {
     "data": {
      "text/plain": [
       "bool"
      ]
     },
     "execution_count": 19,
     "metadata": {},
     "output_type": "execute_result"
    }
   ],
   "source": [
    "type(b1)"
   ]
  },
  {
   "cell_type": "code",
   "execution_count": 20,
   "id": "50535470-9b23-44fa-925b-6d30e7c670f1",
   "metadata": {},
   "outputs": [
    {
     "data": {
      "text/plain": [
       "140722065767296"
      ]
     },
     "execution_count": 20,
     "metadata": {},
     "output_type": "execute_result"
    }
   ],
   "source": [
    "id(b1)"
   ]
  },
  {
   "cell_type": "code",
   "execution_count": 21,
   "id": "33a6b526-2e94-4e53-a8de-d5fa62d0928b",
   "metadata": {},
   "outputs": [],
   "source": [
    "# String----> Combination or sequance of charector(like Text, letter, alphabate)"
   ]
  },
  {
   "cell_type": "code",
   "execution_count": 22,
   "id": "4fe45008-519a-4ced-b941-d803164690ad",
   "metadata": {},
   "outputs": [
    {
     "name": "stdout",
     "output_type": "stream",
     "text": [
      "Hello\n"
     ]
    }
   ],
   "source": [
    "mystring1 = 'Hello'\n",
    "print(mystring1)"
   ]
  },
  {
   "cell_type": "code",
   "execution_count": 23,
   "id": "35a3f68d-116e-4f94-9db6-e3a5cfb603a5",
   "metadata": {},
   "outputs": [],
   "source": [
    "mystring2 = 'Hello'"
   ]
  },
  {
   "cell_type": "code",
   "execution_count": 24,
   "id": "c77cea37-8fac-42d4-8054-2ff5251285e0",
   "metadata": {},
   "outputs": [
    {
     "name": "stdout",
     "output_type": "stream",
     "text": [
      "Hello\n"
     ]
    }
   ],
   "source": [
    "print(mystring2)"
   ]
  },
  {
   "cell_type": "code",
   "execution_count": 25,
   "id": "dfd81bb6-1176-46b7-be2e-0500d796b36d",
   "metadata": {},
   "outputs": [
    {
     "data": {
      "text/plain": [
       "int"
      ]
     },
     "execution_count": 25,
     "metadata": {},
     "output_type": "execute_result"
    }
   ],
   "source": [
    "var1  = 123\n",
    "type(var1)"
   ]
  },
  {
   "cell_type": "code",
   "execution_count": 26,
   "id": "062716b1-995d-4379-9983-762cff555772",
   "metadata": {},
   "outputs": [
    {
     "data": {
      "text/plain": [
       "str"
      ]
     },
     "execution_count": 26,
     "metadata": {},
     "output_type": "execute_result"
    }
   ],
   "source": [
    "var2 = '123'   # becuse we used cots ' ' here\n",
    "type(var2)     "
   ]
  },
  {
   "cell_type": "code",
   "execution_count": 29,
   "id": "f25173ab-66d6-4e6c-b401-386eb3ecfc55",
   "metadata": {},
   "outputs": [
    {
     "data": {
      "text/plain": [
       "5"
      ]
     },
     "execution_count": 29,
     "metadata": {},
     "output_type": "execute_result"
    }
   ],
   "source": [
    "# length of string\n",
    "string = \"Hello\"   # len function is aplicable for string only\n",
    "len(string)  # with the help of len function we count lenght"
   ]
  },
  {
   "cell_type": "code",
   "execution_count": 41,
   "id": "813f15fa-5c09-4897-a210-2a81191ba83b",
   "metadata": {},
   "outputs": [
    {
     "data": {
      "text/plain": [
       "10"
      ]
     },
     "execution_count": 41,
     "metadata": {},
     "output_type": "execute_result"
    }
   ],
   "source": [
    "c = 1,2,3,4,5,6,7,8,9,10\n",
    "len(c)"
   ]
  },
  {
   "cell_type": "code",
   "execution_count": 38,
   "id": "4ad7cfe6-9631-476f-b35c-240256110318",
   "metadata": {},
   "outputs": [
    {
     "data": {
      "text/plain": [
       "6"
      ]
     },
     "execution_count": 38,
     "metadata": {},
     "output_type": "execute_result"
    }
   ],
   "source": [
    "far = 'farmer'\n",
    "len(far)"
   ]
  },
  {
   "cell_type": "raw",
   "id": "1a25e777-ec4f-4000-8973-7703d25e9a15",
   "metadata": {},
   "source": [
    "# convering one format to other format is called typecsting"
   ]
  },
  {
   "cell_type": "code",
   "execution_count": 53,
   "id": "3babdf47-6af2-40cf-880b-a5f667a6aa4e",
   "metadata": {},
   "outputs": [
    {
     "name": "stdout",
     "output_type": "stream",
     "text": [
      "my number is : 23 and my name is:arshad\n"
     ]
    }
   ],
   "source": [
    "# f string ----> mean fill\n",
    "num =  23 \n",
    "name = \"arshad\"\n",
    "print(f\"my number is : {num} and my name is:{name}\")"
   ]
  },
  {
   "cell_type": "code",
   "execution_count": 52,
   "id": "3a066066-2af2-4bd1-aa5b-b460535497e7",
   "metadata": {},
   "outputs": [
    {
     "name": "stdout",
     "output_type": "stream",
     "text": [
      "my number is : 12 and my name is:sam\n"
     ]
    }
   ],
   "source": [
    "num = 12\n",
    "name = 'sam'\n",
    "print(f\"my number is : {num} and my name is:{name}\")\n"
   ]
  },
  {
   "cell_type": "markdown",
   "id": "5a849c5f-c8e8-4ec6-9f3e-aa77ccdd4824",
   "metadata": {},
   "source": [
    "### another way"
   ]
  },
  {
   "cell_type": "code",
   "execution_count": 54,
   "id": "f53ce720-d305-424a-8f0b-0eec3486f875",
   "metadata": {},
   "outputs": [
    {
     "data": {
      "text/plain": [
       "'my number is : 33 and my name is : laksh'"
      ]
     },
     "execution_count": 54,
     "metadata": {},
     "output_type": "execute_result"
    }
   ],
   "source": [
    "num = 33\n",
    "name = 'laksh'\n",
    "f\"my number is : {num} and my name is : {name}\""
   ]
  },
  {
   "cell_type": "markdown",
   "id": "e9f22fa1-3608-42d6-88d3-bc7e331184a0",
   "metadata": {},
   "source": [
    "### another way"
   ]
  },
  {
   "cell_type": "markdown",
   "id": "78ef07a7-18ee-4ada-a262-925271445d22",
   "metadata": {},
   "source": [
    "#### string concatenation----> joing two string in sigle varialbe is called string cncatenation"
   ]
  },
  {
   "cell_type": "code",
   "execution_count": 60,
   "id": "d54bf68d-77e4-4702-800c-8d856a3cafaa",
   "metadata": {},
   "outputs": [],
   "source": [
    "name1 = 'same'\n",
    "name2 = 'curan'\n",
    "name3 = name1+name2"
   ]
  },
  {
   "cell_type": "code",
   "execution_count": 61,
   "id": "31b2036b-e958-4095-9359-a2db09306cbc",
   "metadata": {},
   "outputs": [
    {
     "name": "stdout",
     "output_type": "stream",
     "text": [
      "samecuran\n"
     ]
    }
   ],
   "source": [
    "print(name3)"
   ]
  },
  {
   "cell_type": "code",
   "execution_count": 63,
   "id": "a57cf34c-b900-4295-ae20-32ebbb8eae8a",
   "metadata": {},
   "outputs": [
    {
     "name": "stdout",
     "output_type": "stream",
     "text": [
      "Arshad Khan\n"
     ]
    }
   ],
   "source": [
    "#if we want spaces\n",
    "name = \"Arshad\"\n",
    "surname = \"Khan\"\n",
    "fullname = name+\" \"+surname\n",
    "print(fullname)"
   ]
  },
  {
   "cell_type": "code",
   "execution_count": 68,
   "id": "a1afc9d9-be29-4c2b-b503-77ecff083be1",
   "metadata": {},
   "outputs": [],
   "source": [
    "work = \"python \"\n",
    "job  = \"devolaper\"\n",
    "location = work+' '+job"
   ]
  },
  {
   "cell_type": "code",
   "execution_count": 71,
   "id": "7c840d52-a428-4c95-b61d-9066ae11c6d0",
   "metadata": {},
   "outputs": [
    {
     "name": "stdout",
     "output_type": "stream",
     "text": [
      "python  devolaper\n"
     ]
    }
   ],
   "source": [
    "print(location)"
   ]
  },
  {
   "cell_type": "code",
   "execution_count": 72,
   "id": "7ac80e3e-be2b-48d2-8c81-6fe086aa73fa",
   "metadata": {},
   "outputs": [
    {
     "name": "stdout",
     "output_type": "stream",
     "text": [
      "data  analyst\n"
     ]
    }
   ],
   "source": [
    "work = \"data \"\n",
    "job  = \"analyst\"\n",
    "location = work+' '+job\n",
    "print(location)"
   ]
  },
  {
   "cell_type": "markdown",
   "id": "c318b3ef-105e-4be9-8532-b96881961ff9",
   "metadata": {},
   "source": [
    "#### typecasting---->converting one datatype to another is called type casting"
   ]
  },
  {
   "cell_type": "code",
   "execution_count": 95,
   "id": "0fab1768-8747-44d3-bd68-cdbb7a1ef509",
   "metadata": {},
   "outputs": [],
   "source": [
    "int = 24"
   ]
  },
  {
   "cell_type": "code",
   "execution_count": 96,
   "id": "db1a1c5a-3da8-4f37-85c4-0dc2838fbcd6",
   "metadata": {},
   "outputs": [
    {
     "data": {
      "text/plain": [
       "24"
      ]
     },
     "execution_count": 96,
     "metadata": {},
     "output_type": "execute_result"
    }
   ],
   "source": [
    "int "
   ]
  },
  {
   "cell_type": "code",
   "execution_count": 97,
   "id": "4addef12-94ef-47d4-9abb-33e107aac00e",
   "metadata": {},
   "outputs": [
    {
     "data": {
      "text/plain": [
       "24.0"
      ]
     },
     "execution_count": 97,
     "metadata": {},
     "output_type": "execute_result"
    }
   ],
   "source": [
    "float(24)"
   ]
  },
  {
   "cell_type": "code",
   "execution_count": 98,
   "id": "df8cdefe-4d5c-43e4-9ec3-5aba580f5d87",
   "metadata": {},
   "outputs": [
    {
     "data": {
      "text/plain": [
       "True"
      ]
     },
     "execution_count": 98,
     "metadata": {},
     "output_type": "execute_result"
    }
   ],
   "source": [
    "bool(24)"
   ]
  },
  {
   "cell_type": "code",
   "execution_count": 99,
   "id": "82d894d6-7c4b-4d26-aa56-bd4a3f1b5cfe",
   "metadata": {},
   "outputs": [
    {
     "data": {
      "text/plain": [
       "False"
      ]
     },
     "execution_count": 99,
     "metadata": {},
     "output_type": "execute_result"
    }
   ],
   "source": [
    "bool(0)  # zero consider as False in bool"
   ]
  },
  {
   "cell_type": "code",
   "execution_count": 100,
   "id": "cfe7ca65-1dbb-412e-ae6f-ec8c1f0f9257",
   "metadata": {},
   "outputs": [
    {
     "data": {
      "text/plain": [
       "True"
      ]
     },
     "execution_count": 100,
     "metadata": {},
     "output_type": "execute_result"
    }
   ],
   "source": [
    "bool(1)  # one is consider as a True in bool"
   ]
  },
  {
   "cell_type": "code",
   "execution_count": 101,
   "id": "97b9dee6-0a01-4eaf-8f2a-9e5f42e60f1e",
   "metadata": {},
   "outputs": [
    {
     "data": {
      "text/plain": [
       "'24'"
      ]
     },
     "execution_count": 101,
     "metadata": {},
     "output_type": "execute_result"
    }
   ],
   "source": [
    "str(24)"
   ]
  },
  {
   "cell_type": "code",
   "execution_count": 105,
   "id": "7afedbca-2a1e-4a3b-bd3b-64d9cb8efa59",
   "metadata": {},
   "outputs": [
    {
     "data": {
      "text/plain": [
       "1.0"
      ]
     },
     "execution_count": 105,
     "metadata": {},
     "output_type": "execute_result"
    }
   ],
   "source": [
    "float(True)"
   ]
  },
  {
   "cell_type": "code",
   "execution_count": 106,
   "id": "ebf935d9-6776-4d29-bfa8-32af4ce539a2",
   "metadata": {},
   "outputs": [
    {
     "data": {
      "text/plain": [
       "0.0"
      ]
     },
     "execution_count": 106,
     "metadata": {},
     "output_type": "execute_result"
    }
   ],
   "source": [
    "float(False)"
   ]
  },
  {
   "cell_type": "code",
   "execution_count": 107,
   "id": "a3c832f0-14ce-4977-8ff1-4ec5f66cb834",
   "metadata": {},
   "outputs": [
    {
     "data": {
      "text/plain": [
       "'True'"
      ]
     },
     "execution_count": 107,
     "metadata": {},
     "output_type": "execute_result"
    }
   ],
   "source": [
    "str(True)"
   ]
  },
  {
   "cell_type": "code",
   "execution_count": 109,
   "id": "26b6cc3e-d966-411d-953b-b19fd385adc6",
   "metadata": {},
   "outputs": [
    {
     "data": {
      "text/plain": [
       "'False'"
      ]
     },
     "execution_count": 109,
     "metadata": {},
     "output_type": "execute_result"
    }
   ],
   "source": [
    "str(False)"
   ]
  },
  {
   "cell_type": "raw",
   "id": "98b8cee9-f394-4129-ae1d-418d9106fad8",
   "metadata": {},
   "source": [
    "# String"
   ]
  },
  {
   "cell_type": "code",
   "execution_count": 111,
   "id": "fb1525f4-a8b3-4fa6-956c-e1ac1b367e4d",
   "metadata": {},
   "outputs": [
    {
     "data": {
      "text/plain": [
       "1.34"
      ]
     },
     "execution_count": 111,
     "metadata": {},
     "output_type": "execute_result"
    }
   ],
   "source": [
    "float('1.34')"
   ]
  },
  {
   "cell_type": "code",
   "execution_count": 112,
   "id": "c5fa05fe-80b3-4af7-8fe5-4925850d83cd",
   "metadata": {},
   "outputs": [
    {
     "data": {
      "text/plain": [
       "True"
      ]
     },
     "execution_count": 112,
     "metadata": {},
     "output_type": "execute_result"
    }
   ],
   "source": [
    "bool('123')"
   ]
  },
  {
   "cell_type": "code",
   "execution_count": null,
   "id": "7b10a98c-8647-4f2e-9054-e41513d0eecb",
   "metadata": {},
   "outputs": [],
   "source": []
  }
 ],
 "metadata": {
  "kernelspec": {
   "display_name": "Python 3 (ipykernel)",
   "language": "python",
   "name": "python3"
  },
  "language_info": {
   "codemirror_mode": {
    "name": "ipython",
    "version": 3
   },
   "file_extension": ".py",
   "mimetype": "text/x-python",
   "name": "python",
   "nbconvert_exporter": "python",
   "pygments_lexer": "ipython3",
   "version": "3.12.7"
  }
 },
 "nbformat": 4,
 "nbformat_minor": 5
}
