{
 "cells": [
  {
   "cell_type": "markdown",
   "id": "d51455b6-2fd7-43b2-a814-53c04771a852",
   "metadata": {},
   "source": [
    "# Operators :-"
   ]
  },
  {
   "cell_type": "raw",
   "id": "022ee9f7-de74-4290-8df5-ee6d129b3339",
   "metadata": {},
   "source": [
    "* They are some specail charecotor or reserve words used to perform various operations.\n",
    "1) Arthmetic operators\n",
    "2) Assignment operator\n",
    "3) Comparision (Relation) operator\n",
    "4) loogical (boolean)operators\n",
    "5) Membership operators\n",
    "6) Identity operator"
   ]
  },
  {
   "cell_type": "markdown",
   "id": "cbd90211-1fde-4eb4-a759-2b7960106093",
   "metadata": {},
   "source": [
    "### *  Arthmetic operators :-"
   ]
  },
  {
   "cell_type": "raw",
   "id": "d9bfe5f3-f7b6-4f81-ac77-0dd76ecaf84d",
   "metadata": {},
   "source": [
    ". Arthmetic operator are used to perform mathametical operation like,\n",
    "  additions, subtraction, multiplications etc.\n",
    " +, -, *, %, //, **, are aethemetic operators."
   ]
  },
  {
   "cell_type": "raw",
   "id": "d1587d41-db5f-4f2e-a783-c0121a193f32",
   "metadata": {},
   "source": [
    "Arthmetic operator precendence \\ order.\n",
    "-1st:- paranthesis\n",
    "-2nd:- exponent\n",
    "-3rd:- floor division\n",
    "-4th:- multiplication or division or modulas (left to right)\n",
    "-5th:- Addition & subtraction (left to right)"
   ]
  },
  {
   "cell_type": "code",
   "execution_count": 1,
   "id": "8140cb22-a523-47a2-b76c-216ec5ef3836",
   "metadata": {},
   "outputs": [
    {
     "data": {
      "text/plain": [
       "14"
      ]
     },
     "execution_count": 1,
     "metadata": {},
     "output_type": "execute_result"
    }
   ],
   "source": [
    "# Addition\n",
    "10+4"
   ]
  },
  {
   "cell_type": "code",
   "execution_count": 2,
   "id": "132310ec-213d-4fea-9ec7-42425dcf42d2",
   "metadata": {},
   "outputs": [
    {
     "data": {
      "text/plain": [
       "6"
      ]
     },
     "execution_count": 2,
     "metadata": {},
     "output_type": "execute_result"
    }
   ],
   "source": [
    "# subtraction\n",
    "10-4"
   ]
  },
  {
   "cell_type": "code",
   "execution_count": 3,
   "id": "1102da93-edc9-4a1e-9dbb-3bc2181a0f41",
   "metadata": {},
   "outputs": [
    {
     "data": {
      "text/plain": [
       "40"
      ]
     },
     "execution_count": 3,
     "metadata": {},
     "output_type": "execute_result"
    }
   ],
   "source": [
    "# Multiplication\n",
    "10*4"
   ]
  },
  {
   "cell_type": "code",
   "execution_count": 4,
   "id": "29d1f49d-55c3-40e4-98c0-f89d8ad96d85",
   "metadata": {},
   "outputs": [
    {
     "data": {
      "text/plain": [
       "12.5"
      ]
     },
     "execution_count": 4,
     "metadata": {},
     "output_type": "execute_result"
    }
   ],
   "source": [
    "# division\n",
    "100/8"
   ]
  },
  {
   "cell_type": "code",
   "execution_count": 5,
   "id": "8d66913f-ebb3-4c83-9b33-110020644091",
   "metadata": {},
   "outputs": [
    {
     "data": {
      "text/plain": [
       "12"
      ]
     },
     "execution_count": 5,
     "metadata": {},
     "output_type": "execute_result"
    }
   ],
   "source": [
    "#floor division   compute the qaintent\n",
    "100//8  "
   ]
  },
  {
   "cell_type": "code",
   "execution_count": 6,
   "id": "3959f59c-6a95-4312-acdc-ad503ba5a9a4",
   "metadata": {},
   "outputs": [
    {
     "data": {
      "text/plain": [
       "4"
      ]
     },
     "execution_count": 6,
     "metadata": {},
     "output_type": "execute_result"
    }
   ],
   "source": [
    "# Module\n",
    "100%8"
   ]
  },
  {
   "cell_type": "code",
   "execution_count": 7,
   "id": "6c68674c-cbf4-4557-9fa5-1ff8caf7472f",
   "metadata": {},
   "outputs": [
    {
     "data": {
      "text/plain": [
       "100"
      ]
     },
     "execution_count": 7,
     "metadata": {},
     "output_type": "execute_result"
    }
   ],
   "source": [
    "# exponent (power)\n",
    "10**2"
   ]
  },
  {
   "cell_type": "code",
   "execution_count": 8,
   "id": "0ca4411d-0195-4bf0-8a1b-82e58fd551df",
   "metadata": {},
   "outputs": [
    {
     "data": {
      "text/plain": [
       "17"
      ]
     },
     "execution_count": 8,
     "metadata": {},
     "output_type": "execute_result"
    }
   ],
   "source": [
    "# paranthesis (bracket)\n",
    "2+(3*5)"
   ]
  },
  {
   "cell_type": "code",
   "execution_count": 9,
   "id": "0583a81e-0850-45bf-8a2c-03c742f17a17",
   "metadata": {},
   "outputs": [
    {
     "data": {
      "text/plain": [
       "23.0"
      ]
     },
     "execution_count": 9,
     "metadata": {},
     "output_type": "execute_result"
    }
   ],
   "source": [
    "# Q:-\n",
    "5+2*9-4//6**2/9\n",
    "''' 5+2*9-4//6**2/9\n",
    "    5+2*9-4//36/9\n",
    "    5+2*9-0/9\n",
    "    5+18-0/9\n",
    "    5+18-0.0\n",
    "    23-0.0\n",
    "    23.0  '''"
   ]
  },
  {
   "cell_type": "code",
   "execution_count": 10,
   "id": "3dad145e-627f-4015-a1a9-4d95510cf294",
   "metadata": {},
   "outputs": [],
   "source": [
    "# when we use arthmetic ooperators the boolean values will be \n",
    "#  automatically converted to int."
   ]
  },
  {
   "cell_type": "code",
   "execution_count": 11,
   "id": "01455dfc-2e7c-4dbc-b660-a40331e57d23",
   "metadata": {},
   "outputs": [
    {
     "data": {
      "text/plain": [
       "2"
      ]
     },
     "execution_count": 11,
     "metadata": {},
     "output_type": "execute_result"
    }
   ],
   "source": [
    "True+True"
   ]
  },
  {
   "cell_type": "code",
   "execution_count": 12,
   "id": "ead31339-6461-4fc0-9d13-306b932de669",
   "metadata": {},
   "outputs": [
    {
     "data": {
      "text/plain": [
       "0.0"
      ]
     },
     "execution_count": 12,
     "metadata": {},
     "output_type": "execute_result"
    }
   ],
   "source": [
    "b = 3.9\n",
    "c = False\n",
    "b*c"
   ]
  },
  {
   "cell_type": "markdown",
   "id": "2ef69cdb-4a02-41b0-a9fe-3b8afcfacc8f",
   "metadata": {},
   "source": [
    "### * Assignment operators :-"
   ]
  },
  {
   "cell_type": "raw",
   "id": "ff82170d-6051-4ce3-a8a9-be7244a8602c",
   "metadata": {},
   "source": [
    ". Assignment operator are used in python to assign  value to variable.\n",
    ". (=, +=, *=, %=, //=, **=  are assignment operators.)\n",
    ". first right side part will be executed and then  value will be \n",
    "assighnment to the leftside variable."
   ]
  },
  {
   "cell_type": "code",
   "execution_count": 13,
   "id": "79311142-4ecf-4bee-ac84-5c2a7abda0bb",
   "metadata": {},
   "outputs": [
    {
     "name": "stdout",
     "output_type": "stream",
     "text": [
      "5\n"
     ]
    }
   ],
   "source": [
    "x = 5\n",
    "print(x)"
   ]
  },
  {
   "cell_type": "code",
   "execution_count": 14,
   "id": "a259e7d6-f279-40bc-8bb1-7e77382f7954",
   "metadata": {},
   "outputs": [
    {
     "name": "stdout",
     "output_type": "stream",
     "text": [
      "15\n"
     ]
    }
   ],
   "source": [
    "x = x + 10\n",
    "print(x)"
   ]
  },
  {
   "cell_type": "code",
   "execution_count": 23,
   "id": "33424b80-71e0-4792-9434-aaa6253ec0ef",
   "metadata": {},
   "outputs": [
    {
     "name": "stdout",
     "output_type": "stream",
     "text": [
      "15\n"
     ]
    }
   ],
   "source": [
    "x = 5\n",
    "x += 10\n",
    "print(x)"
   ]
  },
  {
   "cell_type": "code",
   "execution_count": 22,
   "id": "3f27aa13-4e0c-4193-bb04-65d92c40aa5f",
   "metadata": {},
   "outputs": [
    {
     "name": "stdout",
     "output_type": "stream",
     "text": [
      "50\n"
     ]
    }
   ],
   "source": [
    "x = 5\n",
    "x *=  10\n",
    "print(x)"
   ]
  },
  {
   "cell_type": "markdown",
   "id": "bacf7914-0e11-4756-97a6-f1e929998f64",
   "metadata": {},
   "source": [
    "### * Comparision / Relation operator :-"
   ]
  },
  {
   "cell_type": "raw",
   "id": "2eb3fd5b-2441-4753-a7ff-8c8f6800e4a9",
   "metadata": {},
   "source": [
    ". comparison operator are used to compare values.\n",
    ". it either return True or False according to the condition.\n",
    "( ==, !=, >, <, >=, <=, are comparison operator) "
   ]
  },
  {
   "cell_type": "code",
   "execution_count": 24,
   "id": "24c9bf52-e9bf-4654-a57e-955591c19a4f",
   "metadata": {},
   "outputs": [
    {
     "data": {
      "text/plain": [
       "True"
      ]
     },
     "execution_count": 24,
     "metadata": {},
     "output_type": "execute_result"
    }
   ],
   "source": [
    "5==5"
   ]
  },
  {
   "cell_type": "code",
   "execution_count": 25,
   "id": "5ab7bd0e-57b8-406d-84bf-c6c758be1c62",
   "metadata": {},
   "outputs": [
    {
     "data": {
      "text/plain": [
       "False"
      ]
     },
     "execution_count": 25,
     "metadata": {},
     "output_type": "execute_result"
    }
   ],
   "source": [
    "3 != 3"
   ]
  },
  {
   "cell_type": "code",
   "execution_count": 26,
   "id": "84b0b42b-8913-4b7c-8482-e22ede5fa4a3",
   "metadata": {},
   "outputs": [
    {
     "data": {
      "text/plain": [
       "True"
      ]
     },
     "execution_count": 26,
     "metadata": {},
     "output_type": "execute_result"
    }
   ],
   "source": [
    "5 > 3"
   ]
  },
  {
   "cell_type": "code",
   "execution_count": 27,
   "id": "3f212cf7-6ebd-4686-9cb1-d0c4d7dfc3f1",
   "metadata": {},
   "outputs": [
    {
     "data": {
      "text/plain": [
       "True"
      ]
     },
     "execution_count": 27,
     "metadata": {},
     "output_type": "execute_result"
    }
   ],
   "source": [
    "# gretor than equal to \n",
    "3 >= 3"
   ]
  },
  {
   "cell_type": "code",
   "execution_count": 28,
   "id": "3678135b-6956-477c-8a25-ec2653676cff",
   "metadata": {},
   "outputs": [
    {
     "data": {
      "text/plain": [
       "False"
      ]
     },
     "execution_count": 28,
     "metadata": {},
     "output_type": "execute_result"
    }
   ],
   "source": [
    "3 < 1"
   ]
  },
  {
   "cell_type": "code",
   "execution_count": 29,
   "id": "d55c15c2-548a-4d23-b89b-d260408c7d04",
   "metadata": {},
   "outputs": [
    {
     "data": {
      "text/plain": [
       "False"
      ]
     },
     "execution_count": 29,
     "metadata": {},
     "output_type": "execute_result"
    }
   ],
   "source": [
    "3 <= 1"
   ]
  },
  {
   "cell_type": "code",
   "execution_count": 30,
   "id": "b1821414-0e4d-4b02-be9a-4f9f645bd6bd",
   "metadata": {},
   "outputs": [
    {
     "data": {
      "text/plain": [
       "True"
      ]
     },
     "execution_count": 30,
     "metadata": {},
     "output_type": "execute_result"
    }
   ],
   "source": [
    "45 == 45.0000"
   ]
  },
  {
   "cell_type": "code",
   "execution_count": 31,
   "id": "d0869864-7e5e-4625-8ea3-1c627586ae75",
   "metadata": {},
   "outputs": [
    {
     "data": {
      "text/plain": [
       "False"
      ]
     },
     "execution_count": 31,
     "metadata": {},
     "output_type": "execute_result"
    }
   ],
   "source": [
    "'srk'=='SRK'"
   ]
  },
  {
   "cell_type": "code",
   "execution_count": 32,
   "id": "b8782295-4c60-449b-a932-30427c5b0614",
   "metadata": {},
   "outputs": [
    {
     "data": {
      "text/plain": [
       "True"
      ]
     },
     "execution_count": 32,
     "metadata": {},
     "output_type": "execute_result"
    }
   ],
   "source": [
    "'srk'=='srk'"
   ]
  },
  {
   "cell_type": "markdown",
   "id": "028f0dea-f9c6-4127-9211-90226336dfdf",
   "metadata": {},
   "source": [
    "### * Logical Operators / Boolean Operators"
   ]
  },
  {
   "cell_type": "raw",
   "id": "5496e24d-e1c7-4ee3-8c35-162a6ff466de",
   "metadata": {},
   "source": [
    ". Logical operator are used to cheack multiple condition at a time.\n",
    ". It return bool type onyl.\n",
    " (and, or, not, are logical operator)\n",
    ". When we have 'or' operator at least 1 condition shuold be True then only \n",
    "  overall output will be True.\n",
    ". when we have 'and'  operator all condition should be True Then only overall\n",
    " output will be Ture."
   ]
  },
  {
   "cell_type": "raw",
   "id": "3b0f6cd3-1d79-4b1c-a3b2-4793737ac016",
   "metadata": {},
   "source": [
    "  Logical Operators precedence/order.\n",
    ". logical Not\n",
    ". logical AND # both condition shuold be True\n",
    ". logical OR  # at least 1 condition shuold be True"
   ]
  },
  {
   "cell_type": "code",
   "execution_count": 33,
   "id": "1043fe30-587d-4601-8f1a-122054d5238b",
   "metadata": {},
   "outputs": [
    {
     "data": {
      "text/plain": [
       "False"
      ]
     },
     "execution_count": 33,
     "metadata": {},
     "output_type": "execute_result"
    }
   ],
   "source": [
    "5 > 3 and 2 > 3"
   ]
  },
  {
   "cell_type": "code",
   "execution_count": 34,
   "id": "0fcecac6-f66f-4bc0-9156-86c8ee38bd4b",
   "metadata": {},
   "outputs": [
    {
     "data": {
      "text/plain": [
       "True"
      ]
     },
     "execution_count": 34,
     "metadata": {},
     "output_type": "execute_result"
    }
   ],
   "source": [
    "5 > 3 or 5 < 3"
   ]
  },
  {
   "cell_type": "code",
   "execution_count": 35,
   "id": "9cdd8fac-3d31-4fbd-a310-162222137c74",
   "metadata": {},
   "outputs": [
    {
     "data": {
      "text/plain": [
       "True"
      ]
     },
     "execution_count": 35,
     "metadata": {},
     "output_type": "execute_result"
    }
   ],
   "source": [
    "not False"
   ]
  },
  {
   "cell_type": "code",
   "execution_count": 36,
   "id": "faec374d-1aaa-4f2d-8aea-c934617d98da",
   "metadata": {},
   "outputs": [
    {
     "data": {
      "text/plain": [
       "False"
      ]
     },
     "execution_count": 36,
     "metadata": {},
     "output_type": "execute_result"
    }
   ],
   "source": [
    "not True"
   ]
  },
  {
   "cell_type": "code",
   "execution_count": 37,
   "id": "da4d273a-ab40-4647-bbcc-b1798e194759",
   "metadata": {},
   "outputs": [
    {
     "data": {
      "text/plain": [
       "True"
      ]
     },
     "execution_count": 37,
     "metadata": {},
     "output_type": "execute_result"
    }
   ],
   "source": [
    "5 > 3 or 2 > 3 and 5 < 3"
   ]
  },
  {
   "cell_type": "code",
   "execution_count": 38,
   "id": "90a50268-2235-4f98-8975-f8906c68a0de",
   "metadata": {},
   "outputs": [
    {
     "data": {
      "text/plain": [
       "True"
      ]
     },
     "execution_count": 38,
     "metadata": {},
     "output_type": "execute_result"
    }
   ],
   "source": [
    "False or not (5<2) and True"
   ]
  },
  {
   "cell_type": "markdown",
   "id": "b7904fdd-2378-48d1-bc7d-31e7b006caa0",
   "metadata": {},
   "source": [
    "### * Identity Operator :-"
   ]
  },
  {
   "cell_type": "raw",
   "id": "a64ff860-d92c-45e6-8428-8dba8f79aa18",
   "metadata": {},
   "source": [
    ". identity operator are used to cheak if two value (or varaibles) are \n",
    " indicating to same object or not.\n",
    ". It return output as boolean.(True or False)\n",
    " (is, isnot, are the identity operator in python)\n",
    ". is operator(is-True if the operands are identical)\n",
    ". is not operator (is not-True if the operands are not identical)."
   ]
  },
  {
   "cell_type": "code",
   "execution_count": 39,
   "id": "787acdef-78ac-42af-8220-4c0de200bfc5",
   "metadata": {},
   "outputs": [
    {
     "name": "stdout",
     "output_type": "stream",
     "text": [
      "True\n"
     ]
    }
   ],
   "source": [
    "a = 5\n",
    "b = 5\n",
    "print(a is b)"
   ]
  },
  {
   "cell_type": "code",
   "execution_count": 40,
   "id": "302071a7-1158-4488-a86e-bcf48fb40f53",
   "metadata": {},
   "outputs": [
    {
     "name": "stdout",
     "output_type": "stream",
     "text": [
      "True\n"
     ]
    }
   ],
   "source": [
    "s1 = 'satish'\n",
    "s2 = 'satish'\n",
    "print(s1 is s2)"
   ]
  },
  {
   "cell_type": "code",
   "execution_count": 41,
   "id": "bc51a38b-1b30-4aff-98ab-f68947b22812",
   "metadata": {},
   "outputs": [
    {
     "name": "stdout",
     "output_type": "stream",
     "text": [
      "False\n"
     ]
    }
   ],
   "source": [
    "s1 = 'Satish'\n",
    "s2 = 'satish'\n",
    "print(s1 is s2)"
   ]
  },
  {
   "cell_type": "code",
   "execution_count": 42,
   "id": "48ede9d3-ef70-453b-b253-66a0b1e86308",
   "metadata": {},
   "outputs": [
    {
     "data": {
      "text/plain": [
       "True"
      ]
     },
     "execution_count": 42,
     "metadata": {},
     "output_type": "execute_result"
    }
   ],
   "source": [
    "a = 6\n",
    "b = 8\n",
    "a is not b"
   ]
  },
  {
   "cell_type": "code",
   "execution_count": 43,
   "id": "b7eed8ce-c052-4562-8208-640ff4aeb5ee",
   "metadata": {},
   "outputs": [
    {
     "data": {
      "text/plain": [
       "True"
      ]
     },
     "execution_count": 43,
     "metadata": {},
     "output_type": "execute_result"
    }
   ],
   "source": [
    "a = [1,2,3,4]\n",
    "b = a\n",
    "a is  b"
   ]
  },
  {
   "cell_type": "markdown",
   "id": "2fffc11c-2aa1-46eb-b8e8-f4b4e9da67b0",
   "metadata": {},
   "source": [
    "### * Memebership  Operator :-"
   ]
  },
  {
   "cell_type": "raw",
   "id": "59bb6715-bfe5-419f-89e2-64e02d164dfe",
   "metadata": {},
   "source": [
    ". membership operator are used to test wherher a value or varaible is found \n",
    " in a sequnce(string, list, tuple, set, and dict)\n",
    ". it return output as boolean.\n",
    ". in, are the membership operator."
   ]
  },
  {
   "cell_type": "code",
   "execution_count": 2,
   "id": "aa6fe9fe-e651-40cd-9e67-cb65bc674b21",
   "metadata": {},
   "outputs": [
    {
     "data": {
      "text/plain": [
       "True"
      ]
     },
     "execution_count": 2,
     "metadata": {},
     "output_type": "execute_result"
    }
   ],
   "source": [
    "a = 'vankatesh'\n",
    "'esh' in a "
   ]
  },
  {
   "cell_type": "code",
   "execution_count": 4,
   "id": "be14304c-bd78-49a1-8910-62869300cd35",
   "metadata": {},
   "outputs": [
    {
     "data": {
      "text/plain": [
       "True"
      ]
     },
     "execution_count": 4,
     "metadata": {},
     "output_type": "execute_result"
    }
   ],
   "source": [
    "b = 'ahmed khan'\n",
    "'han' in b"
   ]
  },
  {
   "cell_type": "code",
   "execution_count": 5,
   "id": "6b148657-3e70-4b93-bf47-fb525dbd670e",
   "metadata": {},
   "outputs": [
    {
     "data": {
      "text/plain": [
       "True"
      ]
     },
     "execution_count": 5,
     "metadata": {},
     "output_type": "execute_result"
    }
   ],
   "source": [
    "name = 'Arshad'\n",
    "'had' in name"
   ]
  },
  {
   "cell_type": "code",
   "execution_count": 6,
   "id": "dbf6235f-95b8-495c-98f5-da3631ef35dd",
   "metadata": {},
   "outputs": [
    {
     "data": {
      "text/plain": [
       "True"
      ]
     },
     "execution_count": 6,
     "metadata": {},
     "output_type": "execute_result"
    }
   ],
   "source": [
    "name  = 'dhoni'\n",
    "'hon' in name"
   ]
  },
  {
   "cell_type": "code",
   "execution_count": 7,
   "id": "180703f1-9f94-4b9f-8189-89a906a3fc1d",
   "metadata": {},
   "outputs": [
    {
     "data": {
      "text/plain": [
       "False"
      ]
     },
     "execution_count": 7,
     "metadata": {},
     "output_type": "execute_result"
    }
   ],
   "source": [
    "'a' in name"
   ]
  },
  {
   "cell_type": "code",
   "execution_count": 8,
   "id": "a921bbff-6876-47bd-b942-f09e0707b716",
   "metadata": {},
   "outputs": [
    {
     "data": {
      "text/plain": [
       "True"
      ]
     },
     "execution_count": 8,
     "metadata": {},
     "output_type": "execute_result"
    }
   ],
   "source": [
    "'d' in name"
   ]
  },
  {
   "cell_type": "code",
   "execution_count": 13,
   "id": "76ef9e23-d58e-4795-a84f-78ebf73318cc",
   "metadata": {},
   "outputs": [
    {
     "data": {
      "text/plain": [
       "False"
      ]
     },
     "execution_count": 13,
     "metadata": {},
     "output_type": "execute_result"
    }
   ],
   "source": [
    "lst = [1,2,3,4,[2,3]]\n",
    "5 in lst"
   ]
  },
  {
   "cell_type": "code",
   "execution_count": 14,
   "id": "32445fa4-1c10-49d4-98d7-10f24c18c011",
   "metadata": {},
   "outputs": [
    {
     "data": {
      "text/plain": [
       "(2, True)"
      ]
     },
     "execution_count": 14,
     "metadata": {},
     "output_type": "execute_result"
    }
   ],
   "source": [
    "2,3 in lst"
   ]
  },
  {
   "cell_type": "code",
   "execution_count": 15,
   "id": "fdb39ff2-f3be-4c1f-9a39-86d573f0ff23",
   "metadata": {},
   "outputs": [
    {
     "data": {
      "text/plain": [
       "True"
      ]
     },
     "execution_count": 15,
     "metadata": {},
     "output_type": "execute_result"
    }
   ],
   "source": [
    "4 in lst"
   ]
  },
  {
   "cell_type": "code",
   "execution_count": 16,
   "id": "bc69ab27-b18b-4c80-9c1e-58424b3ad433",
   "metadata": {},
   "outputs": [
    {
     "data": {
      "text/plain": [
       "True"
      ]
     },
     "execution_count": 16,
     "metadata": {},
     "output_type": "execute_result"
    }
   ],
   "source": [
    "[2,3] in lst"
   ]
  },
  {
   "cell_type": "markdown",
   "id": "2429a156-fe8a-4c1e-8d56-3b3481f4ac7d",
   "metadata": {},
   "source": [
    "### not in "
   ]
  },
  {
   "cell_type": "code",
   "execution_count": 18,
   "id": "ed6b9270-d62e-422d-be8e-a92f49c5e97c",
   "metadata": {},
   "outputs": [
    {
     "data": {
      "text/plain": [
       "True"
      ]
     },
     "execution_count": 18,
     "metadata": {},
     "output_type": "execute_result"
    }
   ],
   "source": [
    "a = [1,2,3,4,5,6]\n",
    "9 not in a"
   ]
  },
  {
   "cell_type": "code",
   "execution_count": 19,
   "id": "341bba87-9fe8-4434-b2ff-20062e45040d",
   "metadata": {},
   "outputs": [
    {
     "data": {
      "text/plain": [
       "False"
      ]
     },
     "execution_count": 19,
     "metadata": {},
     "output_type": "execute_result"
    }
   ],
   "source": [
    "name = 'Arshad khan'\n",
    "'khan' not in name"
   ]
  },
  {
   "cell_type": "code",
   "execution_count": 20,
   "id": "ba03c65f-395b-4d1e-86f5-2dcde8413600",
   "metadata": {},
   "outputs": [
    {
     "data": {
      "text/plain": [
       "True"
      ]
     },
     "execution_count": 20,
     "metadata": {},
     "output_type": "execute_result"
    }
   ],
   "source": [
    "'pan' not in name"
   ]
  },
  {
   "cell_type": "code",
   "execution_count": 21,
   "id": "25f32569-8da7-4647-a156-f86488f0ff96",
   "metadata": {},
   "outputs": [],
   "source": [
    "# Only arthematic operator return with value.\n",
    "# reming all operator return boolean value."
   ]
  },
  {
   "cell_type": "code",
   "execution_count": 22,
   "id": "acb0eb94-490c-40f8-b732-e4200388adc9",
   "metadata": {},
   "outputs": [],
   "source": [
    "b = (1 > 2) or (3 >= 3) and (5 < 4)"
   ]
  },
  {
   "cell_type": "code",
   "execution_count": null,
   "id": "9d0714c7-1bac-4117-ba72-66814cf0962c",
   "metadata": {},
   "outputs": [],
   "source": [
    "print(b)"
   ]
  }
 ],
 "metadata": {
  "kernelspec": {
   "display_name": "Python 3 (ipykernel)",
   "language": "python",
   "name": "python3"
  },
  "language_info": {
   "codemirror_mode": {
    "name": "ipython",
    "version": 3
   },
   "file_extension": ".py",
   "mimetype": "text/x-python",
   "name": "python",
   "nbconvert_exporter": "python",
   "pygments_lexer": "ipython3",
   "version": "3.12.7"
  }
 },
 "nbformat": 4,
 "nbformat_minor": 5
}
