{
 "cells": [
  {
   "cell_type": "markdown",
   "id": "d26f1aa1-8159-42d9-ba97-fda130d3fc21",
   "metadata": {},
   "source": [
    "# String Methode :-"
   ]
  },
  {
   "cell_type": "markdown",
   "id": "5dfdcfa1-cfd7-4288-bc5a-e8e83c73a335",
   "metadata": {},
   "source": [
    "### * Str.upper():-"
   ]
  },
  {
   "cell_type": "markdown",
   "id": "813f7258-ece0-433e-86de-dafad795f039",
   "metadata": {},
   "source": [
    ". Return a copy of string with all charector in uppercase."
   ]
  },
  {
   "cell_type": "markdown",
   "id": "360ba749-8772-4d2d-ab90-c5d49756c362",
   "metadata": {},
   "source": [
    ". Small letter become capital and special charector will remain same."
   ]
  },
  {
   "cell_type": "code",
   "execution_count": 1,
   "id": "be2467c2-497c-40c0-8165-cd27f64d7382",
   "metadata": {},
   "outputs": [
    {
     "data": {
      "text/plain": [
       "'TRUE....123'"
      ]
     },
     "execution_count": 1,
     "metadata": {},
     "output_type": "execute_result"
    }
   ],
   "source": [
    "s = 'True....123'\n",
    "s.upper()"
   ]
  },
  {
   "cell_type": "code",
   "execution_count": 3,
   "id": "ddd02900-7162-4765-bec9-92ea770d6f78",
   "metadata": {},
   "outputs": [
    {
     "data": {
      "text/plain": [
       "'ARSHAD KHAN'"
      ]
     },
     "execution_count": 3,
     "metadata": {},
     "output_type": "execute_result"
    }
   ],
   "source": [
    "name = 'arshad khan'\n",
    "name.upper()"
   ]
  },
  {
   "cell_type": "markdown",
   "id": "4b1be3fe-4a5e-4593-8103-4be7a1d306bd",
   "metadata": {},
   "source": [
    "### * str.lower():-"
   ]
  },
  {
   "cell_type": "markdown",
   "id": "eaa7d43f-3258-4bf5-a968-abf22c532ad7",
   "metadata": {},
   "source": [
    ". return a copy of string with all charector in lowercase."
   ]
  },
  {
   "cell_type": "code",
   "execution_count": 5,
   "id": "8c28dd71-a4e1-41ea-aee6-3edca2070e04",
   "metadata": {},
   "outputs": [
    {
     "data": {
      "text/plain": [
       "'hello world'"
      ]
     },
     "execution_count": 5,
     "metadata": {},
     "output_type": "execute_result"
    }
   ],
   "source": [
    "S = 'HELLO WORLD'\n",
    "S.lower()"
   ]
  },
  {
   "cell_type": "markdown",
   "id": "d0c31bc0-fa51-4d4c-9df3-65926c6985aa",
   "metadata": {},
   "source": [
    "name  = 'ArShaD world'\n",
    "name.lower()"
   ]
  },
  {
   "cell_type": "code",
   "execution_count": 6,
   "id": "a5d5780d-14b6-47f3-8116-6f355111db68",
   "metadata": {},
   "outputs": [
    {
     "data": {
      "text/plain": [
       "'arshad world'"
      ]
     },
     "execution_count": 6,
     "metadata": {},
     "output_type": "execute_result"
    }
   ],
   "source": [
    "name = 'ArShaD WoRld'\n",
    "name.lower()"
   ]
  },
  {
   "cell_type": "markdown",
   "id": "0a773d32-f29c-4fa5-ae29-140b9b45154a",
   "metadata": {},
   "source": [
    "### * Str.swapcase():-"
   ]
  },
  {
   "cell_type": "raw",
   "id": "b45b6d99-0987-491d-b734-6327ce683421",
   "metadata": {},
   "source": [
    ". return a copy of string with all uppercase charector converted to \n",
    "  lower case and viceversa(and lower case will converted to uppercase.)"
   ]
  },
  {
   "cell_type": "code",
   "execution_count": 9,
   "id": "a3de620d-0843-43a1-bb76-fa83d538424c",
   "metadata": {},
   "outputs": [
    {
     "data": {
      "text/plain": [
       "'hEllO 2 wORlD'"
      ]
     },
     "execution_count": 9,
     "metadata": {},
     "output_type": "execute_result"
    }
   ],
   "source": [
    "s = 'HeLLo 2 WorLd'\n",
    "s.swapcase()"
   ]
  },
  {
   "cell_type": "code",
   "execution_count": 10,
   "id": "12989679-242b-403e-83a4-7d3225da9da8",
   "metadata": {},
   "outputs": [
    {
     "data": {
      "text/plain": [
       "'Arshad Khan'"
      ]
     },
     "execution_count": 10,
     "metadata": {},
     "output_type": "execute_result"
    }
   ],
   "source": [
    "name  = 'aRSHAD kHAN'\n",
    "name.swapcase()"
   ]
  },
  {
   "cell_type": "code",
   "execution_count": 11,
   "id": "b30a993f-1c79-48be-86bd-2af00f501841",
   "metadata": {},
   "outputs": [
    {
     "data": {
      "text/plain": [
       "'arshad KHAN'"
      ]
     },
     "execution_count": 11,
     "metadata": {},
     "output_type": "execute_result"
    }
   ],
   "source": [
    "name = 'ARSHAD khan'\n",
    "name.swapcase()"
   ]
  },
  {
   "cell_type": "markdown",
   "id": "a8a94d88-fa84-4828-a59d-698b7eec6681",
   "metadata": {},
   "source": [
    "### * str.capitalize():-"
   ]
  },
  {
   "cell_type": "raw",
   "id": "0bfc8c67-3c72-428e-8781-9fb143c6853b",
   "metadata": {},
   "source": [
    ". return a copy of string first letter capital and remaing all to lowercase.\n",
    " (only first letter will be capital remiang will be small)"
   ]
  },
  {
   "cell_type": "code",
   "execution_count": 13,
   "id": "e3bea466-b81a-4845-8e11-5eaf251a6177",
   "metadata": {},
   "outputs": [
    {
     "data": {
      "text/plain": [
       "'Hello world'"
      ]
     },
     "execution_count": 13,
     "metadata": {},
     "output_type": "execute_result"
    }
   ],
   "source": [
    "s = 'hello world'\n",
    "s.capitalize()\n"
   ]
  },
  {
   "cell_type": "code",
   "execution_count": 14,
   "id": "3c347654-9045-4732-a8f5-8eca74692327",
   "metadata": {},
   "outputs": [
    {
     "data": {
      "text/plain": [
       "'1hello world'"
      ]
     },
     "execution_count": 14,
     "metadata": {},
     "output_type": "execute_result"
    }
   ],
   "source": [
    "s = '1hello world'\n",
    "s.capitalize()"
   ]
  },
  {
   "cell_type": "markdown",
   "id": "0b4e7045-181a-41bb-b739-bb1d92d7226f",
   "metadata": {},
   "source": [
    "### * str.title():-"
   ]
  },
  {
   "cell_type": "markdown",
   "id": "f2785942-6334-422b-b9bc-24593292917c",
   "metadata": {},
   "source": [
    ". return a copy of string with first letter in each word capitalized."
   ]
  },
  {
   "cell_type": "code",
   "execution_count": 16,
   "id": "61552651-34ae-46bc-a55a-245a1431b7be",
   "metadata": {},
   "outputs": [
    {
     "data": {
      "text/plain": [
       "'Good Morning'"
      ]
     },
     "execution_count": 16,
     "metadata": {},
     "output_type": "execute_result"
    }
   ],
   "source": [
    "s = 'gooD MoRniNg'\n",
    "s.title()"
   ]
  },
  {
   "cell_type": "code",
   "execution_count": 17,
   "id": "d74e48b4-65c6-4940-ba4c-2c6e0f576af8",
   "metadata": {},
   "outputs": [
    {
     "data": {
      "text/plain": [
       "'Arshad Khan'"
      ]
     },
     "execution_count": 17,
     "metadata": {},
     "output_type": "execute_result"
    }
   ],
   "source": [
    "name  = 'arSHad kHaN'\n",
    "name.title()"
   ]
  },
  {
   "cell_type": "markdown",
   "id": "f7168ed7-b7d7-4c87-9488-bb3bcfb4231b",
   "metadata": {},
   "source": [
    "### * str.strip():-"
   ]
  },
  {
   "cell_type": "markdown",
   "id": "af67e075-f978-48bf-91a6-270b78495a8b",
   "metadata": {},
   "source": [
    ". return a copy of the string with leading and trailing whitespace removed.\n",
    " (it will remove the first and last letter spaces)."
   ]
  },
  {
   "cell_type": "code",
   "execution_count": 19,
   "id": "0f5ab903-bf67-4fe9-8738-bb666fdb89db",
   "metadata": {},
   "outputs": [
    {
     "data": {
      "text/plain": [
       "'python is easy'"
      ]
     },
     "execution_count": 19,
     "metadata": {},
     "output_type": "execute_result"
    }
   ],
   "source": [
    "s = ' python is easy '\n",
    "s.strip()"
   ]
  },
  {
   "cell_type": "code",
   "execution_count": 20,
   "id": "55c4b4f3-0822-4357-855d-9cb6ef52d230",
   "metadata": {},
   "outputs": [
    {
     "data": {
      "text/plain": [
       "'  python is easy '"
      ]
     },
     "execution_count": 20,
     "metadata": {},
     "output_type": "execute_result"
    }
   ],
   "source": [
    "# in normal \n",
    "s = '  python is easy '\n",
    "s"
   ]
  },
  {
   "cell_type": "code",
   "execution_count": 21,
   "id": "12bfd675-2db5-4550-aec5-6d0ec910b100",
   "metadata": {},
   "outputs": [
    {
     "data": {
      "text/plain": [
       "'Arshad khan'"
      ]
     },
     "execution_count": 21,
     "metadata": {},
     "output_type": "execute_result"
    }
   ],
   "source": [
    "name = '  Arshad khan  '\n",
    "name.strip()"
   ]
  },
  {
   "cell_type": "markdown",
   "id": "c828b748-0a69-41ba-8f5e-fd96f2c50252",
   "metadata": {},
   "source": [
    "### * Str.lstrip():-"
   ]
  },
  {
   "cell_type": "raw",
   "id": "ca907b0d-f6ff-4d51-9c98-a383310ad872",
   "metadata": {},
   "source": [
    ". return a copy of the string with leading whitespace removed.\n",
    " (it will remove right side space and left side will be same )"
   ]
  },
  {
   "cell_type": "code",
   "execution_count": 25,
   "id": "40852885-f347-42f4-9181-d364517a54cc",
   "metadata": {},
   "outputs": [
    {
     "data": {
      "text/plain": [
       "'aman  '"
      ]
     },
     "execution_count": 25,
     "metadata": {},
     "output_type": "execute_result"
    }
   ],
   "source": [
    "s = '  aman  '\n",
    "s.lstrip()"
   ]
  },
  {
   "cell_type": "code",
   "execution_count": 26,
   "id": "c8824be3-caaf-43c8-978e-5807b6c15420",
   "metadata": {},
   "outputs": [
    {
     "data": {
      "text/plain": [
       "'farmer  '"
      ]
     },
     "execution_count": 26,
     "metadata": {},
     "output_type": "execute_result"
    }
   ],
   "source": [
    "work  = '  farmer  '\n",
    "work.lstrip()"
   ]
  },
  {
   "cell_type": "markdown",
   "id": "a260d14c-f977-4fa5-bac5-838eaf085a62",
   "metadata": {},
   "source": [
    "### * str.rstrip():-"
   ]
  },
  {
   "cell_type": "raw",
   "id": "708aae99-a6f0-406a-ba83-5464f399cb6b",
   "metadata": {},
   "source": [
    ". return a copy of string with traling whitespace remove.\n",
    " (it will remove left side space and right side would be same)"
   ]
  },
  {
   "cell_type": "code",
   "execution_count": 28,
   "id": "f59030c5-4c8b-46ee-a75c-320e96d82b4f",
   "metadata": {},
   "outputs": [
    {
     "data": {
      "text/plain": [
       "'  python'"
      ]
     },
     "execution_count": 28,
     "metadata": {},
     "output_type": "execute_result"
    }
   ],
   "source": [
    "s = '  python  '\n",
    "s.rstrip()"
   ]
  },
  {
   "cell_type": "markdown",
   "id": "f2fba1cd-c59d-4ba0-a0ba-ffc5d30e1e20",
   "metadata": {},
   "source": [
    "### * replace():-"
   ]
  },
  {
   "cell_type": "markdown",
   "id": "3c30fc8b-a85c-4313-9f49-0fd2e01551b7",
   "metadata": {},
   "source": [
    ". return a copy of the string with all occurance of the specified substring\n",
    "   replace with another substring."
   ]
  },
  {
   "cell_type": "code",
   "execution_count": 29,
   "id": "a9144726-808b-4dae-93c5-373cb30c18ce",
   "metadata": {},
   "outputs": [],
   "source": [
    "# Q :- can string be replaced ?\n",
    "# ans:- yes by creating a new object. Otherwiese string are immutable."
   ]
  },
  {
   "cell_type": "code",
   "execution_count": 30,
   "id": "056e07e0-ee5a-4683-91c1-09b785b948b8",
   "metadata": {},
   "outputs": [
    {
     "name": "stdout",
     "output_type": "stream",
     "text": [
      "Good Morning\n"
     ]
    }
   ],
   "source": [
    "s = 'Good Morning'\n",
    "print(s)"
   ]
  },
  {
   "cell_type": "code",
   "execution_count": 37,
   "id": "f4898e98-978d-4ec1-8f15-611faec1d21b",
   "metadata": {},
   "outputs": [],
   "source": [
    "s = s.replace('Good ', ' bad ')\n",
    "# i replaced good to bad"
   ]
  },
  {
   "cell_type": "code",
   "execution_count": 38,
   "id": "c05d9183-7bed-4429-856a-226dc484e287",
   "metadata": {},
   "outputs": [
    {
     "data": {
      "text/plain": [
       "'badMorning'"
      ]
     },
     "execution_count": 38,
     "metadata": {},
     "output_type": "execute_result"
    }
   ],
   "source": [
    "s "
   ]
  },
  {
   "cell_type": "markdown",
   "id": "d17ebd63-27ff-42bf-9ed7-60c47735a8f7",
   "metadata": {},
   "source": [
    "### * str.split():-"
   ]
  },
  {
   "cell_type": "raw",
   "id": "5f21c19a-5279-4e77-b597-afa985cddf5d",
   "metadata": {},
   "source": [
    ". splits the string into a list of substring based on the specified delimiter.\n",
    ". if no delimeter is specified then whitespaces is selected as default delimeter.\n",
    " (whatever the space is it will splite them into a seprete part)"
   ]
  },
  {
   "cell_type": "code",
   "execution_count": 41,
   "id": "46c44522-43d0-4811-bbce-fcf51f3bca08",
   "metadata": {},
   "outputs": [
    {
     "data": {
      "text/plain": [
       "['my', 'siva', 'name', 'is', '', 'srk']"
      ]
     },
     "execution_count": 41,
     "metadata": {},
     "output_type": "execute_result"
    }
   ],
   "source": [
    "st = 'my siva name is  srk'\n",
    "st.split(' ')"
   ]
  },
  {
   "cell_type": "code",
   "execution_count": 42,
   "id": "b6799d8a-11c9-40ae-8070-a0eea915b6c3",
   "metadata": {},
   "outputs": [],
   "source": [
    "# it will store in list."
   ]
  },
  {
   "cell_type": "code",
   "execution_count": 43,
   "id": "5c543c06-4c0a-4662-a221-94ac50a679cc",
   "metadata": {},
   "outputs": [
    {
     "data": {
      "text/plain": [
       "['my siva ', ' is  srk']"
      ]
     },
     "execution_count": 43,
     "metadata": {},
     "output_type": "execute_result"
    }
   ],
   "source": [
    "st.split('name')"
   ]
  },
  {
   "cell_type": "code",
   "execution_count": 47,
   "id": "9eb03f63-2b1a-4ddb-a471-eff411eb43fe",
   "metadata": {},
   "outputs": [
    {
     "data": {
      "text/plain": [
       "['my ', ' name is srk']"
      ]
     },
     "execution_count": 47,
     "metadata": {},
     "output_type": "execute_result"
    }
   ],
   "source": [
    "st = 'my siva name is srk'\n",
    "st.split('siva')"
   ]
  },
  {
   "cell_type": "code",
   "execution_count": 46,
   "id": "c2552d52-3719-4cf6-9677-06361318a0e5",
   "metadata": {},
   "outputs": [
    {
     "data": {
      "text/plain": [
       "['my', 'siva', 'name', 'is', 'srk']"
      ]
     },
     "execution_count": 46,
     "metadata": {},
     "output_type": "execute_result"
    }
   ],
   "source": [
    "st.split(' ')"
   ]
  },
  {
   "cell_type": "markdown",
   "id": "a9f57b7b-9726-4f3d-b570-36bfa19ca7ad",
   "metadata": {},
   "source": [
    "### * Str.join():-"
   ]
  },
  {
   "cell_type": "markdown",
   "id": "49d67eb8-62ae-4ba9-b378-838d302ea673",
   "metadata": {},
   "source": [
    ". join a list of string into a single string using a specifid delimeter."
   ]
  },
  {
   "cell_type": "code",
   "execution_count": 48,
   "id": "65ca48ac-7d87-4094-a415-2219951fa0f0",
   "metadata": {},
   "outputs": [
    {
     "data": {
      "text/plain": [
       "('siva', 'rama', 'krishna')"
      ]
     },
     "execution_count": 48,
     "metadata": {},
     "output_type": "execute_result"
    }
   ],
   "source": [
    "s1,s2,s3 = 'siva', 'rama', 'krishna'\n",
    "s1,s2,s3"
   ]
  },
  {
   "cell_type": "code",
   "execution_count": 49,
   "id": "ce90560e-eb94-488f-963d-2f52be08c210",
   "metadata": {},
   "outputs": [
    {
     "data": {
      "text/plain": [
       "'siva rama krishna'"
      ]
     },
     "execution_count": 49,
     "metadata": {},
     "output_type": "execute_result"
    }
   ],
   "source": [
    "\" \".join([s1,s2,s3])"
   ]
  },
  {
   "cell_type": "code",
   "execution_count": 50,
   "id": "5b57e7f9-8afc-4490-b3f1-5cbf399f22ca",
   "metadata": {},
   "outputs": [
    {
     "data": {
      "text/plain": [
       "'siva::rama::krishna'"
      ]
     },
     "execution_count": 50,
     "metadata": {},
     "output_type": "execute_result"
    }
   ],
   "source": [
    "s1,s2,s3 = 'siva', 'rama', 'krishna'\n",
    "s1+'::'+s2+'::'+s3"
   ]
  },
  {
   "cell_type": "code",
   "execution_count": 51,
   "id": "6412b425-85e4-42a8-b3ba-ad02458d9eff",
   "metadata": {},
   "outputs": [
    {
     "data": {
      "text/plain": [
       "'siva::rama::krishna'"
      ]
     },
     "execution_count": 51,
     "metadata": {},
     "output_type": "execute_result"
    }
   ],
   "source": [
    "'::'.join([s1,s2,s3])"
   ]
  },
  {
   "cell_type": "markdown",
   "id": "77055c1e-bf10-4719-ab69-341484ff5894",
   "metadata": {},
   "source": [
    "### str.index():-"
   ]
  },
  {
   "cell_type": "markdown",
   "id": "1a53cd83-e673-461e-8f56-9292c22aa91e",
   "metadata": {},
   "source": [
    ". return the index of the first occurance of the string serched for.\n",
    "  (raise value errore is not found)"
   ]
  },
  {
   "cell_type": "code",
   "execution_count": 52,
   "id": "bbb41090-f51c-4b84-a56d-6f612138f79d",
   "metadata": {},
   "outputs": [
    {
     "data": {
      "text/plain": [
       "7"
      ]
     },
     "execution_count": 52,
     "metadata": {},
     "output_type": "execute_result"
    }
   ],
   "source": [
    "s = 'python is very very easy'\n",
    "s.index('is') # it will found the index number."
   ]
  },
  {
   "cell_type": "code",
   "execution_count": 53,
   "id": "dd6d1ef7-a7ea-4dfb-9022-5a3eba2fa358",
   "metadata": {},
   "outputs": [
    {
     "data": {
      "text/plain": [
       "10"
      ]
     },
     "execution_count": 53,
     "metadata": {},
     "output_type": "execute_result"
    }
   ],
   "source": [
    "s.index('very')"
   ]
  },
  {
   "cell_type": "code",
   "execution_count": 54,
   "id": "be5d16ac-5e20-4b4d-b829-933a27cdaf5f",
   "metadata": {},
   "outputs": [
    {
     "ename": "ValueError",
     "evalue": "substring not found",
     "output_type": "error",
     "traceback": [
      "\u001b[1;31m---------------------------------------------------------------------------\u001b[0m",
      "\u001b[1;31mValueError\u001b[0m                                Traceback (most recent call last)",
      "Cell \u001b[1;32mIn[54], line 1\u001b[0m\n\u001b[1;32m----> 1\u001b[0m s\u001b[38;5;241m.\u001b[39mindex(\u001b[38;5;124m'\u001b[39m\u001b[38;5;124msrk\u001b[39m\u001b[38;5;124m'\u001b[39m)\n",
      "\u001b[1;31mValueError\u001b[0m: substring not found"
     ]
    }
   ],
   "source": [
    "s.index('srk')\n",
    "# if there is no string found it will show errore"
   ]
  },
  {
   "cell_type": "markdown",
   "id": "c1e8b300-00ba-4c54-9f54-14c25fb6c006",
   "metadata": {},
   "source": [
    "### * Str.find():-"
   ]
  },
  {
   "cell_type": "raw",
   "id": "e70ee9e6-bf10-4036-8555-733821d8deeb",
   "metadata": {},
   "source": [
    ". return the index of the first occurance of the substring in a string.\n",
    ". return -1 if the substring is not found."
   ]
  },
  {
   "cell_type": "code",
   "execution_count": 56,
   "id": "41c8ace0-c3f1-41c2-aae4-f659f24d51a9",
   "metadata": {},
   "outputs": [
    {
     "data": {
      "text/plain": [
       "10"
      ]
     },
     "execution_count": 56,
     "metadata": {},
     "output_type": "execute_result"
    }
   ],
   "source": [
    "s  = 'python is very easy langauge'\n",
    "s.find('very')"
   ]
  },
  {
   "cell_type": "code",
   "execution_count": 57,
   "id": "3472ab75-5715-46be-9821-b8754ba7a2f4",
   "metadata": {},
   "outputs": [
    {
     "data": {
      "text/plain": [
       "0"
      ]
     },
     "execution_count": 57,
     "metadata": {},
     "output_type": "execute_result"
    }
   ],
   "source": [
    "s.find('python')"
   ]
  },
  {
   "cell_type": "code",
   "execution_count": 58,
   "id": "5a4190e0-a881-475c-9232-f46c8d3db624",
   "metadata": {},
   "outputs": [
    {
     "data": {
      "text/plain": [
       "-1"
      ]
     },
     "execution_count": 58,
     "metadata": {},
     "output_type": "execute_result"
    }
   ],
   "source": [
    "s.find('srk')\n",
    "# if string is not found it will show -1."
   ]
  },
  {
   "cell_type": "markdown",
   "id": "af81c9fa-647a-4990-b975-0583a19628f9",
   "metadata": {},
   "source": [
    "### * Str.count():-"
   ]
  },
  {
   "cell_type": "raw",
   "id": "7e65e6a9-9ad9-46e5-b165-fd9a936da527",
   "metadata": {},
   "source": [
    ". return the number of no-overlaping occurance of a substring  in the search string.\n",
    "  (it will see howmany times letter have repeted)."
   ]
  },
  {
   "cell_type": "code",
   "execution_count": 59,
   "id": "e6bf27ed-c811-42c6-8b98-722eaa0eea01",
   "metadata": {},
   "outputs": [
    {
     "data": {
      "text/plain": [
       "3"
      ]
     },
     "execution_count": 59,
     "metadata": {},
     "output_type": "execute_result"
    }
   ],
   "source": [
    "s ='Good Morning'\n",
    "s.count('o')"
   ]
  },
  {
   "cell_type": "code",
   "execution_count": 60,
   "id": "ec521708-7909-4119-b697-7c969d8972d9",
   "metadata": {},
   "outputs": [
    {
     "data": {
      "text/plain": [
       "2"
      ]
     },
     "execution_count": 60,
     "metadata": {},
     "output_type": "execute_result"
    }
   ],
   "source": [
    "s.count('n')"
   ]
  },
  {
   "cell_type": "code",
   "execution_count": 61,
   "id": "7533341b-f3af-4284-9025-88a8e97f6de9",
   "metadata": {},
   "outputs": [
    {
     "data": {
      "text/plain": [
       "1"
      ]
     },
     "execution_count": 61,
     "metadata": {},
     "output_type": "execute_result"
    }
   ],
   "source": [
    "s.count('g')"
   ]
  },
  {
   "cell_type": "code",
   "execution_count": 62,
   "id": "d6ed53af-2be0-460f-b15a-1cfdfa66a98f",
   "metadata": {},
   "outputs": [
    {
     "data": {
      "text/plain": [
       "0"
      ]
     },
     "execution_count": 62,
     "metadata": {},
     "output_type": "execute_result"
    }
   ],
   "source": [
    "s.count('m')"
   ]
  },
  {
   "cell_type": "code",
   "execution_count": 63,
   "id": "5eb56018-0ef9-4c65-b12c-5b989137e853",
   "metadata": {},
   "outputs": [
    {
     "data": {
      "text/plain": [
       "1"
      ]
     },
     "execution_count": 63,
     "metadata": {},
     "output_type": "execute_result"
    }
   ],
   "source": [
    "s.count('M')"
   ]
  },
  {
   "cell_type": "markdown",
   "id": "7ba39d78-cc3a-4162-a659-073e639622ec",
   "metadata": {},
   "source": [
    "### * Str.Starstwith():-"
   ]
  },
  {
   "cell_type": "markdown",
   "id": "162b8b60-af5f-4ee3-a4d0-83faaf40c754",
   "metadata": {},
   "source": [
    ". return a boolean stating wether a string starte with speacified prefix,"
   ]
  },
  {
   "cell_type": "code",
   "execution_count": 1,
   "id": "367b486f-5d03-4898-992e-b994aea84afa",
   "metadata": {},
   "outputs": [
    {
     "data": {
      "text/plain": [
       "True"
      ]
     },
     "execution_count": 1,
     "metadata": {},
     "output_type": "execute_result"
    }
   ],
   "source": [
    "s= 'siva123'\n",
    "s.startswith('s')"
   ]
  },
  {
   "cell_type": "code",
   "execution_count": 8,
   "id": "b48b3cdf-1c9a-4d3e-8f73-b8d9f756310a",
   "metadata": {},
   "outputs": [
    {
     "data": {
      "text/plain": [
       "False"
      ]
     },
     "execution_count": 8,
     "metadata": {},
     "output_type": "execute_result"
    }
   ],
   "source": [
    "s= 'siva345'\n",
    "s.startswith('345')\n",
    "# A prefix is a substring that is at the beginning of the string."
   ]
  },
  {
   "cell_type": "markdown",
   "id": "60f52055-6172-433a-aac5-290fb8507f15",
   "metadata": {},
   "source": [
    "### * str.endsWith():-"
   ]
  },
  {
   "cell_type": "markdown",
   "id": "5cd289bf-78de-4bfa-b02f-2014c7b60d3d",
   "metadata": {},
   "source": [
    ". return a boolean stating whether a string end with the specified suffix."
   ]
  },
  {
   "cell_type": "code",
   "execution_count": 1,
   "id": "80d7f997-ccdd-4c40-b702-6c17ac00f009",
   "metadata": {},
   "outputs": [
    {
     "data": {
      "text/plain": [
       "True"
      ]
     },
     "execution_count": 1,
     "metadata": {},
     "output_type": "execute_result"
    }
   ],
   "source": [
    "s = 'arshad123'\n",
    "s.endswith('123')\n",
    "# A suffix is a substring that is at the end of the string."
   ]
  },
  {
   "cell_type": "code",
   "execution_count": 1,
   "id": "372ff4f0-257a-4921-bda5-cb175ad2debe",
   "metadata": {},
   "outputs": [
    {
     "data": {
      "text/plain": [
       "True"
      ]
     },
     "execution_count": 1,
     "metadata": {},
     "output_type": "execute_result"
    }
   ],
   "source": [
    "name  = 'arshad444'\n",
    "name.endswith('444')"
   ]
  },
  {
   "cell_type": "code",
   "execution_count": 2,
   "id": "a1aabb29-ef0f-40fe-9479-bfc66cc664a9",
   "metadata": {},
   "outputs": [
    {
     "data": {
      "text/plain": [
       "True"
      ]
     },
     "execution_count": 2,
     "metadata": {},
     "output_type": "execute_result"
    }
   ],
   "source": [
    "name = 'khan123'\n",
    "name.endswith('khan123')"
   ]
  },
  {
   "cell_type": "code",
   "execution_count": 3,
   "id": "2ea4b3a7-66bd-41d5-92f4-82de5a34190c",
   "metadata": {},
   "outputs": [
    {
     "data": {
      "text/plain": [
       "True"
      ]
     },
     "execution_count": 3,
     "metadata": {},
     "output_type": "execute_result"
    }
   ],
   "source": [
    "job = 'datascientist'\n",
    "job.endswith('datascientist')"
   ]
  },
  {
   "cell_type": "code",
   "execution_count": 6,
   "id": "6fc7e59b-9d00-4089-b3e1-7183e6516a7b",
   "metadata": {},
   "outputs": [
    {
     "data": {
      "text/plain": [
       "True"
      ]
     },
     "execution_count": 6,
     "metadata": {},
     "output_type": "execute_result"
    }
   ],
   "source": [
    "full  ='Arshad khan'\n",
    "full.endswith('khan')"
   ]
  },
  {
   "cell_type": "code",
   "execution_count": 7,
   "id": "37a54709-94ad-47c5-a7a5-85cde5872d77",
   "metadata": {},
   "outputs": [
    {
     "data": {
      "text/plain": [
       "False"
      ]
     },
     "execution_count": 7,
     "metadata": {},
     "output_type": "execute_result"
    }
   ],
   "source": [
    "full.endswith('Arshad')"
   ]
  },
  {
   "cell_type": "markdown",
   "id": "caa53642-24e6-4ec6-ada4-677ca8e4e97d",
   "metadata": {},
   "source": [
    "### * Str.isalnum():-"
   ]
  },
  {
   "cell_type": "markdown",
   "id": "2e91cac9-a314-447c-9fa5-ae77122a94e8",
   "metadata": {},
   "source": [
    ". return a boolean string whether a string contains only letter and digits."
   ]
  },
  {
   "cell_type": "code",
   "execution_count": 9,
   "id": "0b66f36b-b8e2-43b8-b599-1d7e336d1830",
   "metadata": {},
   "outputs": [
    {
     "data": {
      "text/plain": [
       "False"
      ]
     },
     "execution_count": 9,
     "metadata": {},
     "output_type": "execute_result"
    }
   ],
   "source": [
    "s = 'siva 123'  # here is space that's why output is false.\n",
    "s.isalnum()"
   ]
  },
  {
   "cell_type": "code",
   "execution_count": 10,
   "id": "286656ee-e660-4242-8c12-43a5c4fed04f",
   "metadata": {},
   "outputs": [],
   "source": [
    "# Only number and digits"
   ]
  },
  {
   "cell_type": "code",
   "execution_count": 11,
   "id": "401dfb49-8319-45e5-b72a-1215eb8d1ef4",
   "metadata": {},
   "outputs": [
    {
     "data": {
      "text/plain": [
       "True"
      ]
     },
     "execution_count": 11,
     "metadata": {},
     "output_type": "execute_result"
    }
   ],
   "source": [
    "s = 'siva123'\n",
    "s.isalnum() # becuse here we did not take anything exxcept number or digit not even space."
   ]
  },
  {
   "cell_type": "code",
   "execution_count": 17,
   "id": "9b985f21-bb47-42ae-bc7a-9a19daa3de85",
   "metadata": {},
   "outputs": [
    {
     "data": {
      "text/plain": [
       "False"
      ]
     },
     "execution_count": 17,
     "metadata": {},
     "output_type": "execute_result"
    }
   ],
   "source": [
    "name = 'mynameis@arshadkhan'\n",
    "name.isalnum()  # becuse here is a special charector"
   ]
  },
  {
   "cell_type": "code",
   "execution_count": 18,
   "id": "38e7f844-e5b8-4590-8729-2aa0bc1f5652",
   "metadata": {},
   "outputs": [
    {
     "data": {
      "text/plain": [
       "True"
      ]
     },
     "execution_count": 18,
     "metadata": {},
     "output_type": "execute_result"
    }
   ],
   "source": [
    "name = 'mynameisarshadkhan'\n",
    "name.isalnum()"
   ]
  },
  {
   "cell_type": "code",
   "execution_count": 16,
   "id": "2386c27a-a5b9-475b-8f1e-35e74a68f9b6",
   "metadata": {},
   "outputs": [
    {
     "data": {
      "text/plain": [
       "False"
      ]
     },
     "execution_count": 16,
     "metadata": {},
     "output_type": "execute_result"
    }
   ],
   "source": [
    "name = 'my name is arshad khan 1234'\n",
    "name.isalnum()  # becuse here is spaces"
   ]
  },
  {
   "cell_type": "code",
   "execution_count": 19,
   "id": "854179cb-fd42-487b-87cd-3d925ceac1a2",
   "metadata": {},
   "outputs": [
    {
     "data": {
      "text/plain": [
       "True"
      ]
     },
     "execution_count": 19,
     "metadata": {},
     "output_type": "execute_result"
    }
   ],
   "source": [
    "full = 'Farmer'\n",
    "full.isalnum()"
   ]
  },
  {
   "cell_type": "code",
   "execution_count": 21,
   "id": "f392272a-2770-45c3-8acf-0a1c46c7af1e",
   "metadata": {},
   "outputs": [
    {
     "data": {
      "text/plain": [
       "False"
      ]
     },
     "execution_count": 21,
     "metadata": {},
     "output_type": "execute_result"
    }
   ],
   "source": [
    "full = 'Farmer$'\n",
    "full.isalnum()  # here is special charector\n",
    "                # we need only number or charector"
   ]
  },
  {
   "cell_type": "markdown",
   "id": "3c1622df-7c32-451b-91f1-4a1b16349a9d",
   "metadata": {},
   "source": [
    "### * Str.isalpha():-"
   ]
  },
  {
   "cell_type": "markdown",
   "id": "7f501c69-6fc8-4834-b237-371fcceeb4b4",
   "metadata": {},
   "source": [
    ". return a boolean string whether string contains only letter."
   ]
  },
  {
   "cell_type": "markdown",
   "id": "b2bb70f9-105c-4060-98a8-67c96a5c698e",
   "metadata": {},
   "source": [
    "(it will contain only alphabate if alp then retun  True)"
   ]
  },
  {
   "cell_type": "code",
   "execution_count": 23,
   "id": "72eb549e-a18e-41f0-b944-8803e0ae8c10",
   "metadata": {},
   "outputs": [
    {
     "data": {
      "text/plain": [
       "True"
      ]
     },
     "execution_count": 23,
     "metadata": {},
     "output_type": "execute_result"
    }
   ],
   "source": [
    "s = 'khan'\n",
    "s.isalpha()"
   ]
  },
  {
   "cell_type": "code",
   "execution_count": 25,
   "id": "1ca57015-5765-40a5-9d52-02f47f277ff6",
   "metadata": {},
   "outputs": [
    {
     "data": {
      "text/plain": [
       "False"
      ]
     },
     "execution_count": 25,
     "metadata": {},
     "output_type": "execute_result"
    }
   ],
   "source": [
    "name = 'khan 1234'\n",
    "name.isalpha()"
   ]
  },
  {
   "cell_type": "markdown",
   "id": "046f8f57-5fa3-46cb-ae2f-3066ee6cabd5",
   "metadata": {},
   "source": [
    "### * Str.isdigit():-"
   ]
  },
  {
   "cell_type": "markdown",
   "id": "467218df-2b2a-4a9c-a17b-b841af12a5f3",
   "metadata": {},
   "source": [
    ". return a boolean stating whether a string contains only digits."
   ]
  },
  {
   "cell_type": "markdown",
   "id": "183b0410-326f-49e5-bea4-e2d2970eb268",
   "metadata": {},
   "source": [
    "( only digit should be so it will retun True)"
   ]
  },
  {
   "cell_type": "code",
   "execution_count": 26,
   "id": "f069ac76-2251-4894-af08-4b351b841b33",
   "metadata": {},
   "outputs": [
    {
     "data": {
      "text/plain": [
       "True"
      ]
     },
     "execution_count": 26,
     "metadata": {},
     "output_type": "execute_result"
    }
   ],
   "source": [
    "No = '12345'\n",
    "No.isdigit()"
   ]
  },
  {
   "cell_type": "code",
   "execution_count": 27,
   "id": "23336ac0-714e-4214-932e-53261adb5f66",
   "metadata": {},
   "outputs": [
    {
     "data": {
      "text/plain": [
       "False"
      ]
     },
     "execution_count": 27,
     "metadata": {},
     "output_type": "execute_result"
    }
   ],
   "source": [
    "name= 'khan 123'\n",
    "name.isdigit()"
   ]
  },
  {
   "cell_type": "markdown",
   "id": "00eccaff-5ec5-44b5-8451-39945855aff6",
   "metadata": {},
   "source": [
    "### * Str.islower() :-"
   ]
  },
  {
   "cell_type": "markdown",
   "id": "aaed3adf-06ef-448a-acc2-34a3934c459c",
   "metadata": {},
   "source": [
    ". Each charector should be in lowercase."
   ]
  },
  {
   "cell_type": "markdown",
   "id": "0bcbce3e-0506-45c1-9d79-6fb68771e241",
   "metadata": {},
   "source": [
    ". return a boolean stating whether a string is in lowercase."
   ]
  },
  {
   "cell_type": "code",
   "execution_count": 28,
   "id": "7d38e7e6-4a46-4375-87ef-1ff281657719",
   "metadata": {},
   "outputs": [
    {
     "data": {
      "text/plain": [
       "True"
      ]
     },
     "execution_count": 28,
     "metadata": {},
     "output_type": "execute_result"
    }
   ],
   "source": [
    " s = 'khan 123'\n",
    "s.islower()"
   ]
  },
  {
   "cell_type": "code",
   "execution_count": 29,
   "id": "8e0142dc-6c06-435b-89c3-6a8dc6557863",
   "metadata": {},
   "outputs": [
    {
     "data": {
      "text/plain": [
       "False"
      ]
     },
     "execution_count": 29,
     "metadata": {},
     "output_type": "execute_result"
    }
   ],
   "source": [
    "name = 'Arshad Khan'\n",
    "name.islower()"
   ]
  },
  {
   "cell_type": "code",
   "execution_count": 30,
   "id": "af6206eb-49c7-40a7-a4cb-c12372b5aba7",
   "metadata": {},
   "outputs": [
    {
     "data": {
      "text/plain": [
       "False"
      ]
     },
     "execution_count": 30,
     "metadata": {},
     "output_type": "execute_result"
    }
   ],
   "source": [
    "name = 'Arshad'\n",
    "name.islower()"
   ]
  },
  {
   "cell_type": "code",
   "execution_count": 31,
   "id": "8f765d74-7247-4977-8f63-340e89f8ecb7",
   "metadata": {},
   "outputs": [],
   "source": [
    "# space is consider as a specail charector"
   ]
  },
  {
   "cell_type": "markdown",
   "id": "4dc47b91-3162-4b92-98ad-03d3e101a2dd",
   "metadata": {},
   "source": [
    "### * Str.upper():-"
   ]
  },
  {
   "cell_type": "markdown",
   "id": "3d2614ce-2ed8-4854-98d6-a2c54ac3eacc",
   "metadata": {},
   "source": [
    ". Each charector shuold be in upper case."
   ]
  },
  {
   "cell_type": "code",
   "execution_count": 35,
   "id": "20a694d0-5190-4a65-9ddc-2a79297a445b",
   "metadata": {},
   "outputs": [
    {
     "data": {
      "text/plain": [
       "True"
      ]
     },
     "execution_count": 35,
     "metadata": {},
     "output_type": "execute_result"
    }
   ],
   "source": [
    "s = 'KHAN 123'\n",
    "s.isupper()"
   ]
  },
  {
   "cell_type": "code",
   "execution_count": 34,
   "id": "c13fd1db-4765-47eb-929a-a38bf4000d03",
   "metadata": {},
   "outputs": [
    {
     "data": {
      "text/plain": [
       "True"
      ]
     },
     "execution_count": 34,
     "metadata": {},
     "output_type": "execute_result"
    }
   ],
   "source": [
    "name  = 'ARSHAD'\n",
    "name.isupper()"
   ]
  },
  {
   "cell_type": "code",
   "execution_count": 36,
   "id": "199415ff-b5d6-4487-8f8e-c9126f48a1f2",
   "metadata": {},
   "outputs": [
    {
     "data": {
      "text/plain": [
       "False"
      ]
     },
     "execution_count": 36,
     "metadata": {},
     "output_type": "execute_result"
    }
   ],
   "source": [
    "name = 'Arshad Khan'\n",
    "name.isupper()  # each charector should be uppercase."
   ]
  },
  {
   "cell_type": "markdown",
   "id": "f1f113b3-5196-486a-8e7f-5903eaaea695",
   "metadata": {},
   "source": [
    "### * Str.space():-"
   ]
  },
  {
   "cell_type": "markdown",
   "id": "4ae66495-da09-4421-88d8-12b5383c0354",
   "metadata": {},
   "source": [
    ". only spaces should be there in string."
   ]
  },
  {
   "cell_type": "code",
   "execution_count": 38,
   "id": "3bdcde83-ef01-46fe-a01a-bfb0ba9047fb",
   "metadata": {},
   "outputs": [
    {
     "data": {
      "text/plain": [
       "False"
      ]
     },
     "execution_count": 38,
     "metadata": {},
     "output_type": "execute_result"
    }
   ],
   "source": [
    "space = 'rahul dravid'\n",
    "space.isspace()"
   ]
  },
  {
   "cell_type": "code",
   "execution_count": 39,
   "id": "ecd2bb39-9981-4358-8b8f-f14f5a218564",
   "metadata": {},
   "outputs": [
    {
     "data": {
      "text/plain": [
       "True"
      ]
     },
     "execution_count": 39,
     "metadata": {},
     "output_type": "execute_result"
    }
   ],
   "source": [
    "n = ' '\n",
    "n.isspace()  # only space shold be count."
   ]
  },
  {
   "cell_type": "markdown",
   "id": "d8119ea7-7046-40b5-817f-ba80ab0306b1",
   "metadata": {},
   "source": [
    "### * Str.istitle():-"
   ]
  },
  {
   "cell_type": "markdown",
   "id": "84de800b-9da4-419d-a5e1-68a5dfddc7f9",
   "metadata": {},
   "source": [
    ". istitle mean 1st letter of word should be capital."
   ]
  },
  {
   "cell_type": "code",
   "execution_count": 41,
   "id": "6b269808-9d95-4c92-8f73-a93aff3a8baf",
   "metadata": {},
   "outputs": [
    {
     "data": {
      "text/plain": [
       "True"
      ]
     },
     "execution_count": 41,
     "metadata": {},
     "output_type": "execute_result"
    }
   ],
   "source": [
    "s = 'Siva Rama Krishna'\n",
    "s.istitle()"
   ]
  },
  {
   "cell_type": "code",
   "execution_count": 46,
   "id": "cbf8b0a8-06fa-4332-b184-a7b920278925",
   "metadata": {},
   "outputs": [
    {
     "data": {
      "text/plain": [
       "False"
      ]
     },
     "execution_count": 46,
     "metadata": {},
     "output_type": "execute_result"
    }
   ],
   "source": [
    "name = 'Arshad khan'\n",
    "name.istitle()  # khan is in small charector"
   ]
  },
  {
   "cell_type": "markdown",
   "id": "696bdd5f-92be-4fb6-990b-b9e1fb53db0a",
   "metadata": {},
   "source": [
    "### * Str.removeprefix():-"
   ]
  },
  {
   "cell_type": "markdown",
   "id": "f7bfaaf0-8382-4204-a3d6-8d27f0cd2183",
   "metadata": {},
   "source": [
    ". it return a string with given prefix. string remove if present."
   ]
  },
  {
   "cell_type": "code",
   "execution_count": 45,
   "id": "c5a41b4d-52b8-4c94-9992-98c2c618dc9b",
   "metadata": {},
   "outputs": [
    {
     "data": {
      "text/plain": [
       "'thon'"
      ]
     },
     "execution_count": 45,
     "metadata": {},
     "output_type": "execute_result"
    }
   ],
   "source": [
    "s = 'python'\n",
    "s.removeprefix('py')   # prefix mean starting"
   ]
  },
  {
   "cell_type": "markdown",
   "id": "25d94b71-6e12-4c47-8623-3fb451158ef4",
   "metadata": {},
   "source": [
    "### * Str.removesuffix():-"
   ]
  },
  {
   "cell_type": "markdown",
   "id": "53051365-ee5c-467a-ad0b-130975044d68",
   "metadata": {},
   "source": [
    ". it return a string with the given suffix string remove if present."
   ]
  },
  {
   "cell_type": "code",
   "execution_count": 47,
   "id": "50e13b81-166e-478f-bd14-39246fb1523b",
   "metadata": {},
   "outputs": [
    {
     "data": {
      "text/plain": [
       "'py'"
      ]
     },
     "execution_count": 47,
     "metadata": {},
     "output_type": "execute_result"
    }
   ],
   "source": [
    "s = 'python'\n",
    "s.removesuffix('thon')"
   ]
  },
  {
   "cell_type": "code",
   "execution_count": 48,
   "id": "7cc39075-e786-4486-b3bd-14e0375796bd",
   "metadata": {},
   "outputs": [
    {
     "data": {
      "text/plain": [
       "'pyth'"
      ]
     },
     "execution_count": 48,
     "metadata": {},
     "output_type": "execute_result"
    }
   ],
   "source": [
    "s.removesuffix('on')"
   ]
  },
  {
   "cell_type": "code",
   "execution_count": 49,
   "id": "47d84e33-df41-4b11-ad4b-27a69536e910",
   "metadata": {},
   "outputs": [
    {
     "ename": "TypeError",
     "evalue": "'str' object does not support item assignment",
     "output_type": "error",
     "traceback": [
      "\u001b[1;31m---------------------------------------------------------------------------\u001b[0m",
      "\u001b[1;31mTypeError\u001b[0m                                 Traceback (most recent call last)",
      "Cell \u001b[1;32mIn[49], line 3\u001b[0m\n\u001b[0;32m      1\u001b[0m \u001b[38;5;66;03m#Q):- Whether string can be replaced.\u001b[39;00m\n\u001b[0;32m      2\u001b[0m mystring \u001b[38;5;241m=\u001b[39m \u001b[38;5;124m'\u001b[39m\u001b[38;5;124mHello\u001b[39m\u001b[38;5;124m'\u001b[39m\n\u001b[1;32m----> 3\u001b[0m mystring[\u001b[38;5;241m4\u001b[39m]\u001b[38;5;241m=\u001b[39m\u001b[38;5;124m'\u001b[39m\u001b[38;5;124ms\u001b[39m\u001b[38;5;124m'\u001b[39m\n",
      "\u001b[1;31mTypeError\u001b[0m: 'str' object does not support item assignment"
     ]
    }
   ],
   "source": [
    "#Q):- Whether string can be replaced.\n",
    "mystring = 'Hello'\n",
    "mystring[4]='s'  # it will show errore."
   ]
  },
  {
   "cell_type": "code",
   "execution_count": 51,
   "id": "4c24aa4f-7c47-4949-8b35-569edca0e87e",
   "metadata": {},
   "outputs": [
    {
     "name": "stdout",
     "output_type": "stream",
     "text": [
      "[1, 20, 3, 4]\n"
     ]
    }
   ],
   "source": [
    "l = [1,2,3,4]\n",
    "l[1] = 20\n",
    "print(l)"
   ]
  },
  {
   "cell_type": "code",
   "execution_count": 53,
   "id": "04cd6c2a-5092-4764-b6e7-2b550936ef5f",
   "metadata": {},
   "outputs": [
    {
     "name": "stdout",
     "output_type": "stream",
     "text": [
      "{1: 400, 'a': 96}\n"
     ]
    }
   ],
   "source": [
    "# for dictionary \n",
    "d = {1:40, 'a':96}\n",
    "d[1]=400\n",
    "print(d)"
   ]
  },
  {
   "cell_type": "raw",
   "id": "793eccf9-5ea1-453f-8470-61d7b1dd6fd4",
   "metadata": {},
   "source": [
    "-------string methode-----------end--------."
   ]
  }
 ],
 "metadata": {
  "kernelspec": {
   "display_name": "Python 3 (ipykernel)",
   "language": "python",
   "name": "python3"
  },
  "language_info": {
   "codemirror_mode": {
    "name": "ipython",
    "version": 3
   },
   "file_extension": ".py",
   "mimetype": "text/x-python",
   "name": "python",
   "nbconvert_exporter": "python",
   "pygments_lexer": "ipython3",
   "version": "3.12.7"
  }
 },
 "nbformat": 4,
 "nbformat_minor": 5
}
