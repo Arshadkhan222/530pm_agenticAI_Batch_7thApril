{
 "cells": [
  {
   "cell_type": "markdown",
   "id": "3ae7816e-9a6f-466f-8c11-cad4c83280b8",
   "metadata": {},
   "source": [
    "# Loops:-"
   ]
  },
  {
   "cell_type": "markdown",
   "id": "6dc984c1-bcb6-4fd7-8c47-263760aadfa3",
   "metadata": {},
   "source": [
    "- Loops mean repeat or repetation of code."
   ]
  },
  {
   "cell_type": "markdown",
   "id": "f9f6b679-4efc-4b66-ac81-a816096fa403",
   "metadata": {},
   "source": [
    "### * While loop :-"
   ]
  },
  {
   "cell_type": "markdown",
   "id": "e785e8b7-eff1-4913-bb92-1e956c964988",
   "metadata": {},
   "source": [
    ". it cheak the condition multiple times.\n",
    ". Till condotion is satisfied repeated the code of bloack."
   ]
  },
  {
   "cell_type": "code",
   "execution_count": 1,
   "id": "f8d044b7-06c4-4179-9ec0-9ffa241da14d",
   "metadata": {},
   "outputs": [
    {
     "name": "stdout",
     "output_type": "stream",
     "text": [
      "python\n",
      "python\n",
      "python\n",
      "python\n"
     ]
    }
   ],
   "source": [
    "x = 1\n",
    "while x < 5:\n",
    "    print('python')\n",
    "    x = x+1\n",
    "    "
   ]
  },
  {
   "cell_type": "code",
   "execution_count": 2,
   "id": "61a5ea83-1bf4-4c27-9ef3-08b43aa1c228",
   "metadata": {},
   "outputs": [
    {
     "name": "stdout",
     "output_type": "stream",
     "text": [
      "1\n",
      "2\n",
      "3\n",
      "4\n",
      "5\n",
      "6\n",
      "7\n",
      "8\n",
      "9\n",
      "10\n"
     ]
    }
   ],
   "source": [
    "# for printing the number 1 to 10\n",
    "x = 1\n",
    "while x < 11:\n",
    "    print(x)\n",
    "    x = x+1"
   ]
  },
  {
   "cell_type": "code",
   "execution_count": 3,
   "id": "8c5f0da8-cd0c-4f99-85a1-0e66504e4b58",
   "metadata": {},
   "outputs": [
    {
     "name": "stdout",
     "output_type": "stream",
     "text": [
      "1\n",
      "srk\n",
      "2\n",
      "srk\n",
      "3\n",
      "srk\n",
      "4\n",
      "srk\n"
     ]
    }
   ],
   "source": [
    "x = 1\n",
    "while x < 5:\n",
    "    print(x)\n",
    "    if x== 5:\n",
    "        break\n",
    "    x=x+1\n",
    "    print('srk')\n",
    "  "
   ]
  },
  {
   "cell_type": "code",
   "execution_count": 4,
   "id": "00e1e605-bad1-4763-8f8d-2c58140f9a96",
   "metadata": {},
   "outputs": [
    {
     "name": "stdout",
     "output_type": "stream",
     "text": [
      "1\n",
      "srk\n",
      "2\n",
      "srk\n",
      "3\n",
      "srk\n",
      "4\n",
      "srk\n"
     ]
    }
   ],
   "source": [
    "x = 1\n",
    "while x < 5:\n",
    "    print(x)\n",
    "    if x == 5:\n",
    "        break   # come out to the loop OR brake the loop.\n",
    "    x = x + 1\n",
    "    print('srk')\n"
   ]
  },
  {
   "cell_type": "code",
   "execution_count": 1,
   "id": "05936395-451f-407d-9958-ea268ac4191f",
   "metadata": {},
   "outputs": [
    {
     "name": "stdout",
     "output_type": "stream",
     "text": [
      "11\n",
      "21\n",
      "31\n",
      "41\n",
      "51\n"
     ]
    }
   ],
   "source": [
    "x = 1\n",
    "while True:\n",
    "    x = x+10\n",
    "    print(x)\n",
    "    if x > 50:\n",
    "        break"
   ]
  },
  {
   "cell_type": "code",
   "execution_count": 2,
   "id": "efebf5f9-5f49-4f41-894a-b21559c840a3",
   "metadata": {},
   "outputs": [
    {
     "name": "stdin",
     "output_type": "stream",
     "text": [
      "enter the value : 500\n",
      "enter the value : 100\n",
      "enter the value : 180\n",
      "enter the value : 140\n",
      "enter the value : 60\n",
      "enter the value : 40\n"
     ]
    }
   ],
   "source": [
    "s = 0\n",
    "while True:\n",
    "    a = eval(input('enter the value :'))\n",
    "    s = s+a\n",
    "    if s > 1000:\n",
    "        break"
   ]
  },
  {
   "cell_type": "code",
   "execution_count": 3,
   "id": "b90d2570-ab33-4c38-89ca-e5bf333ec38d",
   "metadata": {},
   "outputs": [],
   "source": [
    "# Q :- ask user to enter value and store them in a list."
   ]
  },
  {
   "cell_type": "code",
   "execution_count": 17,
   "id": "be686983-7604-46fd-a292-573c70aa322e",
   "metadata": {},
   "outputs": [
    {
     "name": "stdout",
     "output_type": "stream",
     "text": [
      "Enter your value. Once all entries are completed, please enter 5 to stop.\n"
     ]
    },
    {
     "name": "stdin",
     "output_type": "stream",
     "text": [
      "Enter the values:  1\n",
      "Enter the values:  2\n",
      "Enter the values:  3\n",
      "Enter the values:  4\n",
      "Enter the values:  5\n",
      "Enter the values:  #\n"
     ]
    },
    {
     "name": "stdout",
     "output_type": "stream",
     "text": [
      "[1, 2, 3, 4, 5]\n"
     ]
    }
   ],
   "source": [
    "print('Enter your value. Once all entries are completed, please enter 5 to stop.')\n",
    "\n",
    "l = []\n",
    "while True:  # infinite until break\n",
    "    i = input('Enter the values: ')\n",
    "    if i == '#':  # Compare as string\n",
    "        break\n",
    "    j = int(i)\n",
    "    l.append(j)\n",
    "\n",
    "print(l)\n"
   ]
  },
  {
   "cell_type": "code",
   "execution_count": 18,
   "id": "b1bc17ac-5811-4910-b7d4-57a8acb27c7d",
   "metadata": {},
   "outputs": [
    {
     "name": "stdout",
     "output_type": "stream",
     "text": [
      "Enter your value. Once all entries are completed, please enter 5 to stop.\n"
     ]
    },
    {
     "name": "stdin",
     "output_type": "stream",
     "text": [
      "Enter the values:  12\n",
      "Enter the values:  23\n",
      "Enter the values:  4\n",
      "Enter the values:  3\n",
      "Enter the values:  5\n"
     ]
    },
    {
     "name": "stdout",
     "output_type": "stream",
     "text": [
      "[12, 23, 4, 3]\n"
     ]
    }
   ],
   "source": [
    "print('Enter your value. Once all entries are completed, please enter 5 to stop.')\n",
    "\n",
    "l = []\n",
    "while True:\n",
    "    i = int(input('Enter the values: '))  # Convert input here\n",
    "    if i == 5:\n",
    "        break\n",
    "    l.append(i)\n",
    "\n",
    "print(l)\n"
   ]
  },
  {
   "cell_type": "code",
   "execution_count": 3,
   "id": "85f4c1c9-f0a7-43a2-ab0c-57fd518b9329",
   "metadata": {},
   "outputs": [
    {
     "name": "stdin",
     "output_type": "stream",
     "text": [
      "enter the values : 12\n",
      "enter the values : 2\n",
      "enter the values : 3\n",
      "enter the values : 1\n",
      "enter the values : 5\n"
     ]
    },
    {
     "name": "stdout",
     "output_type": "stream",
     "text": [
      "The sum of Enters number is : 23\n"
     ]
    }
   ],
   "source": [
    "# Q :- ask user to enter any 5 values do the sum of the values.\n",
    "\n",
    "x = 1\n",
    "s = 0\n",
    "while x <= 5:\n",
    "    i = eval(input('enter the values :'))\n",
    "    s = s+i\n",
    "    x = x+1\n",
    "\n",
    "print('The sum of Enters number is :', s)"
   ]
  },
  {
   "cell_type": "code",
   "execution_count": 2,
   "id": "08d3115a-83b9-43fc-a91c-a966fa404ac4",
   "metadata": {},
   "outputs": [
    {
     "name": "stdin",
     "output_type": "stream",
     "text": [
      "Enter the value:  4\n",
      "Enter the value:  54\n",
      "Enter the value:  1\n",
      "Enter the value:  2\n",
      "Enter the value:  3\n"
     ]
    },
    {
     "name": "stdout",
     "output_type": "stream",
     "text": [
      "Sum of the values is: 64\n"
     ]
    }
   ],
   "source": [
    "x = 1\n",
    "s = 0\n",
    "while x <= 5:\n",
    "    i = int(input('Enter the value: '))\n",
    "    s = s + i\n",
    "    x = x + 1\n",
    "\n",
    "print(\"Sum of the values is:\", s)\n"
   ]
  },
  {
   "cell_type": "code",
   "execution_count": 14,
   "id": "834ed5fe-8dd9-4c6c-859e-caf1d660003f",
   "metadata": {},
   "outputs": [
    {
     "name": "stdout",
     "output_type": "stream",
     "text": [
      "enter your values onece all entries are completed please enter #\n"
     ]
    },
    {
     "name": "stdin",
     "output_type": "stream",
     "text": [
      "enter the values :  12\n",
      "enter the values :  2\n",
      "enter the values :  12\n",
      "enter the values :  #\n"
     ]
    },
    {
     "name": "stdout",
     "output_type": "stream",
     "text": [
      "The total sum is :  26\n"
     ]
    }
   ],
   "source": [
    "# Q:- Ask user to enter the values to do the sum of values ?\n",
    "print('enter your values onece all entries are completed please enter #')\n",
    "s  = 0\n",
    "while True :\n",
    "    i = input('enter the values : ')\n",
    "    if i== '#':\n",
    "        break\n",
    "    s = s+int(i)\n",
    "\n",
    "print('The total sum is : ', s)"
   ]
  },
  {
   "cell_type": "markdown",
   "id": "7c4af642-4ee8-4d9a-833c-5c8e6e3979f3",
   "metadata": {},
   "source": [
    "# For Loop :-"
   ]
  },
  {
   "cell_type": "markdown",
   "id": "0b676b7f-d752-40e3-895d-504c005564e4",
   "metadata": {},
   "source": [
    "- loop:- repeting the code .\n",
    "- while :- till condition satisfied.\n",
    "- while loop :- Till condition is satisfied repeat the code.\n",
    "- for :- for each values in seqence.\n",
    "- for loop:-for each values in seqence repeating the bloak of code.\n",
    "- sequence :- str, list , tuple , set, dict ,rang,"
   ]
  },
  {
   "cell_type": "markdown",
   "id": "47102fb0-4a82-4251-9b31-f85471e9c53d",
   "metadata": {},
   "source": [
    "syntax :- for varaible name in sequance."
   ]
  },
  {
   "cell_type": "code",
   "execution_count": 18,
   "id": "fde93c70-db00-490f-83c5-0f19fa392cbc",
   "metadata": {},
   "outputs": [
    {
     "name": "stdout",
     "output_type": "stream",
     "text": [
      "ds\n",
      "ds\n",
      "ds\n",
      "ds\n",
      "ds\n",
      "ds\n"
     ]
    }
   ],
   "source": [
    "l = [1,2,3,4,5,6]\n",
    "for i in l:\n",
    "    print( \"ds\")"
   ]
  },
  {
   "cell_type": "code",
   "execution_count": 16,
   "id": "88b47db1-7364-4774-9c0a-c3d39220bb9b",
   "metadata": {},
   "outputs": [
    {
     "name": "stdout",
     "output_type": "stream",
     "text": [
      "1 ds\n",
      "2 ds\n",
      "3 ds\n",
      "4 ds\n",
      "5 ds\n",
      "6 ds\n"
     ]
    }
   ],
   "source": [
    "l = [1,2,3,4,5,6]\n",
    "for i in l:\n",
    "    print(i, \"ds\")"
   ]
  },
  {
   "cell_type": "code",
   "execution_count": 17,
   "id": "edb3c4c2-eeba-43fc-9352-f816ebe8d1cf",
   "metadata": {},
   "outputs": [
    {
     "name": "stdout",
     "output_type": "stream",
     "text": [
      "10\n",
      "a\n",
      "30\n",
      "40\n"
     ]
    }
   ],
   "source": [
    "l = [10,'a', 30, 40]\n",
    "for i in l:\n",
    "    print(i)"
   ]
  },
  {
   "cell_type": "code",
   "execution_count": 19,
   "id": "68274eb0-3ea9-49a3-a9ef-244ebd9866e7",
   "metadata": {},
   "outputs": [
    {
     "name": "stdout",
     "output_type": "stream",
     "text": [
      "d\n",
      "a\n",
      "t\n",
      "a\n"
     ]
    }
   ],
   "source": [
    "st = \"data\"\n",
    "for i in st:\n",
    "    print(i)"
   ]
  },
  {
   "cell_type": "code",
   "execution_count": 20,
   "id": "6ec36e79-3a38-4992-9118-0d3784543b97",
   "metadata": {},
   "outputs": [
    {
     "name": "stdout",
     "output_type": "stream",
     "text": [
      "1\n",
      "2\n",
      "3\n",
      "[4, 5]\n"
     ]
    }
   ],
   "source": [
    "l = [1,2,3,[4,5]]\n",
    "for i in l :\n",
    "    print(i)\n",
    "    "
   ]
  },
  {
   "cell_type": "code",
   "execution_count": 24,
   "id": "63769e31-20d2-44f2-90bc-659834decd7e",
   "metadata": {},
   "outputs": [
    {
     "name": "stdout",
     "output_type": "stream",
     "text": [
      "1\n",
      "2\n",
      "3\n",
      "[4, 5]\n"
     ]
    }
   ],
   "source": [
    "l = (1,2,3,[4,5])\n",
    "for i in l :\n",
    "    print(i)"
   ]
  },
  {
   "cell_type": "code",
   "execution_count": 23,
   "id": "43e7164d-c6d3-401a-8a2c-05be5a402f65",
   "metadata": {},
   "outputs": [
    {
     "name": "stdout",
     "output_type": "stream",
     "text": [
      "2\n",
      "3\n",
      "5\n",
      "a\n",
      "6\n",
      "(1, 2, 3)\n",
      "abc\n",
      "b\n"
     ]
    }
   ],
   "source": [
    "# set\n",
    "l = {\"a\",2,3,\"b\",5,6,\"abc\", (1,2,3)}\n",
    "for i in l:\n",
    "    print(i)"
   ]
  },
  {
   "cell_type": "markdown",
   "id": "739fb688-e6e2-4ea0-947e-ffcb9e3c6d50",
   "metadata": {},
   "source": [
    "### range :- it is a function.It gives the integer in the given range range like slicing."
   ]
  },
  {
   "cell_type": "code",
   "execution_count": 25,
   "id": "1987c80a-b6a6-4543-abc5-ed9ed6eb4ad2",
   "metadata": {},
   "outputs": [
    {
     "data": {
      "text/plain": [
       "[0, 1, 2, 3, 4, 5, 6, 7, 8, 9]"
      ]
     },
     "execution_count": 25,
     "metadata": {},
     "output_type": "execute_result"
    }
   ],
   "source": [
    "list(range(10))"
   ]
  },
  {
   "cell_type": "code",
   "execution_count": 26,
   "id": "bfc9b70d-d554-4f36-82b8-0d70ec1bf801",
   "metadata": {},
   "outputs": [
    {
     "data": {
      "text/plain": [
       "[2, 3, 4, 5, 6, 7, 8, 9]"
      ]
     },
     "execution_count": 26,
     "metadata": {},
     "output_type": "execute_result"
    }
   ],
   "source": [
    "list(range(2,10))"
   ]
  },
  {
   "cell_type": "code",
   "execution_count": 27,
   "id": "ca8da3ef-7b87-46e6-bd12-94e742fe61a7",
   "metadata": {},
   "outputs": [
    {
     "data": {
      "text/plain": [
       "[2, 4, 6, 8]"
      ]
     },
     "execution_count": 27,
     "metadata": {},
     "output_type": "execute_result"
    }
   ],
   "source": [
    "list(range(2,10,2))"
   ]
  },
  {
   "cell_type": "code",
   "execution_count": 28,
   "id": "e4222bb2-c10b-425b-87f4-d5505b742395",
   "metadata": {},
   "outputs": [
    {
     "data": {
      "text/plain": [
       "[10, 8, 6, 4]"
      ]
     },
     "execution_count": 28,
     "metadata": {},
     "output_type": "execute_result"
    }
   ],
   "source": [
    "list(range(10,2,-2))"
   ]
  },
  {
   "cell_type": "code",
   "execution_count": 29,
   "id": "c1fbaf3b-93d8-4006-a526-f6bf13dd3a7f",
   "metadata": {},
   "outputs": [
    {
     "data": {
      "text/plain": [
       "[1, 2, 3, 4, 5, 6, 7, 8, 9, 10]"
      ]
     },
     "execution_count": 29,
     "metadata": {},
     "output_type": "execute_result"
    }
   ],
   "source": [
    "list(range(1,11))"
   ]
  },
  {
   "cell_type": "code",
   "execution_count": 30,
   "id": "dac13684-f853-40c7-9703-54df4c73da7a",
   "metadata": {},
   "outputs": [
    {
     "data": {
      "text/plain": [
       "[0, 2, 4, 6, 8, 10, 12, 14, 16, 18, 20]"
      ]
     },
     "execution_count": 30,
     "metadata": {},
     "output_type": "execute_result"
    }
   ],
   "source": [
    "# Even number\n",
    "list(range(0,21,2))"
   ]
  },
  {
   "cell_type": "code",
   "execution_count": 32,
   "id": "a295e729-4790-4911-b0ed-b4813355ed67",
   "metadata": {},
   "outputs": [
    {
     "data": {
      "text/plain": [
       "[0, 1, 2, 3, 4, 5, 6, 7, 8, 9, 10, 11, 12, 13, 14, 15, 16, 17, 18, 19, 20]"
      ]
     },
     "execution_count": 32,
     "metadata": {},
     "output_type": "execute_result"
    }
   ],
   "source": [
    "list(range(0,21,1))"
   ]
  },
  {
   "cell_type": "code",
   "execution_count": 33,
   "id": "9e778905-5f79-447c-9aa7-35a8e67758a3",
   "metadata": {},
   "outputs": [
    {
     "data": {
      "text/plain": [
       "[2, 4, 6, 8, 10, 12, 14, 16, 18, 20]"
      ]
     },
     "execution_count": 33,
     "metadata": {},
     "output_type": "execute_result"
    }
   ],
   "source": [
    "list(range(2,21,2))"
   ]
  },
  {
   "cell_type": "code",
   "execution_count": 34,
   "id": "5b55b12a-c440-4853-9de4-1ccae4f77615",
   "metadata": {},
   "outputs": [
    {
     "data": {
      "text/plain": [
       "[]"
      ]
     },
     "execution_count": 34,
     "metadata": {},
     "output_type": "execute_result"
    }
   ],
   "source": [
    "list(range(10,2))"
   ]
  },
  {
   "cell_type": "code",
   "execution_count": 35,
   "id": "126bd114-7d17-42f5-9af4-af78b9b9ad30",
   "metadata": {},
   "outputs": [],
   "source": [
    "# if there is no posibility or wrong it will print empty string."
   ]
  },
  {
   "cell_type": "code",
   "execution_count": 36,
   "id": "123dc5c8-32de-4a48-b700-3ed1e71dcb1a",
   "metadata": {},
   "outputs": [
    {
     "data": {
      "text/plain": [
       "[3, 6, 9, 12, 15, 18, 21, 24, 27, 30]"
      ]
     },
     "execution_count": 36,
     "metadata": {},
     "output_type": "execute_result"
    }
   ],
   "source": [
    "list(range(3,31,3))"
   ]
  },
  {
   "cell_type": "code",
   "execution_count": 38,
   "id": "347dd58c-7998-4fe6-a2c2-d49552c0d659",
   "metadata": {},
   "outputs": [
    {
     "data": {
      "text/plain": [
       "[3, 4, 5, 6, 7, 8, 9]"
      ]
     },
     "execution_count": 38,
     "metadata": {},
     "output_type": "execute_result"
    }
   ],
   "source": [
    "list(range(3,10))"
   ]
  },
  {
   "cell_type": "code",
   "execution_count": 40,
   "id": "6578a0b2-4257-4b79-af5b-cb17084d0974",
   "metadata": {},
   "outputs": [
    {
     "name": "stdout",
     "output_type": "stream",
     "text": [
      "10\n",
      "11\n",
      "19\n"
     ]
    }
   ],
   "source": [
    "l = [10,11,14,16,17,19]\n",
    "for i in (0,1,-1):\n",
    "    print(l[i])"
   ]
  },
  {
   "cell_type": "code",
   "execution_count": 51,
   "id": "b6218188-2940-4b07-967c-13cb4b480058",
   "metadata": {},
   "outputs": [
    {
     "name": "stdout",
     "output_type": "stream",
     "text": [
      "['F', 'F', 'F']\n"
     ]
    },
    {
     "data": {
      "text/plain": [
       "3"
      ]
     },
     "execution_count": 51,
     "metadata": {},
     "output_type": "execute_result"
    }
   ],
   "source": [
    "# Q :- if i have to calculate male or femal dara.\n",
    "l = ['M','F','F','F','M','M','M']\n",
    "s = []\n",
    "for i in l:\n",
    "    if i== 'F':\n",
    "        s.append(i)\n",
    "           \n",
    "print(s)\n",
    "len(s)      "
   ]
  },
  {
   "cell_type": "code",
   "execution_count": 52,
   "id": "c30a9109-9554-4a53-9789-cc6f1129fcc1",
   "metadata": {},
   "outputs": [
    {
     "name": "stdout",
     "output_type": "stream",
     "text": [
      "[]\n",
      "['F']\n",
      "['F', 'F']\n",
      "['F', 'F', 'F']\n",
      "['F', 'F', 'F']\n",
      "['F', 'F', 'F']\n",
      "['F', 'F', 'F']\n"
     ]
    }
   ],
   "source": [
    "l = ['M','F','F','F','M','M','M']\n",
    "s = []\n",
    "for i in l:\n",
    "    if i== 'F':\n",
    "        s.append(i)      \n",
    "    print(s)\n",
    "    len(s)      \n",
    "# This is incorrect "
   ]
  },
  {
   "cell_type": "code",
   "execution_count": 53,
   "id": "6b23cda4-1575-4f1d-b789-6b0702fba95a",
   "metadata": {},
   "outputs": [
    {
     "name": "stdout",
     "output_type": "stream",
     "text": [
      "[0, 1, 2, 3, 4, 5, 6, 7, 8, 9, 10, 11, 12, 13, 14, 15, 16, 17, 18, 19]\n"
     ]
    }
   ],
   "source": [
    "l = []\n",
    "for i in range (0,20):\n",
    "    l.append(i)\n",
    "\n",
    "print(l)"
   ]
  },
  {
   "cell_type": "code",
   "execution_count": 54,
   "id": "77f3b9bb-36ce-4a57-9771-bb66b095d8f0",
   "metadata": {},
   "outputs": [],
   "source": [
    "# OR with the help of range"
   ]
  },
  {
   "cell_type": "code",
   "execution_count": 55,
   "id": "dc6336b2-336a-423a-8c1f-7f6b42cc762a",
   "metadata": {},
   "outputs": [
    {
     "data": {
      "text/plain": [
       "[0, 1, 2, 3, 4, 5, 6, 7, 8, 9, 10, 11, 12, 13, 14, 15, 16, 17, 18, 19]"
      ]
     },
     "execution_count": 55,
     "metadata": {},
     "output_type": "execute_result"
    }
   ],
   "source": [
    "list(range(0,20))"
   ]
  },
  {
   "cell_type": "code",
   "execution_count": 56,
   "id": "181c8347-eeb2-4b53-a608-61a4fcb357eb",
   "metadata": {},
   "outputs": [
    {
     "name": "stdout",
     "output_type": "stream",
     "text": [
      "100\n"
     ]
    }
   ],
   "source": [
    "l = [10,20,30,40]\n",
    "s = 0\n",
    "for i in l :\n",
    "    s = s+i\n",
    "\n",
    "print(s)"
   ]
  },
  {
   "cell_type": "code",
   "execution_count": 57,
   "id": "fcd9fe01-e2ee-4783-90c5-02dd4491f92f",
   "metadata": {},
   "outputs": [
    {
     "name": "stdout",
     "output_type": "stream",
     "text": [
      "100\n"
     ]
    }
   ],
   "source": [
    "l  =[10,20,30,40]\n",
    "s = 0\n",
    "for i in range (0,4):\n",
    "    s = s+l[i]\n",
    "\n",
    "print(s)"
   ]
  },
  {
   "cell_type": "code",
   "execution_count": 60,
   "id": "3b2192a6-8762-42e9-83e3-2d1483a26c43",
   "metadata": {},
   "outputs": [
    {
     "name": "stdout",
     "output_type": "stream",
     "text": [
      "Enter value once it is completed enter # \n"
     ]
    },
    {
     "name": "stdin",
     "output_type": "stream",
     "text": [
      "enter the number : 21\n",
      "enter the number : 22\n",
      "enter the number : 34\n",
      "enter the number : 23\n",
      "enter the number : #\n"
     ]
    },
    {
     "name": "stdout",
     "output_type": "stream",
     "text": [
      "0\n"
     ]
    }
   ],
   "source": [
    "print('Enter value once it is completed enter # ')\n",
    "s = 0\n",
    "for i in range(1,100):\n",
    "    n = input('enter the number :')\n",
    "    if n == '#':\n",
    "        break \n",
    "        s = s+int(n)\n",
    "        \n",
    "print(s)"
   ]
  },
  {
   "cell_type": "code",
   "execution_count": 61,
   "id": "3e0a29a5-ae13-4bd7-9e6d-5c4de0887e9a",
   "metadata": {},
   "outputs": [
    {
     "name": "stdout",
     "output_type": "stream",
     "text": [
      "[3, 4, 5, 6, 8]\n"
     ]
    }
   ],
   "source": [
    "l = [1,2,3,4,5,6,7,8,9]\n",
    "l.remove(1)\n",
    "l.remove(2)\n",
    "l.remove(7)\n",
    "l.remove(9)\n",
    "print(l)"
   ]
  },
  {
   "cell_type": "code",
   "execution_count": 62,
   "id": "277b672f-71bf-4ba8-abf5-d638d4276f4c",
   "metadata": {},
   "outputs": [
    {
     "name": "stdout",
     "output_type": "stream",
     "text": [
      "[3, 4, 5, 6, 8]\n"
     ]
    }
   ],
   "source": [
    "# with the help of loop\n",
    "l = [1,2,3,4,5,6,7,8,9]\n",
    "for i in [1,2,7,9]:\n",
    "    l.remove(i)\n",
    "\n",
    "print(l)"
   ]
  },
  {
   "cell_type": "code",
   "execution_count": 64,
   "id": "6c6ae7a4-a069-4a32-ba6e-81bb2535731b",
   "metadata": {},
   "outputs": [
    {
     "name": "stdout",
     "output_type": "stream",
     "text": [
      "dict_items([(1, 25), ('a', 90)])\n"
     ]
    }
   ],
   "source": [
    "s = {1:25, 'a': 90}\n",
    "print(s.items())\n"
   ]
  },
  {
   "cell_type": "code",
   "execution_count": 65,
   "id": "6caab6a0-a675-47ec-a2ae-b501b5116364",
   "metadata": {},
   "outputs": [
    {
     "name": "stdout",
     "output_type": "stream",
     "text": [
      "1\n",
      "a\n"
     ]
    }
   ],
   "source": [
    "s= {1:25, 'a':90}\n",
    "for i in s.keys():\n",
    "    print(i)"
   ]
  },
  {
   "cell_type": "code",
   "execution_count": 66,
   "id": "eb1eb848-a2f6-43b3-97be-d0380576013e",
   "metadata": {},
   "outputs": [
    {
     "name": "stdout",
     "output_type": "stream",
     "text": [
      "25\n",
      "90\n"
     ]
    }
   ],
   "source": [
    "# Now for values\n",
    "d = {1:25, 'a':90}\n",
    "for i in d.values():\n",
    "    print(i)"
   ]
  },
  {
   "cell_type": "code",
   "execution_count": 3,
   "id": "71d57220-8860-4d6d-ae43-c09e628de367",
   "metadata": {},
   "outputs": [
    {
     "name": "stdout",
     "output_type": "stream",
     "text": [
      "25\n",
      "[25, 35]\n"
     ]
    }
   ],
   "source": [
    "d = {1:25, 'a':[25,35]}\n",
    "for i in d.values():\n",
    "    print(i)"
   ]
  },
  {
   "cell_type": "code",
   "execution_count": 4,
   "id": "c728affc-54b0-4f91-a063-e954b47e8da8",
   "metadata": {},
   "outputs": [
    {
     "name": "stdin",
     "output_type": "stream",
     "text": [
      "Enter the values 23\n",
      "Enter the values 24\n",
      "Enter the values 12\n",
      "Enter the values 5\n",
      "Enter the values 4\n"
     ]
    },
    {
     "name": "stdout",
     "output_type": "stream",
     "text": [
      "[24, 12, 4]\n"
     ]
    }
   ],
   "source": [
    "# Q write a program to collect 5 number from user and list the even number ?\n",
    "l = []\n",
    "for i in range(1,6):\n",
    "    i=eval(input('Enter the values'))\n",
    "    if i%2 == 0:\n",
    "        l.append(i)\n",
    "\n",
    "print(l)"
   ]
  },
  {
   "cell_type": "code",
   "execution_count": 7,
   "id": "52f7a5a5-1343-409c-878c-3e33356892b6",
   "metadata": {},
   "outputs": [
    {
     "name": "stdin",
     "output_type": "stream",
     "text": [
      "Enter the number : 12\n",
      "Enter the number : 32\n",
      "Enter the number : 33\n",
      "Enter the number : 23\n",
      "Enter the number : 2\n"
     ]
    },
    {
     "name": "stdout",
     "output_type": "stream",
     "text": [
      "The list of 5 number which you have entered : [12, 32, 33, 23, 2]\n"
     ]
    }
   ],
   "source": [
    "# Q:- Write a program to collect 5 number from user & store them in a list ?\n",
    "l = []\n",
    "for i in range(5):\n",
    "    i = int(input('Enter the number :'))\n",
    "    l.append(i)\n",
    "\n",
    "print('The list of 5 number which you have entered :', l)"
   ]
  },
  {
   "cell_type": "code",
   "execution_count": 9,
   "id": "882d71e4-904b-4998-b7aa-ab2d0805856b",
   "metadata": {},
   "outputs": [
    {
     "name": "stdout",
     "output_type": "stream",
     "text": [
      "List of even number : [10, 12, 14]\n",
      "List of odd number : [13, 19, 17]\n"
     ]
    }
   ],
   "source": [
    "# Q :- Write a program that gives even & odd number in a list ?\n",
    "l = [10,12,13,14,19,17]\n",
    "el = []\n",
    "ol = []\n",
    "for i in l :\n",
    "    if i%2 == 0 :\n",
    "        el.append(i)\n",
    "    else :\n",
    "        ol.append(i)\n",
    "\n",
    "print(\"List of even number :\", el)\n",
    "print(\"List of odd number :\" , ol)"
   ]
  },
  {
   "cell_type": "code",
   "execution_count": 10,
   "id": "56b050fd-9058-42ac-b305-edc8e3ce90d8",
   "metadata": {},
   "outputs": [
    {
     "name": "stdout",
     "output_type": "stream",
     "text": [
      "15\n"
     ]
    }
   ],
   "source": [
    "# Q :- Write a program for sum of number in a list ?\n",
    "l = [1,2,3,4,5]\n",
    "s = 0\n",
    "for i in l:\n",
    "    s = s + i\n",
    "\n",
    "print(s)"
   ]
  },
  {
   "cell_type": "code",
   "execution_count": 12,
   "id": "6dd6b40e-7940-4bcd-935d-25a34be33194",
   "metadata": {},
   "outputs": [
    {
     "name": "stdout",
     "output_type": "stream",
     "text": [
      "sum of even number : 36\n",
      "sum of  odd number : 49\n"
     ]
    }
   ],
   "source": [
    "# Q :- Write a program that gives evan number and odd number sum in the list ?\n",
    "l = [10,12,13,14,19,17]\n",
    "es = 0\n",
    "os = 0\n",
    "for i in l :\n",
    "    if i % 2 == 0:\n",
    "        es = es + i\n",
    "    else:\n",
    "        os  = os +i\n",
    "\n",
    "print('sum of even number :', es)\n",
    "print('sum of  odd number :', os)"
   ]
  },
  {
   "cell_type": "code",
   "execution_count": 13,
   "id": "195e270e-4a1d-4d1f-936a-34cd009e6d81",
   "metadata": {},
   "outputs": [
    {
     "name": "stdout",
     "output_type": "stream",
     "text": [
      "2 * 1 = 2\n",
      "2 * 2 = 4\n",
      "2 * 3 = 6\n",
      "2 * 4 = 8\n",
      "2 * 5 = 10\n",
      "2 * 6 = 12\n",
      "2 * 7 = 14\n",
      "2 * 8 = 16\n",
      "2 * 9 = 18\n",
      "2 * 10 = 20\n"
     ]
    }
   ],
   "source": [
    "# Q :- wirte a multipllivation Table of 2 using for loop ?\n",
    "for i in range(1,11):\n",
    "    print(2 ,\"*\", i,\"=\",2*i)"
   ]
  },
  {
   "cell_type": "code",
   "execution_count": 15,
   "id": "242240c8-a278-4fc9-8e46-8d1af0c4eddc",
   "metadata": {},
   "outputs": [
    {
     "name": "stdin",
     "output_type": "stream",
     "text": [
      "Enter a number to print its multiplication table:  5\n"
     ]
    },
    {
     "name": "stdout",
     "output_type": "stream",
     "text": [
      "Multiplication table for 5:\n",
      "5 x 1 = 5\n",
      "5 x 2 = 10\n",
      "5 x 3 = 15\n",
      "5 x 4 = 20\n",
      "5 x 5 = 25\n",
      "5 x 6 = 30\n",
      "5 x 7 = 35\n",
      "5 x 8 = 40\n",
      "5 x 9 = 45\n",
      "5 x 10 = 50\n"
     ]
    }
   ],
   "source": [
    " # Q:- Ask user to multiplication Table ?\n",
    "# Ask the user for a number\n",
    "num = int(input(\"Enter a number to print its multiplication table: \"))\n",
    "\n",
    "# Print the multiplication table\n",
    "print(f\"Multiplication table for {num}:\")\n",
    "for i in range(1, 11):\n",
    "    print(f\"{num} x {i} = {num * i}\")\n"
   ]
  },
  {
   "cell_type": "markdown",
   "id": "2fee649b-e613-4990-9a96-3054522af410",
   "metadata": {},
   "source": [
    "# * Break :-"
   ]
  },
  {
   "cell_type": "markdown",
   "id": "402ebc4b-b8f9-4dd7-a6a3-0594bec8a562",
   "metadata": {},
   "source": [
    "-it will stop the loop."
   ]
  },
  {
   "cell_type": "code",
   "execution_count": 16,
   "id": "8de3b8dc-dcb8-4014-b68a-b50a4272f23a",
   "metadata": {},
   "outputs": [
    {
     "name": "stdout",
     "output_type": "stream",
     "text": [
      "1\n",
      "2\n",
      "3\n",
      "4\n",
      "ds\n"
     ]
    }
   ],
   "source": [
    "l = [1,2,3,4]\n",
    "for i in l :\n",
    "    print(i)\n",
    "    if i== 4:\n",
    "        print('ds')\n",
    "        break # here we are using break in the last and number also have finished there is no use."
   ]
  },
  {
   "cell_type": "code",
   "execution_count": 17,
   "id": "9f4f60ab-1006-41d4-9c60-70547612ebf1",
   "metadata": {},
   "outputs": [
    {
     "name": "stdout",
     "output_type": "stream",
     "text": [
      "1 2 3 4 5 "
     ]
    }
   ],
   "source": [
    "l = [1,2,3,4,5]\n",
    "for i in l :\n",
    "    print(i, end =\" \")"
   ]
  },
  {
   "cell_type": "code",
   "execution_count": 18,
   "id": "ea250ec1-28ed-4a1b-975d-c1cbf26db512",
   "metadata": {},
   "outputs": [
    {
     "name": "stdout",
     "output_type": "stream",
     "text": [
      "Plese enter only a number : \n"
     ]
    },
    {
     "name": "stdin",
     "output_type": "stream",
     "text": [
      "Enter the number : 12\n",
      "Enter the number : 32\n",
      "Enter the number : 11\n"
     ]
    },
    {
     "name": "stdout",
     "output_type": "stream",
     "text": [
      "55\n"
     ]
    }
   ],
   "source": [
    "print(\"Plese enter only a number : \")\n",
    "s = 0\n",
    "for i in range(1,100):\n",
    "    n = int (input('Enter the number :'))\n",
    "    s = s + n\n",
    "    if s > 50:\n",
    "        break\n",
    "\n",
    "print(s)"
   ]
  },
  {
   "cell_type": "markdown",
   "id": "678bc3d3-db91-47a6-b94d-71d202a68f1d",
   "metadata": {},
   "source": [
    "# * continue :-"
   ]
  },
  {
   "cell_type": "markdown",
   "id": "e5595f08-49ec-4aa5-b4da-7d93edaf949c",
   "metadata": {},
   "source": [
    ". go to next item or (be continue)"
   ]
  },
  {
   "cell_type": "code",
   "execution_count": 20,
   "id": "b3b44895-576f-45e1-968d-230a2ab96641",
   "metadata": {},
   "outputs": [
    {
     "name": "stdout",
     "output_type": "stream",
     "text": [
      "2\n"
     ]
    }
   ],
   "source": [
    "l =[1,2,3,4]\n",
    "for i in l:\n",
    "    if i==2:\n",
    "        print(i)\n",
    "        continue"
   ]
  },
  {
   "cell_type": "markdown",
   "id": "f1875cae-822d-4fbe-9246-48b7e5f753e0",
   "metadata": {},
   "source": [
    "- Break :- come out of loop or stop \n",
    "- continue :- go to next loop or step or donot stop."
   ]
  },
  {
   "cell_type": "code",
   "execution_count": 23,
   "id": "4a768551-3956-451e-909c-55b07ee91740",
   "metadata": {},
   "outputs": [
    {
     "name": "stdout",
     "output_type": "stream",
     "text": [
      "Loop execute without any break\n",
      "Loop execute without any break\n",
      "Loop execute without any break\n",
      "Loop execute without any break\n"
     ]
    }
   ],
   "source": [
    "l = [1,2,3,4]\n",
    "for i in l :\n",
    "    if i==5:\n",
    "        break\n",
    "    else:\n",
    "        print('Loop execute without any break')\n",
    "        "
   ]
  },
  {
   "cell_type": "code",
   "execution_count": 25,
   "id": "3cbb4e76-24a7-4a4f-a4bf-29123f7d8dc1",
   "metadata": {},
   "outputs": [
    {
     "name": "stdout",
     "output_type": "stream",
     "text": [
      "1\n",
      "Loop execute without any break\n",
      "2\n",
      "Loop execute without any break\n",
      "3\n",
      "Loop execute without any break\n",
      "4\n"
     ]
    }
   ],
   "source": [
    "l = [1,2,3,4]\n",
    "for i in l :\n",
    "    print(i)\n",
    "    if i == 4:\n",
    "        break\n",
    "    else:\n",
    "        print('Loop execute without any break')"
   ]
  },
  {
   "cell_type": "code",
   "execution_count": 26,
   "id": "74879e9e-d799-4af9-9348-864839a31026",
   "metadata": {},
   "outputs": [
    {
     "name": "stdout",
     "output_type": "stream",
     "text": [
      "1\n",
      "2\n",
      "3\n",
      "4\n",
      "Pyrhon\n"
     ]
    }
   ],
   "source": [
    "for i in range (1,5):\n",
    "    print(i)\n",
    "else:\n",
    "    print('Pyrhon')"
   ]
  },
  {
   "cell_type": "markdown",
   "id": "2fdf153f-2011-4330-a1c1-91b8fbffe1dc",
   "metadata": {},
   "source": [
    "# * Nested Loop :-"
   ]
  },
  {
   "cell_type": "code",
   "execution_count": 27,
   "id": "4b453aa1-d663-45a8-8416-2a59bd983b8a",
   "metadata": {},
   "outputs": [
    {
     "name": "stdout",
     "output_type": "stream",
     "text": [
      "1 2\n",
      "1 3\n",
      "2 2\n",
      "2 3\n"
     ]
    }
   ],
   "source": [
    "for i in range (1,3):\n",
    "    for j in range(2,4):\n",
    "        print(i,j)"
   ]
  },
  {
   "cell_type": "code",
   "execution_count": 28,
   "id": "dc48f741-7192-4eab-8d47-32138e0f99dc",
   "metadata": {},
   "outputs": [
    {
     "name": "stdout",
     "output_type": "stream",
     "text": [
      "2 3\n",
      "3 3\n"
     ]
    }
   ],
   "source": [
    "i = 1 \n",
    "for i in range(2,4):\n",
    "    print(i,j)"
   ]
  },
  {
   "cell_type": "code",
   "execution_count": 29,
   "id": "4cdabba8-04de-414b-9e36-d5941ae10223",
   "metadata": {},
   "outputs": [
    {
     "name": "stdout",
     "output_type": "stream",
     "text": [
      "2 3\n",
      "3 3\n"
     ]
    }
   ],
   "source": [
    "i = 2\n",
    "for i in range (2,4):\n",
    "    print(i,j)"
   ]
  },
  {
   "cell_type": "code",
   "execution_count": 34,
   "id": "389dfe95-f7b1-4371-8408-a8c603d826b4",
   "metadata": {},
   "outputs": [
    {
     "name": "stdout",
     "output_type": "stream",
     "text": [
      "55\n",
      "55\n",
      "55\n",
      "55\n",
      "55\n",
      "55\n",
      "55\n",
      "55\n",
      "55\n",
      "55\n"
     ]
    }
   ],
   "source": [
    "\n",
    "for i in range(2):\n",
    "    for j in range(3,8):\n",
    "        if s==6:\n",
    "            break\n",
    "        print(s)"
   ]
  },
  {
   "cell_type": "code",
   "execution_count": 36,
   "id": "73b07b34-6616-4ca3-ae64-f77600efa2c0",
   "metadata": {},
   "outputs": [
    {
     "name": "stdout",
     "output_type": "stream",
     "text": [
      "i= 0 j= 0\n",
      "i= 0 j= 1\n",
      "i= 1 j= 0\n",
      "i= 1 j= 1\n",
      "i= 2 j= 0\n",
      "i= 2 j= 1\n"
     ]
    }
   ],
   "source": [
    "for i in range(3):\n",
    "    for j in range(2):\n",
    "        print('i=', i, \"j=\",j)\n",
    "        if j==1:\n",
    "            break"
   ]
  },
  {
   "cell_type": "raw",
   "id": "ebc0dcba-d0b6-4240-a904-2a6a1f7eabfe",
   "metadata": {},
   "source": [
    "--------Loops--------end--------------"
   ]
  }
 ],
 "metadata": {
  "kernelspec": {
   "display_name": "Python 3 (ipykernel)",
   "language": "python",
   "name": "python3"
  },
  "language_info": {
   "codemirror_mode": {
    "name": "ipython",
    "version": 3
   },
   "file_extension": ".py",
   "mimetype": "text/x-python",
   "name": "python",
   "nbconvert_exporter": "python",
   "pygments_lexer": "ipython3",
   "version": "3.12.7"
  }
 },
 "nbformat": 4,
 "nbformat_minor": 5
}
