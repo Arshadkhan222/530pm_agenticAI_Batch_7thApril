{
 "cells": [
  {
   "cell_type": "markdown",
   "id": "1566bea9-38de-421c-bf9c-d5e2e8049791",
   "metadata": {},
   "source": [
    "# Dictionaries :-"
   ]
  },
  {
   "cell_type": "raw",
   "id": "c2fb4c1f-6251-4e7f-854f-71fd5a07774b",
   "metadata": {},
   "source": [
    "- Dictinoary is unorderd collection .\n",
    "- In python dictionaries are defiend within braces {} with each item \n",
    "being key value.\n",
    "- key can be of fundamental data type generally the keys are int or str.\n",
    "- Value can be of any data type."
   ]
  },
  {
   "cell_type": "code",
   "execution_count": 1,
   "id": "f25223aa-026b-4de4-b1f5-f90b184f43f2",
   "metadata": {},
   "outputs": [
    {
     "name": "stdout",
     "output_type": "stream",
     "text": [
      "{'a': 4}\n"
     ]
    }
   ],
   "source": [
    "d1 = {'a' :4}\n",
    "print(d1)"
   ]
  },
  {
   "cell_type": "code",
   "execution_count": 2,
   "id": "aee6076c-5e41-48f6-8e49-b6b78e035baf",
   "metadata": {},
   "outputs": [
    {
     "data": {
      "text/plain": [
       "4"
      ]
     },
     "execution_count": 2,
     "metadata": {},
     "output_type": "execute_result"
    }
   ],
   "source": [
    "d1 ['a']"
   ]
  },
  {
   "cell_type": "code",
   "execution_count": 3,
   "id": "097f00d2-d118-4385-9513-85a012614a35",
   "metadata": {},
   "outputs": [
    {
     "name": "stdout",
     "output_type": "stream",
     "text": [
      "{1: 455, 10.4: 45.6}\n"
     ]
    }
   ],
   "source": [
    "# dict with 2 item\n",
    "d2 = {1:455, 10.4: 45.6}\n",
    "print(d2)"
   ]
  },
  {
   "cell_type": "code",
   "execution_count": 4,
   "id": "8329f38c-a7cc-4b96-9078-55d12cdbb914",
   "metadata": {},
   "outputs": [
    {
     "data": {
      "text/plain": [
       "dict"
      ]
     },
     "execution_count": 4,
     "metadata": {},
     "output_type": "execute_result"
    }
   ],
   "source": [
    "type(d2)"
   ]
  },
  {
   "cell_type": "code",
   "execution_count": 5,
   "id": "65307fd6-c2c1-43d1-a791-ee314b381aa5",
   "metadata": {},
   "outputs": [],
   "source": [
    "# dict with multiple item"
   ]
  },
  {
   "cell_type": "code",
   "execution_count": 6,
   "id": "e6d6e50d-0666-463e-9461-0e4747eaa225",
   "metadata": {},
   "outputs": [
    {
     "name": "stdout",
     "output_type": "stream",
     "text": [
      "{1: 455, 2: 99.99, 10.4: [3, 9, 15], 'key3': (94, 8, 23), 'key4': {'item2', 'item3', 'item1'}}\n"
     ]
    }
   ],
   "source": [
    "d = {1:455, 2:99.99, 10.4:[3,9,15],'key3':(94,8,23), 'key4':{'item1','item2','item3'}} \n",
    "print(d)"
   ]
  },
  {
   "cell_type": "code",
   "execution_count": 7,
   "id": "58b41c7c-2712-4c0b-9f3c-eb30463478bb",
   "metadata": {},
   "outputs": [
    {
     "data": {
      "text/plain": [
       "5"
      ]
     },
     "execution_count": 7,
     "metadata": {},
     "output_type": "execute_result"
    }
   ],
   "source": [
    "len(d)"
   ]
  },
  {
   "cell_type": "code",
   "execution_count": 8,
   "id": "a8e714c7-99b0-42cc-88b8-b200c3dd3163",
   "metadata": {},
   "outputs": [
    {
     "data": {
      "text/plain": [
       "455"
      ]
     },
     "execution_count": 8,
     "metadata": {},
     "output_type": "execute_result"
    }
   ],
   "source": [
    "d[1]"
   ]
  },
  {
   "cell_type": "code",
   "execution_count": 9,
   "id": "c382bc54-b24b-4158-821c-2d327877554f",
   "metadata": {},
   "outputs": [
    {
     "data": {
      "text/plain": [
       "99.99"
      ]
     },
     "execution_count": 9,
     "metadata": {},
     "output_type": "execute_result"
    }
   ],
   "source": [
    "d[2]"
   ]
  },
  {
   "cell_type": "code",
   "execution_count": 10,
   "id": "3707d20c-456b-4097-8ecc-4be8b950a7fc",
   "metadata": {},
   "outputs": [
    {
     "data": {
      "text/plain": [
       "[3, 9, 15]"
      ]
     },
     "execution_count": 10,
     "metadata": {},
     "output_type": "execute_result"
    }
   ],
   "source": [
    "d[10.4]"
   ]
  },
  {
   "cell_type": "code",
   "execution_count": 11,
   "id": "69a842ee-2a4a-4b58-b2f4-cccd2d89cb13",
   "metadata": {},
   "outputs": [
    {
     "data": {
      "text/plain": [
       "(94, 8, 23)"
      ]
     },
     "execution_count": 11,
     "metadata": {},
     "output_type": "execute_result"
    }
   ],
   "source": [
    "d['key3']"
   ]
  },
  {
   "cell_type": "code",
   "execution_count": 12,
   "id": "80d16808-0234-4a78-9d38-3118976d9b19",
   "metadata": {},
   "outputs": [
    {
     "data": {
      "text/plain": [
       "{'item1', 'item2', 'item3'}"
      ]
     },
     "execution_count": 12,
     "metadata": {},
     "output_type": "execute_result"
    }
   ],
   "source": [
    "d['key4']"
   ]
  },
  {
   "cell_type": "code",
   "execution_count": 13,
   "id": "0a5bfe05-a92c-400b-aa2e-db6183f00021",
   "metadata": {},
   "outputs": [
    {
     "data": {
      "text/plain": [
       "15"
      ]
     },
     "execution_count": 13,
     "metadata": {},
     "output_type": "execute_result"
    }
   ],
   "source": [
    "d[10.4][2]"
   ]
  },
  {
   "cell_type": "code",
   "execution_count": 14,
   "id": "8c89ce4c-bea6-4d95-93f8-9e2e79aab3a5",
   "metadata": {},
   "outputs": [
    {
     "ename": "SyntaxError",
     "evalue": "invalid syntax (3125373471.py, line 1)",
     "output_type": "error",
     "traceback": [
      "\u001b[1;36m  Cell \u001b[1;32mIn[14], line 1\u001b[1;36m\u001b[0m\n\u001b[1;33m    d[1][]\u001b[0m\n\u001b[1;37m         ^\u001b[0m\n\u001b[1;31mSyntaxError\u001b[0m\u001b[1;31m:\u001b[0m invalid syntax\n"
     ]
    }
   ],
   "source": [
    "d[1][]"
   ]
  },
  {
   "cell_type": "markdown",
   "id": "b06d8153-c00d-48c0-9e68-874825076d92",
   "metadata": {},
   "source": [
    "### Nested Dictionaries :-"
   ]
  },
  {
   "cell_type": "code",
   "execution_count": 15,
   "id": "95dd321d-bc4b-4ba3-9b5d-6954021244ca",
   "metadata": {},
   "outputs": [
    {
     "name": "stdout",
     "output_type": "stream",
     "text": [
      "{'car1': 1989, 'car2': [1, 2, 3], 'car3': {110: 3}}\n"
     ]
    }
   ],
   "source": [
    "cars = {'car1':1989, 'car2':[1,2,3],'car3':{110:3}}\n",
    "print(cars)"
   ]
  },
  {
   "cell_type": "code",
   "execution_count": 16,
   "id": "a742ea20-7b8b-48ca-8bbf-a6fa7f4fac32",
   "metadata": {},
   "outputs": [
    {
     "data": {
      "text/plain": [
       "3"
      ]
     },
     "execution_count": 16,
     "metadata": {},
     "output_type": "execute_result"
    }
   ],
   "source": [
    "len(cars)"
   ]
  },
  {
   "cell_type": "code",
   "execution_count": 17,
   "id": "f4ed8189-0f6c-40b5-8f3a-e63be60fec88",
   "metadata": {},
   "outputs": [],
   "source": [
    "# indexing in dictionory\n",
    "# syntex:- dict[key neme]\n"
   ]
  },
  {
   "cell_type": "code",
   "execution_count": 18,
   "id": "52b50411-214e-4d5a-a92c-6ef83eb66477",
   "metadata": {},
   "outputs": [
    {
     "data": {
      "text/plain": [
       "1989"
      ]
     },
     "execution_count": 18,
     "metadata": {},
     "output_type": "execute_result"
    }
   ],
   "source": [
    "cars['car1']"
   ]
  },
  {
   "cell_type": "code",
   "execution_count": 19,
   "id": "d9f7b20f-d163-4dbb-986a-cbe43903ef87",
   "metadata": {},
   "outputs": [
    {
     "data": {
      "text/plain": [
       "[1, 2, 3]"
      ]
     },
     "execution_count": 19,
     "metadata": {},
     "output_type": "execute_result"
    }
   ],
   "source": [
    "cars['car2']"
   ]
  },
  {
   "cell_type": "code",
   "execution_count": 20,
   "id": "6a233bfd-f941-4dba-aa0e-35f79314136a",
   "metadata": {},
   "outputs": [
    {
     "data": {
      "text/plain": [
       "{110: 3}"
      ]
     },
     "execution_count": 20,
     "metadata": {},
     "output_type": "execute_result"
    }
   ],
   "source": [
    "cars['car3']"
   ]
  },
  {
   "cell_type": "markdown",
   "id": "85c92796-6376-456e-8c4d-9ce128fc66ce",
   "metadata": {},
   "source": [
    "### * For replacement "
   ]
  },
  {
   "cell_type": "code",
   "execution_count": 21,
   "id": "9b71e0cb-b0bf-427a-af0e-d93015752266",
   "metadata": {},
   "outputs": [],
   "source": [
    "cars['car2'][1]=20"
   ]
  },
  {
   "cell_type": "code",
   "execution_count": 22,
   "id": "f5e45e5f-a122-4bcd-b104-27350aa38839",
   "metadata": {},
   "outputs": [
    {
     "data": {
      "text/plain": [
       "{'car1': 1989, 'car2': [1, 20, 3], 'car3': {110: 3}}"
      ]
     },
     "execution_count": 22,
     "metadata": {},
     "output_type": "execute_result"
    }
   ],
   "source": [
    "cars"
   ]
  },
  {
   "cell_type": "code",
   "execution_count": 23,
   "id": "2a33e176-99a5-475b-bd57-4d364479d2d5",
   "metadata": {},
   "outputs": [
    {
     "data": {
      "text/plain": [
       "[1, 20, 3]"
      ]
     },
     "execution_count": 23,
     "metadata": {},
     "output_type": "execute_result"
    }
   ],
   "source": [
    "cars['car2']"
   ]
  },
  {
   "cell_type": "markdown",
   "id": "a2621969-1387-4f8b-a57a-0d4a2bdb6787",
   "metadata": {},
   "source": [
    "### * append function"
   ]
  },
  {
   "cell_type": "code",
   "execution_count": 24,
   "id": "c93a5521-6911-444c-8915-0d0b30d3aaec",
   "metadata": {},
   "outputs": [
    {
     "data": {
      "text/plain": [
       "{'car1': 1989, 'car2': [1, 20, 3, 10], 'car3': {110: 3}}"
      ]
     },
     "execution_count": 24,
     "metadata": {},
     "output_type": "execute_result"
    }
   ],
   "source": [
    "cars['car2'].append(10)\n",
    "cars"
   ]
  },
  {
   "cell_type": "code",
   "execution_count": 25,
   "id": "bf05a08b-baf7-4387-9b63-18e89c28b659",
   "metadata": {},
   "outputs": [
    {
     "data": {
      "text/plain": [
       "3"
      ]
     },
     "execution_count": 25,
     "metadata": {},
     "output_type": "execute_result"
    }
   ],
   "source": [
    "cars['car3'][110]"
   ]
  },
  {
   "cell_type": "markdown",
   "id": "d2bac277-f3de-4ca4-b392-3af6e23575ab",
   "metadata": {},
   "source": [
    "### * Dictionary Methods"
   ]
  },
  {
   "cell_type": "code",
   "execution_count": 26,
   "id": "779b3e7f-4eb3-4115-bef9-62e0aca6a127",
   "metadata": {},
   "outputs": [
    {
     "data": {
      "text/plain": [
       "{'history': 45, 'hindi': 54}"
      ]
     },
     "execution_count": 26,
     "metadata": {},
     "output_type": "execute_result"
    }
   ],
   "source": [
    "marks = {'history':45, 'hindi':54}\n",
    "marks"
   ]
  },
  {
   "cell_type": "code",
   "execution_count": 27,
   "id": "81a52778-0e69-4b03-9768-4154b2ea7b57",
   "metadata": {},
   "outputs": [],
   "source": [
    "# itaem mean combination of keys value"
   ]
  },
  {
   "cell_type": "markdown",
   "id": "5d49e935-2f5a-41e2-979f-e2adebeeac31",
   "metadata": {},
   "source": [
    "#### * dict.items():-"
   ]
  },
  {
   "cell_type": "markdown",
   "id": "c532b86c-8863-4fa2-927e-b82a23812848",
   "metadata": {},
   "source": [
    "item() methode  return a list of keys-value pairs in the dictinary."
   ]
  },
  {
   "cell_type": "code",
   "execution_count": 28,
   "id": "af176349-1c00-423c-8183-324a2bccc745",
   "metadata": {},
   "outputs": [
    {
     "data": {
      "text/plain": [
       "dict_items([('history', 45), ('hindi', 54)])"
      ]
     },
     "execution_count": 28,
     "metadata": {},
     "output_type": "execute_result"
    }
   ],
   "source": [
    "marks.items()"
   ]
  },
  {
   "cell_type": "code",
   "execution_count": 29,
   "id": "7353525f-18be-44d8-ac6f-84658bac0928",
   "metadata": {},
   "outputs": [
    {
     "data": {
      "text/plain": [
       "{4: [45, 55, 66]}"
      ]
     },
     "execution_count": 29,
     "metadata": {},
     "output_type": "execute_result"
    }
   ],
   "source": [
    "dict([(4,[45,55,66])])"
   ]
  },
  {
   "cell_type": "code",
   "execution_count": 30,
   "id": "a9c37146-f066-41d4-8579-e62becda6d8a",
   "metadata": {},
   "outputs": [
    {
     "data": {
      "text/plain": [
       "45"
      ]
     },
     "execution_count": 30,
     "metadata": {},
     "output_type": "execute_result"
    }
   ],
   "source": [
    "l = [(4,[45,55,66])]\n",
    "l[0][1][0]\n"
   ]
  },
  {
   "cell_type": "code",
   "execution_count": 31,
   "id": "1c9fcfb3-490d-4a29-a976-5220bf83ae88",
   "metadata": {},
   "outputs": [
    {
     "data": {
      "text/plain": [
       "[45, 55, 66]"
      ]
     },
     "execution_count": 31,
     "metadata": {},
     "output_type": "execute_result"
    }
   ],
   "source": [
    "l[0][1]"
   ]
  },
  {
   "cell_type": "code",
   "execution_count": 32,
   "id": "5f7507f3-98cd-450b-bc98-7fa9db29ee65",
   "metadata": {},
   "outputs": [
    {
     "data": {
      "text/plain": [
       "(4, [45, 55, 66])"
      ]
     },
     "execution_count": 32,
     "metadata": {},
     "output_type": "execute_result"
    }
   ],
   "source": [
    "l[0]"
   ]
  },
  {
   "cell_type": "code",
   "execution_count": 33,
   "id": "f5ced606-93c5-4ad2-82d4-8ed6a749a1bc",
   "metadata": {},
   "outputs": [
    {
     "data": {
      "text/plain": [
       "4"
      ]
     },
     "execution_count": 33,
     "metadata": {},
     "output_type": "execute_result"
    }
   ],
   "source": [
    "l[0][0]"
   ]
  },
  {
   "cell_type": "code",
   "execution_count": 34,
   "id": "29f65561-af3f-4f2e-a256-c15a4f964931",
   "metadata": {},
   "outputs": [
    {
     "data": {
      "text/plain": [
       "66"
      ]
     },
     "execution_count": 34,
     "metadata": {},
     "output_type": "execute_result"
    }
   ],
   "source": [
    "l[0][1][2]"
   ]
  },
  {
   "cell_type": "markdown",
   "id": "5ee3933e-7dec-4f9f-97ca-7835e63ae37d",
   "metadata": {},
   "source": [
    "### * dict.keys():-"
   ]
  },
  {
   "cell_type": "markdown",
   "id": "43d9c409-fc38-4603-b1ea-bbf71cc756ff",
   "metadata": {},
   "source": [
    ". keys() methode return a list of key in the dictionaries"
   ]
  },
  {
   "cell_type": "code",
   "execution_count": 36,
   "id": "b1ba7519-9cfa-42a0-a315-27928fd090ea",
   "metadata": {},
   "outputs": [
    {
     "data": {
      "text/plain": [
       "dict_keys(['history', 'hindi'])"
      ]
     },
     "execution_count": 36,
     "metadata": {},
     "output_type": "execute_result"
    }
   ],
   "source": [
    "marks.keys()"
   ]
  },
  {
   "cell_type": "markdown",
   "id": "9abf3a9c-7f5d-4b91-b47a-054d2e7bc712",
   "metadata": {},
   "source": [
    "### * dict.values():-"
   ]
  },
  {
   "cell_type": "markdown",
   "id": "aaa6d68d-fba9-4d3f-9a7e-ac22a0335134",
   "metadata": {},
   "source": [
    ". values() methode return a list of values in the dictionairs"
   ]
  },
  {
   "cell_type": "code",
   "execution_count": 37,
   "id": "8519f929-0b64-4013-bb59-cce1a5c2ba54",
   "metadata": {},
   "outputs": [
    {
     "data": {
      "text/plain": [
       "dict_values([45, 54])"
      ]
     },
     "execution_count": 37,
     "metadata": {},
     "output_type": "execute_result"
    }
   ],
   "source": [
    "marks.values()"
   ]
  },
  {
   "cell_type": "code",
   "execution_count": 40,
   "id": "0b060302-1969-4395-9e18-acea72d7e455",
   "metadata": {},
   "outputs": [
    {
     "name": "stdout",
     "output_type": "stream",
     "text": [
      "{'History': 45, 'Hindi': 56, 'english': 80}\n"
     ]
    }
   ],
   "source": [
    "# to add a single item in a dictionaris\n",
    "# 1st\n",
    "marks = {'History' : 45, 'Hindi': 56}\n",
    "marks['english'] = 80\n",
    "print(marks)"
   ]
  },
  {
   "cell_type": "code",
   "execution_count": 41,
   "id": "cba37f95-135d-4e4e-9bbb-ef344a55b675",
   "metadata": {},
   "outputs": [
    {
     "name": "stdout",
     "output_type": "stream",
     "text": [
      "{'History': 45, 'Hindi': 80}\n"
     ]
    }
   ],
   "source": [
    "# 2nd  Replace\n",
    "marks = {'History':45 , 'Hindi': 56}\n",
    "marks['Hindi']=80\n",
    "print(marks)  # here we change the value of hindi"
   ]
  },
  {
   "cell_type": "code",
   "execution_count": 42,
   "id": "0fa487fd-24ba-49c7-b3e8-014d8719c7a1",
   "metadata": {},
   "outputs": [
    {
     "name": "stdout",
     "output_type": "stream",
     "text": [
      "{'History': 45, 'Hindi': 56, 'english': 80}\n"
     ]
    }
   ],
   "source": [
    "marks ={'History': 45, 'Hindi':56}\n",
    "marks.update({'english': 80})\n",
    "print(marks)"
   ]
  },
  {
   "cell_type": "code",
   "execution_count": 43,
   "id": "1ea0b75c-c42f-4f50-b381-6e7083324025",
   "metadata": {},
   "outputs": [
    {
     "name": "stdout",
     "output_type": "stream",
     "text": [
      "{'history': 45, 'hindi': 56, 'chemistory': 89, 'Math': 100}\n"
     ]
    }
   ],
   "source": [
    "marks ={'history':45, 'hindi': 56}\n",
    "marks.update({'chemistory':89, 'Math':100})\n",
    "print(marks)"
   ]
  },
  {
   "cell_type": "markdown",
   "id": "59659d46-b07d-4a2c-95ed-20a3436043db",
   "metadata": {},
   "source": [
    "### * delete item in dictionarys :-"
   ]
  },
  {
   "cell_type": "code",
   "execution_count": 45,
   "id": "9522c465-7678-4b0b-b540-906aa2d5df4f",
   "metadata": {},
   "outputs": [
    {
     "name": "stdout",
     "output_type": "stream",
     "text": [
      "{'hindi': 56}\n"
     ]
    }
   ],
   "source": [
    "marks = {'history': 45, 'hindi': 56}\n",
    "del marks ['history']\n",
    "print(marks)"
   ]
  },
  {
   "cell_type": "markdown",
   "id": "f4724f69-6766-4619-868e-44c0d82e3c8c",
   "metadata": {},
   "source": [
    "### * dict.pop(key):-"
   ]
  },
  {
   "cell_type": "markdown",
   "id": "4c8cd204-5e85-4d5b-a811-7e97b298eee7",
   "metadata": {},
   "source": [
    "- pop() methode remove and return the value of the specified key.\n",
    "- if the key does not exist it raise a key errore.\n"
   ]
  },
  {
   "cell_type": "code",
   "execution_count": 47,
   "id": "736da749-53cf-42f4-8ca6-c7cac4bd0bbb",
   "metadata": {},
   "outputs": [
    {
     "name": "stdout",
     "output_type": "stream",
     "text": [
      "{'hindi': 56}\n"
     ]
    }
   ],
   "source": [
    "marks = {'history': 45, 'hindi': 56}\n",
    "marks.pop('history')\n",
    "print(marks)"
   ]
  },
  {
   "cell_type": "markdown",
   "id": "0e4c5846-dec2-4ffe-ad7c-4871b26fda6b",
   "metadata": {},
   "source": [
    "### dict.clear():-"
   ]
  },
  {
   "cell_type": "markdown",
   "id": "629c512a-09cb-4b47-bd74-2b4448ea5cb3",
   "metadata": {},
   "source": [
    ". clear() methode remove all item from dictionaries."
   ]
  },
  {
   "cell_type": "code",
   "execution_count": 48,
   "id": "b6e8c2e4-a047-459e-a91e-05969553d43f",
   "metadata": {},
   "outputs": [
    {
     "name": "stdout",
     "output_type": "stream",
     "text": [
      "{}\n"
     ]
    }
   ],
   "source": [
    "marks = {'history': 45, 'hindi': 56}\n",
    "marks.clear()\n",
    "print(marks)"
   ]
  },
  {
   "cell_type": "markdown",
   "id": "ccd736a9-1d59-404a-8f50-87866e8eaed0",
   "metadata": {},
   "source": [
    "### * dict.copy():-"
   ]
  },
  {
   "cell_type": "markdown",
   "id": "e3faec7e-a630-4b21-9fa0-9ed03031166e",
   "metadata": {},
   "source": [
    "- copy methode return a shallow copy of the dictionaries.\n",
    "- change to the copy of the dictionaries donot affect the orignol dictionaries."
   ]
  },
  {
   "cell_type": "code",
   "execution_count": 56,
   "id": "50fcd1e8-b40a-4375-a22a-6419c199b4c9",
   "metadata": {},
   "outputs": [
    {
     "name": "stdout",
     "output_type": "stream",
     "text": [
      "{'history': 45, 'hindi': 56, 'Math': 67}\n",
      "{'history': 45, 'hindi': 56, 'Math': 67}\n"
     ]
    }
   ],
   "source": [
    "d= {'history' : 45, 'hindi': 56}\n",
    "a = a.copy()\n",
    "a.update({'Math':67})\n",
    "print(a)\n",
    "print(a)"
   ]
  },
  {
   "cell_type": "markdown",
   "id": "61cb5a20-d072-4ef7-9701-7b230b60163b",
   "metadata": {},
   "source": [
    "### * dict.get():-"
   ]
  },
  {
   "cell_type": "raw",
   "id": "de6001a9-1160-4322-be3d-e570124d8315",
   "metadata": {},
   "source": [
    ". get()methode return the values of the specified keys.\n",
    ". if the key is not present in the dict it will return none.\n",
    ". we can get the values by using another way also dict_name[key]"
   ]
  },
  {
   "cell_type": "code",
   "execution_count": 57,
   "id": "2501e015-cb1a-409f-9103-24051370bf25",
   "metadata": {},
   "outputs": [
    {
     "data": {
      "text/plain": [
       "45"
      ]
     },
     "execution_count": 57,
     "metadata": {},
     "output_type": "execute_result"
    }
   ],
   "source": [
    "marks ={'history': 45, 'hindi': 56}\n",
    "marks['history']"
   ]
  },
  {
   "cell_type": "code",
   "execution_count": 59,
   "id": "9039b2dc-42bd-45e2-85e5-774d0a2fe4c2",
   "metadata": {},
   "outputs": [
    {
     "data": {
      "text/plain": [
       "45"
      ]
     },
     "execution_count": 59,
     "metadata": {},
     "output_type": "execute_result"
    }
   ],
   "source": [
    "marks = {'history': 45, 'hindi': 56}\n",
    "marks.get('history')"
   ]
  },
  {
   "cell_type": "code",
   "execution_count": 60,
   "id": "ad30b611-8bd3-4893-8dc8-7838840217f3",
   "metadata": {},
   "outputs": [
    {
     "data": {
      "text/plain": [
       "56"
      ]
     },
     "execution_count": 60,
     "metadata": {},
     "output_type": "execute_result"
    }
   ],
   "source": [
    "marks = {'history': 45, 'hindi':56}\n",
    "marks.get('hindi')"
   ]
  },
  {
   "cell_type": "markdown",
   "id": "3c9e5b78-502d-402f-b50e-9a83a5bd2ab6",
   "metadata": {},
   "source": [
    "* To replace values in the dictionaries"
   ]
  },
  {
   "cell_type": "code",
   "execution_count": 64,
   "id": "44696f79-81bd-4fd1-aa52-1038f45021f3",
   "metadata": {},
   "outputs": [
    {
     "name": "stdout",
     "output_type": "stream",
     "text": [
      "{'english': 60, 'math': 77}\n"
     ]
    }
   ],
   "source": [
    "marks = {'english': 60, 'math': 70}\n",
    "marks['math']=77\n",
    "print(marks)"
   ]
  },
  {
   "cell_type": "code",
   "execution_count": 65,
   "id": "38c7b15e-c31c-4dd1-a017-0d4e6c8d4891",
   "metadata": {},
   "outputs": [
    {
     "name": "stdout",
     "output_type": "stream",
     "text": [
      "{'english': 50, 'hindi': 60}\n"
     ]
    }
   ],
   "source": [
    "marks = {'english':50, 'math':60}\n",
    "marks['hindi']= marks.pop('math')\n",
    "print(marks)"
   ]
  },
  {
   "cell_type": "markdown",
   "id": "a70f0307-9c6a-441e-87db-dc4795180aca",
   "metadata": {},
   "source": [
    "# Dictionaries :-"
   ]
  },
  {
   "cell_type": "raw",
   "id": "0dd00f62-14a2-4de7-908b-a75c8352406e",
   "metadata": {},
   "source": [
    "- A dictinary consist 0 to multiple items.\n",
    "- each item is key : value.\n",
    "- key can be immutable (int, float, bool, str,tuple).\n",
    "- values can be anything (int, float, bool, str, list,)\n",
    "- Dictionary is mutable in which we can add replace and remove."
   ]
  },
  {
   "cell_type": "raw",
   "id": "d4d570d8-f146-4b05-ba20-fadee25468a7",
   "metadata": {},
   "source": [
    "------------Dict-----------end--------------"
   ]
  }
 ],
 "metadata": {
  "kernelspec": {
   "display_name": "Python 3 (ipykernel)",
   "language": "python",
   "name": "python3"
  },
  "language_info": {
   "codemirror_mode": {
    "name": "ipython",
    "version": 3
   },
   "file_extension": ".py",
   "mimetype": "text/x-python",
   "name": "python",
   "nbconvert_exporter": "python",
   "pygments_lexer": "ipython3",
   "version": "3.12.7"
  }
 },
 "nbformat": 4,
 "nbformat_minor": 5
}
