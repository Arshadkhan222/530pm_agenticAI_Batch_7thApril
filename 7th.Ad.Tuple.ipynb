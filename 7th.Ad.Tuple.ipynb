{
 "cells": [
  {
   "cell_type": "markdown",
   "id": "752fad81-6b4c-4e39-94c2-a854d209ed75",
   "metadata": {},
   "source": [
    "# * Tuples"
   ]
  },
  {
   "cell_type": "raw",
   "id": "7f84915e-3860-4e5f-9acf-ac5bb1c4629c",
   "metadata": {},
   "source": [
    "- Tuple is similar to list except tuple,except tuple are immutable \n",
    "Which mean we cannot change modify or replace the element once assign.\n",
    "-when we donot want to change the data over time tuple is preferred data type.\n",
    "-literating over the element of the tuple is a faster compare to list."
   ]
  },
  {
   "cell_type": "raw",
   "id": "3f1aaf96-8714-4759-b37a-58568ea2c854",
   "metadata": {},
   "source": [
    "Diffrence between tuple and List\n",
    "List:-\n",
    "- List can store multiple iteam .\n",
    "- Iteam can be diffrent datatype which is hyderogeneous.\n",
    "- one of iteam is a list\n",
    "- Here we can do indexing & Sclicing.\n",
    "- The iteam can be inclosed with square Bracket[].\n",
    "- Mutable\n",
    "\n",
    "Tuple:-\n",
    "- it can store multiple iteam .\n",
    "- iteam could be diffrent datatype.\n",
    "- indexing and slicing is applocable.\n",
    "- iteam can enclosed with parenthesis ().\n",
    "- Immutable"
   ]
  },
  {
   "cell_type": "markdown",
   "id": "9a31c603-e4a7-4993-9c3e-9c40b00a949c",
   "metadata": {},
   "source": [
    "### * Tuple:-"
   ]
  },
  {
   "cell_type": "code",
   "execution_count": 1,
   "id": "3de31039-83f8-4f74-85d2-c43d85b27497",
   "metadata": {},
   "outputs": [],
   "source": [
    "tup1 = ()"
   ]
  },
  {
   "cell_type": "code",
   "execution_count": 2,
   "id": "d86aa3ba-e0f5-4f63-a92c-36274249f920",
   "metadata": {},
   "outputs": [
    {
     "name": "stdout",
     "output_type": "stream",
     "text": [
      "()\n"
     ]
    }
   ],
   "source": [
    "print(tup1)\n",
    "# empty tuple"
   ]
  },
  {
   "cell_type": "code",
   "execution_count": 3,
   "id": "5fed62a6-4d46-44ac-a2a0-2b97007d3b46",
   "metadata": {},
   "outputs": [],
   "source": [
    "t = (1,0.2,True,'New',[1,4])"
   ]
  },
  {
   "cell_type": "code",
   "execution_count": 4,
   "id": "fe47ee67-fb4a-472a-87a4-1f01c07affa9",
   "metadata": {},
   "outputs": [
    {
     "data": {
      "text/plain": [
       "(1, 0.2, True, 'New', [1, 4])"
      ]
     },
     "execution_count": 4,
     "metadata": {},
     "output_type": "execute_result"
    }
   ],
   "source": [
    "t"
   ]
  },
  {
   "cell_type": "code",
   "execution_count": 5,
   "id": "a263476d-66bc-4ab5-91ab-17452a281182",
   "metadata": {},
   "outputs": [
    {
     "data": {
      "text/plain": [
       "tuple"
      ]
     },
     "execution_count": 5,
     "metadata": {},
     "output_type": "execute_result"
    }
   ],
   "source": [
    "type(t)"
   ]
  },
  {
   "cell_type": "code",
   "execution_count": 6,
   "id": "a37c0b03-d401-4479-b7b5-8c6a18141537",
   "metadata": {},
   "outputs": [
    {
     "data": {
      "text/plain": [
       "5"
      ]
     },
     "execution_count": 6,
     "metadata": {},
     "output_type": "execute_result"
    }
   ],
   "source": [
    "len(t)"
   ]
  },
  {
   "cell_type": "code",
   "execution_count": 7,
   "id": "bc72b524-d7bb-4069-8bbb-f0fb573349b3",
   "metadata": {},
   "outputs": [],
   "source": [
    "# Nested tuple "
   ]
  },
  {
   "cell_type": "code",
   "execution_count": 8,
   "id": "e7a9032c-e507-4911-99c7-b8659a72dcbf",
   "metadata": {},
   "outputs": [
    {
     "data": {
      "text/plain": [
       "('Siva', 25, 25.0, True, [50, 100], (99, 22, 33))"
      ]
     },
     "execution_count": 8,
     "metadata": {},
     "output_type": "execute_result"
    }
   ],
   "source": [
    "tup = ('Siva', 25,25.0, True,[50,100],(99,22,33))\n",
    "tup"
   ]
  },
  {
   "cell_type": "code",
   "execution_count": 9,
   "id": "208b277c-be8c-4412-8bab-4834d7b53805",
   "metadata": {},
   "outputs": [
    {
     "data": {
      "text/plain": [
       "(99, 22, 33)"
      ]
     },
     "execution_count": 9,
     "metadata": {},
     "output_type": "execute_result"
    }
   ],
   "source": [
    "tup[-1]"
   ]
  },
  {
   "cell_type": "code",
   "execution_count": 10,
   "id": "9b7c3d20-0f30-4f26-922c-48d61dda5687",
   "metadata": {},
   "outputs": [
    {
     "data": {
      "text/plain": [
       "6"
      ]
     },
     "execution_count": 10,
     "metadata": {},
     "output_type": "execute_result"
    }
   ],
   "source": [
    "len(tup)"
   ]
  },
  {
   "cell_type": "code",
   "execution_count": 11,
   "id": "eec3f978-8240-449c-b570-30e453185ce0",
   "metadata": {},
   "outputs": [
    {
     "data": {
      "text/plain": [
       "25"
      ]
     },
     "execution_count": 11,
     "metadata": {},
     "output_type": "execute_result"
    }
   ],
   "source": [
    "tup[1]"
   ]
  },
  {
   "cell_type": "code",
   "execution_count": 12,
   "id": "a8f190b6-d6fe-4357-ad82-e69c0bc33231",
   "metadata": {},
   "outputs": [
    {
     "data": {
      "text/plain": [
       "'Siva'"
      ]
     },
     "execution_count": 12,
     "metadata": {},
     "output_type": "execute_result"
    }
   ],
   "source": [
    "tup[0]"
   ]
  },
  {
   "cell_type": "code",
   "execution_count": 13,
   "id": "5de15580-15bb-4f1f-8e9f-36c8b06c97c3",
   "metadata": {},
   "outputs": [
    {
     "data": {
      "text/plain": [
       "25.0"
      ]
     },
     "execution_count": 13,
     "metadata": {},
     "output_type": "execute_result"
    }
   ],
   "source": [
    "tup[2]"
   ]
  },
  {
   "cell_type": "code",
   "execution_count": 14,
   "id": "8bc56d5f-fcb2-4f23-bffe-57ff43c81c1f",
   "metadata": {},
   "outputs": [
    {
     "data": {
      "text/plain": [
       "True"
      ]
     },
     "execution_count": 14,
     "metadata": {},
     "output_type": "execute_result"
    }
   ],
   "source": [
    "tup[3]"
   ]
  },
  {
   "cell_type": "code",
   "execution_count": 15,
   "id": "329fa5f5-3516-4a56-b6b8-019119faba35",
   "metadata": {},
   "outputs": [
    {
     "data": {
      "text/plain": [
       "[50, 100]"
      ]
     },
     "execution_count": 15,
     "metadata": {},
     "output_type": "execute_result"
    }
   ],
   "source": [
    "tup[4]"
   ]
  },
  {
   "cell_type": "code",
   "execution_count": 16,
   "id": "fd39b3b0-2078-4446-9c02-b4ac999b7ed9",
   "metadata": {},
   "outputs": [],
   "source": [
    "tup= ('siva',25,25.0, True, [50,(10,100)])"
   ]
  },
  {
   "cell_type": "code",
   "execution_count": 17,
   "id": "b7d0d35d-b23a-4249-9945-fea693c768a9",
   "metadata": {},
   "outputs": [
    {
     "data": {
      "text/plain": [
       "5"
      ]
     },
     "execution_count": 17,
     "metadata": {},
     "output_type": "execute_result"
    }
   ],
   "source": [
    "len(tup)"
   ]
  },
  {
   "cell_type": "code",
   "execution_count": 18,
   "id": "31f80889-6fed-43aa-9323-bdef86942756",
   "metadata": {},
   "outputs": [
    {
     "data": {
      "text/plain": [
       "50"
      ]
     },
     "execution_count": 18,
     "metadata": {},
     "output_type": "execute_result"
    }
   ],
   "source": [
    "tup[4][0]"
   ]
  },
  {
   "cell_type": "code",
   "execution_count": 19,
   "id": "777cc4ee-ed2b-4b74-aebb-27efccb91951",
   "metadata": {},
   "outputs": [
    {
     "data": {
      "text/plain": [
       "(10, 100)"
      ]
     },
     "execution_count": 19,
     "metadata": {},
     "output_type": "execute_result"
    }
   ],
   "source": [
    "tup[4][1]"
   ]
  },
  {
   "cell_type": "code",
   "execution_count": 20,
   "id": "bee8cdb4-ee71-47ac-90bd-3593d653b2a8",
   "metadata": {},
   "outputs": [
    {
     "data": {
      "text/plain": [
       "10"
      ]
     },
     "execution_count": 20,
     "metadata": {},
     "output_type": "execute_result"
    }
   ],
   "source": [
    "#suppose i want to print '10'\n",
    "tup[4][1][0]"
   ]
  },
  {
   "cell_type": "code",
   "execution_count": 21,
   "id": "d88d133e-79a6-4061-af73-c1fdd8b4822f",
   "metadata": {},
   "outputs": [
    {
     "data": {
      "text/plain": [
       "100"
      ]
     },
     "execution_count": 21,
     "metadata": {},
     "output_type": "execute_result"
    }
   ],
   "source": [
    "tup[4][1][1]"
   ]
  },
  {
   "cell_type": "code",
   "execution_count": 22,
   "id": "5699abd8-7296-48d9-a5fe-8753816d5186",
   "metadata": {},
   "outputs": [
    {
     "data": {
      "text/plain": [
       "100"
      ]
     },
     "execution_count": 22,
     "metadata": {},
     "output_type": "execute_result"
    }
   ],
   "source": [
    "# other way of printing 100\n",
    "tup[4][-1][1]"
   ]
  },
  {
   "cell_type": "code",
   "execution_count": 23,
   "id": "4072a9c6-a497-45d9-80a7-1bbe6ccbf105",
   "metadata": {},
   "outputs": [
    {
     "data": {
      "text/plain": [
       "10"
      ]
     },
     "execution_count": 23,
     "metadata": {},
     "output_type": "execute_result"
    }
   ],
   "source": [
    "tup[4][-1][0]"
   ]
  },
  {
   "cell_type": "code",
   "execution_count": 24,
   "id": "407a3248-fc8c-46b7-b103-d8a33cb1a7b9",
   "metadata": {},
   "outputs": [
    {
     "data": {
      "text/plain": [
       "list"
      ]
     },
     "execution_count": 24,
     "metadata": {},
     "output_type": "execute_result"
    }
   ],
   "source": [
    "type(tup[-1])"
   ]
  },
  {
   "cell_type": "code",
   "execution_count": 25,
   "id": "810c046f-2c37-46e2-9789-b92cc65ca4a1",
   "metadata": {},
   "outputs": [
    {
     "data": {
      "text/plain": [
       "int"
      ]
     },
     "execution_count": 25,
     "metadata": {},
     "output_type": "execute_result"
    }
   ],
   "source": [
    "type(tup[1])"
   ]
  },
  {
   "cell_type": "code",
   "execution_count": 26,
   "id": "ed791c21-2330-4399-8620-ee1adb6520c5",
   "metadata": {},
   "outputs": [
    {
     "data": {
      "text/plain": [
       "str"
      ]
     },
     "execution_count": 26,
     "metadata": {},
     "output_type": "execute_result"
    }
   ],
   "source": [
    "type(tup[0])"
   ]
  },
  {
   "cell_type": "code",
   "execution_count": 27,
   "id": "65ad98c4-4baa-4537-a184-b863371776e2",
   "metadata": {},
   "outputs": [],
   "source": [
    "tup = ('siva', 25,25.0,True,[50,(10,100)])\n",
    "tup[-1].append(5)"
   ]
  },
  {
   "cell_type": "code",
   "execution_count": 28,
   "id": "1cd16cc5-cc30-4fb0-99a5-b162dad82565",
   "metadata": {},
   "outputs": [
    {
     "data": {
      "text/plain": [
       "('siva', 25, 25.0, True, [50, (10, 100), 5])"
      ]
     },
     "execution_count": 28,
     "metadata": {},
     "output_type": "execute_result"
    }
   ],
   "source": [
    "tup"
   ]
  },
  {
   "cell_type": "raw",
   "id": "a55dc4d3-8efb-4de9-9cea-70ddb77b0f6a",
   "metadata": {},
   "source": [
    " we add it in list not in tuple.\n",
    " inside the tuple we can not add."
   ]
  },
  {
   "cell_type": "code",
   "execution_count": 29,
   "id": "edd24721-aaea-4ad7-b2fc-63d7ff5f56e7",
   "metadata": {},
   "outputs": [
    {
     "data": {
      "text/plain": [
       "50"
      ]
     },
     "execution_count": 29,
     "metadata": {},
     "output_type": "execute_result"
    }
   ],
   "source": [
    "tup[-1][0]"
   ]
  },
  {
   "cell_type": "code",
   "execution_count": 30,
   "id": "892f23c6-85ba-45ae-b993-2eab2603f643",
   "metadata": {},
   "outputs": [
    {
     "data": {
      "text/plain": [
       "5"
      ]
     },
     "execution_count": 30,
     "metadata": {},
     "output_type": "execute_result"
    }
   ],
   "source": [
    "len(tup)"
   ]
  },
  {
   "cell_type": "code",
   "execution_count": 31,
   "id": "2ed442bb-a254-4a33-b824-3c0e8c89992a",
   "metadata": {},
   "outputs": [
    {
     "data": {
      "text/plain": [
       "[50, (10, 100), 5]"
      ]
     },
     "execution_count": 31,
     "metadata": {},
     "output_type": "execute_result"
    }
   ],
   "source": [
    "tup[-1]"
   ]
  },
  {
   "cell_type": "code",
   "execution_count": 32,
   "id": "f8066f24-7560-480e-814b-6946daf72ca6",
   "metadata": {},
   "outputs": [
    {
     "data": {
      "text/plain": [
       "(10, 100)"
      ]
     },
     "execution_count": 32,
     "metadata": {},
     "output_type": "execute_result"
    }
   ],
   "source": [
    "tup[-1][1]"
   ]
  },
  {
   "cell_type": "code",
   "execution_count": 33,
   "id": "24ddd420-4a6d-4bef-973e-0377d6ae0d76",
   "metadata": {},
   "outputs": [
    {
     "data": {
      "text/plain": [
       "10"
      ]
     },
     "execution_count": 33,
     "metadata": {},
     "output_type": "execute_result"
    }
   ],
   "source": [
    "tup[-1][1][0]"
   ]
  },
  {
   "cell_type": "code",
   "execution_count": 34,
   "id": "bbfe3492-276b-4f95-874b-086cd62d2407",
   "metadata": {},
   "outputs": [
    {
     "data": {
      "text/plain": [
       "5"
      ]
     },
     "execution_count": 34,
     "metadata": {},
     "output_type": "execute_result"
    }
   ],
   "source": [
    "tup[-1][2]"
   ]
  },
  {
   "cell_type": "code",
   "execution_count": 35,
   "id": "fc75e1e2-7b4c-4ee3-932b-902cd5ce4a27",
   "metadata": {},
   "outputs": [
    {
     "data": {
      "text/plain": [
       "('siva', 25, 25.0, True, [50, (10, 100), 5])"
      ]
     },
     "execution_count": 35,
     "metadata": {},
     "output_type": "execute_result"
    }
   ],
   "source": [
    "tup"
   ]
  },
  {
   "cell_type": "code",
   "execution_count": 36,
   "id": "cd502e94-3a17-4f80-9ffd-7d16ff8d3d33",
   "metadata": {},
   "outputs": [
    {
     "data": {
      "text/plain": [
       "'i'"
      ]
     },
     "execution_count": 36,
     "metadata": {},
     "output_type": "execute_result"
    }
   ],
   "source": [
    "# i want to print just 'i' of siva\n",
    "tup[0][1]"
   ]
  },
  {
   "cell_type": "code",
   "execution_count": 37,
   "id": "9aefde4a-7c83-4928-b498-72c7f07e5bb5",
   "metadata": {},
   "outputs": [
    {
     "data": {
      "text/plain": [
       "'siva'"
      ]
     },
     "execution_count": 37,
     "metadata": {},
     "output_type": "execute_result"
    }
   ],
   "source": [
    "# for entire 'siva'\n",
    "tup[0]"
   ]
  },
  {
   "cell_type": "markdown",
   "id": "5df47cc2-1725-458b-9cee-e355bedc6d6c",
   "metadata": {},
   "source": [
    "## * Tuple Slicing :-"
   ]
  },
  {
   "cell_type": "code",
   "execution_count": 38,
   "id": "df543bf0-c2f9-4d10-b5b7-20716812abce",
   "metadata": {},
   "outputs": [
    {
     "data": {
      "text/plain": [
       "('siva', 25, 25.0, True, [50, (10, 100), 5])"
      ]
     },
     "execution_count": 38,
     "metadata": {},
     "output_type": "execute_result"
    }
   ],
   "source": [
    "tup[0:5]"
   ]
  },
  {
   "cell_type": "code",
   "execution_count": 39,
   "id": "0a6254e3-94b7-4d8a-ab7c-44f77acf059a",
   "metadata": {},
   "outputs": [
    {
     "data": {
      "text/plain": [
       "('siva', 25, 25.0, True)"
      ]
     },
     "execution_count": 39,
     "metadata": {},
     "output_type": "execute_result"
    }
   ],
   "source": [
    "tup[0:4]"
   ]
  },
  {
   "cell_type": "code",
   "execution_count": 40,
   "id": "8f1909b7-c14c-4e91-8bf8-d19a9fde682c",
   "metadata": {},
   "outputs": [
    {
     "name": "stdout",
     "output_type": "stream",
     "text": [
      "(1, 2, 3, 4, 5, 6)\n"
     ]
    }
   ],
   "source": [
    "t1 = (1,2,3)\n",
    "t1 = t1+(4,5,6)\n",
    "print(t1)"
   ]
  },
  {
   "cell_type": "markdown",
   "id": "807fd02b-342e-4cad-ab68-b098463aa96d",
   "metadata": {},
   "source": [
    " ### * Replace"
   ]
  },
  {
   "cell_type": "code",
   "execution_count": 41,
   "id": "01010abb-0510-4708-afeb-59bcd0f4db6a",
   "metadata": {},
   "outputs": [],
   "source": [
    "# this is a list\n",
    "l = [100,200,300,400]\n",
    "l[1]= 2000"
   ]
  },
  {
   "cell_type": "code",
   "execution_count": 42,
   "id": "488d1022-bcdf-47ae-b8ac-5392192a8069",
   "metadata": {},
   "outputs": [
    {
     "name": "stdout",
     "output_type": "stream",
     "text": [
      "[100, 2000, 300, 400]\n"
     ]
    }
   ],
   "source": [
    "print(l)"
   ]
  },
  {
   "cell_type": "code",
   "execution_count": 43,
   "id": "3e096c90-fc26-45d5-812a-eb983c90cf70",
   "metadata": {},
   "outputs": [
    {
     "ename": "TypeError",
     "evalue": "'tuple' object does not support item assignment",
     "output_type": "error",
     "traceback": [
      "\u001b[1;31m---------------------------------------------------------------------------\u001b[0m",
      "\u001b[1;31mTypeError\u001b[0m                                 Traceback (most recent call last)",
      "Cell \u001b[1;32mIn[43], line 3\u001b[0m\n\u001b[0;32m      1\u001b[0m \u001b[38;5;66;03m# Now in Tuple\u001b[39;00m\n\u001b[0;32m      2\u001b[0m l \u001b[38;5;241m=\u001b[39m (\u001b[38;5;241m100\u001b[39m,\u001b[38;5;241m200\u001b[39m,\u001b[38;5;241m300\u001b[39m,\u001b[38;5;241m400\u001b[39m)\n\u001b[1;32m----> 3\u001b[0m l[\u001b[38;5;241m1\u001b[39m]\u001b[38;5;241m=\u001b[39m \u001b[38;5;241m2000\u001b[39m\n\u001b[0;32m      4\u001b[0m \u001b[38;5;28mprint\u001b[39m(l)\n",
      "\u001b[1;31mTypeError\u001b[0m: 'tuple' object does not support item assignment"
     ]
    }
   ],
   "source": [
    "# Now in Tuple\n",
    "l = (100,200,300,400)\n",
    "l[1]= 2000\n",
    "print(l)  # it will show errore becuse it is immutable"
   ]
  },
  {
   "cell_type": "markdown",
   "id": "e1814e24-7374-4b44-914b-2b6d5f3e6cae",
   "metadata": {},
   "source": [
    "### * Count():-"
   ]
  },
  {
   "cell_type": "markdown",
   "id": "f585e4ca-dff0-4889-90ec-975de794e026",
   "metadata": {},
   "source": [
    "- it will look number of iteam occured in the tuple."
   ]
  },
  {
   "cell_type": "code",
   "execution_count": 44,
   "id": "10e527f1-0a0f-48a7-8a1d-89bdee965889",
   "metadata": {},
   "outputs": [
    {
     "data": {
      "text/plain": [
       "(1, 1, 2, 3, 4, 5, 1, 2, 3, 4, 1, 1)"
      ]
     },
     "execution_count": 44,
     "metadata": {},
     "output_type": "execute_result"
    }
   ],
   "source": [
    "mytuple  = (1,1,2,3,4,5,1,2,3,4,1,1)\n",
    "mytuple "
   ]
  },
  {
   "cell_type": "code",
   "execution_count": 45,
   "id": "cb81a717-015d-400b-b33e-e5c5f63324c5",
   "metadata": {},
   "outputs": [
    {
     "data": {
      "text/plain": [
       "5"
      ]
     },
     "execution_count": 45,
     "metadata": {},
     "output_type": "execute_result"
    }
   ],
   "source": [
    "mytuple.count(1)"
   ]
  },
  {
   "cell_type": "code",
   "execution_count": 46,
   "id": "bd3988ea-8d49-4bb8-bfe6-5bf187d6b52a",
   "metadata": {},
   "outputs": [
    {
     "data": {
      "text/plain": [
       "2"
      ]
     },
     "execution_count": 46,
     "metadata": {},
     "output_type": "execute_result"
    }
   ],
   "source": [
    "mytuple.count(2)"
   ]
  },
  {
   "cell_type": "markdown",
   "id": "1fbac83c-a248-4ae2-b854-d52a7911705c",
   "metadata": {},
   "source": [
    "### * tuple .index(iteam)"
   ]
  },
  {
   "cell_type": "code",
   "execution_count": 47,
   "id": "51226c0d-18a4-4152-9812-8839bde3f07d",
   "metadata": {},
   "outputs": [
    {
     "data": {
      "text/plain": [
       "0"
      ]
     },
     "execution_count": 47,
     "metadata": {},
     "output_type": "execute_result"
    }
   ],
   "source": [
    "mytuple.index(1)"
   ]
  },
  {
   "cell_type": "code",
   "execution_count": 59,
   "id": "552d7bfa-9199-448c-b503-093aef280e80",
   "metadata": {},
   "outputs": [
    {
     "data": {
      "text/plain": [
       "2"
      ]
     },
     "execution_count": 59,
     "metadata": {},
     "output_type": "execute_result"
    }
   ],
   "source": [
    "mytuple.index(2)\n"
   ]
  },
  {
   "cell_type": "markdown",
   "id": "0bba83bb-0dd9-4e9a-a60f-a305de0b8c43",
   "metadata": {},
   "source": [
    "### * sorted function"
   ]
  },
  {
   "cell_type": "code",
   "execution_count": 49,
   "id": "06bd50be-8360-44c7-bd96-b222d48565f8",
   "metadata": {},
   "outputs": [
    {
     "data": {
      "text/plain": [
       "[1, 1, 2, 2, 3, 3, 4, 4, 5]"
      ]
     },
     "execution_count": 49,
     "metadata": {},
     "output_type": "execute_result"
    }
   ],
   "source": [
    "t = (1,2,4,4,3,3,5,1,2)\n",
    "sorted(t)"
   ]
  },
  {
   "cell_type": "markdown",
   "id": "9f00f975-0fca-455f-8b8b-2fe14b98e054",
   "metadata": {},
   "source": [
    "### * converted tuple to list"
   ]
  },
  {
   "cell_type": "code",
   "execution_count": 50,
   "id": "886f6712-444a-4965-ab69-03b3505cb67b",
   "metadata": {},
   "outputs": [
    {
     "data": {
      "text/plain": [
       "[1, 2, 3, 4]"
      ]
     },
     "execution_count": 50,
     "metadata": {},
     "output_type": "execute_result"
    }
   ],
   "source": [
    "t = (1,2,3,4)\n",
    "list(t)"
   ]
  },
  {
   "cell_type": "raw",
   "id": "f1d5b22a-999d-4e49-aa8d-1f7e79d0c053",
   "metadata": {},
   "source": [
    "we can convert list to tuple"
   ]
  },
  {
   "cell_type": "code",
   "execution_count": 51,
   "id": "5df6a0cb-eddb-48c4-a089-6e6494f11923",
   "metadata": {},
   "outputs": [
    {
     "data": {
      "text/plain": [
       "(1, 2, 3, 4)"
      ]
     },
     "execution_count": 51,
     "metadata": {},
     "output_type": "execute_result"
    }
   ],
   "source": [
    "l = [1,2,3,4]\n",
    "tuple(l)"
   ]
  },
  {
   "cell_type": "code",
   "execution_count": 52,
   "id": "505881bb-54c1-4c22-802b-cd3b0f9917b9",
   "metadata": {},
   "outputs": [
    {
     "ename": "TypeError",
     "evalue": "'tuple' object doesn't support item deletion",
     "output_type": "error",
     "traceback": [
      "\u001b[1;31m---------------------------------------------------------------------------\u001b[0m",
      "\u001b[1;31mTypeError\u001b[0m                                 Traceback (most recent call last)",
      "Cell \u001b[1;32mIn[52], line 3\u001b[0m\n\u001b[0;32m      1\u001b[0m \u001b[38;5;66;03m# cannot remove iteam in a tuple\u001b[39;00m\n\u001b[0;32m      2\u001b[0m t \u001b[38;5;241m=\u001b[39m (\u001b[38;5;241m1\u001b[39m,\u001b[38;5;241m2\u001b[39m,\u001b[38;5;241m3\u001b[39m,\u001b[38;5;241m4\u001b[39m)\n\u001b[1;32m----> 3\u001b[0m \u001b[38;5;28;01mdel\u001b[39;00m t [\u001b[38;5;241m0\u001b[39m]\n\u001b[0;32m      4\u001b[0m \u001b[38;5;28mprint\u001b[39m(t)\n",
      "\u001b[1;31mTypeError\u001b[0m: 'tuple' object doesn't support item deletion"
     ]
    }
   ],
   "source": [
    "# cannot remove iteam in a tuple\n",
    "t = (1,2,3,4)\n",
    "del t [0]\n",
    "print(t)"
   ]
  },
  {
   "cell_type": "raw",
   "id": "a3222071-3bee-49e0-a69d-30366fdc3e53",
   "metadata": {},
   "source": [
    "but in list it is possible becuse list is mutable"
   ]
  },
  {
   "cell_type": "code",
   "execution_count": 53,
   "id": "561ebb98-2fb6-4087-b646-e9239fd205ea",
   "metadata": {},
   "outputs": [
    {
     "name": "stdout",
     "output_type": "stream",
     "text": [
      "[2, 3, 4]\n"
     ]
    }
   ],
   "source": [
    "t = [1,2,3,4]\n",
    "del t [0]\n",
    "print(t)"
   ]
  },
  {
   "cell_type": "code",
   "execution_count": 60,
   "id": "0abae0ab-0776-412d-a3b4-80d49bf3da25",
   "metadata": {},
   "outputs": [],
   "source": [
    "# Some list question\n",
    "l = [10,20,30,40]\n",
    "l.remove(20)\n",
    "# in remove methode we have to give value which we want to remove"
   ]
  },
  {
   "cell_type": "code",
   "execution_count": 61,
   "id": "e94ad7c0-3615-44eb-a74c-7b8a6c7e5540",
   "metadata": {},
   "outputs": [
    {
     "data": {
      "text/plain": [
       "[10, 30, 40]"
      ]
     },
     "execution_count": 61,
     "metadata": {},
     "output_type": "execute_result"
    }
   ],
   "source": [
    "l"
   ]
  },
  {
   "cell_type": "code",
   "execution_count": 62,
   "id": "c11845f7-ce74-466e-ba07-97000e2251e4",
   "metadata": {},
   "outputs": [
    {
     "data": {
      "text/plain": [
       "[10, 30]"
      ]
     },
     "execution_count": 62,
     "metadata": {},
     "output_type": "execute_result"
    }
   ],
   "source": [
    "# in pop methode we have to give index number \n",
    "l.pop(2)\n",
    "l"
   ]
  },
  {
   "cell_type": "code",
   "execution_count": 63,
   "id": "887fc639-cb32-48a3-8f23-44f0de2c2821",
   "metadata": {},
   "outputs": [],
   "source": [
    "l.clear()\n",
    "# .clear methode clear the entire list"
   ]
  },
  {
   "cell_type": "code",
   "execution_count": 64,
   "id": "fa652504-ed04-4580-ae2b-d0576e71620b",
   "metadata": {},
   "outputs": [
    {
     "data": {
      "text/plain": [
       "[]"
      ]
     },
     "execution_count": 64,
     "metadata": {},
     "output_type": "execute_result"
    }
   ],
   "source": [
    "l"
   ]
  },
  {
   "cell_type": "code",
   "execution_count": 65,
   "id": "420f491b-503e-41b3-baa5-ab40de076f9c",
   "metadata": {},
   "outputs": [],
   "source": [
    "del l"
   ]
  },
  {
   "cell_type": "code",
   "execution_count": 66,
   "id": "a7f15c21-8a47-4d52-ac9b-1e584988eb64",
   "metadata": {},
   "outputs": [
    {
     "ename": "NameError",
     "evalue": "name 'l' is not defined",
     "output_type": "error",
     "traceback": [
      "\u001b[1;31m---------------------------------------------------------------------------\u001b[0m",
      "\u001b[1;31mNameError\u001b[0m                                 Traceback (most recent call last)",
      "Cell \u001b[1;32mIn[66], line 1\u001b[0m\n\u001b[1;32m----> 1\u001b[0m l\n",
      "\u001b[1;31mNameError\u001b[0m: name 'l' is not defined"
     ]
    }
   ],
   "source": [
    "l \n",
    "# del function remove evrything from the memory"
   ]
  },
  {
   "cell_type": "code",
   "execution_count": 68,
   "id": "ee0f7e60-c623-45fc-b650-72b3d56e6764",
   "metadata": {},
   "outputs": [],
   "source": [
    "l = [10,20,30,40]\n",
    "del l [1]\n",
    "# but del of l remove just value based on index"
   ]
  },
  {
   "cell_type": "code",
   "execution_count": 69,
   "id": "98ebaf6a-69a5-4b9e-bfd4-ba69f12e453c",
   "metadata": {},
   "outputs": [
    {
     "data": {
      "text/plain": [
       "[10, 30, 40]"
      ]
     },
     "execution_count": 69,
     "metadata": {},
     "output_type": "execute_result"
    }
   ],
   "source": [
    "l"
   ]
  },
  {
   "cell_type": "raw",
   "id": "afefa53c-b309-4231-8390-08a17773182f",
   "metadata": {},
   "source": [
    "Option to remove 1 item in a list"
   ]
  },
  {
   "cell_type": "code",
   "execution_count": 70,
   "id": "3f05ba87-13a8-4c44-b91f-c0e821015fe3",
   "metadata": {},
   "outputs": [
    {
     "data": {
      "text/plain": [
       "[10, 30, 40]"
      ]
     },
     "execution_count": 70,
     "metadata": {},
     "output_type": "execute_result"
    }
   ],
   "source": [
    "# to remove iteam 20\n",
    "# 1st\n",
    "l = [10, 20, 30, 40]\n",
    "l.remove(20)\n",
    "l"
   ]
  },
  {
   "cell_type": "code",
   "execution_count": 71,
   "id": "fe1ede31-ffb8-429e-9d33-9e1944631ced",
   "metadata": {},
   "outputs": [
    {
     "data": {
      "text/plain": [
       "[10, 30, 40]"
      ]
     },
     "execution_count": 71,
     "metadata": {},
     "output_type": "execute_result"
    }
   ],
   "source": [
    "#2nd\n",
    "l = [10,20,30,40]\n",
    "l.pop(1)\n",
    "l"
   ]
  },
  {
   "cell_type": "code",
   "execution_count": 73,
   "id": "e98ae097-42e9-4d7b-b000-407517dba7ca",
   "metadata": {},
   "outputs": [
    {
     "data": {
      "text/plain": [
       "[10, 30, 40]"
      ]
     },
     "execution_count": 73,
     "metadata": {},
     "output_type": "execute_result"
    }
   ],
   "source": [
    "# 3rd\n",
    "l = [10,20,30,40]\n",
    "del l [1]\n",
    "l"
   ]
  },
  {
   "cell_type": "code",
   "execution_count": 74,
   "id": "b0322234-d53b-4ba7-84c2-f1f691a71f59",
   "metadata": {},
   "outputs": [
    {
     "data": {
      "text/plain": [
       "[]"
      ]
     },
     "execution_count": 74,
     "metadata": {},
     "output_type": "execute_result"
    }
   ],
   "source": [
    "# for removing all item in to the list \n",
    "l = [10,20,30,40]\n",
    "l.clear()\n",
    "l"
   ]
  },
  {
   "cell_type": "code",
   "execution_count": 75,
   "id": "6b3f9adc-fbf6-4581-a7e0-9c01dcfd5de5",
   "metadata": {},
   "outputs": [
    {
     "data": {
      "text/plain": [
       "[]"
      ]
     },
     "execution_count": 75,
     "metadata": {},
     "output_type": "execute_result"
    }
   ],
   "source": [
    "# for removing entire item 2nd option\n",
    "l = [10,20,30,40,]\n",
    "del l [:]\n",
    "l"
   ]
  },
  {
   "cell_type": "raw",
   "id": "bb84e973-a036-4ef3-b3f9-fbacf0cf90da",
   "metadata": {},
   "source": [
    "For removing multiple option "
   ]
  },
  {
   "cell_type": "code",
   "execution_count": 76,
   "id": "b54d9355-a173-4814-903e-1de420dd9e66",
   "metadata": {},
   "outputs": [
    {
     "data": {
      "text/plain": [
       "[40]"
      ]
     },
     "execution_count": 76,
     "metadata": {},
     "output_type": "execute_result"
    }
   ],
   "source": [
    "# 1st\n",
    "#for loop\n",
    "# 2nd \n",
    "l = [10,20,30,40,]\n",
    "del l [0:3]\n",
    "l"
   ]
  },
  {
   "cell_type": "code",
   "execution_count": 77,
   "id": "34ad53ae-67e6-477e-80c6-6a7da3e76e91",
   "metadata": {},
   "outputs": [
    {
     "ename": "TypeError",
     "evalue": "'tuple' object doesn't support item deletion",
     "output_type": "error",
     "traceback": [
      "\u001b[1;31m---------------------------------------------------------------------------\u001b[0m",
      "\u001b[1;31mTypeError\u001b[0m                                 Traceback (most recent call last)",
      "Cell \u001b[1;32mIn[77], line 5\u001b[0m\n\u001b[0;32m      1\u001b[0m \u001b[38;5;66;03m# In Tuple \u001b[39;00m\n\u001b[0;32m      2\u001b[0m \n\u001b[0;32m      3\u001b[0m \u001b[38;5;66;03m# We can not remove item in to Tuple\u001b[39;00m\n\u001b[0;32m      4\u001b[0m t \u001b[38;5;241m=\u001b[39m (\u001b[38;5;241m10\u001b[39m,\u001b[38;5;241m20\u001b[39m,\u001b[38;5;241m30\u001b[39m,\u001b[38;5;241m40\u001b[39m)\n\u001b[1;32m----> 5\u001b[0m \u001b[38;5;28;01mdel\u001b[39;00m t [\u001b[38;5;241m0\u001b[39m]\n\u001b[0;32m      6\u001b[0m t\n",
      "\u001b[1;31mTypeError\u001b[0m: 'tuple' object doesn't support item deletion"
     ]
    }
   ],
   "source": [
    "# In Tuple \n",
    "\n",
    "# We can not remove item in to Tuple\n",
    "t = (10,20,30,40)\n",
    "del t [0]\n",
    "t\n",
    "# it will show errore"
   ]
  },
  {
   "cell_type": "markdown",
   "id": "c3d0c25d-b698-4029-9b3f-c5456b11e67f",
   "metadata": {},
   "source": [
    "#### interview question\n",
    "#### Q:-select tuple of your choice where one item should be list.inside that list \n",
    "#### can i add 1 value of my choice ?"
   ]
  },
  {
   "cell_type": "code",
   "execution_count": 82,
   "id": "b2def446-2be8-4d99-90e2-8eecf92cca76",
   "metadata": {},
   "outputs": [
    {
     "data": {
      "text/plain": [
       "(1, 2, 3, [4, 5, 6])"
      ]
     },
     "execution_count": 82,
     "metadata": {},
     "output_type": "execute_result"
    }
   ],
   "source": [
    "t = (1,2,3,[4,5])   # total 4 item with one list item\n",
    "t[-1].append(6)\n",
    "t"
   ]
  },
  {
   "cell_type": "code",
   "execution_count": 83,
   "id": "bddcfd73-1052-4e64-850e-7475e140d553",
   "metadata": {},
   "outputs": [
    {
     "name": "stdout",
     "output_type": "stream",
     "text": [
      "(1, 2, 3)\n"
     ]
    }
   ],
   "source": [
    "t = (1,2,3)\n",
    "print(t)"
   ]
  },
  {
   "cell_type": "code",
   "execution_count": 85,
   "id": "2c279094-7794-4e5e-a3bf-00b26dfb42c4",
   "metadata": {},
   "outputs": [
    {
     "data": {
      "text/plain": [
       "(45, 54, 70, [89, 900, 91], (22, 23, 26), 'Srk')"
      ]
     },
     "execution_count": 85,
     "metadata": {},
     "output_type": "execute_result"
    }
   ],
   "source": [
    "# Here is the question i want to replace 90 to 900.\n",
    "t =(45,54,70,[89,90,91],(22,23,26),'Srk')\n",
    "# list item can replcae\n",
    "t[3][1]=(900)\n",
    "t"
   ]
  },
  {
   "cell_type": "code",
   "execution_count": 86,
   "id": "3978fc7e-fd42-4022-b1d7-0b398178ac1d",
   "metadata": {},
   "outputs": [],
   "source": [
    "t [3].clear()"
   ]
  },
  {
   "cell_type": "code",
   "execution_count": 87,
   "id": "0d75adb0-4659-4915-862a-372df32f8437",
   "metadata": {},
   "outputs": [
    {
     "data": {
      "text/plain": [
       "(45, 54, 70, [], (22, 23, 26), 'Srk')"
      ]
     },
     "execution_count": 87,
     "metadata": {},
     "output_type": "execute_result"
    }
   ],
   "source": [
    "t"
   ]
  },
  {
   "cell_type": "raw",
   "id": "a9311501-0b61-4e37-9b18-aa59c01b48db",
   "metadata": {},
   "source": [
    "--------------------Tuple------------End------------------"
   ]
  }
 ],
 "metadata": {
  "kernelspec": {
   "display_name": "Python 3 (ipykernel)",
   "language": "python",
   "name": "python3"
  },
  "language_info": {
   "codemirror_mode": {
    "name": "ipython",
    "version": 3
   },
   "file_extension": ".py",
   "mimetype": "text/x-python",
   "name": "python",
   "nbconvert_exporter": "python",
   "pygments_lexer": "ipython3",
   "version": "3.12.7"
  }
 },
 "nbformat": 4,
 "nbformat_minor": 5
}
