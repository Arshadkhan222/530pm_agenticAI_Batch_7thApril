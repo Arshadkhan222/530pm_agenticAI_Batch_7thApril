{
 "cells": [
  {
   "cell_type": "raw",
   "id": "d7579356-f187-4d29-826b-2855983ab7ef",
   "metadata": {},
   "source": [
    "In prevoius class i have discussed about these function\n",
    "*Data Type\n",
    "int, float, bool, String,\n",
    "Function:-\n",
    ".type()\n",
    ".id()\n",
    ".len()\n",
    ".print()\n",
    "\n",
    "*Typecasting\n"
   ]
  },
  {
   "cell_type": "markdown",
   "id": "666222ff-6a81-432b-a829-27d1ceaf7ad7",
   "metadata": {},
   "source": [
    "# Input Function"
   ]
  },
  {
   "cell_type": "raw",
   "id": "ff871411-0ab6-4e48-a51a-aec5cb91d1e4",
   "metadata": {},
   "source": [
    "- Asking the user to give value is called input function.\n",
    "- By default it takes as 'str' value.\n",
    "- input fuction popop a box in which we have to give input."
   ]
  },
  {
   "cell_type": "code",
   "execution_count": 13,
   "id": "218a8659-ab1f-4004-8531-00372b0c4d12",
   "metadata": {},
   "outputs": [
    {
     "name": "stdin",
     "output_type": "stream",
     "text": [
      " 24\n"
     ]
    },
    {
     "data": {
      "text/plain": [
       "'24'"
      ]
     },
     "execution_count": 13,
     "metadata": {},
     "output_type": "execute_result"
    }
   ],
   "source": [
    "input()"
   ]
  },
  {
   "cell_type": "code",
   "execution_count": 15,
   "id": "3f40ce3a-8a75-4b40-9410-c511d40b763d",
   "metadata": {},
   "outputs": [
    {
     "name": "stdin",
     "output_type": "stream",
     "text": [
      " 25\n"
     ]
    }
   ],
   "source": [
    "a = input()"
   ]
  },
  {
   "cell_type": "code",
   "execution_count": 16,
   "id": "5c6100d3-010e-40aa-bc84-785046e8003d",
   "metadata": {},
   "outputs": [
    {
     "data": {
      "text/plain": [
       "'25'"
      ]
     },
     "execution_count": 16,
     "metadata": {},
     "output_type": "execute_result"
    }
   ],
   "source": [
    "a"
   ]
  },
  {
   "cell_type": "code",
   "execution_count": 17,
   "id": "54233252-d9d8-4bab-9324-4c836df5079f",
   "metadata": {},
   "outputs": [
    {
     "data": {
      "text/plain": [
       "str"
      ]
     },
     "execution_count": 17,
     "metadata": {},
     "output_type": "execute_result"
    }
   ],
   "source": [
    "type(a)"
   ]
  },
  {
   "cell_type": "code",
   "execution_count": 24,
   "id": "517bf213-c76c-43e2-ae4b-b28f42d805bb",
   "metadata": {},
   "outputs": [
    {
     "name": "stdin",
     "output_type": "stream",
     "text": [
      "Enter your name : arshad\n"
     ]
    }
   ],
   "source": [
    "a = input('Enter your name :')"
   ]
  },
  {
   "cell_type": "code",
   "execution_count": 27,
   "id": "066cee14-684f-42e6-98b2-d182a4c6fad7",
   "metadata": {},
   "outputs": [
    {
     "name": "stdin",
     "output_type": "stream",
     "text": [
      " 24\n"
     ]
    }
   ],
   "source": [
    "a = input()"
   ]
  },
  {
   "cell_type": "code",
   "execution_count": 28,
   "id": "bfef0a50-abe6-4a2a-a7f4-02ac43e6f04f",
   "metadata": {},
   "outputs": [
    {
     "data": {
      "text/plain": [
       "44"
      ]
     },
     "execution_count": 28,
     "metadata": {},
     "output_type": "execute_result"
    }
   ],
   "source": [
    "int(a) + 20  # for converting str to int."
   ]
  },
  {
   "cell_type": "raw",
   "id": "c98a7d76-4058-4c21-babc-a0f00a33ab5a",
   "metadata": {},
   "source": [
    "* first right side part will execute & and letter it will \n",
    "in left side value\n",
    "* if you have multiple bracket((())) 1st inner bracket content be \n",
    "executed (This function called functinnol programming)"
   ]
  },
  {
   "cell_type": "code",
   "execution_count": 2,
   "id": "f2688436-e5f2-4cbc-bb3e-da63ac663cf9",
   "metadata": {},
   "outputs": [
    {
     "name": "stdin",
     "output_type": "stream",
     "text": [
      "enter your age : your age is : 24\n"
     ]
    }
   ],
   "source": [
    "a = int(input('enter your age : your age is :'))"
   ]
  },
  {
   "cell_type": "code",
   "execution_count": 3,
   "id": "009f9af0-a527-4459-bb4a-b7617a7fac9f",
   "metadata": {},
   "outputs": [
    {
     "data": {
      "text/plain": [
       "24"
      ]
     },
     "execution_count": 3,
     "metadata": {},
     "output_type": "execute_result"
    }
   ],
   "source": [
    "a"
   ]
  },
  {
   "cell_type": "code",
   "execution_count": 4,
   "id": "d894d490-0f4b-44ac-a1a3-87c7cb755ea7",
   "metadata": {},
   "outputs": [
    {
     "data": {
      "text/plain": [
       "int"
      ]
     },
     "execution_count": 4,
     "metadata": {},
     "output_type": "execute_result"
    }
   ],
   "source": [
    "type(a)"
   ]
  },
  {
   "cell_type": "code",
   "execution_count": 5,
   "id": "046a2507-5147-4d1b-a11a-e6023b9e5276",
   "metadata": {},
   "outputs": [
    {
     "data": {
      "text/plain": [
       "'20'"
      ]
     },
     "execution_count": 5,
     "metadata": {},
     "output_type": "execute_result"
    }
   ],
   "source": [
    "str(int(float(20)))"
   ]
  },
  {
   "cell_type": "code",
   "execution_count": 6,
   "id": "9f18b564-66de-474c-ab31-1ef95af79784",
   "metadata": {},
   "outputs": [
    {
     "name": "stdin",
     "output_type": "stream",
     "text": [
      "Enter your age 23\n"
     ]
    }
   ],
   "source": [
    "a = input(\"Enter your age\")\n"
   ]
  },
  {
   "cell_type": "code",
   "execution_count": 7,
   "id": "99f04254-4161-4560-831a-3a17bc08029f",
   "metadata": {},
   "outputs": [
    {
     "name": "stdin",
     "output_type": "stream",
     "text": [
      "Enter the age : 43\n"
     ]
    }
   ],
   "source": [
    "a = int(input(\"Enter the age :\"))"
   ]
  },
  {
   "cell_type": "markdown",
   "id": "0ce4968d-097d-4125-88e7-9fc1616e181b",
   "metadata": {},
   "source": [
    "#### eval ():-"
   ]
  },
  {
   "cell_type": "raw",
   "id": "c079b24c-4cbe-4c1e-8844-2024a5a439f3",
   "metadata": {},
   "source": [
    "This automatically select a datatype we no need to give"
   ]
  },
  {
   "cell_type": "code",
   "execution_count": 8,
   "id": "d9bfcaee-8f3f-459a-bb73-a5a7f44cf93d",
   "metadata": {},
   "outputs": [
    {
     "name": "stdin",
     "output_type": "stream",
     "text": [
      "Enter your age 21\n"
     ]
    }
   ],
   "source": [
    "age = eval(input('Enter your age'))"
   ]
  },
  {
   "cell_type": "code",
   "execution_count": 9,
   "id": "89f7a679-b9e1-41b1-927c-568ba5a0dede",
   "metadata": {},
   "outputs": [
    {
     "name": "stdin",
     "output_type": "stream",
     "text": [
      "enter your age : 24\n"
     ]
    }
   ],
   "source": [
    "age = eval(input('enter your age :'))"
   ]
  },
  {
   "cell_type": "code",
   "execution_count": 11,
   "id": "25307525-e523-4739-a0ed-de0aba49d4c1",
   "metadata": {},
   "outputs": [
    {
     "name": "stdin",
     "output_type": "stream",
     "text": [
      "Enter your name :  Arshad \n"
     ]
    }
   ],
   "source": [
    "name = input(\"Enter your name : \")"
   ]
  },
  {
   "cell_type": "code",
   "execution_count": 12,
   "id": "fe4d8d4b-e763-4fea-aaae-2dfd1eb87b9f",
   "metadata": {},
   "outputs": [
    {
     "name": "stdout",
     "output_type": "stream",
     "text": [
      "Hey ! Arshad  your age is 24\n"
     ]
    }
   ],
   "source": [
    "print(\"Hey !\", name , \"your age is\", age)"
   ]
  },
  {
   "cell_type": "code",
   "execution_count": 13,
   "id": "7d03fc54-3c6a-4f79-933f-bcbef0697049",
   "metadata": {},
   "outputs": [
    {
     "name": "stdin",
     "output_type": "stream",
     "text": [
      "enter your age 26\n"
     ]
    }
   ],
   "source": [
    "a = eval(input(\"enter your age\"))"
   ]
  },
  {
   "cell_type": "code",
   "execution_count": 14,
   "id": "a7425995-a57c-41df-b684-e672f2022536",
   "metadata": {},
   "outputs": [
    {
     "name": "stdin",
     "output_type": "stream",
     "text": [
      "your name is :  Shabbir khan\n"
     ]
    }
   ],
   "source": [
    "b = input('your name is : ')"
   ]
  },
  {
   "cell_type": "code",
   "execution_count": 16,
   "id": "c6470c6c-fc3d-44e8-af64-393c0c8e9c26",
   "metadata": {},
   "outputs": [
    {
     "name": "stdout",
     "output_type": "stream",
     "text": [
      "Hey !  Shabbir khan your age is : 26\n"
     ]
    }
   ],
   "source": [
    "print('Hey ! ',b,'your age is :', a)"
   ]
  },
  {
   "cell_type": "code",
   "execution_count": 17,
   "id": "7f74f250-232c-442d-8af0-13a8f0a202e1",
   "metadata": {},
   "outputs": [
    {
     "name": "stdout",
     "output_type": "stream",
     "text": [
      "Hey ! my name is  Shabbir khan and age is : 26\n"
     ]
    }
   ],
   "source": [
    "print('Hey ! my name is ',b, 'and age is :',a)"
   ]
  },
  {
   "cell_type": "code",
   "execution_count": 18,
   "id": "b9df92ec-0776-4f74-a5e8-a813ab40b384",
   "metadata": {},
   "outputs": [
    {
     "name": "stdin",
     "output_type": "stream",
     "text": [
      "Enter your age is : 24\n"
     ]
    },
    {
     "data": {
      "text/plain": [
       "'44'"
      ]
     },
     "execution_count": 18,
     "metadata": {},
     "output_type": "execute_result"
    }
   ],
   "source": [
    "b = input('Enter your age is :')\n",
    "str(int(b)+20)"
   ]
  },
  {
   "cell_type": "code",
   "execution_count": 19,
   "id": "89ae3b1b-e665-4d42-8b2e-5ed85f44b609",
   "metadata": {},
   "outputs": [
    {
     "name": "stdin",
     "output_type": "stream",
     "text": [
      "Enter your age : 21\n"
     ]
    },
    {
     "data": {
      "text/plain": [
       "'27'"
      ]
     },
     "execution_count": 19,
     "metadata": {},
     "output_type": "execute_result"
    }
   ],
   "source": [
    "b = input ('Enter your age :')\n",
    "str(int(b)+6)"
   ]
  },
  {
   "cell_type": "code",
   "execution_count": 20,
   "id": "382855c7-3397-4bdd-9b7c-da9495229c8c",
   "metadata": {},
   "outputs": [
    {
     "name": "stdin",
     "output_type": "stream",
     "text": [
      "Enter your age is : 2\n"
     ]
    },
    {
     "data": {
      "text/plain": [
       "23"
      ]
     },
     "execution_count": 20,
     "metadata": {},
     "output_type": "execute_result"
    }
   ],
   "source": [
    "b = input('Enter your age is :')\n",
    "int(b)+21"
   ]
  },
  {
   "cell_type": "code",
   "execution_count": 23,
   "id": "be854f1e-195e-4fcb-a3a0-b796843ef5f7",
   "metadata": {},
   "outputs": [
    {
     "name": "stdin",
     "output_type": "stream",
     "text": [
      "What is your name arshad\n",
      "Enter your age : 24\n"
     ]
    },
    {
     "ename": "TypeError",
     "evalue": "can only concatenate str (not \"int\") to str",
     "output_type": "error",
     "traceback": [
      "\u001b[1;31m---------------------------------------------------------------------------\u001b[0m",
      "\u001b[1;31mTypeError\u001b[0m                                 Traceback (most recent call last)",
      "Cell \u001b[1;32mIn[23], line 3\u001b[0m\n\u001b[0;32m      1\u001b[0m name \u001b[38;5;241m=\u001b[39m\u001b[38;5;28minput\u001b[39m(\u001b[38;5;124m\"\u001b[39m\u001b[38;5;124mWhat is your name\u001b[39m\u001b[38;5;124m\"\u001b[39m)\n\u001b[0;32m      2\u001b[0m age  \u001b[38;5;241m=\u001b[39m \u001b[38;5;28mint\u001b[39m(\u001b[38;5;28minput\u001b[39m(\u001b[38;5;124m'\u001b[39m\u001b[38;5;124mEnter your age :\u001b[39m\u001b[38;5;124m'\u001b[39m))\n\u001b[1;32m----> 3\u001b[0m \u001b[38;5;124m'\u001b[39m\u001b[38;5;124mHey !\u001b[39m\u001b[38;5;124m'\u001b[39m\u001b[38;5;241m+\u001b[39mname\u001b[38;5;241m+\u001b[39m\u001b[38;5;124m'\u001b[39m\u001b[38;5;124myour age is :\u001b[39m\u001b[38;5;124m'\u001b[39m\u001b[38;5;241m+\u001b[39mage\n",
      "\u001b[1;31mTypeError\u001b[0m: can only concatenate str (not \"int\") to str"
     ]
    }
   ],
   "source": [
    "name =input(\"What is your name\")\n",
    "age  = int(input('Enter your age :'))\n",
    "'Hey !'+name+'your age is :'+age  # str and str can be concatenate only"
   ]
  },
  {
   "cell_type": "code",
   "execution_count": 29,
   "id": "cb12ea20-d347-4436-879f-288b94ecfe55",
   "metadata": {},
   "outputs": [
    {
     "name": "stdin",
     "output_type": "stream",
     "text": [
      "How old were you on your starte date ? 21\n",
      "how old are you today. 24\n"
     ]
    },
    {
     "name": "stdout",
     "output_type": "stream",
     "text": [
      "Congratulation on +3year of service ! \n"
     ]
    }
   ],
   "source": [
    "start = input('How old were you on your starte date ?')\n",
    "end  = input ('how old are you today.')\n",
    "print('Congratulation on +'+(str(int(end)-int(start))+'year of service ! '))"
   ]
  },
  {
   "cell_type": "code",
   "execution_count": 32,
   "id": "f5e884dc-2052-423b-af23-7d9da0ea86ca",
   "metadata": {},
   "outputs": [
    {
     "name": "stdin",
     "output_type": "stream",
     "text": [
      "what was you age in 2022 ? 22\n",
      "what old are you today: 24\n"
     ]
    },
    {
     "name": "stdout",
     "output_type": "stream",
     "text": [
      "you are working since 2year \n"
     ]
    }
   ],
   "source": [
    "a = input ('what was you age in 2022 ?')\n",
    "b = input('what old are you today:')\n",
    "print('you are working since '+(str(int(b)-int(a))+'year '))"
   ]
  },
  {
   "cell_type": "code",
   "execution_count": 33,
   "id": "92be2c94-c06c-4ad3-911a-ded62247d9ab",
   "metadata": {},
   "outputs": [
    {
     "data": {
      "text/plain": [
       "'2624'"
      ]
     },
     "execution_count": 33,
     "metadata": {},
     "output_type": "execute_result"
    }
   ],
   "source": [
    "'26'+'24'"
   ]
  },
  {
   "cell_type": "code",
   "execution_count": 34,
   "id": "672db3a3-442e-4232-a265-838e08444a38",
   "metadata": {},
   "outputs": [
    {
     "data": {
      "text/plain": [
       "50"
      ]
     },
     "execution_count": 34,
     "metadata": {},
     "output_type": "execute_result"
    }
   ],
   "source": [
    "int ('26')+int('24')"
   ]
  },
  {
   "cell_type": "code",
   "execution_count": 35,
   "id": "0878f917-3463-4a0e-8414-fbaacae7e212",
   "metadata": {},
   "outputs": [
    {
     "data": {
      "text/plain": [
       "35"
      ]
     },
     "execution_count": 35,
     "metadata": {},
     "output_type": "execute_result"
    }
   ],
   "source": [
    "int ('19')+int('16')"
   ]
  },
  {
   "cell_type": "code",
   "execution_count": 36,
   "id": "1ff1138a-7b21-4de8-9467-3e8514292b6b",
   "metadata": {},
   "outputs": [
    {
     "data": {
      "text/plain": [
       "30"
      ]
     },
     "execution_count": 36,
     "metadata": {},
     "output_type": "execute_result"
    }
   ],
   "source": [
    "int(23)+(7)"
   ]
  },
  {
   "cell_type": "code",
   "execution_count": 37,
   "id": "3735c486-2b74-428e-8f1b-a3d003fd9294",
   "metadata": {},
   "outputs": [
    {
     "data": {
      "text/plain": [
       "20"
      ]
     },
     "execution_count": 37,
     "metadata": {},
     "output_type": "execute_result"
    }
   ],
   "source": [
    "int(12)+int(8)"
   ]
  },
  {
   "cell_type": "code",
   "execution_count": 38,
   "id": "f47b9f97-acdc-4b7b-ae53-d1a388791fc2",
   "metadata": {},
   "outputs": [
    {
     "data": {
      "text/plain": [
       "'50'"
      ]
     },
     "execution_count": 38,
     "metadata": {},
     "output_type": "execute_result"
    }
   ],
   "source": [
    "str(int('25')+int('25'))"
   ]
  },
  {
   "cell_type": "code",
   "execution_count": 39,
   "id": "368d2e2d-9fa0-4806-a418-59d7fa1c3a79",
   "metadata": {},
   "outputs": [
    {
     "data": {
      "text/plain": [
       "'50'"
      ]
     },
     "execution_count": 39,
     "metadata": {},
     "output_type": "execute_result"
    }
   ],
   "source": [
    "str(int(25)+int(25))"
   ]
  },
  {
   "cell_type": "code",
   "execution_count": 41,
   "id": "71d5021e-128b-4271-acd8-41820eb7cc14",
   "metadata": {},
   "outputs": [
    {
     "name": "stdin",
     "output_type": "stream",
     "text": [
      "Enter your hieght : 34\n"
     ]
    },
    {
     "data": {
      "text/plain": [
       "34"
      ]
     },
     "execution_count": 41,
     "metadata": {},
     "output_type": "execute_result"
    }
   ],
   "source": [
    "eval(input('Enter your hieght :'))\n",
    "     "
   ]
  },
  {
   "cell_type": "code",
   "execution_count": 42,
   "id": "850579e7-7e8b-4d46-aa4f-3fb9bbddef62",
   "metadata": {},
   "outputs": [
    {
     "name": "stdin",
     "output_type": "stream",
     "text": [
      "Enter your brother age : 23\n"
     ]
    },
    {
     "data": {
      "text/plain": [
       "23"
      ]
     },
     "execution_count": 42,
     "metadata": {},
     "output_type": "execute_result"
    }
   ],
   "source": [
    "eval(input('Enter your brother age :'))"
   ]
  },
  {
   "cell_type": "code",
   "execution_count": 43,
   "id": "8d047aee-040e-4de0-8e9e-32f85b7c18f4",
   "metadata": {},
   "outputs": [
    {
     "name": "stdin",
     "output_type": "stream",
     "text": [
      "Enter your brother name : Anwar\n",
      "Enter your brother age : 26\n"
     ]
    },
    {
     "name": "stdout",
     "output_type": "stream",
     "text": [
      "Hey bro your name is : Anwar and you are  26 old\n"
     ]
    }
   ],
   "source": [
    "brother = input('Enter your brother name :')\n",
    "age  = input ('Enter your brother age :')\n",
    "print('Hey bro your name is :',brother,'and you are ',age, 'year old')"
   ]
  },
  {
   "cell_type": "code",
   "execution_count": 45,
   "id": "27f23a6d-6431-444b-aee1-95c92f99334a",
   "metadata": {},
   "outputs": [
    {
     "name": "stdin",
     "output_type": "stream",
     "text": [
      "Enter your brother name : adnan\n",
      "Enter your brother age : 21\n"
     ]
    },
    {
     "name": "stdout",
     "output_type": "stream",
     "text": [
      "Hey bro your name is :adnan and you are 21year old\n"
     ]
    }
   ],
   "source": [
    "brother = input('Enter your brother name :')\n",
    "age  = input ('Enter your brother age :')\n",
    "print('Hey bro your name is :'+brother+' and you are '+age+ 'year old')"
   ]
  },
  {
   "cell_type": "markdown",
   "id": "f6b49eb5-7719-4932-8832-5676697645aa",
   "metadata": {},
   "source": [
    "# *Indexing And Slicing "
   ]
  },
  {
   "cell_type": "raw",
   "id": "057afb0e-f9a9-4f97-b874-6b0482367993",
   "metadata": {},
   "source": [
    "--Python indexing starte from zero '0' like(0,1,2,3,4,5,6,7,8,9,)--->positive indexing\n",
    "                            negative indexing <---(-1,-2,-3,-4,-5,-6,-7,-8,-9,-10)"
   ]
  },
  {
   "cell_type": "raw",
   "id": "16cc82bd-2353-424f-9f2b-1ed9529d8629",
   "metadata": {},
   "source": [
    ".extracting single value is called indexing. \n",
    ".extracting multiple value is called slicing.\n",
    ".whenever we will work on indexing then we will use[]."
   ]
  },
  {
   "cell_type": "code",
   "execution_count": 47,
   "id": "21abe88c-f09d-462a-92fe-b64652b0ff2b",
   "metadata": {},
   "outputs": [
    {
     "data": {
      "text/plain": [
       "5"
      ]
     },
     "execution_count": 47,
     "metadata": {},
     "output_type": "execute_result"
    }
   ],
   "source": [
    "a = 'Hello'\n",
    "len(a)"
   ]
  },
  {
   "cell_type": "code",
   "execution_count": 48,
   "id": "40813a19-f81d-45e3-b35e-04b72ee7ef24",
   "metadata": {},
   "outputs": [
    {
     "data": {
      "text/plain": [
       "'H'"
      ]
     },
     "execution_count": 48,
     "metadata": {},
     "output_type": "execute_result"
    }
   ],
   "source": [
    "a [0]"
   ]
  },
  {
   "cell_type": "code",
   "execution_count": 49,
   "id": "4ad56985-2b32-4ec6-ba7f-4a7b7cd5c7aa",
   "metadata": {},
   "outputs": [
    {
     "data": {
      "text/plain": [
       "'e'"
      ]
     },
     "execution_count": 49,
     "metadata": {},
     "output_type": "execute_result"
    }
   ],
   "source": [
    "a[1]"
   ]
  },
  {
   "cell_type": "code",
   "execution_count": 50,
   "id": "ead32cc5-b760-4f2c-851b-ce46dd1602c6",
   "metadata": {},
   "outputs": [
    {
     "data": {
      "text/plain": [
       "'l'"
      ]
     },
     "execution_count": 50,
     "metadata": {},
     "output_type": "execute_result"
    }
   ],
   "source": [
    "a[2]"
   ]
  },
  {
   "cell_type": "code",
   "execution_count": 53,
   "id": "f1f74d7e-6d55-4523-a900-40e569b7201c",
   "metadata": {},
   "outputs": [
    {
     "data": {
      "text/plain": [
       "'l'"
      ]
     },
     "execution_count": 53,
     "metadata": {},
     "output_type": "execute_result"
    }
   ],
   "source": [
    "a[3]"
   ]
  },
  {
   "cell_type": "code",
   "execution_count": 54,
   "id": "5aed2d21-48b1-49c5-8169-39fc7368d183",
   "metadata": {},
   "outputs": [
    {
     "data": {
      "text/plain": [
       "'o'"
      ]
     },
     "execution_count": 54,
     "metadata": {},
     "output_type": "execute_result"
    }
   ],
   "source": [
    "a[4]"
   ]
  },
  {
   "cell_type": "code",
   "execution_count": null,
   "id": "a33d7bac-db07-4b59-91e3-560277a3f336",
   "metadata": {},
   "outputs": [],
   "source": [
    "# Negative indexing"
   ]
  },
  {
   "cell_type": "code",
   "execution_count": 55,
   "id": "d8e7c5d9-35fe-4288-bec9-4d733dc8620b",
   "metadata": {},
   "outputs": [
    {
     "data": {
      "text/plain": [
       "'o'"
      ]
     },
     "execution_count": 55,
     "metadata": {},
     "output_type": "execute_result"
    }
   ],
   "source": [
    "a[-1]"
   ]
  },
  {
   "cell_type": "code",
   "execution_count": 56,
   "id": "978d2e10-7dd9-45f4-8dda-afaf017b47ad",
   "metadata": {},
   "outputs": [
    {
     "data": {
      "text/plain": [
       "'H'"
      ]
     },
     "execution_count": 56,
     "metadata": {},
     "output_type": "execute_result"
    }
   ],
   "source": [
    "a[-5]"
   ]
  },
  {
   "cell_type": "code",
   "execution_count": 57,
   "id": "b2c42233-e3a7-4282-98cf-51f03c907268",
   "metadata": {},
   "outputs": [
    {
     "data": {
      "text/plain": [
       "'l'"
      ]
     },
     "execution_count": 57,
     "metadata": {},
     "output_type": "execute_result"
    }
   ],
   "source": [
    "a[-3]"
   ]
  },
  {
   "cell_type": "code",
   "execution_count": 58,
   "id": "93c09374-cd07-46fb-9855-2e55ea4ba312",
   "metadata": {},
   "outputs": [
    {
     "data": {
      "text/plain": [
       "'6'"
      ]
     },
     "execution_count": 58,
     "metadata": {},
     "output_type": "execute_result"
    }
   ],
   "source": [
    "a = 24643\n",
    "str(a)[2]"
   ]
  },
  {
   "cell_type": "code",
   "execution_count": 59,
   "id": "4603ec2f-ce14-4852-bb58-fec83d7cb5ae",
   "metadata": {},
   "outputs": [
    {
     "data": {
      "text/plain": [
       "'2'"
      ]
     },
     "execution_count": 59,
     "metadata": {},
     "output_type": "execute_result"
    }
   ],
   "source": [
    "str(a)[0]"
   ]
  },
  {
   "cell_type": "code",
   "execution_count": 62,
   "id": "58d91cac-06f4-45e0-a819-5fe097ced7ad",
   "metadata": {},
   "outputs": [
    {
     "data": {
      "text/plain": [
       "6"
      ]
     },
     "execution_count": 62,
     "metadata": {},
     "output_type": "execute_result"
    }
   ],
   "source": [
    "#if i want integer number\n",
    "int(str(a)[2])"
   ]
  },
  {
   "cell_type": "code",
   "execution_count": 64,
   "id": "97ee3f36-003d-4cc6-88d1-b10f63ff08c9",
   "metadata": {},
   "outputs": [
    {
     "data": {
      "text/plain": [
       "3"
      ]
     },
     "execution_count": 64,
     "metadata": {},
     "output_type": "execute_result"
    }
   ],
   "source": [
    "int(str(a)[4])"
   ]
  },
  {
   "cell_type": "markdown",
   "id": "76ffcf84-1ea2-4a5f-8e62-2582259f65eb",
   "metadata": {},
   "source": [
    "# * Slicing:-"
   ]
  },
  {
   "cell_type": "raw",
   "id": "3066be35-4ecc-4dcc-b86f-9b153b00e8f8",
   "metadata": {},
   "source": [
    "(for extracting multiple value)\n",
    "Syntex:- varaible name[starte indexing number: end indexing number: step(not include)]"
   ]
  },
  {
   "cell_type": "code",
   "execution_count": 66,
   "id": "303992da-c50a-4cc3-8962-be35bb2da5b4",
   "metadata": {},
   "outputs": [
    {
     "data": {
      "text/plain": [
       "'Hello'"
      ]
     },
     "execution_count": 66,
     "metadata": {},
     "output_type": "execute_result"
    }
   ],
   "source": [
    "a = \"Hello\"\n",
    "a[0:5:1]"
   ]
  },
  {
   "cell_type": "code",
   "execution_count": 67,
   "id": "ddf0cb6e-66c0-4eb9-9841-686c4aa755a2",
   "metadata": {},
   "outputs": [
    {
     "data": {
      "text/plain": [
       "'Hell'"
      ]
     },
     "execution_count": 67,
     "metadata": {},
     "output_type": "execute_result"
    }
   ],
   "source": [
    "a[0:4:1]  # last '1' is count becuse that is step"
   ]
  },
  {
   "cell_type": "code",
   "execution_count": 70,
   "id": "411eaee8-df81-4d92-bb66-ddaadc34caff",
   "metadata": {},
   "outputs": [
    {
     "data": {
      "text/plain": [
       "'Hl'"
      ]
     },
     "execution_count": 70,
     "metadata": {},
     "output_type": "execute_result"
    }
   ],
   "source": [
    "a[0:4:2]  # here 2 step will be (2 number leave )"
   ]
  },
  {
   "cell_type": "code",
   "execution_count": 73,
   "id": "8a1cad52-c0f1-4751-a833-3388a7fb9709",
   "metadata": {},
   "outputs": [
    {
     "data": {
      "text/plain": [
       "'olle'"
      ]
     },
     "execution_count": 73,
     "metadata": {},
     "output_type": "execute_result"
    }
   ],
   "source": [
    "a[5:0:-1]"
   ]
  },
  {
   "cell_type": "code",
   "execution_count": 74,
   "id": "5731287b-0d4e-4684-8199-87d841b91708",
   "metadata": {},
   "outputs": [
    {
     "data": {
      "text/plain": [
       "'ol'"
      ]
     },
     "execution_count": 74,
     "metadata": {},
     "output_type": "execute_result"
    }
   ],
   "source": [
    "a[4:0:-2]"
   ]
  },
  {
   "cell_type": "code",
   "execution_count": 75,
   "id": "eef9c8a0-c316-411d-85e3-1d64f676ec1d",
   "metadata": {},
   "outputs": [
    {
     "data": {
      "text/plain": [
       "'Hello'"
      ]
     },
     "execution_count": 75,
     "metadata": {},
     "output_type": "execute_result"
    }
   ],
   "source": [
    "a[0:100:1]  # here if number is outof index bydefult it will countit last one."
   ]
  },
  {
   "cell_type": "code",
   "execution_count": 76,
   "id": "ea28c098-7db0-48d2-9657-4015ca43557e",
   "metadata": {},
   "outputs": [
    {
     "data": {
      "text/plain": [
       "'Hello'"
      ]
     },
     "execution_count": 76,
     "metadata": {},
     "output_type": "execute_result"
    }
   ],
   "source": [
    "a[0:5:1]"
   ]
  },
  {
   "cell_type": "code",
   "execution_count": 77,
   "id": "abe08c83-b9a9-4064-8fd8-8f6278a60b8f",
   "metadata": {},
   "outputs": [],
   "source": [
    "#if you donot write 1st number bydefault it will take as zero."
   ]
  },
  {
   "cell_type": "code",
   "execution_count": 78,
   "id": "9db84af8-891a-4159-a39e-fc4fd74a3dc4",
   "metadata": {},
   "outputs": [
    {
     "data": {
      "text/plain": [
       "'Hello'"
      ]
     },
     "execution_count": 78,
     "metadata": {},
     "output_type": "execute_result"
    }
   ],
   "source": [
    "a[:5:1]"
   ]
  },
  {
   "cell_type": "code",
   "execution_count": 79,
   "id": "e4013606-3f1d-440b-8f4d-b684ce004517",
   "metadata": {},
   "outputs": [
    {
     "data": {
      "text/plain": [
       "'Hel'"
      ]
     },
     "execution_count": 79,
     "metadata": {},
     "output_type": "execute_result"
    }
   ],
   "source": [
    "a[:3:1]"
   ]
  },
  {
   "cell_type": "code",
   "execution_count": 80,
   "id": "d3158579-39a4-431b-b987-d8411e3ef990",
   "metadata": {},
   "outputs": [
    {
     "data": {
      "text/plain": [
       "''"
      ]
     },
     "execution_count": 80,
     "metadata": {},
     "output_type": "execute_result"
    }
   ],
   "source": [
    "a[:5:-1]"
   ]
  },
  {
   "cell_type": "code",
   "execution_count": 81,
   "id": "3769ce25-9fe9-4918-9f93-8be884b2a016",
   "metadata": {},
   "outputs": [
    {
     "data": {
      "text/plain": [
       "'o'"
      ]
     },
     "execution_count": 81,
     "metadata": {},
     "output_type": "execute_result"
    }
   ],
   "source": [
    "a[:3:-1]"
   ]
  },
  {
   "cell_type": "code",
   "execution_count": 82,
   "id": "23294753-4642-46d5-b0ec-d20f77e53a2f",
   "metadata": {},
   "outputs": [
    {
     "data": {
      "text/plain": [
       "'Hel'"
      ]
     },
     "execution_count": 82,
     "metadata": {},
     "output_type": "execute_result"
    }
   ],
   "source": [
    "a[:3:1]"
   ]
  },
  {
   "cell_type": "code",
   "execution_count": 83,
   "id": "ad280bc7-b3ef-4e21-bd62-103f34a6c27e",
   "metadata": {},
   "outputs": [],
   "source": [
    "# If i donot write central value so bydefult it will take last value as central"
   ]
  },
  {
   "cell_type": "code",
   "execution_count": 84,
   "id": "381c2d23-db5b-456d-82ec-e513d76e84aa",
   "metadata": {},
   "outputs": [
    {
     "data": {
      "text/plain": [
       "'Hello'"
      ]
     },
     "execution_count": 84,
     "metadata": {},
     "output_type": "execute_result"
    }
   ],
   "source": [
    "a[0::1]\n",
    "# here it will take len().\n",
    "# a[0:len(a):1]"
   ]
  },
  {
   "cell_type": "code",
   "execution_count": 85,
   "id": "5b478665-b9a9-448b-bb14-dab24e46e0b2",
   "metadata": {},
   "outputs": [
    {
     "data": {
      "text/plain": [
       "'H'"
      ]
     },
     "execution_count": 85,
     "metadata": {},
     "output_type": "execute_result"
    }
   ],
   "source": [
    "a[0::-1]"
   ]
  },
  {
   "cell_type": "code",
   "execution_count": 86,
   "id": "82a36c53-493b-4496-a776-1dc335fea958",
   "metadata": {},
   "outputs": [
    {
     "data": {
      "text/plain": [
       "'Hello'"
      ]
     },
     "execution_count": 86,
     "metadata": {},
     "output_type": "execute_result"
    }
   ],
   "source": [
    "# if i donot write last value so bydefault it will be +1\n",
    "a[0:5:]"
   ]
  },
  {
   "cell_type": "code",
   "execution_count": 87,
   "id": "32a09700-0598-4299-b1cb-4ef135226b67",
   "metadata": {},
   "outputs": [
    {
     "data": {
      "text/plain": [
       "'Hello'"
      ]
     },
     "execution_count": 87,
     "metadata": {},
     "output_type": "execute_result"
    }
   ],
   "source": [
    "# both are correct\n",
    "a[0:5]"
   ]
  },
  {
   "cell_type": "code",
   "execution_count": 88,
   "id": "fc9d69bf-6fc9-4ed0-939b-343460267a68",
   "metadata": {},
   "outputs": [
    {
     "data": {
      "text/plain": [
       "''"
      ]
     },
     "execution_count": 88,
     "metadata": {},
     "output_type": "execute_result"
    }
   ],
   "source": [
    "a = 'data science'\n",
    "a[0:10:-1]"
   ]
  },
  {
   "cell_type": "code",
   "execution_count": 89,
   "id": "ed833237-2a60-4d40-bd98-636720cc2aa7",
   "metadata": {},
   "outputs": [
    {
     "data": {
      "text/plain": [
       "'ta scien'"
      ]
     },
     "execution_count": 89,
     "metadata": {},
     "output_type": "execute_result"
    }
   ],
   "source": [
    "a[2:10]"
   ]
  },
  {
   "cell_type": "code",
   "execution_count": 90,
   "id": "8f667a0a-fa6f-49c0-a114-00631c54fd39",
   "metadata": {},
   "outputs": [
    {
     "data": {
      "text/plain": [
       "'data science'"
      ]
     },
     "execution_count": 90,
     "metadata": {},
     "output_type": "execute_result"
    }
   ],
   "source": [
    "# if i donot last index number than i will use this \n",
    "a[0::1]"
   ]
  },
  {
   "cell_type": "code",
   "execution_count": 91,
   "id": "79a122a5-dc58-44c3-a5cf-eba6d5129fb7",
   "metadata": {},
   "outputs": [
    {
     "data": {
      "text/plain": [
       "'data science'"
      ]
     },
     "execution_count": 91,
     "metadata": {},
     "output_type": "execute_result"
    }
   ],
   "source": [
    "# if i know last index number number\n",
    "a[0:12]"
   ]
  },
  {
   "cell_type": "code",
   "execution_count": 92,
   "id": "36788615-4421-43cb-90d4-6d0c5e0b2348",
   "metadata": {},
   "outputs": [
    {
     "data": {
      "text/plain": [
       "'ecneics atad'"
      ]
     },
     "execution_count": 92,
     "metadata": {},
     "output_type": "execute_result"
    }
   ],
   "source": [
    "# for reversing\n",
    "a[::-1]"
   ]
  },
  {
   "cell_type": "code",
   "execution_count": 98,
   "id": "54f80a8e-3768-422d-8f7a-7e91418d7b69",
   "metadata": {},
   "outputs": [
    {
     "data": {
      "text/plain": [
       "'data science'"
      ]
     },
     "execution_count": 98,
     "metadata": {},
     "output_type": "execute_result"
    }
   ],
   "source": [
    "a[0:12:1]"
   ]
  },
  {
   "cell_type": "code",
   "execution_count": 99,
   "id": "9fd6bbcd-a0b8-4fc7-b8ea-346477f4ab91",
   "metadata": {},
   "outputs": [
    {
     "data": {
      "text/plain": [
       "'data science'"
      ]
     },
     "execution_count": 99,
     "metadata": {},
     "output_type": "execute_result"
    }
   ],
   "source": [
    "#or//\n",
    "a[0:12]"
   ]
  },
  {
   "cell_type": "code",
   "execution_count": 103,
   "id": "466d8475-87e2-4db7-ae9a-7601d389d377",
   "metadata": {},
   "outputs": [
    {
     "data": {
      "text/plain": [
       "'data scienc'"
      ]
     },
     "execution_count": 103,
     "metadata": {},
     "output_type": "execute_result"
    }
   ],
   "source": [
    "#or//\n",
    "a[-14:-1]"
   ]
  },
  {
   "cell_type": "code",
   "execution_count": 107,
   "id": "36d922a2-9cdc-4697-957f-b7ee7be5d226",
   "metadata": {},
   "outputs": [
    {
     "data": {
      "text/plain": [
       "'data scienc'"
      ]
     },
     "execution_count": 107,
     "metadata": {},
     "output_type": "execute_result"
    }
   ],
   "source": [
    "#or// \n",
    "a[-12:-1:1]"
   ]
  },
  {
   "cell_type": "raw",
   "id": "d3d9c666-88a5-420c-ae44-5ef307021d17",
   "metadata": {},
   "source": [
    "So here the indexing --------------is completed."
   ]
  }
 ],
 "metadata": {
  "kernelspec": {
   "display_name": "Python 3 (ipykernel)",
   "language": "python",
   "name": "python3"
  },
  "language_info": {
   "codemirror_mode": {
    "name": "ipython",
    "version": 3
   },
   "file_extension": ".py",
   "mimetype": "text/x-python",
   "name": "python",
   "nbconvert_exporter": "python",
   "pygments_lexer": "ipython3",
   "version": "3.12.7"
  }
 },
 "nbformat": 4,
 "nbformat_minor": 5
}
