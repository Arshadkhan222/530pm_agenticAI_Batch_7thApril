{
 "cells": [
  {
   "cell_type": "markdown",
   "id": "f473857f-5efc-4a75-8081-b33bbff1db41",
   "metadata": {},
   "source": [
    "# * Varaibles\n"
   ]
  },
  {
   "cell_type": "code",
   "execution_count": 1,
   "id": "6fb2c917-d9d0-4b61-91f5-f52dd3fbd3ee",
   "metadata": {},
   "outputs": [],
   "source": [
    "## varaibles:- A varaibles is name that refere to a memory location where a value is stored."
   ]
  },
  {
   "cell_type": "code",
   "execution_count": 2,
   "id": "51be56c0-65a4-4ea5-9f02-78d5a600d9d7",
   "metadata": {},
   "outputs": [
    {
     "data": {
      "text/plain": [
       "15"
      ]
     },
     "execution_count": 2,
     "metadata": {},
     "output_type": "execute_result"
    }
   ],
   "source": [
    "age = 15\n",
    "age"
   ]
  },
  {
   "cell_type": "code",
   "execution_count": 3,
   "id": "5cc53e54-18a9-489d-912d-319386dfb252",
   "metadata": {},
   "outputs": [],
   "source": [
    "# here age is a veraibles and storing '15' is value"
   ]
  },
  {
   "cell_type": "code",
   "execution_count": 4,
   "id": "8ec7525b-5928-4375-9249-8fc181874098",
   "metadata": {},
   "outputs": [],
   "source": [
    "price = 34"
   ]
  },
  {
   "cell_type": "code",
   "execution_count": null,
   "id": "4ffedbb2-77ff-47af-a512-9121ab95429f",
   "metadata": {},
   "outputs": [],
   "source": [
    "# integer"
   ]
  },
  {
   "cell_type": "code",
   "execution_count": 5,
   "id": "0ccdf029-7914-48f2-9be8-72df1e2fb555",
   "metadata": {},
   "outputs": [
    {
     "name": "stdout",
     "output_type": "stream",
     "text": [
      "34\n"
     ]
    }
   ],
   "source": [
    "print(price)"
   ]
  },
  {
   "cell_type": "code",
   "execution_count": 6,
   "id": "3dc6c0a3-07bb-45cb-864b-0a00395e86d8",
   "metadata": {},
   "outputs": [],
   "source": [
    "# Float "
   ]
  },
  {
   "cell_type": "code",
   "execution_count": 7,
   "id": "89e3a8bc-fdf4-4166-8c13-0a249a6fd0cc",
   "metadata": {},
   "outputs": [],
   "source": [
    "petrol = 99.90"
   ]
  },
  {
   "cell_type": "code",
   "execution_count": 8,
   "id": "d5e00560-e3eb-4d8c-8251-a176cc7c9b4c",
   "metadata": {},
   "outputs": [
    {
     "name": "stdout",
     "output_type": "stream",
     "text": [
      "99.9\n"
     ]
    }
   ],
   "source": [
    "print(petrol)"
   ]
  },
  {
   "cell_type": "code",
   "execution_count": 9,
   "id": "ba70670a-04ef-422d-a977-8bcd133b57da",
   "metadata": {},
   "outputs": [],
   "source": [
    "# this is float value"
   ]
  },
  {
   "cell_type": "code",
   "execution_count": 10,
   "id": "47538c44-f060-4db7-8998-158129b2aed7",
   "metadata": {},
   "outputs": [],
   "source": [
    "name = 'arshad'"
   ]
  },
  {
   "cell_type": "code",
   "execution_count": 11,
   "id": "0d707dff-5347-4c20-a2aa-0366b9363e7e",
   "metadata": {},
   "outputs": [
    {
     "name": "stdout",
     "output_type": "stream",
     "text": [
      "arshad\n"
     ]
    }
   ],
   "source": [
    "print(name)"
   ]
  },
  {
   "cell_type": "code",
   "execution_count": 12,
   "id": "b193479f-efbe-458e-bce4-8990d2fbe460",
   "metadata": {},
   "outputs": [],
   "source": [
    "# this is string type"
   ]
  },
  {
   "cell_type": "code",
   "execution_count": 13,
   "id": "fb79625d-dd4e-4dae-b3e0-3bfd8a515bdb",
   "metadata": {},
   "outputs": [],
   "source": [
    "is_active = True"
   ]
  },
  {
   "cell_type": "code",
   "execution_count": 14,
   "id": "949cd1a4-c485-4190-bdee-111bdbf90ccf",
   "metadata": {},
   "outputs": [
    {
     "name": "stdout",
     "output_type": "stream",
     "text": [
      "True\n"
     ]
    }
   ],
   "source": [
    "print(is_active)"
   ]
  },
  {
   "cell_type": "code",
   "execution_count": 15,
   "id": "6768a78e-148a-43ce-bb88-559e78ce4deb",
   "metadata": {},
   "outputs": [],
   "source": [
    "# this is boolean which gave output always as True or False"
   ]
  },
  {
   "cell_type": "markdown",
   "id": "67dddeb3-a2e2-43a0-95a9-6e646142ef35",
   "metadata": {},
   "source": [
    "### asinging value to varaibles"
   ]
  },
  {
   "cell_type": "code",
   "execution_count": 17,
   "id": "755816c2-f5cb-48f1-9151-ca309ad74ac7",
   "metadata": {},
   "outputs": [],
   "source": [
    "a = 5\n",
    "b = 3\n",
    "#Adding two varaible and storing in  the result "
   ]
  },
  {
   "cell_type": "code",
   "execution_count": 22,
   "id": "1a0e4bc1-9e7b-4951-addd-1d611b02758e",
   "metadata": {},
   "outputs": [],
   "source": [
    "result = a + b"
   ]
  },
  {
   "cell_type": "code",
   "execution_count": 23,
   "id": "ae1038e2-f875-47cf-972e-ac1a3d3f086a",
   "metadata": {},
   "outputs": [
    {
     "name": "stdout",
     "output_type": "stream",
     "text": [
      "8\n"
     ]
    }
   ],
   "source": [
    "print(result)"
   ]
  },
  {
   "cell_type": "code",
   "execution_count": 24,
   "id": "18381d07-faaa-4c48-9100-d543d9337a98",
   "metadata": {},
   "outputs": [],
   "source": [
    "# changing the value of varaible \n",
    "# intail value"
   ]
  },
  {
   "cell_type": "code",
   "execution_count": 25,
   "id": "05d7109b-963c-49a6-9ee6-92e601e8bd3e",
   "metadata": {},
   "outputs": [],
   "source": [
    "score = 50"
   ]
  },
  {
   "cell_type": "code",
   "execution_count": 26,
   "id": "1fdee8bd-14e1-4368-bd7e-b6ce3fbac957",
   "metadata": {},
   "outputs": [
    {
     "name": "stdout",
     "output_type": "stream",
     "text": [
      "50\n"
     ]
    }
   ],
   "source": [
    "print(score)"
   ]
  },
  {
   "cell_type": "code",
   "execution_count": 27,
   "id": "1176d2cf-636c-4b48-ae46-ce0b51e0ed22",
   "metadata": {},
   "outputs": [],
   "source": [
    "# changing the value of score "
   ]
  },
  {
   "cell_type": "code",
   "execution_count": 28,
   "id": "447ec4a6-fed6-42a6-8bfc-0dcc6d47ea33",
   "metadata": {},
   "outputs": [],
   "source": [
    "score = 100"
   ]
  },
  {
   "cell_type": "code",
   "execution_count": 29,
   "id": "7d0a4015-dc50-418c-807e-a4edd931d84b",
   "metadata": {},
   "outputs": [
    {
     "name": "stdout",
     "output_type": "stream",
     "text": [
      "100\n"
     ]
    }
   ],
   "source": [
    "print(score)"
   ]
  },
  {
   "cell_type": "markdown",
   "id": "a6d4213d-c49b-46d8-b271-da57b3f666d3",
   "metadata": {},
   "source": [
    "## concatenating string"
   ]
  },
  {
   "cell_type": "code",
   "execution_count": 31,
   "id": "c771f879-a19f-4f95-9b4b-bdc2b8b54df2",
   "metadata": {},
   "outputs": [],
   "source": [
    "# joing to string is called contenating"
   ]
  },
  {
   "cell_type": "code",
   "execution_count": 32,
   "id": "2d207d42-5316-488c-b762-27fbe462aefc",
   "metadata": {},
   "outputs": [],
   "source": [
    "first_name = \"john\"     \n",
    "last_name = \"dev\""
   ]
  },
  {
   "cell_type": "code",
   "execution_count": 33,
   "id": "2ce3f59b-2c0e-4952-a3b2-fd810267d493",
   "metadata": {},
   "outputs": [
    {
     "name": "stdout",
     "output_type": "stream",
     "text": [
      "john dev\n"
     ]
    }
   ],
   "source": [
    "full_name = first_name+\" \"+last_name\n",
    "print(full_name)"
   ]
  },
  {
   "cell_type": "code",
   "execution_count": 34,
   "id": "cf004015-6fc4-432e-8274-f87edbbee9f7",
   "metadata": {},
   "outputs": [],
   "source": [
    "# using varaibles in calculation"
   ]
  },
  {
   "cell_type": "code",
   "execution_count": 35,
   "id": "c5d415f5-c6d9-4ac9-ab19-be4eeb5dbecc",
   "metadata": {},
   "outputs": [
    {
     "name": "stdout",
     "output_type": "stream",
     "text": [
      "15\n"
     ]
    }
   ],
   "source": [
    "length = 10\n",
    "width = 5\n",
    "area = length+width\n",
    "print(area)"
   ]
  },
  {
   "cell_type": "code",
   "execution_count": 36,
   "id": "a2d144bc-2807-4beb-aba9-4f6c3e49cdbe",
   "metadata": {},
   "outputs": [],
   "source": [
    "# Reassinging valures to varaibles"
   ]
  },
  {
   "cell_type": "code",
   "execution_count": 37,
   "id": "06bc18db-37e8-439b-b929-e261e042fe9e",
   "metadata": {},
   "outputs": [
    {
     "name": "stdout",
     "output_type": "stream",
     "text": [
      "10\n"
     ]
    }
   ],
   "source": [
    "x = 10\n",
    "print(x)"
   ]
  },
  {
   "cell_type": "code",
   "execution_count": 38,
   "id": "2b941a90-24f2-4bd5-95a2-4a3da6472f58",
   "metadata": {},
   "outputs": [
    {
     "name": "stdout",
     "output_type": "stream",
     "text": [
      "20\n"
     ]
    }
   ],
   "source": [
    "#reasssigning value\n",
    "x = 20\n",
    "print(x)"
   ]
  },
  {
   "cell_type": "markdown",
   "id": "d598c572-4153-462c-9929-32e0df262243",
   "metadata": {},
   "source": [
    "## some basic concept"
   ]
  },
  {
   "cell_type": "code",
   "execution_count": 39,
   "id": "cf0e0447-83f1-47ae-8451-e6b7b2f51f42",
   "metadata": {},
   "outputs": [
    {
     "name": "stdout",
     "output_type": "stream",
     "text": [
      "p\n"
     ]
    }
   ],
   "source": [
    "letter  = 'p'\n",
    "print(letter)"
   ]
  },
  {
   "cell_type": "code",
   "execution_count": 40,
   "id": "1acbf960-01d8-437c-bab1-cdf32c803c93",
   "metadata": {},
   "outputs": [
    {
     "name": "stdout",
     "output_type": "stream",
     "text": [
      "1\n"
     ]
    }
   ],
   "source": [
    "print(len(letter))"
   ]
  },
  {
   "cell_type": "code",
   "execution_count": 41,
   "id": "a72df1f9-b1ef-4257-8792-316fcec651d4",
   "metadata": {},
   "outputs": [],
   "source": [
    "greeting = \"Hello world\""
   ]
  },
  {
   "cell_type": "code",
   "execution_count": 42,
   "id": "9c0ec8cb-84d7-4fcc-9dae-31b9426f6bf7",
   "metadata": {},
   "outputs": [
    {
     "name": "stdout",
     "output_type": "stream",
     "text": [
      "11\n"
     ]
    }
   ],
   "source": [
    "print(len(greeting))"
   ]
  },
  {
   "cell_type": "code",
   "execution_count": 43,
   "id": "19916469-17c8-48b7-b20c-8a40ff63a01c",
   "metadata": {},
   "outputs": [],
   "source": [
    "#length():- for calculating leanth "
   ]
  },
  {
   "cell_type": "code",
   "execution_count": 44,
   "id": "1a5df06f-2e89-46ca-a6e3-f23b202f200c",
   "metadata": {},
   "outputs": [],
   "source": [
    "first_name = 'Arshad'"
   ]
  },
  {
   "cell_type": "code",
   "execution_count": 45,
   "id": "012f01ee-37df-4dd2-90a8-d008ca961867",
   "metadata": {},
   "outputs": [],
   "source": [
    "last_name = 'khan'"
   ]
  },
  {
   "cell_type": "code",
   "execution_count": 46,
   "id": "38f099e5-3010-4b07-9ea2-d917c4186761",
   "metadata": {},
   "outputs": [],
   "source": [
    "space = \" \""
   ]
  },
  {
   "cell_type": "code",
   "execution_count": 47,
   "id": "4a8989fa-6e61-4af4-9b3e-19267b0309cc",
   "metadata": {},
   "outputs": [],
   "source": [
    "full_name = first_name+space+last_name"
   ]
  },
  {
   "cell_type": "code",
   "execution_count": 48,
   "id": "2bfb0a04-6a2c-4fa3-8f5a-f3a36fdf1d1f",
   "metadata": {},
   "outputs": [
    {
     "name": "stdout",
     "output_type": "stream",
     "text": [
      "Arshad khan\n"
     ]
    }
   ],
   "source": [
    "print(full_name)"
   ]
  },
  {
   "cell_type": "code",
   "execution_count": 49,
   "id": "a3b58705-0a00-4ff7-816a-4ab4da6111a5",
   "metadata": {},
   "outputs": [],
   "source": [
    "#cheacking len of string using len bilt in function"
   ]
  },
  {
   "cell_type": "code",
   "execution_count": 51,
   "id": "ec4f9633-9b4b-409c-836b-c8d7af63b2dc",
   "metadata": {},
   "outputs": [
    {
     "name": "stdout",
     "output_type": "stream",
     "text": [
      "6\n"
     ]
    }
   ],
   "source": [
    "print(len(first_name))"
   ]
  },
  {
   "cell_type": "code",
   "execution_count": 52,
   "id": "c1fae1e8-a84a-4143-be01-b38b4d900c02",
   "metadata": {},
   "outputs": [
    {
     "name": "stdout",
     "output_type": "stream",
     "text": [
      "4\n"
     ]
    }
   ],
   "source": [
    "print(len(last_name))"
   ]
  },
  {
   "cell_type": "code",
   "execution_count": 53,
   "id": "64ed13b8-9970-4a98-b2cb-18143487a2bc",
   "metadata": {},
   "outputs": [
    {
     "name": "stdout",
     "output_type": "stream",
     "text": [
      "True\n"
     ]
    }
   ],
   "source": [
    "#some bool method\n",
    "print(len(first_name)>len(last_name))"
   ]
  },
  {
   "cell_type": "code",
   "execution_count": 54,
   "id": "ae8d0085-0d4e-4832-a4f0-328c964ef26d",
   "metadata": {},
   "outputs": [
    {
     "name": "stdout",
     "output_type": "stream",
     "text": [
      "11\n"
     ]
    }
   ],
   "source": [
    "print(len(full_name))"
   ]
  },
  {
   "cell_type": "markdown",
   "id": "af52d796-5acf-44da-9fcd-dce20a72dded",
   "metadata": {},
   "source": [
    "## unpacking charector"
   ]
  },
  {
   "cell_type": "code",
   "execution_count": 56,
   "id": "8f839188-2f9c-4cfc-9ae0-aa7b2a6a79ca",
   "metadata": {},
   "outputs": [],
   "source": [
    "language  = 'python'"
   ]
  },
  {
   "cell_type": "code",
   "execution_count": 57,
   "id": "ceaecd22-56f4-42b5-94f6-9b05ef686264",
   "metadata": {},
   "outputs": [],
   "source": [
    "a,b,c,d,e,f = language"
   ]
  },
  {
   "cell_type": "code",
   "execution_count": 58,
   "id": "07207dd6-c2ea-43c2-8bb4-ebe10edb31de",
   "metadata": {},
   "outputs": [
    {
     "name": "stdout",
     "output_type": "stream",
     "text": [
      "p\n"
     ]
    }
   ],
   "source": [
    "print(a)"
   ]
  },
  {
   "cell_type": "code",
   "execution_count": 59,
   "id": "d7e10bca-9fa2-4d9c-9485-40a42ccfa4da",
   "metadata": {},
   "outputs": [
    {
     "name": "stdout",
     "output_type": "stream",
     "text": [
      "y\n"
     ]
    }
   ],
   "source": [
    "print(b)"
   ]
  },
  {
   "cell_type": "code",
   "execution_count": 60,
   "id": "6a18f426-7d7c-4d80-9b66-02004876b51b",
   "metadata": {},
   "outputs": [
    {
     "name": "stdout",
     "output_type": "stream",
     "text": [
      "t\n"
     ]
    }
   ],
   "source": [
    "print(c)"
   ]
  },
  {
   "cell_type": "code",
   "execution_count": 63,
   "id": "056135ff-3282-4a89-8da4-dc38be14f469",
   "metadata": {},
   "outputs": [
    {
     "name": "stdout",
     "output_type": "stream",
     "text": [
      "p y\n"
     ]
    }
   ],
   "source": [
    "print(a,b)"
   ]
  },
  {
   "cell_type": "code",
   "execution_count": 65,
   "id": "d5025ce2-bad2-40dd-ba59-31ab784e3e30",
   "metadata": {},
   "outputs": [
    {
     "name": "stdout",
     "output_type": "stream",
     "text": [
      "p y t h o n\n"
     ]
    }
   ],
   "source": [
    "print(a,b,c,d,e,f)"
   ]
  },
  {
   "cell_type": "markdown",
   "id": "5e2627c9-15df-469f-adfb-32dc8a4bb8bf",
   "metadata": {},
   "source": [
    "## accesing charector in stirng by Index"
   ]
  },
  {
   "cell_type": "code",
   "execution_count": 68,
   "id": "f435e15f-7ee9-49f1-86d6-4db3de23478f",
   "metadata": {},
   "outputs": [],
   "source": [
    "language  = 'python'"
   ]
  },
  {
   "cell_type": "code",
   "execution_count": 69,
   "id": "4f230cf2-0d52-4ca7-8c10-d4fbe3fa238f",
   "metadata": {},
   "outputs": [
    {
     "data": {
      "text/plain": [
       "'p'"
      ]
     },
     "execution_count": 69,
     "metadata": {},
     "output_type": "execute_result"
    }
   ],
   "source": [
    "language[0]"
   ]
  },
  {
   "cell_type": "code",
   "execution_count": 70,
   "id": "a1949faa-1463-4a56-9f77-cdbcc5d7e132",
   "metadata": {},
   "outputs": [
    {
     "data": {
      "text/plain": [
       "'y'"
      ]
     },
     "execution_count": 70,
     "metadata": {},
     "output_type": "execute_result"
    }
   ],
   "source": [
    "language[1]"
   ]
  },
  {
   "cell_type": "code",
   "execution_count": 71,
   "id": "d3c06375-8068-47a7-b840-143fa88aec2f",
   "metadata": {},
   "outputs": [
    {
     "data": {
      "text/plain": [
       "'n'"
      ]
     },
     "execution_count": 71,
     "metadata": {},
     "output_type": "execute_result"
    }
   ],
   "source": [
    "language[5]"
   ]
  },
  {
   "cell_type": "code",
   "execution_count": 72,
   "id": "a89a68c2-90dc-44a2-b0bd-ee696cb4a525",
   "metadata": {},
   "outputs": [
    {
     "data": {
      "text/plain": [
       "'n'"
      ]
     },
     "execution_count": 72,
     "metadata": {},
     "output_type": "execute_result"
    }
   ],
   "source": [
    "#reverse indexing\n",
    "language[-1]"
   ]
  },
  {
   "cell_type": "code",
   "execution_count": 73,
   "id": "e30c31da-401e-42d1-9884-84ca1bf290b0",
   "metadata": {},
   "outputs": [
    {
     "data": {
      "text/plain": [
       "'o'"
      ]
     },
     "execution_count": 73,
     "metadata": {},
     "output_type": "execute_result"
    }
   ],
   "source": [
    "language[-2]"
   ]
  },
  {
   "cell_type": "code",
   "execution_count": 74,
   "id": "871144b5-e032-4ed8-bb2a-7c2249cc6558",
   "metadata": {},
   "outputs": [
    {
     "data": {
      "text/plain": [
       "'p'"
      ]
     },
     "execution_count": 74,
     "metadata": {},
     "output_type": "execute_result"
    }
   ],
   "source": [
    "language[-6]"
   ]
  },
  {
   "cell_type": "code",
   "execution_count": null,
   "id": "c88b1695-be6d-4244-869f-4bb1f7b8e983",
   "metadata": {},
   "outputs": [],
   "source": [
    " "
   ]
  }
 ],
 "metadata": {
  "kernelspec": {
   "display_name": "Python 3 (ipykernel)",
   "language": "python",
   "name": "python3"
  },
  "language_info": {
   "codemirror_mode": {
    "name": "ipython",
    "version": 3
   },
   "file_extension": ".py",
   "mimetype": "text/x-python",
   "name": "python",
   "nbconvert_exporter": "python",
   "pygments_lexer": "ipython3",
   "version": "3.12.7"
  }
 },
 "nbformat": 4,
 "nbformat_minor": 5
}
