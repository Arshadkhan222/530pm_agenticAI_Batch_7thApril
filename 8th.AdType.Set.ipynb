{
 "cells": [
  {
   "cell_type": "markdown",
   "id": "5f16e256-c918-4b1f-b07d-4706424ca33e",
   "metadata": {},
   "source": [
    "# * Set:-"
   ]
  },
  {
   "cell_type": "raw",
   "id": "17927771-e75f-486a-8775-eee0b6e31ad3",
   "metadata": {},
   "source": [
    "Set con be used to perform mathamarical operation like Union, interseption,\n",
    "syemetric differance etc."
   ]
  },
  {
   "cell_type": "code",
   "execution_count": 1,
   "id": "70e05f35-c4c9-4c9c-b097-4ef906803d0c",
   "metadata": {},
   "outputs": [],
   "source": [
    "# empty set\n",
    "s= set()"
   ]
  },
  {
   "cell_type": "code",
   "execution_count": 2,
   "id": "b01d1fda-80fa-46f9-8e58-d11f9091d226",
   "metadata": {},
   "outputs": [
    {
     "data": {
      "text/plain": [
       "set()"
      ]
     },
     "execution_count": 2,
     "metadata": {},
     "output_type": "execute_result"
    }
   ],
   "source": [
    "s"
   ]
  },
  {
   "cell_type": "raw",
   "id": "8d455ff4-3f13-4845-9f96-9ef5aa1ccbf8",
   "metadata": {},
   "source": [
    "- Set is a unordered colletion of items.\n",
    "- set is defined by item sepreted by comma inside kerli braces {}.\n",
    "- set can store only immutable item."
   ]
  },
  {
   "cell_type": "code",
   "execution_count": 3,
   "id": "27fefdb6-fc4a-43da-afaa-49f8c6c046bd",
   "metadata": {},
   "outputs": [
    {
     "name": "stdout",
     "output_type": "stream",
     "text": [
      "{20, 5, 40, 10, 30}\n"
     ]
    }
   ],
   "source": [
    "s = {10,20,30,40,5}\n",
    "print(s)"
   ]
  },
  {
   "cell_type": "code",
   "execution_count": 4,
   "id": "434ab2e3-13db-4e20-ae9f-87122aca5fd6",
   "metadata": {},
   "outputs": [],
   "source": [
    "# It did not store in seqential ordered"
   ]
  },
  {
   "cell_type": "code",
   "execution_count": 5,
   "id": "868dc247-faf2-4436-b3af-fc8885638ab5",
   "metadata": {},
   "outputs": [],
   "source": [
    "# Immutable :-int , float, bool, tuple.\n",
    "# Mutable :- list, set"
   ]
  },
  {
   "cell_type": "code",
   "execution_count": 6,
   "id": "a0e82987-9eb8-49ba-8b8a-7b6e63070efb",
   "metadata": {},
   "outputs": [
    {
     "name": "stdout",
     "output_type": "stream",
     "text": [
      "{1.4, True, 10, 'Srk', (10, 20)}\n"
     ]
    }
   ],
   "source": [
    "s ={10, 1.4, True, 'Srk', (10,20)}\n",
    "print(s)"
   ]
  },
  {
   "cell_type": "code",
   "execution_count": 7,
   "id": "cb9455f1-9109-42e9-9bcf-b16a614c1c19",
   "metadata": {},
   "outputs": [
    {
     "name": "stdout",
     "output_type": "stream",
     "text": [
      "{4, 5, 20, 10, 30}\n"
     ]
    }
   ],
   "source": [
    "s = {10,4,20,20,30,30,30,5}\n",
    "print(s)"
   ]
  },
  {
   "cell_type": "code",
   "execution_count": 8,
   "id": "4a529773-e8eb-40ee-9286-b690a2bf099f",
   "metadata": {},
   "outputs": [
    {
     "data": {
      "text/plain": [
       "5"
      ]
     },
     "execution_count": 8,
     "metadata": {},
     "output_type": "execute_result"
    }
   ],
   "source": [
    "# it did not store duplicate\n",
    "len(s)"
   ]
  },
  {
   "cell_type": "raw",
   "id": "e0197b9b-2b82-49b9-bf91-e65b53926960",
   "metadata": {},
   "source": [
    "Set does not support indexing becuse it is unordered colletion of item."
   ]
  },
  {
   "cell_type": "code",
   "execution_count": 9,
   "id": "d22e6c4c-9d3e-46c2-a1f4-12d72ffbdd93",
   "metadata": {},
   "outputs": [
    {
     "name": "stdout",
     "output_type": "stream",
     "text": [
      "{True, 'srk', 36, 10, 10.5, (1, 2, 3), (4, 5), 25}\n"
     ]
    }
   ],
   "source": [
    "s = {10,10.5, True, 'srk', (1,2,3),25,36,(4,5)}\n",
    "print(s)"
   ]
  },
  {
   "cell_type": "markdown",
   "id": "281ee33c-0db2-446e-8b60-49966dbfb5d4",
   "metadata": {},
   "source": [
    "# Set Methods"
   ]
  },
  {
   "cell_type": "markdown",
   "id": "8c219af2-247f-43b2-9f8f-eb35c9c9a460",
   "metadata": {},
   "source": [
    "### * Set.add():-"
   ]
  },
  {
   "cell_type": "raw",
   "id": "e5733628-d96f-4e16-b7ae-852d1dc799c5",
   "metadata": {},
   "source": [
    "- Add methode add an element to the set if element alredy\n",
    "  exist in the set nothing will happend(and it will add only one item.)"
   ]
  },
  {
   "cell_type": "code",
   "execution_count": 10,
   "id": "0702f504-610f-4e2d-805d-66d741ef3d24",
   "metadata": {},
   "outputs": [],
   "source": [
    "s = {1,2,3}\n",
    "s.add(4)"
   ]
  },
  {
   "cell_type": "code",
   "execution_count": 11,
   "id": "e87974b3-3fa0-4f38-ad6c-1f23cca29759",
   "metadata": {},
   "outputs": [
    {
     "name": "stdout",
     "output_type": "stream",
     "text": [
      "{1, 2, 3, 4}\n"
     ]
    }
   ],
   "source": [
    "print(s)"
   ]
  },
  {
   "cell_type": "code",
   "execution_count": 12,
   "id": "e0155230-f883-4064-b200-c6d144770bc8",
   "metadata": {},
   "outputs": [
    {
     "data": {
      "text/plain": [
       "{1, 2, 3}"
      ]
     },
     "execution_count": 12,
     "metadata": {},
     "output_type": "execute_result"
    }
   ],
   "source": [
    "s  = {1,2,3}\n",
    "s.add(3)  # becuse 3 is already in set. That's why it did not add it\n",
    "s"
   ]
  },
  {
   "cell_type": "markdown",
   "id": "760b83a1-caec-4372-8a96-0f0ecd5b7061",
   "metadata": {},
   "source": [
    "### * set.update():-"
   ]
  },
  {
   "cell_type": "markdown",
   "id": "389c6a26-0ee9-4558-97ca-6cbea9f8456d",
   "metadata": {},
   "source": [
    "for adding more item.\n",
    "update methode update the set with another set or anyiterable."
   ]
  },
  {
   "cell_type": "code",
   "execution_count": 13,
   "id": "55b914a3-256b-4194-a63f-bc8d6cb65fc1",
   "metadata": {},
   "outputs": [
    {
     "name": "stdout",
     "output_type": "stream",
     "text": [
      "{1, 2, 3, 'srk', (4, 5)}\n"
     ]
    }
   ],
   "source": [
    "s1  = {1,2,3}\n",
    "s1.update(['srk',(4,5)])\n",
    "print(s1)"
   ]
  },
  {
   "cell_type": "code",
   "execution_count": 14,
   "id": "bcaf943b-4991-4629-a9b0-efb7485dadf9",
   "metadata": {},
   "outputs": [
    {
     "ename": "TypeError",
     "evalue": "'int' object is not iterable",
     "output_type": "error",
     "traceback": [
      "\u001b[1;31m---------------------------------------------------------------------------\u001b[0m",
      "\u001b[1;31mTypeError\u001b[0m                                 Traceback (most recent call last)",
      "Cell \u001b[1;32mIn[14], line 2\u001b[0m\n\u001b[0;32m      1\u001b[0m s2 \u001b[38;5;241m=\u001b[39m {\u001b[38;5;241m20\u001b[39m,\u001b[38;5;241m23\u001b[39m}\n\u001b[1;32m----> 2\u001b[0m s2\u001b[38;5;241m.\u001b[39mupdate(\u001b[38;5;241m21\u001b[39m)\n\u001b[0;32m      3\u001b[0m \u001b[38;5;28mprint\u001b[39m(s2)\n",
      "\u001b[1;31mTypeError\u001b[0m: 'int' object is not iterable"
     ]
    }
   ],
   "source": [
    "s2 = {20,23}\n",
    "s2.update(21)\n",
    "print(s2)"
   ]
  },
  {
   "cell_type": "code",
   "execution_count": 15,
   "id": "9c51fb2b-2ac9-49ad-b77e-7d30b165e25f",
   "metadata": {},
   "outputs": [
    {
     "data": {
      "text/plain": [
       "{1, 2, 3, 4, 5}"
      ]
     },
     "execution_count": 15,
     "metadata": {},
     "output_type": "execute_result"
    }
   ],
   "source": [
    "s3 = {1,2,3,4}\n",
    "s3.update([5])\n",
    "s3     # here we add in list but in set"
   ]
  },
  {
   "cell_type": "code",
   "execution_count": 16,
   "id": "a47ada41-0978-4119-8749-5827440a105d",
   "metadata": {},
   "outputs": [
    {
     "data": {
      "text/plain": [
       "{1, 2, 3, 4, 5}"
      ]
     },
     "execution_count": 16,
     "metadata": {},
     "output_type": "execute_result"
    }
   ],
   "source": [
    "s4 = {1,2,3,4}\n",
    "s4.add(5)\n",
    "s4"
   ]
  },
  {
   "cell_type": "code",
   "execution_count": 18,
   "id": "107067d5-7cbb-4113-819e-70d8a57abf2a",
   "metadata": {},
   "outputs": [
    {
     "data": {
      "text/plain": [
       "{1, 2, 3, 4, 6}"
      ]
     },
     "execution_count": 18,
     "metadata": {},
     "output_type": "execute_result"
    }
   ],
   "source": [
    "s4 = {1,2,3,4}\n",
    "s4.update([6])\n",
    "s4"
   ]
  },
  {
   "cell_type": "markdown",
   "id": "c08d2024-c7ad-48ce-87b6-bb789ed3647d",
   "metadata": {},
   "source": [
    "### Set.discard():-"
   ]
  },
  {
   "cell_type": "raw",
   "id": "06de53f4-d818-4f43-a15c-085e1bb2f779",
   "metadata": {},
   "source": [
    ". discard methode remove the speacial iteam from the set. If the item does not exist in the set. \n",
    " nothing happend (it will remove one item.)"
   ]
  },
  {
   "cell_type": "code",
   "execution_count": 19,
   "id": "aa9a193c-291b-45f2-b2a2-633fc11525fa",
   "metadata": {},
   "outputs": [
    {
     "name": "stdout",
     "output_type": "stream",
     "text": [
      "{1, 3}\n"
     ]
    }
   ],
   "source": [
    "s = {1,2,3}\n",
    "s.discard(2)\n",
    "print(s)\n"
   ]
  },
  {
   "cell_type": "code",
   "execution_count": 20,
   "id": "05eb3ae2-f770-42de-9684-4f06e29854e1",
   "metadata": {},
   "outputs": [
    {
     "name": "stdout",
     "output_type": "stream",
     "text": [
      "{22, 55}\n"
     ]
    }
   ],
   "source": [
    "s1 = {22,323,55}\n",
    "s1.discard(323)\n",
    "print(s1)\n",
    "\n"
   ]
  },
  {
   "cell_type": "code",
   "execution_count": 21,
   "id": "e859a367-4720-49b4-8c2b-49ab06bffe44",
   "metadata": {},
   "outputs": [
    {
     "name": "stdout",
     "output_type": "stream",
     "text": [
      "{1, 2, 3, 4}\n"
     ]
    }
   ],
   "source": [
    "s3 = {1,2,3,4}\n",
    "s3.discard(5)\n",
    "print(s3)"
   ]
  },
  {
   "cell_type": "markdown",
   "id": "60c8cc18-25b0-4447-95b0-942444d11a8b",
   "metadata": {},
   "source": [
    "### * set.Remove():-"
   ]
  },
  {
   "cell_type": "raw",
   "id": "ffef19e5-ac5d-4ac6-b062-f9a2b21dedbe",
   "metadata": {},
   "source": [
    ". it will remove specail item from the set. If the item does not exist \n",
    "  in the set a key erore is raised."
   ]
  },
  {
   "cell_type": "code",
   "execution_count": 22,
   "id": "c2b3e86e-8c24-4867-ae20-c86f4b213ad7",
   "metadata": {},
   "outputs": [
    {
     "name": "stdout",
     "output_type": "stream",
     "text": [
      "{1, 3}\n"
     ]
    }
   ],
   "source": [
    "s = {1,2,3}\n",
    "s.remove(2)\n",
    "print(s)"
   ]
  },
  {
   "cell_type": "code",
   "execution_count": 23,
   "id": "53f46993-9331-4b2f-acce-cad0d6b4f10b",
   "metadata": {},
   "outputs": [
    {
     "ename": "KeyError",
     "evalue": "21",
     "output_type": "error",
     "traceback": [
      "\u001b[1;31m---------------------------------------------------------------------------\u001b[0m",
      "\u001b[1;31mKeyError\u001b[0m                                  Traceback (most recent call last)",
      "Cell \u001b[1;32mIn[23], line 2\u001b[0m\n\u001b[0;32m      1\u001b[0m s2 \u001b[38;5;241m=\u001b[39m{\u001b[38;5;241m22\u001b[39m,\u001b[38;5;241m23\u001b[39m,\u001b[38;5;241m45\u001b[39m}\n\u001b[1;32m----> 2\u001b[0m s2\u001b[38;5;241m.\u001b[39mremove(\u001b[38;5;241m21\u001b[39m)\n\u001b[0;32m      3\u001b[0m \u001b[38;5;28mprint\u001b[39m(s2)\n",
      "\u001b[1;31mKeyError\u001b[0m: 21"
     ]
    }
   ],
   "source": [
    "s2 ={22,23,45}\n",
    "s2.remove(21)\n",
    "print(s2)\n",
    "# it will show key errore becuse there is no special carector in the set.\n",
    "# which user passed."
   ]
  },
  {
   "cell_type": "code",
   "execution_count": 24,
   "id": "d91a0997-bd65-44d8-a412-36a185da75be",
   "metadata": {},
   "outputs": [
    {
     "name": "stdout",
     "output_type": "stream",
     "text": [
      "{13, 14}\n"
     ]
    }
   ],
   "source": [
    "s3 = {12,13,14,12}\n",
    "s3.remove(12)\n",
    "print(s3)"
   ]
  },
  {
   "cell_type": "markdown",
   "id": "32352fac-de08-4a7c-b00f-46fde47e7c31",
   "metadata": {},
   "source": [
    "### set .clear():-"
   ]
  },
  {
   "cell_type": "raw",
   "id": "c0fece51-c480-497c-97e8-ca255ab7753f",
   "metadata": {},
   "source": [
    ". clear methode clear all the item in the set."
   ]
  },
  {
   "cell_type": "code",
   "execution_count": 25,
   "id": "2bdea2d4-c0ae-4473-bd8a-c97e54db24ee",
   "metadata": {},
   "outputs": [
    {
     "name": "stdout",
     "output_type": "stream",
     "text": [
      "set()\n"
     ]
    }
   ],
   "source": [
    "s = {1,2,3}\n",
    "s.clear()\n",
    "print(s)"
   ]
  },
  {
   "cell_type": "code",
   "execution_count": 26,
   "id": "ccefa5c5-3936-4536-b064-6384c5e7e3d2",
   "metadata": {},
   "outputs": [],
   "source": [
    "# it will remove the item."
   ]
  },
  {
   "cell_type": "code",
   "execution_count": 27,
   "id": "00bdd25a-7a78-4a99-ad16-fe5a50eecdf4",
   "metadata": {},
   "outputs": [
    {
     "ename": "NameError",
     "evalue": "name 's' is not defined",
     "output_type": "error",
     "traceback": [
      "\u001b[1;31m---------------------------------------------------------------------------\u001b[0m",
      "\u001b[1;31mNameError\u001b[0m                                 Traceback (most recent call last)",
      "Cell \u001b[1;32mIn[27], line 3\u001b[0m\n\u001b[0;32m      1\u001b[0m s \u001b[38;5;241m=\u001b[39m {\u001b[38;5;241m1\u001b[39m,\u001b[38;5;241m2\u001b[39m,\u001b[38;5;241m3\u001b[39m}\n\u001b[0;32m      2\u001b[0m \u001b[38;5;28;01mdel\u001b[39;00m s\n\u001b[1;32m----> 3\u001b[0m \u001b[38;5;28mprint\u001b[39m(s)\n",
      "\u001b[1;31mNameError\u001b[0m: name 's' is not defined"
     ]
    }
   ],
   "source": [
    "s = {1,2,3}\n",
    "del s\n",
    "print(s)"
   ]
  },
  {
   "cell_type": "code",
   "execution_count": 28,
   "id": "3bcf20e1-505c-4b46-9c61-3e7fa0795dfc",
   "metadata": {},
   "outputs": [],
   "source": [
    "# but del fuction will remove the entire object"
   ]
  },
  {
   "cell_type": "markdown",
   "id": "46a66cb8-89fe-4f07-8537-8b53740b5f57",
   "metadata": {},
   "source": [
    "### Set.copy():-"
   ]
  },
  {
   "cell_type": "raw",
   "id": "99ab75f8-7ab4-424e-b9a5-61886c8b948c",
   "metadata": {},
   "source": [
    ". copy methode return the shallow copy of the set.\n",
    ". change the copeid set does not affect the orignol set.\n",
    ". shallow mean shadow"
   ]
  },
  {
   "cell_type": "code",
   "execution_count": 30,
   "id": "43a84059-df72-47bf-ae3b-5601bc7bc6dd",
   "metadata": {},
   "outputs": [],
   "source": [
    "s1 = {1,2,3,4}\n",
    "s2 = s1.copy()\n",
    "s2.add(5)"
   ]
  },
  {
   "cell_type": "code",
   "execution_count": 31,
   "id": "fda941aa-5a2a-4d99-b130-b83dd504499f",
   "metadata": {},
   "outputs": [
    {
     "name": "stdout",
     "output_type": "stream",
     "text": [
      "{1, 2, 3, 4}\n",
      "{1, 2, 3, 4, 5}\n"
     ]
    }
   ],
   "source": [
    "print(s1)\n",
    "print(s2)"
   ]
  },
  {
   "cell_type": "raw",
   "id": "d7a2a80b-c219-4bfa-8428-7f66fed0f460",
   "metadata": {},
   "source": [
    "List:-               Set;-\n",
    ". add              . add\n",
    ". remove           . remove\n",
    ". replace\n",
    ". indexing"
   ]
  },
  {
   "cell_type": "markdown",
   "id": "98ca6ebe-1f04-4406-8daa-588a6d072b3c",
   "metadata": {},
   "source": [
    "### * Set.union():-"
   ]
  },
  {
   "cell_type": "raw",
   "id": "c399df44-5584-4147-a6ea-2f0d3cf4dce4",
   "metadata": {},
   "source": [
    ". This methode return a new set with item from both sets."
   ]
  },
  {
   "cell_type": "code",
   "execution_count": 37,
   "id": "ecb1dc6d-316d-4c5d-8b97-6ce9a68375a4",
   "metadata": {},
   "outputs": [
    {
     "data": {
      "text/plain": [
       "{1, 2, 3, 4}"
      ]
     },
     "execution_count": 37,
     "metadata": {},
     "output_type": "execute_result"
    }
   ],
   "source": [
    "setA  = {1,2,3}\n",
    "setB = {2,3,4}\n",
    "setA.union(setB)"
   ]
  },
  {
   "cell_type": "code",
   "execution_count": 38,
   "id": "abe4839e-7e89-49a4-beb2-6995708002c1",
   "metadata": {},
   "outputs": [],
   "source": [
    "# duplicate not alllow that is why it is removed."
   ]
  },
  {
   "cell_type": "code",
   "execution_count": 39,
   "id": "cb00bbd7-3d74-4d24-924b-9e87491202a6",
   "metadata": {},
   "outputs": [
    {
     "data": {
      "text/plain": [
       "{1, 11, 12, 23, 44}"
      ]
     },
     "execution_count": 39,
     "metadata": {},
     "output_type": "execute_result"
    }
   ],
   "source": [
    "a = {1,23,44}\n",
    "b = {11,12,}\n",
    "a.union(b)"
   ]
  },
  {
   "cell_type": "markdown",
   "id": "d0ba303a-bc5e-4064-8f50-fd24780e691f",
   "metadata": {},
   "source": [
    "### * Set.intersection():-"
   ]
  },
  {
   "cell_type": "raw",
   "id": "1552e636-c93d-4324-8a7c-8d2292f31576",
   "metadata": {},
   "source": [
    ". Intersection methode return a new set with element that are \n",
    "  comman to all set."
   ]
  },
  {
   "cell_type": "code",
   "execution_count": 42,
   "id": "67d91755-a8ed-4c1a-9bd2-5213a8830872",
   "metadata": {},
   "outputs": [
    {
     "data": {
      "text/plain": [
       "{2, 3}"
      ]
     },
     "execution_count": 42,
     "metadata": {},
     "output_type": "execute_result"
    }
   ],
   "source": [
    "Seta = {1,2,3}\n",
    "Setb = {2,3,4}\n",
    "Seta .intersection(Setb)"
   ]
  },
  {
   "cell_type": "code",
   "execution_count": 43,
   "id": "d9fff6ab-db6a-4358-b163-2bfcdd35c1e0",
   "metadata": {},
   "outputs": [
    {
     "data": {
      "text/plain": [
       "set()"
      ]
     },
     "execution_count": 43,
     "metadata": {},
     "output_type": "execute_result"
    }
   ],
   "source": [
    "A  = {22,23,24}\n",
    "B  = {25,26,27}\n",
    "A.intersection(B)\n",
    "# if there is no comman item it will print empty set."
   ]
  },
  {
   "cell_type": "code",
   "execution_count": 44,
   "id": "4adf2afd-4d90-401e-8fef-c9bdbf3bfd31",
   "metadata": {},
   "outputs": [
    {
     "data": {
      "text/plain": [
       "{21}"
      ]
     },
     "execution_count": 44,
     "metadata": {},
     "output_type": "execute_result"
    }
   ],
   "source": [
    "a = {21,22,25}\n",
    "b = {21,24,26}\n",
    "a.intersection(b)"
   ]
  },
  {
   "cell_type": "code",
   "execution_count": 45,
   "id": "ca542b67-64c5-4eb2-8971-3b3b5c6236e6",
   "metadata": {},
   "outputs": [
    {
     "data": {
      "text/plain": [
       "{1, 2, 3, 4}"
      ]
     },
     "execution_count": 45,
     "metadata": {},
     "output_type": "execute_result"
    }
   ],
   "source": [
    "c = {1,2,3,4}\n",
    "n = {1,2,3,4}\n",
    "c.intersection(n)"
   ]
  },
  {
   "cell_type": "markdown",
   "id": "0e82b973-bfdd-4d30-8021-babd0bcb2885",
   "metadata": {},
   "source": [
    "### * isdisjoint():-"
   ]
  },
  {
   "cell_type": "raw",
   "id": "cf62d09c-3cc5-4f4f-adc6-7651fc7fad2e",
   "metadata": {},
   "source": [
    ". isdisjoint methode return True if two set have no intersection (no comman).\n",
    ". if intersection(if common )it will return False."
   ]
  },
  {
   "cell_type": "code",
   "execution_count": 46,
   "id": "47958bbf-5531-4936-b877-233c929e8164",
   "metadata": {},
   "outputs": [
    {
     "data": {
      "text/plain": [
       "True"
      ]
     },
     "execution_count": 46,
     "metadata": {},
     "output_type": "execute_result"
    }
   ],
   "source": [
    "s1 = {1,2,3}\n",
    "s2 ={4,5,6}\n",
    "s3 = {7,,9}\n",
    "s1.isdisjoint(s2)"
   ]
  },
  {
   "cell_type": "code",
   "execution_count": 47,
   "id": "7384d8d0-9565-45b6-9f23-114d365f1188",
   "metadata": {},
   "outputs": [],
   "source": [
    "# there is no common that is why Ture."
   ]
  },
  {
   "cell_type": "code",
   "execution_count": 50,
   "id": "26bb328d-e999-41f6-bd0e-081bcdb37fa5",
   "metadata": {},
   "outputs": [
    {
     "data": {
      "text/plain": [
       "False"
      ]
     },
     "execution_count": 50,
     "metadata": {},
     "output_type": "execute_result"
    }
   ],
   "source": [
    "s1 = {1,2,3}\n",
    "s2 = {4,5,6}\n",
    "s3 = {7,5,9}\n",
    "s2.isdisjoint(s3)"
   ]
  },
  {
   "cell_type": "code",
   "execution_count": 51,
   "id": "c74fd9df-9631-46a4-8e0d-d4082a368a34",
   "metadata": {},
   "outputs": [],
   "source": [
    "# besuse there is one item are which is common That,s why False."
   ]
  },
  {
   "cell_type": "code",
   "execution_count": 52,
   "id": "13041243-34fe-43c3-9090-b2a014ca1b7c",
   "metadata": {},
   "outputs": [
    {
     "data": {
      "text/plain": [
       "set()"
      ]
     },
     "execution_count": 52,
     "metadata": {},
     "output_type": "execute_result"
    }
   ],
   "source": [
    "s1.intersection(s2)  # s1 and s2 are disjoint."
   ]
  },
  {
   "cell_type": "code",
   "execution_count": 53,
   "id": "b5330f69-e65e-430c-8e49-32e923abe91d",
   "metadata": {},
   "outputs": [
    {
     "data": {
      "text/plain": [
       "{5}"
      ]
     },
     "execution_count": 53,
     "metadata": {},
     "output_type": "execute_result"
    }
   ],
   "source": [
    "s2.intersection(s3)  # s2 and s3 are not disjoint"
   ]
  },
  {
   "cell_type": "markdown",
   "id": "89a7c853-2525-47bf-83a5-9468df876516",
   "metadata": {},
   "source": [
    "### Set.differance() :-"
   ]
  },
  {
   "cell_type": "raw",
   "id": "3f8c7fe7-4946-417b-a516-73d167bd72ca",
   "metadata": {},
   "source": [
    ". diffrence methode return a new set with element in the set.\n",
    " that are not in the other specified sets.(it will remove common value)."
   ]
  },
  {
   "cell_type": "code",
   "execution_count": 54,
   "id": "f7779306-d3dc-4e71-8104-acb144ce38cc",
   "metadata": {},
   "outputs": [
    {
     "name": "stdout",
     "output_type": "stream",
     "text": [
      "{1}\n",
      "{4}\n"
     ]
    }
   ],
   "source": [
    "seta = {1,2,3}\n",
    "setb = {2,3,4}\n",
    "print(seta-setb) # within set a remove set b item.\n",
    "print(setb-seta) # within set b remove sert a item."
   ]
  },
  {
   "cell_type": "code",
   "execution_count": 55,
   "id": "05c7d76a-4656-4eab-b13d-d69c621cc08c",
   "metadata": {},
   "outputs": [],
   "source": [
    "# Those which is not common have prinnted."
   ]
  },
  {
   "cell_type": "markdown",
   "id": "04fdf7d3-2a23-45b4-a881-d7ebf23cefc9",
   "metadata": {},
   "source": [
    "### * Set.symmetric_diffrence():-"
   ]
  },
  {
   "cell_type": "markdown",
   "id": "75bfef62-4be1-471b-b198-f00b3059c544",
   "metadata": {},
   "source": [
    ". symmetric_difference methode return a new set with  item that\n",
    "are either of the set but not in both."
   ]
  },
  {
   "cell_type": "code",
   "execution_count": 60,
   "id": "5dc2b1da-3993-46b8-ba57-d310b0d48a11",
   "metadata": {},
   "outputs": [
    {
     "data": {
      "text/plain": [
       "{1, 4, 'siva'}"
      ]
     },
     "execution_count": 60,
     "metadata": {},
     "output_type": "execute_result"
    }
   ],
   "source": [
    "setA = {1,2,3, 'siva'}\n",
    "setB = {2,3,4}\n",
    "setA.symmetric_difference(setB)"
   ]
  },
  {
   "cell_type": "code",
   "execution_count": 61,
   "id": "e4b8cbfe-f7d2-40c9-91c9-fad688d38eb0",
   "metadata": {},
   "outputs": [],
   "source": [
    "# it print diffrent item"
   ]
  },
  {
   "cell_type": "markdown",
   "id": "085c782a-bcd7-4d6b-ad35-842bc4634fb4",
   "metadata": {},
   "source": [
    "### issubset():-"
   ]
  },
  {
   "cell_type": "raw",
   "id": "f539105c-029d-4b3b-b602-01b68c145c5c",
   "metadata": {},
   "source": [
    ". if all item of A present in B Then A is subset .(each and every item should be)\n",
    ". issubset methode return 'True' if all item of 1st set is available in 2nd set\n",
    "otherwise it return False."
   ]
  },
  {
   "cell_type": "code",
   "execution_count": 62,
   "id": "ea1452c8-a172-4360-a634-04ee6b48b914",
   "metadata": {},
   "outputs": [
    {
     "data": {
      "text/plain": [
       "True"
      ]
     },
     "execution_count": 62,
     "metadata": {},
     "output_type": "execute_result"
    }
   ],
   "source": [
    "A = {3,4,5}\n",
    "B = {3,4,5,6}\n",
    "A.issubset(B)"
   ]
  },
  {
   "cell_type": "code",
   "execution_count": null,
   "id": "ab6edd36-fe2e-49f7-b56b-ef70102ed720",
   "metadata": {},
   "outputs": [],
   "source": [
    "# A is item in B."
   ]
  },
  {
   "cell_type": "code",
   "execution_count": 63,
   "id": "ae26bda6-fd50-401c-a746-a7104582d450",
   "metadata": {},
   "outputs": [
    {
     "data": {
      "text/plain": [
       "False"
      ]
     },
     "execution_count": 63,
     "metadata": {},
     "output_type": "execute_result"
    }
   ],
   "source": [
    "B.issubset(A)"
   ]
  },
  {
   "cell_type": "code",
   "execution_count": 64,
   "id": "14022266-6136-46d7-8cda-614fc90d3b9f",
   "metadata": {},
   "outputs": [],
   "source": [
    "# becuse B item is not in A "
   ]
  },
  {
   "cell_type": "markdown",
   "id": "726c3303-2a71-423b-b0ba-ffecfcee8ab5",
   "metadata": {},
   "source": [
    "### issuperset():-"
   ]
  },
  {
   "cell_type": "raw",
   "id": "73732dd6-1c52-41ae-97cd-e9303dd89dc5",
   "metadata": {},
   "source": [
    ". issuperset methode return 'Ture' if all item of 2nd set are avilable \n",
    "in 1st set, otherwise it return 'False'."
   ]
  },
  {
   "cell_type": "code",
   "execution_count": 65,
   "id": "2a800bc6-6111-4c33-8340-4272557f86c7",
   "metadata": {},
   "outputs": [
    {
     "name": "stdout",
     "output_type": "stream",
     "text": [
      "False\n"
     ]
    }
   ],
   "source": [
    "A = {3,4,5}\n",
    "B = {3,4,5,6}\n",
    "s = A.issuperset(B)\n",
    "print(s)"
   ]
  },
  {
   "cell_type": "code",
   "execution_count": 66,
   "id": "738735a4-7829-4e48-8f4c-d350940b5d7e",
   "metadata": {},
   "outputs": [
    {
     "name": "stdout",
     "output_type": "stream",
     "text": [
      "True\n"
     ]
    }
   ],
   "source": [
    "s = B.issuperset(A)\n",
    "print(s)"
   ]
  },
  {
   "cell_type": "code",
   "execution_count": 69,
   "id": "6aa08dda-4ca5-4b2e-bf24-81b719e41f5a",
   "metadata": {},
   "outputs": [
    {
     "name": "stdout",
     "output_type": "stream",
     "text": [
      "False\n"
     ]
    }
   ],
   "source": [
    "a = {11,12,13,14}\n",
    "b = {11,12,13,14,15}\n",
    "s = a.issuperset(b)\n",
    "print(s)"
   ]
  },
  {
   "cell_type": "code",
   "execution_count": 70,
   "id": "f67e3c6a-68c9-4fe6-8a2c-7dbc62b9505e",
   "metadata": {},
   "outputs": [
    {
     "name": "stdout",
     "output_type": "stream",
     "text": [
      "True\n"
     ]
    }
   ],
   "source": [
    "s = b.issuperset(a)\n",
    "print(s)"
   ]
  },
  {
   "cell_type": "code",
   "execution_count": 71,
   "id": "7c68c957-84e0-4a75-8eb6-f8f38de81d41",
   "metadata": {},
   "outputs": [
    {
     "name": "stdout",
     "output_type": "stream",
     "text": [
      "True\n"
     ]
    }
   ],
   "source": [
    "a = {1,2,3,4}\n",
    "b = {2,1,3,4}\n",
    "s = a.issuperset(b)\n",
    "print(s)"
   ]
  },
  {
   "cell_type": "code",
   "execution_count": 72,
   "id": "975332dd-4347-4349-9d86-df3bddb3564a",
   "metadata": {},
   "outputs": [
    {
     "name": "stdout",
     "output_type": "stream",
     "text": [
      "True\n"
     ]
    }
   ],
   "source": [
    "s =b.issuperset(a)\n",
    "print(s)"
   ]
  },
  {
   "cell_type": "raw",
   "id": "986f5026-5c00-4aa4-81bf-a16783a538ca",
   "metadata": {},
   "source": [
    "------------end-----------set----------------"
   ]
  }
 ],
 "metadata": {
  "kernelspec": {
   "display_name": "Python 3 (ipykernel)",
   "language": "python",
   "name": "python3"
  },
  "language_info": {
   "codemirror_mode": {
    "name": "ipython",
    "version": 3
   },
   "file_extension": ".py",
   "mimetype": "text/x-python",
   "name": "python",
   "nbconvert_exporter": "python",
   "pygments_lexer": "ipython3",
   "version": "3.12.7"
  }
 },
 "nbformat": 4,
 "nbformat_minor": 5
}
