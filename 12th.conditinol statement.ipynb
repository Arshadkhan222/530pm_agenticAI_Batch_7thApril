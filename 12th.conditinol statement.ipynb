{
 "cells": [
  {
   "cell_type": "markdown",
   "id": "ecc4d2f3-b71c-4920-b0c9-331ec7cc6924",
   "metadata": {},
   "source": [
    "# Conditinol Statement :-"
   ]
  },
  {
   "cell_type": "markdown",
   "id": "2acf0aee-ade1-412e-a85a-640a2aedf364",
   "metadata": {},
   "source": [
    "# Decision Making Statement:-"
   ]
  },
  {
   "cell_type": "markdown",
   "id": "cd18895e-a591-4e74-ad68-f322c55cc6ec",
   "metadata": {},
   "source": [
    ":- conditinol statement mean it will everytime cheak condition."
   ]
  },
  {
   "cell_type": "markdown",
   "id": "4640b386-cbf0-4734-90a9-d89ab392e6ab",
   "metadata": {},
   "source": [
    ". using these operator we can make a condition.\n",
    "- comparision operator\n",
    "- logical operator\n",
    "- Membership operator\n",
    "- identity operator\n",
    ". only these operator make a condition\n",
    ". These operator provide(boolean) True or False."
   ]
  },
  {
   "cell_type": "markdown",
   "id": "8fd2856e-c7aa-4b47-a63b-4b847286df91",
   "metadata": {},
   "source": [
    "### if \n",
    "### if-else\n",
    "### if-elif\n",
    "### if-elif-else\n",
    "### nested if"
   ]
  },
  {
   "cell_type": "markdown",
   "id": "c866518f-9c88-45a4-add3-722e15d424f3",
   "metadata": {},
   "source": [
    "#### if:-"
   ]
  },
  {
   "cell_type": "markdown",
   "id": "261b15ab-457c-4ce7-9564-b6793e166c6c",
   "metadata": {},
   "source": [
    "- An if statement consist of a boolean expression follwed by one or more line of code.\n",
    "- Only if condition is True, it execute the line of code inside the block.\n",
    "- if the test expresion is false the statement is not the executed."
   ]
  },
  {
   "cell_type": "code",
   "execution_count": 4,
   "id": "af1c5447-ed8a-4f89-b320-7f358783b88c",
   "metadata": {},
   "outputs": [],
   "source": [
    "# if boolean condition/expresion\n",
    "if 1 > 3:\n",
    "    print('ds')"
   ]
  },
  {
   "cell_type": "code",
   "execution_count": null,
   "id": "90c406cc-619c-468e-9764-75006e740999",
   "metadata": {},
   "outputs": [],
   "source": [
    "           # if expresion is true it will print else it will ignore."
   ]
  },
  {
   "cell_type": "code",
   "execution_count": 5,
   "id": "419afb1e-4fbe-47a6-afd8-949a184ecba2",
   "metadata": {},
   "outputs": [
    {
     "name": "stdout",
     "output_type": "stream",
     "text": [
      "ds\n"
     ]
    }
   ],
   "source": [
    "if 1 < 3:\n",
    "    print('ds')"
   ]
  },
  {
   "cell_type": "code",
   "execution_count": 6,
   "id": "75f04c1e-a348-49cb-b2b7-9ea8b7ed6f39",
   "metadata": {},
   "outputs": [
    {
     "name": "stdout",
     "output_type": "stream",
     "text": [
      "ds\n",
      "45\n"
     ]
    }
   ],
   "source": [
    "if 1 < 3:\n",
    "    print(\"ds\")\n",
    "    a = 45\n",
    "\n",
    "print(a)"
   ]
  },
  {
   "cell_type": "code",
   "execution_count": 8,
   "id": "573a3bc2-aa7e-4654-b99e-25618240c741",
   "metadata": {},
   "outputs": [
    {
     "name": "stdout",
     "output_type": "stream",
     "text": [
      "out of if block\n"
     ]
    }
   ],
   "source": [
    "if 1!=1:\n",
    "    a = 24\n",
    "    b = 36\n",
    "    print(a+b)\n",
    "   \n",
    "print('out of if block')"
   ]
  },
  {
   "cell_type": "code",
   "execution_count": 11,
   "id": "510fdb95-e374-4e26-b3d5-ff2799af8a62",
   "metadata": {},
   "outputs": [
    {
     "name": "stdin",
     "output_type": "stream",
     "text": [
      "enter your name: srk\n"
     ]
    },
    {
     "name": "stdout",
     "output_type": "stream",
     "text": [
      "hey ! srk\n"
     ]
    }
   ],
   "source": [
    "name = input('enter your name:')\n",
    "if name=='srk':\n",
    "    print('hey ! srk')"
   ]
  },
  {
   "cell_type": "code",
   "execution_count": 14,
   "id": "1b8c54ae-92b7-4db0-86c9-c2e8492f41de",
   "metadata": {},
   "outputs": [
    {
     "name": "stdout",
     "output_type": "stream",
     "text": [
      "data science\n",
      "python\n",
      "srk\n"
     ]
    }
   ],
   "source": [
    "x = 9\n",
    "if x > 0 and x < 10:\n",
    "    print('data science')\n",
    "    print('python')\n",
    "    print('srk')"
   ]
  },
  {
   "cell_type": "markdown",
   "id": "50d03423-cce1-4aab-a380-00961e5eb4ae",
   "metadata": {},
   "source": [
    "### if-else :-"
   ]
  },
  {
   "cell_type": "markdown",
   "id": "1837639e-a88a-468d-90c8-ba3dd8fc40ac",
   "metadata": {},
   "source": [
    "- if first condition is False secod else condition would be executed."
   ]
  },
  {
   "cell_type": "code",
   "execution_count": 16,
   "id": "2a8649de-e984-41d1-9850-ad1fdaee50a6",
   "metadata": {},
   "outputs": [
    {
     "name": "stdout",
     "output_type": "stream",
     "text": [
      "Abc\n",
      "SRK\n"
     ]
    }
   ],
   "source": [
    "a,b,c,d = 2,2,3,4\n",
    "if(a==b and c!=d):\n",
    "    print('Abc')\n",
    "else :\n",
    "    print('def')\n",
    "print('SRK')"
   ]
  },
  {
   "cell_type": "code",
   "execution_count": 18,
   "id": "f3402b8e-64bb-468b-8025-8e15535d5794",
   "metadata": {},
   "outputs": [
    {
     "name": "stdout",
     "output_type": "stream",
     "text": [
      "def\n",
      "SRK\n"
     ]
    }
   ],
   "source": [
    "a,b,c,d = 2,2,3,3\n",
    "if(a==b and c!=d):\n",
    "    print('Abc')\n",
    "else :\n",
    "    print('def')\n",
    "print('SRK')"
   ]
  },
  {
   "cell_type": "code",
   "execution_count": 19,
   "id": "a9d75a68-dbb7-4a6e-bc89-fcee259bfca5",
   "metadata": {},
   "outputs": [
    {
     "name": "stdout",
     "output_type": "stream",
     "text": [
      "def\n",
      "SRK\n"
     ]
    }
   ],
   "source": [
    "a,b,c,d = 2,2,3,4\n",
    "if(a==b and c==d):\n",
    "    print('Abc')\n",
    "else :\n",
    "    print('def')\n",
    "print('SRK')"
   ]
  },
  {
   "cell_type": "markdown",
   "id": "de33a84f-9122-4f73-ad42-79a8d075db9f",
   "metadata": {},
   "source": [
    "### if - elif :-"
   ]
  },
  {
   "cell_type": "markdown",
   "id": "50d74325-a6c7-4141-9d63-1daee81faa73",
   "metadata": {},
   "source": [
    ". if above condition is failed it will cheach new condition."
   ]
  },
  {
   "cell_type": "code",
   "execution_count": 20,
   "id": "a9cc9f5b-94e6-459e-9427-7c0c6b606835",
   "metadata": {},
   "outputs": [
    {
     "name": "stdout",
     "output_type": "stream",
     "text": [
      "60\n"
     ]
    }
   ],
   "source": [
    "if 1 < 5:\n",
    "    a = 50\n",
    "    print(a+10)\n",
    "elif 2 < 3:\n",
    "    print('data')"
   ]
  },
  {
   "cell_type": "code",
   "execution_count": 21,
   "id": "2eca274d-4a51-4a8a-b52f-2f7b6d89efdc",
   "metadata": {},
   "outputs": [
    {
     "name": "stdout",
     "output_type": "stream",
     "text": [
      "data\n"
     ]
    }
   ],
   "source": [
    "if 1 > 5:\n",
    "    a = 50\n",
    "    print(a+10)\n",
    "elif 2 < 3:\n",
    "    print('data')"
   ]
  },
  {
   "cell_type": "code",
   "execution_count": 22,
   "id": "0d940f2d-f83b-4b59-b70f-3b8fbcd56089",
   "metadata": {},
   "outputs": [
    {
     "name": "stdout",
     "output_type": "stream",
     "text": [
      "python\n"
     ]
    }
   ],
   "source": [
    "if 1 > 5:   # if this condition would failed \n",
    "    a = 50\n",
    "    print(a+10)  # it will cheak this one if this also failed\n",
    "elif 2 > 3:\n",
    "    print('data')  # it will cheack this one\n",
    "elif 2 < 5:\n",
    "    print('python')"
   ]
  },
  {
   "cell_type": "code",
   "execution_count": 23,
   "id": "050e04f5-d469-4d69-b977-578f38fc1f5e",
   "metadata": {},
   "outputs": [
    {
     "name": "stdin",
     "output_type": "stream",
     "text": [
      "enter your mark : 90\n"
     ]
    },
    {
     "name": "stdout",
     "output_type": "stream",
     "text": [
      "Grade B\n"
     ]
    }
   ],
   "source": [
    "mark = eval(input('enter your mark :'))\n",
    "if mark > 90 :\n",
    "    print('Grade A')\n",
    "\n",
    "elif mark >= 70:\n",
    "    print('Grade B')\n",
    "\n",
    "else :\n",
    "    print('Grade F')"
   ]
  },
  {
   "cell_type": "code",
   "execution_count": 25,
   "id": "e44a3559-ee69-4ee5-9c1e-9e90c235661b",
   "metadata": {},
   "outputs": [
    {
     "name": "stdin",
     "output_type": "stream",
     "text": [
      "enter your mark : 70\n"
     ]
    },
    {
     "name": "stdout",
     "output_type": "stream",
     "text": [
      "Grade B\n"
     ]
    }
   ],
   "source": [
    "mark = eval(input('enter your mark :'))\n",
    "if mark > 90 :\n",
    "    print('Grade A')\n",
    "\n",
    "elif mark > 70:\n",
    "    print('Grade B')\n",
    "\n",
    "else :\n",
    "    print('Grade F')"
   ]
  },
  {
   "cell_type": "code",
   "execution_count": 26,
   "id": "e4b7136b-8088-4d5e-a333-b136d03645af",
   "metadata": {},
   "outputs": [
    {
     "name": "stdin",
     "output_type": "stream",
     "text": [
      "enter your mark : 57\n"
     ]
    },
    {
     "name": "stdout",
     "output_type": "stream",
     "text": [
      "Grade F\n"
     ]
    }
   ],
   "source": [
    "mark = eval(input('enter your mark :'))\n",
    "if mark > 90 :\n",
    "    print('Grade A')\n",
    "\n",
    "elif mark > 70:\n",
    "    print('Grade B')\n",
    "\n",
    "else :\n",
    "    print('Grade F')"
   ]
  },
  {
   "cell_type": "markdown",
   "id": "145fe95c-fb43-4b83-959b-8f971b5c37db",
   "metadata": {},
   "source": [
    "### * if-elif-else :-"
   ]
  },
  {
   "cell_type": "code",
   "execution_count": 9,
   "id": "9b1eaad1-699d-43c9-973d-7cb8aa0174c2",
   "metadata": {},
   "outputs": [
    {
     "name": "stdout",
     "output_type": "stream",
     "text": [
      "zero\n"
     ]
    }
   ],
   "source": [
    "x = 1\n",
    "if x > 2 :\n",
    "    print('positive')\n",
    "elif x  > 5 :\n",
    "    print('sss')\n",
    "elif x  > 7 :\n",
    "    print('ddd')\n",
    "else:\n",
    "    print('zero')"
   ]
  },
  {
   "cell_type": "code",
   "execution_count": 10,
   "id": "032bd1c9-c779-4b35-af77-cedcb67ab264",
   "metadata": {},
   "outputs": [
    {
     "data": {
      "text/plain": [
       "True"
      ]
     },
     "execution_count": 10,
     "metadata": {},
     "output_type": "execute_result"
    }
   ],
   "source": [
    "l = (1,2,3,4,5)\n",
    "1 in l"
   ]
  },
  {
   "cell_type": "code",
   "execution_count": 11,
   "id": "9dc6f5df-4126-4818-bf0b-1527ac1e6ca9",
   "metadata": {},
   "outputs": [
    {
     "data": {
      "text/plain": [
       "False"
      ]
     },
     "execution_count": 11,
     "metadata": {},
     "output_type": "execute_result"
    }
   ],
   "source": [
    "12 in l"
   ]
  },
  {
   "cell_type": "code",
   "execution_count": 12,
   "id": "e37e8c92-a9ba-4cfa-b3c8-3b013933f080",
   "metadata": {},
   "outputs": [
    {
     "name": "stdin",
     "output_type": "stream",
     "text": [
      "enter your notes : Math, English , Hindi , Science\n",
      "enter what you want to cheak : Englis\n"
     ]
    },
    {
     "name": "stdout",
     "output_type": "stream",
     "text": [
      "available\n"
     ]
    }
   ],
   "source": [
    "ms  = input('enter your notes :')\n",
    "sub = input('enter what you want to cheak :')\n",
    "if sub in ms :\n",
    "    print('available')\n",
    "else:\n",
    "    print('not available')"
   ]
  },
  {
   "cell_type": "code",
   "execution_count": 14,
   "id": "faa4ab46-dab5-434e-87db-331f7e95ed7b",
   "metadata": {},
   "outputs": [
    {
     "name": "stdin",
     "output_type": "stream",
     "text": [
      "enter your notes : math, urdu, hindi , science\n",
      "enter what you want to cheak : commputer\n"
     ]
    },
    {
     "name": "stdout",
     "output_type": "stream",
     "text": [
      "The sub your are finding is not available\n"
     ]
    }
   ],
   "source": [
    "ms  = input('enter your notes :')\n",
    "sub = input('enter what you want to cheak :')\n",
    "if sub in ms :\n",
    "    print('available in the list')\n",
    "else:\n",
    "    print('The sub your are finding is not available')  # if not available"
   ]
  },
  {
   "cell_type": "code",
   "execution_count": 22,
   "id": "1cc21ddc-8025-4153-a1c8-5f34b211e4eb",
   "metadata": {},
   "outputs": [
    {
     "name": "stdin",
     "output_type": "stream",
     "text": [
      "Enter the mark in positive:  75\n"
     ]
    },
    {
     "name": "stdout",
     "output_type": "stream",
     "text": [
      "Grade B\n"
     ]
    }
   ],
   "source": [
    "# Q :- Take a varaible y and print 'grade A' if y is grater than 90 'grade B'\n",
    "#      if y is grater than 70 but less than or equal to 70 'grade f'.\n",
    "y = float(input(\"Enter the mark in positive: \"))\n",
    "\n",
    "if y > 90:\n",
    "    print('Grade A')\n",
    "elif y > 70:\n",
    "    print('Grade B')\n",
    "elif y <= 70:\n",
    "    print('Grade F')\n"
   ]
  },
  {
   "cell_type": "code",
   "execution_count": 21,
   "id": "f1c0c380-b7b4-4027-9bea-7e812577f6fb",
   "metadata": {},
   "outputs": [
    {
     "name": "stdin",
     "output_type": "stream",
     "text": [
      "Enter the mark in positive:  92\n"
     ]
    },
    {
     "name": "stdout",
     "output_type": "stream",
     "text": [
      "Grade A\n"
     ]
    }
   ],
   "source": [
    "y = float(input(\"Enter the mark in positive: \"))\n",
    "\n",
    "if y > 90:\n",
    "    print('Grade A')\n",
    "elif y > 70:\n",
    "    print('Grade B')\n",
    "elif y <= 70:\n",
    "    print('Grade F')\n"
   ]
  },
  {
   "cell_type": "code",
   "execution_count": 23,
   "id": "32a4e167-5b7d-481e-a6d6-210078ad6d09",
   "metadata": {},
   "outputs": [
    {
     "name": "stdin",
     "output_type": "stream",
     "text": [
      "enter your fisrt number : 12\n",
      "enter your second number : 11\n"
     ]
    },
    {
     "name": "stdout",
     "output_type": "stream",
     "text": [
      "12 is heighest number\n"
     ]
    }
   ],
   "source": [
    "# Q :- write a program to print the largest number out of 2.\n",
    "#      ask user to enter 2 values.\n",
    "\n",
    "n1 = eval(input('enter your fisrt number :'))\n",
    "n2 = eval(input('enter your second number :'))\n",
    "\n",
    "if n1 > n2 :\n",
    "    print(n1, 'is heighest number')\n",
    "elif n2 > n1 :\n",
    "    print(n2, 'is heighest number')\n",
    "elif n1 == n2 :\n",
    "    print('both are equal number')"
   ]
  },
  {
   "cell_type": "code",
   "execution_count": 24,
   "id": "b4a0afd6-18e5-47d8-8470-86f8aaf314ff",
   "metadata": {},
   "outputs": [
    {
     "name": "stdin",
     "output_type": "stream",
     "text": [
      "enter your fisrt number : 44\n",
      "enter your second number : 77\n"
     ]
    },
    {
     "name": "stdout",
     "output_type": "stream",
     "text": [
      "77 is heighest number\n"
     ]
    }
   ],
   "source": [
    "# Q :- write a program to print the largest number out of 2.\n",
    "#      ask user to enter 2 values.\n",
    "\n",
    "n1 = eval(input('enter your fisrt number :'))\n",
    "n2 = eval(input('enter your second number :'))\n",
    "\n",
    "if n1 > n2 :\n",
    "    print(n1, 'is heighest number')\n",
    "elif n2 > n1 :\n",
    "    print(n2, 'is heighest number')\n",
    "elif n1 == n2 :\n",
    "    print('both are equal number')"
   ]
  },
  {
   "cell_type": "markdown",
   "id": "557e4f3f-cb06-4a00-8ffc-992d3bfc9d62",
   "metadata": {},
   "source": [
    "##   //OR"
   ]
  },
  {
   "cell_type": "code",
   "execution_count": 26,
   "id": "d40542f8-9797-41a0-b148-e4abbcd22771",
   "metadata": {},
   "outputs": [
    {
     "name": "stdin",
     "output_type": "stream",
     "text": [
      "enter your first number 33\n",
      "enter your seconf number 17\n"
     ]
    },
    {
     "data": {
      "text/plain": [
       "33"
      ]
     },
     "execution_count": 26,
     "metadata": {},
     "output_type": "execute_result"
    }
   ],
   "source": [
    "n1 = eval(input('enter your first number'))\n",
    "n2 = eval(input('enter your seconf number'))\n",
    "l = []\n",
    "l.extend ([n1, n2])\n",
    "l.sort()\n",
    "l[-1]"
   ]
  },
  {
   "cell_type": "markdown",
   "id": "4f19a41b-da04-40fb-85e9-cdf1924d0263",
   "metadata": {},
   "source": [
    "### * Nested if statement :-"
   ]
  },
  {
   "cell_type": "markdown",
   "id": "95de2a30-9bf8-4eb2-811c-bd73cd6011d6",
   "metadata": {},
   "source": [
    ". we can have a if-elif-else stement inside another if-elif-else statement\n",
    " this is called nsting in programing."
   ]
  },
  {
   "cell_type": "code",
   "execution_count": 40,
   "id": "4ad00ae1-583f-4944-bb85-ed00161a0114",
   "metadata": {},
   "outputs": [
    {
     "name": "stdout",
     "output_type": "stream",
     "text": [
      "positive number\n"
     ]
    }
   ],
   "source": [
    "num = 2\n",
    "if num > 0 :\n",
    "    if num == 0 :\n",
    "        print('zero')\n",
    "    else :\n",
    "        print('positive number')\n",
    "   "
   ]
  },
  {
   "cell_type": "code",
   "execution_count": 44,
   "id": "0dd2c7ef-746a-4e3c-b219-886371fff4ab",
   "metadata": {},
   "outputs": [
    {
     "name": "stdout",
     "output_type": "stream",
     "text": [
      "zero\n"
     ]
    }
   ],
   "source": [
    "num = 0\n",
    "if num == 0 :\n",
    "    print('zero')\n",
    "else:\n",
    "    print('positive num')"
   ]
  },
  {
   "cell_type": "markdown",
   "id": "1ce7af61-7204-4e8a-90a2-23e1a63b9970",
   "metadata": {},
   "source": [
    "### ATM Example question"
   ]
  },
  {
   "cell_type": "code",
   "execution_count": 56,
   "id": "01693b8d-2f62-41c0-87e4-24f5a0cd0e9b",
   "metadata": {},
   "outputs": [
    {
     "name": "stdout",
     "output_type": "stream",
     "text": [
      "plese select your langauge\n"
     ]
    },
    {
     "name": "stdin",
     "output_type": "stream",
     "text": [
      "select 1st for english, 2nd for hindi , 3rd for telgu 1\n",
      "enter your pin number : 1234\n",
      "enter the amount of withdrwal 1000\n"
     ]
    },
    {
     "name": "stdout",
     "output_type": "stream",
     "text": [
      "1000 withdrwal successfully\n"
     ]
    }
   ],
   "source": [
    "pin = 1234\n",
    "balance = 15000\n",
    "print('plese select your langauge')\n",
    "ls = int(input('select 1st for english, 2nd for hindi , 3rd for telgu'))\n",
    "if ls ==1 :\n",
    "    ui = int(input('enter your pin number :'))\n",
    "    if ui == pin :\n",
    "        ua = int(input('enter the amount of withdrwal'))\n",
    "        if ua <= balance :\n",
    "            print(ua, 'withdrwal successfully')\n",
    "        else:\n",
    "             print('invalid input')"
   ]
  },
  {
   "cell_type": "code",
   "execution_count": 50,
   "id": "04e81f86-e1ac-4c20-9722-60f726a1e39a",
   "metadata": {},
   "outputs": [
    {
     "name": "stdout",
     "output_type": "stream",
     "text": [
      "Please select your language\n"
     ]
    },
    {
     "name": "stdin",
     "output_type": "stream",
     "text": [
      "Select 1 for English, 2 for Hindi, 3 for Telugu:  1\n",
      "Enter your PIN number:  1234\n",
      "Enter the amount to withdraw:  12000\n"
     ]
    },
    {
     "name": "stdout",
     "output_type": "stream",
     "text": [
      "12000 Withdrawal successful\n"
     ]
    }
   ],
   "source": [
    "pin = 1234\n",
    "balance = 15000\n",
    "\n",
    "print('Please select your language')\n",
    "ls = int(input('Select 1 for English, 2 for Hindi, 3 for Telugu: '))\n",
    "\n",
    "if ls == 1:\n",
    "    ui = int(input('Enter your PIN number: '))\n",
    "    if ui == pin:\n",
    "        ua = int(input('Enter the amount to withdraw: '))\n",
    "        if ua <= balance:\n",
    "            print(ua, 'Withdrawal successful')\n",
    "        else:\n",
    "            print('Invalid input: Insufficient balance')\n",
    "    else:\n",
    "        print('Invalid PIN')\n"
   ]
  },
  {
   "cell_type": "code",
   "execution_count": null,
   "id": "e028d2b8-4828-4108-8cfd-ddac9885253a",
   "metadata": {},
   "outputs": [],
   "source": [
    "--------conditional statement-----end--------"
   ]
  }
 ],
 "metadata": {
  "kernelspec": {
   "display_name": "Python 3 (ipykernel)",
   "language": "python",
   "name": "python3"
  },
  "language_info": {
   "codemirror_mode": {
    "name": "ipython",
    "version": 3
   },
   "file_extension": ".py",
   "mimetype": "text/x-python",
   "name": "python",
   "nbconvert_exporter": "python",
   "pygments_lexer": "ipython3",
   "version": "3.12.7"
  }
 },
 "nbformat": 4,
 "nbformat_minor": 5
}
