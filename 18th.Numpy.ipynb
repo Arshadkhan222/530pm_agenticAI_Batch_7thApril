{
 "cells": [
  {
   "cell_type": "markdown",
   "id": "c43554a1-8a29-47fc-8b99-0c410a3c885f",
   "metadata": {},
   "source": [
    "# Numpy :-"
   ]
  },
  {
   "cell_type": "markdown",
   "id": "f34e6f31-5910-41e6-9c01-9acfa7abf7a9",
   "metadata": {},
   "source": [
    "(numerical python):-"
   ]
  },
  {
   "cell_type": "markdown",
   "id": "f99a34bb-921b-4dc4-831b-f896539a4c2c",
   "metadata": {},
   "source": [
    "- Used for working with array.\n",
    "- In python we have list that serve the purpose of array, but they are slow to proses.\n",
    "- Numpy is incridible library to performed mathamatical and statistical operation .\n",
    "- due to its fast and memory effceint  as it is optimized to work with latest cpu architecture.\n",
    "- Numpy aim is to provide array object that is up to 50x faster than traditionol python list.\n",
    "- so process can access and manipulate them very effeciently."
   ]
  },
  {
   "cell_type": "code",
   "execution_count": 4,
   "id": "ec7381d5-619a-48b5-9140-7785b201076e",
   "metadata": {},
   "outputs": [
    {
     "name": "stdout",
     "output_type": "stream",
     "text": [
      "[11, 12, 13, 14]\n"
     ]
    }
   ],
   "source": [
    "# Q:- Write a program to add 10 for each value.\n",
    "l = [1,2,3,4]\n",
    "n = []\n",
    "for i in l :\n",
    "    n.append(i+10)\n",
    "\n",
    "print(n)"
   ]
  },
  {
   "cell_type": "code",
   "execution_count": 5,
   "id": "9f3fddcd-0b50-4e5c-b63b-3051eb9d7627",
   "metadata": {},
   "outputs": [
    {
     "data": {
      "text/plain": [
       "array([11, 12, 13, 14])"
      ]
     },
     "execution_count": 5,
     "metadata": {},
     "output_type": "execute_result"
    }
   ],
   "source": [
    "import numpy as np\n",
    "l = [1,2,3,4]\n",
    "np.array(l)+10"
   ]
  },
  {
   "cell_type": "code",
   "execution_count": 6,
   "id": "698c5721-1591-4127-82be-dbaeefc9aed7",
   "metadata": {},
   "outputs": [
    {
     "data": {
      "text/plain": [
       "[11, 12, 13, 14]"
      ]
     },
     "execution_count": 6,
     "metadata": {},
     "output_type": "execute_result"
    }
   ],
   "source": [
    "# for taking its in list\n",
    "l = [1,2,3,4]\n",
    "a = np.array(l)+10\n",
    "a.tolist()"
   ]
  },
  {
   "cell_type": "code",
   "execution_count": 7,
   "id": "c95f54a5-8dd2-4917-a1e0-0d352440ee20",
   "metadata": {},
   "outputs": [
    {
     "name": "stdout",
     "output_type": "stream",
     "text": [
      "[10, 13, 9, 12]\n"
     ]
    }
   ],
   "source": [
    "# Q :- write a program to add each value in a list1 to list2.\n",
    "l1 = [1,2,3,4]    # (list 1 number is adding in  list 2 )\n",
    "l2 = [9,11,6,8]\n",
    "n = []\n",
    "for i in range(4):\n",
    "    c = l1[i]+l2[i]\n",
    "    n.append(c)\n",
    "\n",
    "print(n)"
   ]
  },
  {
   "cell_type": "code",
   "execution_count": 8,
   "id": "1c388954-b327-411d-ad36-004cc0c37add",
   "metadata": {},
   "outputs": [
    {
     "data": {
      "text/plain": [
       "array([10, 13,  9, 12])"
      ]
     },
     "execution_count": 8,
     "metadata": {},
     "output_type": "execute_result"
    }
   ],
   "source": [
    "np.array(l1)+np.array(l2)"
   ]
  },
  {
   "cell_type": "code",
   "execution_count": 9,
   "id": "10a71b65-fb1c-484b-8330-51f221cb4d74",
   "metadata": {},
   "outputs": [
    {
     "name": "stdout",
     "output_type": "stream",
     "text": [
      "[34, 9, 4, 6, 90]\n"
     ]
    }
   ],
   "source": [
    "# Q:- write a program to extract the value within the list by using index number using for loop?\n",
    "l = [34,9,7,81,4,6,2,90,99]\n",
    "# i want this insex number '0,1,4,5,7'\n",
    "n = []\n",
    "for i in [0,1,4,5,7]:\n",
    "    n.append(l[i])\n",
    "\n",
    "print(n)"
   ]
  },
  {
   "cell_type": "markdown",
   "id": "85fb73cc-55ff-47e2-88ed-3b5bd8bf44c7",
   "metadata": {},
   "source": [
    "### Numpy Array :- (nd array)"
   ]
  },
  {
   "cell_type": "code",
   "execution_count": 10,
   "id": "cdfb4320-8583-4add-b680-00b643b75d52",
   "metadata": {},
   "outputs": [
    {
     "name": "stdout",
     "output_type": "stream",
     "text": [
      "45\n",
      "<class 'int'>\n"
     ]
    }
   ],
   "source": [
    "a = 45\n",
    "print(a)\n",
    "print(type(a))"
   ]
  },
  {
   "cell_type": "code",
   "execution_count": 11,
   "id": "21d504a5-6d77-4431-86ea-baf6e01a37bb",
   "metadata": {},
   "outputs": [
    {
     "name": "stdout",
     "output_type": "stream",
     "text": [
      "45\n",
      "<class 'int'>\n"
     ]
    }
   ],
   "source": [
    "a = 45\n",
    "arr_0 = np.array(a)\n",
    "print(arr_0)\n",
    "print(type(a))"
   ]
  },
  {
   "cell_type": "code",
   "execution_count": 12,
   "id": "b72b7f6e-cc78-45fb-b5bd-4ec1112a314a",
   "metadata": {},
   "outputs": [
    {
     "data": {
      "text/plain": [
       "0"
      ]
     },
     "execution_count": 12,
     "metadata": {},
     "output_type": "execute_result"
    }
   ],
   "source": [
    "arr_0.ndim"
   ]
  },
  {
   "cell_type": "code",
   "execution_count": 13,
   "id": "08e234e3-a5d2-4080-84ee-ac5b05d0fc4a",
   "metadata": {},
   "outputs": [
    {
     "data": {
      "text/plain": [
       "()"
      ]
     },
     "execution_count": 13,
     "metadata": {},
     "output_type": "execute_result"
    }
   ],
   "source": [
    "arr_0.shape"
   ]
  },
  {
   "cell_type": "code",
   "execution_count": 14,
   "id": "845a8ca2-3b74-4ed5-9c0a-5461c18a4aa2",
   "metadata": {},
   "outputs": [],
   "source": [
    "# if there is empty tumple its mean it is zero dimentionol array."
   ]
  },
  {
   "cell_type": "code",
   "execution_count": 15,
   "id": "3fe5d822-08b1-4c41-aeaf-c2a28293c9eb",
   "metadata": {},
   "outputs": [
    {
     "name": "stdout",
     "output_type": "stream",
     "text": [
      "[1, 2, 3, 4]\n",
      "<class 'list'>\n"
     ]
    }
   ],
   "source": [
    "a = [1,2,3,4]\n",
    "print(a)\n",
    "print(type(a))"
   ]
  },
  {
   "cell_type": "code",
   "execution_count": 16,
   "id": "3957790c-d3fb-49f1-a72f-24ee6da04627",
   "metadata": {},
   "outputs": [
    {
     "name": "stdout",
     "output_type": "stream",
     "text": [
      "[1 2 3 4]\n",
      "<class 'numpy.ndarray'>\n"
     ]
    }
   ],
   "source": [
    "arr_1 = np.array(a)\n",
    "print(arr_1)\n",
    "print(type(arr_1))"
   ]
  },
  {
   "cell_type": "code",
   "execution_count": 17,
   "id": "24a0805a-ff7d-4c03-b898-d2c70455751c",
   "metadata": {},
   "outputs": [
    {
     "name": "stdout",
     "output_type": "stream",
     "text": [
      "srk\n"
     ]
    }
   ],
   "source": [
    "c = 'srk'\n",
    "print(c) # here it is not printing it with coted bescuse we use printing function here"
   ]
  },
  {
   "cell_type": "code",
   "execution_count": 18,
   "id": "36e3a39d-c34f-4fd5-b009-266660466ab9",
   "metadata": {},
   "outputs": [
    {
     "data": {
      "text/plain": [
       "'srk'"
      ]
     },
     "execution_count": 18,
     "metadata": {},
     "output_type": "execute_result"
    }
   ],
   "source": [
    "c"
   ]
  },
  {
   "cell_type": "code",
   "execution_count": 19,
   "id": "02118f75-c4fc-4d59-86b3-aff941b6b3fe",
   "metadata": {},
   "outputs": [
    {
     "name": "stdout",
     "output_type": "stream",
     "text": [
      "[1 2 3 4]\n"
     ]
    }
   ],
   "source": [
    "c= np.array([1,2,3,4])\n",
    "print(c)"
   ]
  },
  {
   "cell_type": "code",
   "execution_count": 20,
   "id": "12258ddd-2304-4e62-9193-2de20dd7349e",
   "metadata": {},
   "outputs": [
    {
     "data": {
      "text/plain": [
       "array([1, 2, 3, 4])"
      ]
     },
     "execution_count": 20,
     "metadata": {},
     "output_type": "execute_result"
    }
   ],
   "source": [
    "c"
   ]
  },
  {
   "cell_type": "code",
   "execution_count": 21,
   "id": "5d37fa51-c260-48e9-8e02-640f567847e2",
   "metadata": {},
   "outputs": [
    {
     "data": {
      "text/plain": [
       "array([1, 2, 3, 4])"
      ]
     },
     "execution_count": 21,
     "metadata": {},
     "output_type": "execute_result"
    }
   ],
   "source": [
    "arr_1"
   ]
  },
  {
   "cell_type": "code",
   "execution_count": 22,
   "id": "c3ca3e31-623b-48eb-9b73-bd81aa324ef1",
   "metadata": {},
   "outputs": [
    {
     "data": {
      "text/plain": [
       "1"
      ]
     },
     "execution_count": 22,
     "metadata": {},
     "output_type": "execute_result"
    }
   ],
   "source": [
    "arr_1.ndim"
   ]
  },
  {
   "cell_type": "code",
   "execution_count": 23,
   "id": "653c15b4-ae61-41e8-8a92-eae6713e3f1f",
   "metadata": {},
   "outputs": [
    {
     "data": {
      "text/plain": [
       "(4,)"
      ]
     },
     "execution_count": 23,
     "metadata": {},
     "output_type": "execute_result"
    }
   ],
   "source": [
    "arr_1.shape"
   ]
  },
  {
   "cell_type": "code",
   "execution_count": 24,
   "id": "2986af0d-3638-467d-a401-5daaedbdefff",
   "metadata": {},
   "outputs": [],
   "source": [
    "# shape will always be tuple"
   ]
  },
  {
   "cell_type": "markdown",
   "id": "553a2c12-aac2-4a80-ab4b-bedd0794657f",
   "metadata": {},
   "source": [
    "## Function for creting 1D array"
   ]
  },
  {
   "cell_type": "markdown",
   "id": "2c128145-f3ff-4fa5-b8f8-4ec8dec48bdd",
   "metadata": {},
   "source": [
    "### * Arange :-"
   ]
  },
  {
   "cell_type": "markdown",
   "id": "c7358a10-8735-4714-88b2-79523ba182ee",
   "metadata": {},
   "source": [
    "- Arange is an array value version of the build in python range function.\n",
    "- Array with range of values.\n",
    "- syntex :- np.arange(start,end,step) example (0, 10 , 2)."
   ]
  },
  {
   "cell_type": "code",
   "execution_count": 25,
   "id": "8e4a01de-cf60-4aee-88ff-671891f24648",
   "metadata": {},
   "outputs": [
    {
     "name": "stdout",
     "output_type": "stream",
     "text": [
      "[1 3 5 7 9]\n"
     ]
    }
   ],
   "source": [
    "a = np.arange(1,10,2)\n",
    "print(a)"
   ]
  },
  {
   "cell_type": "markdown",
   "id": "f48f57cc-04b7-43c6-ba33-8bfe2242f10a",
   "metadata": {},
   "source": [
    "### * linspace :-"
   ]
  },
  {
   "cell_type": "markdown",
   "id": "66283448-a2cf-427c-9396-1ffb8d094e26",
   "metadata": {},
   "source": [
    "- Return evenly spaeced number over a specific interval.\n",
    "- syntex :- np.linspace(start,end,num_of_sample)"
   ]
  },
  {
   "cell_type": "code",
   "execution_count": 26,
   "id": "53e4b0e0-b5a4-4d93-9b83-8a22caf488e1",
   "metadata": {},
   "outputs": [
    {
     "data": {
      "text/plain": [
       "array([0., 1., 2., 3., 4., 5.])"
      ]
     },
     "execution_count": 26,
     "metadata": {},
     "output_type": "execute_result"
    }
   ],
   "source": [
    "np.linspace(0,5,6)"
   ]
  },
  {
   "cell_type": "code",
   "execution_count": 27,
   "id": "71d5fd15-daaa-4d3f-b234-277cf3c4e6ed",
   "metadata": {},
   "outputs": [
    {
     "data": {
      "text/plain": [
       "array([0.  , 1.25, 2.5 , 3.75, 5.  ])"
      ]
     },
     "execution_count": 27,
     "metadata": {},
     "output_type": "execute_result"
    }
   ],
   "source": [
    "np.linspace(0,5,5)"
   ]
  },
  {
   "cell_type": "code",
   "execution_count": 28,
   "id": "cfd1a432-8d8a-4237-8d20-d56edda160e2",
   "metadata": {},
   "outputs": [
    {
     "data": {
      "text/plain": [
       "array([0.        , 1.66666667, 3.33333333, 5.        ])"
      ]
     },
     "execution_count": 28,
     "metadata": {},
     "output_type": "execute_result"
    }
   ],
   "source": [
    "np.linspace(0,5,4)"
   ]
  },
  {
   "cell_type": "markdown",
   "id": "b8ac2f04-ecca-4722-a293-7209fc856c17",
   "metadata": {},
   "source": [
    "### * Zeros :-"
   ]
  },
  {
   "cell_type": "markdown",
   "id": "9726610a-4544-4b72-a766-32a8a6b0f325",
   "metadata": {},
   "source": [
    "- Genral array of zeros.\n",
    "- syntex:- np.zeros(shape)."
   ]
  },
  {
   "cell_type": "code",
   "execution_count": 29,
   "id": "27bffe39-9e71-4750-a041-5a56afee082b",
   "metadata": {},
   "outputs": [
    {
     "data": {
      "text/plain": [
       "array([0., 0., 0., 0.])"
      ]
     },
     "execution_count": 29,
     "metadata": {},
     "output_type": "execute_result"
    }
   ],
   "source": [
    "np.zeros((4,))"
   ]
  },
  {
   "cell_type": "code",
   "execution_count": 30,
   "id": "e5c46a82-7952-4706-a2c2-25f7454ebd3c",
   "metadata": {},
   "outputs": [
    {
     "data": {
      "text/plain": [
       "array([0, 0, 0, 0])"
      ]
     },
     "execution_count": 30,
     "metadata": {},
     "output_type": "execute_result"
    }
   ],
   "source": [
    "# if we want int datatype value\n",
    "np.zeros((4),dtype = int)"
   ]
  },
  {
   "cell_type": "markdown",
   "id": "1e673c44-10fb-460b-91c5-b048557c4957",
   "metadata": {},
   "source": [
    "### * Ones :-"
   ]
  },
  {
   "cell_type": "markdown",
   "id": "1df58ed6-1730-4360-b3fc-2c570d21d6f0",
   "metadata": {},
   "source": [
    "- Genrate array of ones.\n",
    "- syntex :- np.ones(shape)."
   ]
  },
  {
   "cell_type": "code",
   "execution_count": 31,
   "id": "b9c8cf67-2ada-417f-9974-492a160c4cb5",
   "metadata": {},
   "outputs": [
    {
     "data": {
      "text/plain": [
       "array([1., 1., 1., 1.])"
      ]
     },
     "execution_count": 31,
     "metadata": {},
     "output_type": "execute_result"
    }
   ],
   "source": [
    "np.ones((4,))"
   ]
  },
  {
   "cell_type": "markdown",
   "id": "422c3951-2cf8-49ac-bf96-560fa3eae2ab",
   "metadata": {},
   "source": [
    "### * Random.randint :-"
   ]
  },
  {
   "cell_type": "markdown",
   "id": "f3c08ff0-b929-4ec5-8acc-7211a743bd44",
   "metadata": {},
   "source": [
    "- Return a random integer from starte (inculsive) to end (enclusive).\n",
    "- syntex :- np.random.randint(start, end, num_of_sample)."
   ]
  },
  {
   "cell_type": "code",
   "execution_count": 32,
   "id": "29a9339a-e06a-4966-84ca-488f158839ea",
   "metadata": {},
   "outputs": [
    {
     "data": {
      "text/plain": [
       "array([509, 912,  17, 663, 484])"
      ]
     },
     "execution_count": 32,
     "metadata": {},
     "output_type": "execute_result"
    }
   ],
   "source": [
    "np.random.randint(1, 1000, 5)"
   ]
  },
  {
   "cell_type": "code",
   "execution_count": 33,
   "id": "7a9547ed-bb02-4e57-a49c-ead0994a8f63",
   "metadata": {},
   "outputs": [
    {
     "data": {
      "text/plain": [
       "array([553, 105, 146, 423, 337])"
      ]
     },
     "execution_count": 33,
     "metadata": {},
     "output_type": "execute_result"
    }
   ],
   "source": [
    "np.random.randint(1, 1000, 5)"
   ]
  },
  {
   "cell_type": "markdown",
   "id": "06e6a9c3-149f-4af2-a4ee-38e5145405ee",
   "metadata": {},
   "source": [
    "### Accesing element Extracting the value."
   ]
  },
  {
   "cell_type": "markdown",
   "id": "9c410c31-d859-4ee1-82be-cf8f45bd19b9",
   "metadata": {},
   "source": [
    "- 1:- accessing a single value through index.\n",
    "- 2:- accessing a multiple value based on slicing.\n",
    "- 3:- accessing a multiple value based on index.\n",
    "- 4:- accesing a multiple value based on condition."
   ]
  },
  {
   "cell_type": "code",
   "execution_count": 34,
   "id": "82ab575f-d076-4d4b-868f-3993e89c5da5",
   "metadata": {},
   "outputs": [
    {
     "name": "stdout",
     "output_type": "stream",
     "text": [
      "[100 120 130 190 200  14  18  26]\n"
     ]
    }
   ],
   "source": [
    "a = np.array([100,120,130,190,200,14,18,26])\n",
    "print(a)"
   ]
  },
  {
   "cell_type": "markdown",
   "id": "19d29fd3-4d53-4a24-b444-57139c91ac91",
   "metadata": {},
   "source": [
    " 1 :- accessing a single value through indexing."
   ]
  },
  {
   "cell_type": "code",
   "execution_count": 35,
   "id": "a8399b54-bb6e-417c-b2ee-d21e4a794163",
   "metadata": {},
   "outputs": [
    {
     "data": {
      "text/plain": [
       "120"
      ]
     },
     "execution_count": 35,
     "metadata": {},
     "output_type": "execute_result"
    }
   ],
   "source": [
    "# positive index\n",
    "a[1]"
   ]
  },
  {
   "cell_type": "code",
   "execution_count": 36,
   "id": "9a1db83a-fcd3-4df2-b939-06e24184e340",
   "metadata": {},
   "outputs": [
    {
     "data": {
      "text/plain": [
       "26"
      ]
     },
     "execution_count": 36,
     "metadata": {},
     "output_type": "execute_result"
    }
   ],
   "source": [
    "# negative index\n",
    "a[-1]"
   ]
  },
  {
   "cell_type": "markdown",
   "id": "2f827762-a968-4956-8a7a-e11f9cc2543e",
   "metadata": {},
   "source": [
    " 2:- accessing a multiple value based on slicing."
   ]
  },
  {
   "cell_type": "code",
   "execution_count": 37,
   "id": "3325d38e-9369-4922-ba43-4345d723be6a",
   "metadata": {},
   "outputs": [
    {
     "data": {
      "text/plain": [
       "array([100, 130, 200])"
      ]
     },
     "execution_count": 37,
     "metadata": {},
     "output_type": "execute_result"
    }
   ],
   "source": [
    "a[0:5:2]"
   ]
  },
  {
   "cell_type": "code",
   "execution_count": 38,
   "id": "803bdaac-347c-40c3-a6ec-7e2ae63ccc87",
   "metadata": {},
   "outputs": [
    {
     "data": {
      "text/plain": [
       "array([100, 120, 130, 190, 200])"
      ]
     },
     "execution_count": 38,
     "metadata": {},
     "output_type": "execute_result"
    }
   ],
   "source": [
    "a[0:5:1]"
   ]
  },
  {
   "cell_type": "markdown",
   "id": "f57dc7ee-a45a-4e69-b758-059f5b9c2b64",
   "metadata": {},
   "source": [
    " 3:- accessing multiple value based on indexing."
   ]
  },
  {
   "cell_type": "code",
   "execution_count": 39,
   "id": "991d0857-918a-4f04-ad04-831870a188b0",
   "metadata": {},
   "outputs": [
    {
     "data": {
      "text/plain": [
       "array([100, 120,  14,  18, 200])"
      ]
     },
     "execution_count": 39,
     "metadata": {},
     "output_type": "execute_result"
    }
   ],
   "source": [
    "# syntex:- array[list of index number]\n",
    "a [[0,1,5,6,4]]"
   ]
  },
  {
   "cell_type": "code",
   "execution_count": 40,
   "id": "8b5abe4f-e478-408f-84be-bb62a2c0319f",
   "metadata": {
    "scrolled": true
   },
   "outputs": [
    {
     "data": {
      "text/plain": [
       "array([100, 120,  14,  18, 200, 100, 100, 100, 100])"
      ]
     },
     "execution_count": 40,
     "metadata": {},
     "output_type": "execute_result"
    }
   ],
   "source": [
    "# we can also repeat indexing\n",
    "a[[0,1,5,6,4,0,0,0,0]] # becuse list accept dupllicates."
   ]
  },
  {
   "cell_type": "code",
   "execution_count": 41,
   "id": "4c7c0884-8730-43dc-90bb-21acaea59af0",
   "metadata": {},
   "outputs": [
    {
     "name": "stdout",
     "output_type": "stream",
     "text": [
      "[100, 120, 14, 18, 200, 100, 100, 100, 100]\n"
     ]
    }
   ],
   "source": [
    "# with the  help of loop or this is backed code.\n",
    "l = [100,120,130,190,200,14,18,26]\n",
    "n = []\n",
    "for i in [0,1,5,6,4,0,0,0,0]:\n",
    "    n.append(l[i])\n",
    "\n",
    "print(n)"
   ]
  },
  {
   "cell_type": "markdown",
   "id": "83203ea6-f088-4f79-b69b-a681fb494d8d",
   "metadata": {},
   "source": [
    "4:- Accesing a multiple value based on condition (Mask indexing or fancy indexing)"
   ]
  },
  {
   "cell_type": "code",
   "execution_count": 42,
   "id": "bd397cf2-269f-433f-a431-c37dd58df747",
   "metadata": {},
   "outputs": [
    {
     "data": {
      "text/plain": [
       "array([False,  True,  True])"
      ]
     },
     "execution_count": 42,
     "metadata": {},
     "output_type": "execute_result"
    }
   ],
   "source": [
    "# syntex :- array [condition]\n",
    "# first it will cheak the condition (mean which item gives True for the condition that item will be selected.)\n",
    "\n",
    "a = np.array([45,46,47])\n",
    "a > 45"
   ]
  },
  {
   "cell_type": "code",
   "execution_count": 43,
   "id": "6693e704-db7b-4840-960a-ab0e44ad32a2",
   "metadata": {},
   "outputs": [
    {
     "data": {
      "text/plain": [
       "array([46, 47])"
      ]
     },
     "execution_count": 43,
     "metadata": {},
     "output_type": "execute_result"
    }
   ],
   "source": [
    "# if i want data \n",
    "a = np.array([45,46,47])\n",
    "a[a > 45]"
   ]
  },
  {
   "cell_type": "markdown",
   "id": "eec7ee2c-f203-4fa8-80e3-2a34563ddd7a",
   "metadata": {},
   "source": [
    "## Modify the value in numpy"
   ]
  },
  {
   "cell_type": "code",
   "execution_count": 44,
   "id": "686384d3-ac47-492b-a632-bf5d7270e4b7",
   "metadata": {},
   "outputs": [
    {
     "name": "stdout",
     "output_type": "stream",
     "text": [
      "[ 45  46  47 110]\n"
     ]
    }
   ],
   "source": [
    "# Add a single in a array\n",
    "# sytex : np.append(array,value)\n",
    "\n",
    "a = np.array ([45,46,47])\n",
    "a1 = np.append(a,110)\n",
    "print(a1)"
   ]
  },
  {
   "cell_type": "code",
   "execution_count": 45,
   "id": "5e44c1f5-4a52-49c4-a77a-a7cb34c5fcf2",
   "metadata": {},
   "outputs": [
    {
     "name": "stdout",
     "output_type": "stream",
     "text": [
      "[45 46 47]\n"
     ]
    }
   ],
   "source": [
    "# adding a multiple value  \n",
    "a = np.array([45,46,47])\n",
    "a2 = np.append(a,[140,129,130])\n",
    "print(a)"
   ]
  },
  {
   "cell_type": "markdown",
   "id": "7d94d356-acb0-4ec1-b570-11d319f5c9b0",
   "metadata": {},
   "source": [
    "### Replacing a single value in a 1D array"
   ]
  },
  {
   "cell_type": "code",
   "execution_count": 46,
   "id": "b338086d-ca4b-46dd-8686-d18137e1363e",
   "metadata": {},
   "outputs": [],
   "source": [
    "a = np.array([45,46,47])\n",
    "a[1] = 100"
   ]
  },
  {
   "cell_type": "code",
   "execution_count": 47,
   "id": "cc690c7c-78c1-44c6-8c0b-89a70f16674e",
   "metadata": {},
   "outputs": [
    {
     "name": "stdout",
     "output_type": "stream",
     "text": [
      "[ 45 100  47]\n"
     ]
    }
   ],
   "source": [
    "print(a)"
   ]
  },
  {
   "cell_type": "markdown",
   "id": "9d827ea9-381e-4245-8dd5-7199e851e5d7",
   "metadata": {},
   "source": [
    "### Replacing a multiple value with a single value in a array."
   ]
  },
  {
   "cell_type": "code",
   "execution_count": 48,
   "id": "623562a4-0a85-4dfe-b762-ea0e12eb1539",
   "metadata": {},
   "outputs": [
    {
     "data": {
      "text/plain": [
       "array([45, 15, 15])"
      ]
     },
     "execution_count": 48,
     "metadata": {},
     "output_type": "execute_result"
    }
   ],
   "source": [
    "a [[1,2]]=15\n",
    "a"
   ]
  },
  {
   "cell_type": "code",
   "execution_count": 49,
   "id": "4dc56394-2698-481e-805b-b161d121ad8e",
   "metadata": {},
   "outputs": [
    {
     "data": {
      "text/plain": [
       "array([45, 15, 16])"
      ]
     },
     "execution_count": 49,
     "metadata": {},
     "output_type": "execute_result"
    }
   ],
   "source": [
    "a [[1,2]]=15,16\n",
    "a"
   ]
  },
  {
   "cell_type": "markdown",
   "id": "37fba979-2910-4546-898e-e9a0ab5da867",
   "metadata": {},
   "source": [
    "### Replacing a multiple value with a multiple values in a array"
   ]
  },
  {
   "cell_type": "code",
   "execution_count": 50,
   "id": "da989dfe-d317-4001-b3a8-df0c5abcb7e7",
   "metadata": {},
   "outputs": [
    {
     "data": {
      "text/plain": [
       "array([ 45, 150, 200])"
      ]
     },
     "execution_count": 50,
     "metadata": {},
     "output_type": "execute_result"
    }
   ],
   "source": [
    "a[[1,2]] =[150,200]\n",
    "a"
   ]
  },
  {
   "cell_type": "markdown",
   "id": "5fd1cc32-99d3-49a1-b0da-0176049f7e51",
   "metadata": {},
   "source": [
    "### delet a single value in a array"
   ]
  },
  {
   "cell_type": "code",
   "execution_count": 51,
   "id": "912f0516-ca25-4c25-83eb-0e243af7e901",
   "metadata": {},
   "outputs": [
    {
     "data": {
      "text/plain": [
       "array([1, 3, 4])"
      ]
     },
     "execution_count": 51,
     "metadata": {},
     "output_type": "execute_result"
    }
   ],
   "source": [
    "# syntex :- np.delete(array,indexnumber)\n",
    "a = np.array([1,2,3,4])\n",
    "np.delete(a,1)  # it will the index number value"
   ]
  },
  {
   "cell_type": "markdown",
   "id": "45e3141a-e742-4e76-9ee5-966c4a7632f9",
   "metadata": {},
   "source": [
    "### Delete multiple value in a array"
   ]
  },
  {
   "cell_type": "code",
   "execution_count": 52,
   "id": "5a5b1708-5803-496e-8960-dd3ecae68109",
   "metadata": {},
   "outputs": [
    {
     "name": "stdout",
     "output_type": "stream",
     "text": [
      "[1 4]\n"
     ]
    }
   ],
   "source": [
    "#syntex :- np.delete(array,[multiple index number])\n",
    "a4 = np.delete(a,[1,2])\n",
    "print(a4)  # so it have deleted index numbers values"
   ]
  },
  {
   "cell_type": "markdown",
   "id": "be85cbb6-6500-44e4-bf17-d2878fa7d117",
   "metadata": {},
   "source": [
    "### Copy array"
   ]
  },
  {
   "cell_type": "code",
   "execution_count": 53,
   "id": "c2a47182-6a94-4715-8845-4bdac9394bc1",
   "metadata": {},
   "outputs": [
    {
     "name": "stdout",
     "output_type": "stream",
     "text": [
      "[1 2 3 4]\n",
      "[100   2   3   4]\n"
     ]
    }
   ],
   "source": [
    "a = np.array([1,2,3,4])\n",
    "b = a.copy()\n",
    "b[0] = 100\n",
    "print(a)\n",
    "print(b)"
   ]
  },
  {
   "cell_type": "markdown",
   "id": "65952f70-b241-4849-a6cc-9c828a24c53c",
   "metadata": {},
   "source": [
    "### Sorting an array :-"
   ]
  },
  {
   "cell_type": "code",
   "execution_count": 54,
   "id": "f4c60922-b6b9-4eec-9659-3a5e5e8d1a30",
   "metadata": {},
   "outputs": [
    {
     "name": "stdout",
     "output_type": "stream",
     "text": [
      "[1 2 4 6 8]\n"
     ]
    }
   ],
   "source": [
    "a = np.array([4,6,8,2,1])\n",
    "b = np.sort(a)\n",
    "print(b)"
   ]
  },
  {
   "cell_type": "markdown",
   "id": "46cafbbc-e0c2-42a9-8f0c-2db2a128a2aa",
   "metadata": {},
   "source": [
    "##### imp Notes :- for padas backend codes is numpy and for numpy backend code is list."
   ]
  },
  {
   "cell_type": "markdown",
   "id": "e844c384-6453-4bac-90d1-4c196c294cfb",
   "metadata": {},
   "source": [
    "### Operations :-"
   ]
  },
  {
   "cell_type": "markdown",
   "id": "97ccaad4-4cd0-4aea-bb18-8a800710abdd",
   "metadata": {},
   "source": [
    "- Arthmetic operations:-"
   ]
  },
  {
   "cell_type": "code",
   "execution_count": 55,
   "id": "b9869f86-a583-4165-9444-bc6abd871549",
   "metadata": {},
   "outputs": [
    {
     "name": "stdout",
     "output_type": "stream",
     "text": [
      "[1 2 3 4]\n"
     ]
    }
   ],
   "source": [
    "a = np.array([1,2,3,4])\n",
    "print(a)"
   ]
  },
  {
   "cell_type": "code",
   "execution_count": 56,
   "id": "c2efc600-10cf-4ff4-8dd6-184aaae97f00",
   "metadata": {},
   "outputs": [
    {
     "name": "stdout",
     "output_type": "stream",
     "text": [
      "[2 3 4 5]\n"
     ]
    }
   ],
   "source": [
    "b = a + 1  # we are adding here 1 value \n",
    "print(b)"
   ]
  },
  {
   "cell_type": "code",
   "execution_count": 57,
   "id": "989bf943-1a7c-4eda-ab4a-8dfd184beda0",
   "metadata": {},
   "outputs": [
    {
     "name": "stdout",
     "output_type": "stream",
     "text": [
      "[1 2 3 4]\n"
     ]
    }
   ],
   "source": [
    "c = a + 0\n",
    "print(c)"
   ]
  },
  {
   "cell_type": "code",
   "execution_count": 58,
   "id": "31eedce9-4889-4ceb-990e-72f0a89a751a",
   "metadata": {},
   "outputs": [
    {
     "name": "stdout",
     "output_type": "stream",
     "text": [
      "[ 1  4  9 16]\n"
     ]
    }
   ],
   "source": [
    "d = a ** 2\n",
    "print(d)"
   ]
  },
  {
   "cell_type": "code",
   "execution_count": 59,
   "id": "fc84a6e9-e875-4d09-bf9c-4edbd4593378",
   "metadata": {},
   "outputs": [
    {
     "name": "stdout",
     "output_type": "stream",
     "text": [
      "[3 5 7 9]\n"
     ]
    }
   ],
   "source": [
    "print(a+b)"
   ]
  },
  {
   "cell_type": "code",
   "execution_count": 60,
   "id": "650bec73-56f5-4cce-9193-cebbd9537b57",
   "metadata": {},
   "outputs": [
    {
     "name": "stdout",
     "output_type": "stream",
     "text": [
      "[-1 -1 -1 -1]\n"
     ]
    }
   ],
   "source": [
    "print(a-b)"
   ]
  },
  {
   "cell_type": "code",
   "execution_count": 61,
   "id": "62402c26-a661-4917-8ff6-16d82cd7281e",
   "metadata": {},
   "outputs": [
    {
     "name": "stdout",
     "output_type": "stream",
     "text": [
      "[ 2  6 12 20]\n"
     ]
    }
   ],
   "source": [
    "print(a*b)"
   ]
  },
  {
   "cell_type": "markdown",
   "id": "4848c146-069e-40d1-a91c-3536a389ff7c",
   "metadata": {},
   "source": [
    "- comparision operations :-"
   ]
  },
  {
   "cell_type": "code",
   "execution_count": 62,
   "id": "fb35f2db-0deb-4d93-95e2-8cbb5a3f3489",
   "metadata": {},
   "outputs": [
    {
     "data": {
      "text/plain": [
       "array([False, False, False, False])"
      ]
     },
     "execution_count": 62,
     "metadata": {},
     "output_type": "execute_result"
    }
   ],
   "source": [
    "a == b"
   ]
  },
  {
   "cell_type": "code",
   "execution_count": 63,
   "id": "be677f2a-afea-4bad-b79a-d88c9c164c64",
   "metadata": {},
   "outputs": [
    {
     "data": {
      "text/plain": [
       "array([ True,  True,  True,  True])"
      ]
     },
     "execution_count": 63,
     "metadata": {},
     "output_type": "execute_result"
    }
   ],
   "source": [
    "b >= a"
   ]
  },
  {
   "cell_type": "code",
   "execution_count": 64,
   "id": "bfb898d4-c2bb-405b-b1cf-6213d8966da4",
   "metadata": {},
   "outputs": [
    {
     "data": {
      "text/plain": [
       "False"
      ]
     },
     "execution_count": 64,
     "metadata": {},
     "output_type": "execute_result"
    }
   ],
   "source": [
    "np.array_equal(a,b) # it will cheak each value a and b is same or not"
   ]
  },
  {
   "cell_type": "code",
   "execution_count": 65,
   "id": "0faac0b2-ce88-40fa-97b3-a9ffcbc996fe",
   "metadata": {},
   "outputs": [
    {
     "data": {
      "text/plain": [
       "True"
      ]
     },
     "execution_count": 65,
     "metadata": {},
     "output_type": "execute_result"
    }
   ],
   "source": [
    "np.array_equal(a,c)"
   ]
  },
  {
   "cell_type": "code",
   "execution_count": 66,
   "id": "921e34c2-8c9b-4b28-a8e5-273fcece6bcb",
   "metadata": {},
   "outputs": [
    {
     "name": "stdout",
     "output_type": "stream",
     "text": [
      "[0 1 2 3 4]\n"
     ]
    }
   ],
   "source": [
    "a = np.array([0,1,2,3,4])\n",
    "print(a)"
   ]
  },
  {
   "cell_type": "code",
   "execution_count": 67,
   "id": "cba855d8-206c-4800-83a0-5b0ec3eee0cb",
   "metadata": {},
   "outputs": [
    {
     "name": "stderr",
     "output_type": "stream",
     "text": [
      "C:\\Users\\ARSHAD ALI KHAN\\AppData\\Local\\Temp\\ipykernel_9552\\2037733980.py:1: RuntimeWarning: divide by zero encountered in log\n",
      "  np.log(a)\n"
     ]
    },
    {
     "data": {
      "text/plain": [
       "array([      -inf, 0.        , 0.69314718, 1.09861229, 1.38629436])"
      ]
     },
     "execution_count": 67,
     "metadata": {},
     "output_type": "execute_result"
    }
   ],
   "source": [
    "np.log(a)\n",
    "# this is warning wherever you are getting output as infinite it will give you waring."
   ]
  },
  {
   "cell_type": "code",
   "execution_count": 68,
   "id": "74dd6114-86f7-4e90-a41a-e4c473eac6c6",
   "metadata": {},
   "outputs": [],
   "source": [
    "# solution of a waring\n",
    "import warnings\n",
    "warnings.simplefilter(\"ignore\")"
   ]
  },
  {
   "cell_type": "code",
   "execution_count": 69,
   "id": "c922b974-3dfd-4bf4-bdc7-7bb934c7da68",
   "metadata": {},
   "outputs": [
    {
     "data": {
      "text/plain": [
       "array([ 1.        ,  2.71828183,  7.3890561 , 20.08553692, 54.59815003])"
      ]
     },
     "execution_count": 69,
     "metadata": {},
     "output_type": "execute_result"
    }
   ],
   "source": [
    "np.exp(a)"
   ]
  },
  {
   "cell_type": "markdown",
   "id": "2f211592-1953-4174-bf8a-464d796a8fca",
   "metadata": {},
   "source": [
    "# 2 D numpy Array :-"
   ]
  },
  {
   "cell_type": "markdown",
   "id": "4978a7c9-74f2-4dbc-abf1-baa8609c5c8c",
   "metadata": {},
   "source": [
    "- 2 D (dimentinol) mean rows and columns simply it's matrix."
   ]
  },
  {
   "cell_type": "code",
   "execution_count": 70,
   "id": "cc5ff35d-88b6-43b7-b238-861811439c71",
   "metadata": {},
   "outputs": [
    {
     "data": {
      "text/plain": [
       "array([[1, 2, 3],\n",
       "       [4, 5, 6]])"
      ]
     },
     "execution_count": 70,
     "metadata": {},
     "output_type": "execute_result"
    }
   ],
   "source": [
    "import numpy as np\n",
    "np.array([[1,2,3],[4,5,6]])"
   ]
  },
  {
   "cell_type": "code",
   "execution_count": 71,
   "id": "a8ba42eb-6cf3-42b4-babb-78881b4aa42c",
   "metadata": {},
   "outputs": [],
   "source": [
    "# // OR "
   ]
  },
  {
   "cell_type": "code",
   "execution_count": 72,
   "id": "d85b2b8e-a72d-4024-8c11-cfccd4a9841b",
   "metadata": {},
   "outputs": [],
   "source": [
    "f = np.array ([[1,2,3],[4,5,6]])"
   ]
  },
  {
   "cell_type": "code",
   "execution_count": 73,
   "id": "a1b46863-dc29-4972-a5d0-cc191a880f59",
   "metadata": {},
   "outputs": [
    {
     "data": {
      "text/plain": [
       "array([[1, 2, 3],\n",
       "       [4, 5, 6]])"
      ]
     },
     "execution_count": 73,
     "metadata": {},
     "output_type": "execute_result"
    }
   ],
   "source": [
    "f  # it is 2 by 2 matrix (2*2)"
   ]
  },
  {
   "cell_type": "code",
   "execution_count": 74,
   "id": "91e209fe-6dd5-4c9d-82ec-d6cd6c25bf04",
   "metadata": {},
   "outputs": [
    {
     "data": {
      "text/plain": [
       "array([[1, 2, 3],\n",
       "       [4, 5, 6],\n",
       "       [7, 8, 9]])"
      ]
     },
     "execution_count": 74,
     "metadata": {},
     "output_type": "execute_result"
    }
   ],
   "source": [
    "np.array([[1,2,3],[4,5,6],[7,8,9]])\n",
    "# it is 3 by 3 matrix (3*3)"
   ]
  },
  {
   "cell_type": "code",
   "execution_count": 75,
   "id": "9c3b194f-9542-47b8-8f82-e3f5ef72c91d",
   "metadata": {},
   "outputs": [],
   "source": [
    "# nul value mean missing value or not available."
   ]
  },
  {
   "cell_type": "code",
   "execution_count": 76,
   "id": "30164e2f-1d49-4f77-8b1e-465c4efca15c",
   "metadata": {},
   "outputs": [
    {
     "name": "stdout",
     "output_type": "stream",
     "text": [
      "[[0 1 2 5]\n",
      " [2 3 4 8]]\n"
     ]
    }
   ],
   "source": [
    "b = np.array([[0,1,2,5],[2,3,4,8]])\n",
    "print(b)"
   ]
  },
  {
   "cell_type": "code",
   "execution_count": 77,
   "id": "6754cf6d-404a-421b-ba6d-e2cdc4749484",
   "metadata": {},
   "outputs": [
    {
     "data": {
      "text/plain": [
       "(2, 4)"
      ]
     },
     "execution_count": 77,
     "metadata": {},
     "output_type": "execute_result"
    }
   ],
   "source": [
    "b.shape"
   ]
  },
  {
   "cell_type": "markdown",
   "id": "66e4238d-d634-47a3-b57d-dfc474c65f1f",
   "metadata": {},
   "source": [
    "#### imp notes :-"
   ]
  },
  {
   "cell_type": "markdown",
   "id": "4587e285-2c45-4645-9ae7-a8117d8a8694",
   "metadata": {},
   "source": [
    "- one dimentinol array starte with one bracket ([]).\n",
    "- Two dimentinol array starte with two bracket ([[]]).\n",
    "- and Three dimentinol array starte with Three bracket ([[[]]]).\n",
    "- if you combine 3 to 2 dimentionol array it become three dimentinol."
   ]
  },
  {
   "cell_type": "code",
   "execution_count": 78,
   "id": "788611a9-dccf-4c21-8423-b19628ec8404",
   "metadata": {},
   "outputs": [
    {
     "data": {
      "text/plain": [
       "array([[0., 0., 0.],\n",
       "       [0., 0., 0.],\n",
       "       [0., 0., 0.]])"
      ]
     },
     "execution_count": 78,
     "metadata": {},
     "output_type": "execute_result"
    }
   ],
   "source": [
    "np.zeros((3,3))  # it is flout value "
   ]
  },
  {
   "cell_type": "code",
   "execution_count": 79,
   "id": "952d3756-0b59-429a-9a43-aec0ff8d71de",
   "metadata": {},
   "outputs": [
    {
     "data": {
      "text/plain": [
       "array([[0, 0, 0],\n",
       "       [0, 0, 0],\n",
       "       [0, 0, 0]])"
      ]
     },
     "execution_count": 79,
     "metadata": {},
     "output_type": "execute_result"
    }
   ],
   "source": [
    "np.zeros((3,3),dtype = int) # now it is int value"
   ]
  },
  {
   "cell_type": "code",
   "execution_count": 80,
   "id": "41a145a9-bde8-4ea5-a065-109d57430b55",
   "metadata": {},
   "outputs": [
    {
     "data": {
      "text/plain": [
       "array([[1., 1., 1.],\n",
       "       [1., 1., 1.],\n",
       "       [1., 1., 1.],\n",
       "       [1., 1., 1.],\n",
       "       [1., 1., 1.]])"
      ]
     },
     "execution_count": 80,
     "metadata": {},
     "output_type": "execute_result"
    }
   ],
   "source": [
    "np.ones((5,3))"
   ]
  },
  {
   "cell_type": "code",
   "execution_count": 81,
   "id": "adfe60be-adcf-4afb-8a28-033be561ce00",
   "metadata": {},
   "outputs": [
    {
     "data": {
      "text/plain": [
       "array([[2., 2., 2.],\n",
       "       [2., 2., 2.],\n",
       "       [2., 2., 2.]])"
      ]
     },
     "execution_count": 81,
     "metadata": {},
     "output_type": "execute_result"
    }
   ],
   "source": [
    "np.ones((3,3))+1  # we can add any number from adding here."
   ]
  },
  {
   "cell_type": "code",
   "execution_count": 82,
   "id": "c572703e-1ad4-40b6-b876-036af3dd1fbb",
   "metadata": {},
   "outputs": [
    {
     "data": {
      "text/plain": [
       "array([[2, 2, 2],\n",
       "       [2, 2, 2],\n",
       "       [2, 2, 2]])"
      ]
     },
     "execution_count": 82,
     "metadata": {},
     "output_type": "execute_result"
    }
   ],
   "source": [
    "np.ones((3,3),dtype = int) +1"
   ]
  },
  {
   "cell_type": "markdown",
   "id": "12b02623-e85c-4f93-a906-2ca8c9566acf",
   "metadata": {},
   "source": [
    "### * Identity matrix :-"
   ]
  },
  {
   "cell_type": "markdown",
   "id": "1a1ca384-8703-4294-9925-83ee80796dbc",
   "metadata": {},
   "source": [
    "- only diagnol value will be and except all is zeros ."
   ]
  },
  {
   "cell_type": "code",
   "execution_count": 83,
   "id": "0267f077-72c1-4074-a68f-c85dd3b09e0f",
   "metadata": {},
   "outputs": [
    {
     "data": {
      "text/plain": [
       "array([[1., 0., 0.],\n",
       "       [0., 1., 0.],\n",
       "       [0., 0., 1.]])"
      ]
     },
     "execution_count": 83,
     "metadata": {},
     "output_type": "execute_result"
    }
   ],
   "source": [
    "np.eye(3,3)\n",
    "# daignol mean cross value "
   ]
  },
  {
   "cell_type": "markdown",
   "id": "4abd473e-2fd2-46c6-81e0-09330ba2f279",
   "metadata": {},
   "source": [
    "- wherever the number of rows == number of columns is called sqaure matrix.\n",
    "- wherever number of row not = number of columns is called rectangular matrix."
   ]
  },
  {
   "cell_type": "markdown",
   "id": "da32883e-6495-44fb-870b-bcff12eef0aa",
   "metadata": {},
   "source": [
    "### * Diagonal matrix :-"
   ]
  },
  {
   "cell_type": "code",
   "execution_count": 84,
   "id": "b81ffe9a-3a77-4976-a1ac-add29cbc3dc9",
   "metadata": {},
   "outputs": [
    {
     "data": {
      "text/plain": [
       "array([[ 1,  0,  0],\n",
       "       [ 0,  8,  0],\n",
       "       [ 0,  0, 14]])"
      ]
     },
     "execution_count": 84,
     "metadata": {},
     "output_type": "execute_result"
    }
   ],
   "source": [
    "np.diag ([1,8,14])  # we can give daignol value by ourselve."
   ]
  },
  {
   "cell_type": "code",
   "execution_count": 85,
   "id": "2ea265d3-c68e-4ecb-ab7c-942db0b68fd4",
   "metadata": {},
   "outputs": [
    {
     "data": {
      "text/plain": [
       "array([1, 4, 9])"
      ]
     },
     "execution_count": 85,
     "metadata": {},
     "output_type": "execute_result"
    }
   ],
   "source": [
    "# Extracting daignol value\n",
    "a = np.array ([[1,2,3],[3,4,5],[9,8,9]])\n",
    "np.diag(a)"
   ]
  },
  {
   "cell_type": "code",
   "execution_count": 86,
   "id": "73837ac6-c2a7-439b-8943-b179628c6ecb",
   "metadata": {},
   "outputs": [
    {
     "data": {
      "text/plain": [
       "array([1, 4])"
      ]
     },
     "execution_count": 86,
     "metadata": {},
     "output_type": "execute_result"
    }
   ],
   "source": [
    "a = np.array([[1,2,3],[3,4,5]])\n",
    "np.diag(a)"
   ]
  },
  {
   "cell_type": "code",
   "execution_count": 102,
   "id": "013b0fdd-3ac9-496f-a871-7fbea252f97c",
   "metadata": {},
   "outputs": [],
   "source": [
    "a = np.array([[10,20,50],[30,40,60],[20,80,90]])"
   ]
  },
  {
   "cell_type": "code",
   "execution_count": 103,
   "id": "75cead32-51a4-4b59-9706-56e312918d31",
   "metadata": {},
   "outputs": [
    {
     "name": "stdout",
     "output_type": "stream",
     "text": [
      "[[10 20 50]\n",
      " [30 40 60]\n",
      " [20 80 90]]\n"
     ]
    }
   ],
   "source": [
    "print(a)"
   ]
  },
  {
   "cell_type": "markdown",
   "id": "91098d27-9137-4b77-a246-b30b2b240e6d",
   "metadata": {},
   "source": [
    "### * indexing of 2 D array :-"
   ]
  },
  {
   "cell_type": "code",
   "execution_count": 104,
   "id": "b833f4c9-a8d7-4efc-94dd-e683e8091a81",
   "metadata": {},
   "outputs": [
    {
     "data": {
      "text/plain": [
       "array([10, 20, 50])"
      ]
     },
     "execution_count": 104,
     "metadata": {},
     "output_type": "execute_result"
    }
   ],
   "source": [
    "a[0] "
   ]
  },
  {
   "cell_type": "code",
   "execution_count": 105,
   "id": "29e6bccd-6492-4939-a454-795f79d91a94",
   "metadata": {},
   "outputs": [
    {
     "data": {
      "text/plain": [
       "90"
      ]
     },
     "execution_count": 105,
     "metadata": {},
     "output_type": "execute_result"
    }
   ],
   "source": [
    "a[2,2]"
   ]
  },
  {
   "cell_type": "code",
   "execution_count": null,
   "id": "7ba25e52-3dbd-4266-87f0-9744063ab089",
   "metadata": {},
   "outputs": [],
   "source": [
    "# To extract single value from 2D array\n",
    "# syntex :- array_name[rows index number, columns index number]"
   ]
  },
  {
   "cell_type": "code",
   "execution_count": 109,
   "id": "84d5397d-1f2a-4b3d-a44f-2f8491463054",
   "metadata": {},
   "outputs": [
    {
     "data": {
      "text/plain": [
       "60"
      ]
     },
     "execution_count": 109,
     "metadata": {},
     "output_type": "execute_result"
    }
   ],
   "source": [
    "a[1,2]"
   ]
  },
  {
   "cell_type": "code",
   "execution_count": 110,
   "id": "85c008f1-67c2-4bda-919e-b01e3e015b4b",
   "metadata": {},
   "outputs": [
    {
     "data": {
      "text/plain": [
       "array([20, 80, 90])"
      ]
     },
     "execution_count": 110,
     "metadata": {},
     "output_type": "execute_result"
    }
   ],
   "source": [
    "# To extract a single row \n",
    "a[2]"
   ]
  },
  {
   "cell_type": "code",
   "execution_count": 106,
   "id": "0d65e554-5a1b-4c12-90f8-3f1ee5127a28",
   "metadata": {},
   "outputs": [
    {
     "data": {
      "text/plain": [
       "array([[30, 40, 60],\n",
       "       [20, 80, 90]])"
      ]
     },
     "execution_count": 106,
     "metadata": {},
     "output_type": "execute_result"
    }
   ],
   "source": [
    "# To extract multiple value\n",
    "a[1:3]"
   ]
  },
  {
   "cell_type": "code",
   "execution_count": 108,
   "id": "cad3dc89-5e72-4684-83e6-9c3630c25389",
   "metadata": {},
   "outputs": [
    {
     "data": {
      "text/plain": [
       "array([[10, 20, 50],\n",
       "       [30, 40, 60]])"
      ]
     },
     "execution_count": 108,
     "metadata": {},
     "output_type": "execute_result"
    }
   ],
   "source": [
    "a[0:2]"
   ]
  },
  {
   "cell_type": "code",
   "execution_count": 98,
   "id": "69ba741e-c70c-4a77-8840-43261bf11274",
   "metadata": {},
   "outputs": [
    {
     "name": "stdout",
     "output_type": "stream",
     "text": [
      "[[[10 20 50]\n",
      "  [30 40 60]\n",
      "  [20 80 90]]]\n"
     ]
    }
   ],
   "source": [
    "# replace a single value in 2D array.\n",
    "print(a)"
   ]
  },
  {
   "cell_type": "code",
   "execution_count": 111,
   "id": "261a575c-383b-457d-9f92-0b07b94a7b82",
   "metadata": {},
   "outputs": [],
   "source": [
    "a[2,2] = 500"
   ]
  },
  {
   "cell_type": "code",
   "execution_count": 112,
   "id": "b90722e8-173f-47bd-9236-c803f2c41d09",
   "metadata": {},
   "outputs": [
    {
     "data": {
      "text/plain": [
       "array([[ 10,  20,  50],\n",
       "       [ 30,  40,  60],\n",
       "       [ 20,  80, 500]])"
      ]
     },
     "execution_count": 112,
     "metadata": {},
     "output_type": "execute_result"
    }
   ],
   "source": [
    "a   # here we replace a single value"
   ]
  },
  {
   "cell_type": "code",
   "execution_count": 113,
   "id": "bb5cc3d5-4510-41a5-b4bf-cf4fea748a68",
   "metadata": {},
   "outputs": [
    {
     "data": {
      "text/plain": [
       "array([[ 10,  20,  50],\n",
       "       [ 25,  30,  60],\n",
       "       [ 20,  80, 500]])"
      ]
     },
     "execution_count": 113,
     "metadata": {},
     "output_type": "execute_result"
    }
   ],
   "source": [
    "# replacing entire row\n",
    "a[1] = [25,30,60]\n",
    "a"
   ]
  },
  {
   "cell_type": "markdown",
   "id": "87e6b93a-5d47-4a61-8504-e034013536bf",
   "metadata": {},
   "source": [
    "### * Flattening :- "
   ]
  },
  {
   "cell_type": "markdown",
   "id": "3b2ca061-8dfb-4334-8be5-199a3164297c",
   "metadata": {},
   "source": [
    ". coverting 2D to 1D is called flattening."
   ]
  },
  {
   "cell_type": "code",
   "execution_count": 116,
   "id": "51f99fa6-c5b8-46a8-8608-1e5977f1ed20",
   "metadata": {},
   "outputs": [
    {
     "name": "stdout",
     "output_type": "stream",
     "text": [
      "[[0 1 2]\n",
      " [3 4 5]]\n",
      "[0 1 2 3 4 5]\n"
     ]
    }
   ],
   "source": [
    "a = np.array([[0,1,2],[3,4,5]])\n",
    "print(a)\n",
    "b = a.ravel()\n",
    "print(b)"
   ]
  },
  {
   "cell_type": "markdown",
   "id": "d3371e7f-14f1-4cc8-82dc-ae3364dc27cf",
   "metadata": {},
   "source": [
    "### * Repashe array :-"
   ]
  },
  {
   "cell_type": "markdown",
   "id": "36a804a1-4d60-470e-9d18-b5c5af74b2de",
   "metadata": {},
   "source": [
    "- converting one shape to other shape."
   ]
  },
  {
   "cell_type": "code",
   "execution_count": 118,
   "id": "cb3f8ae5-76e1-4b42-8059-3f31993ba1c6",
   "metadata": {},
   "outputs": [
    {
     "name": "stdout",
     "output_type": "stream",
     "text": [
      "[0 1 2 3 4 5]\n",
      "(6,)\n"
     ]
    }
   ],
   "source": [
    "arr = np.arange(6)\n",
    "print(arr)\n",
    "print(arr.shape)"
   ]
  },
  {
   "cell_type": "code",
   "execution_count": 119,
   "id": "910fc593-b874-40fe-a4f7-037df1a31deb",
   "metadata": {},
   "outputs": [
    {
     "name": "stdout",
     "output_type": "stream",
     "text": [
      "[[0 1 2]\n",
      " [3 4 5]]\n"
     ]
    }
   ],
   "source": [
    "a1 = arr.reshape(2,3)\n",
    "print(a1)\n",
    "# (2,3) :- mean 2row and 3cols"
   ]
  },
  {
   "cell_type": "code",
   "execution_count": 120,
   "id": "66988996-0d8f-4123-9f62-69a8cdfc15b9",
   "metadata": {},
   "outputs": [
    {
     "name": "stdout",
     "output_type": "stream",
     "text": [
      "[[0]\n",
      " [1]\n",
      " [2]\n",
      " [3]\n",
      " [4]\n",
      " [5]]\n"
     ]
    }
   ],
   "source": [
    "a1 = arr.reshape(6,1)  # it is six rows and one cols\n",
    "print(a1)"
   ]
  },
  {
   "cell_type": "code",
   "execution_count": 121,
   "id": "49ec3d78-36f4-4063-8ff1-00f882f880d0",
   "metadata": {},
   "outputs": [
    {
     "name": "stdout",
     "output_type": "stream",
     "text": [
      "[[ 0  1  5]\n",
      " [10 50  8]]\n",
      "(2, 3)\n"
     ]
    }
   ],
   "source": [
    "a = np.array([[0,1,5],[10,50,8]])\n",
    "print(a)\n",
    "print(a.shape)"
   ]
  },
  {
   "cell_type": "code",
   "execution_count": 125,
   "id": "93727583-0b5f-4df4-a964-0c50aa1a2a61",
   "metadata": {},
   "outputs": [
    {
     "name": "stdout",
     "output_type": "stream",
     "text": [
      "[[ 0  1]\n",
      " [ 5 10]\n",
      " [50  8]]\n"
     ]
    }
   ],
   "source": [
    "print(a.reshape(3,2))"
   ]
  },
  {
   "cell_type": "markdown",
   "id": "9480b6ff-bb18-40b3-b25a-84768ea5808c",
   "metadata": {},
   "source": [
    "### * Sort :-"
   ]
  },
  {
   "cell_type": "markdown",
   "id": "fe296a9f-215d-4893-b57a-611508ebe00d",
   "metadata": {},
   "source": [
    "- sortinh along as axis.\n",
    "- axis=1-->row & axis=0-->column"
   ]
  },
  {
   "cell_type": "code",
   "execution_count": 126,
   "id": "3eec107a-bbad-4e58-b778-a62a8980a041",
   "metadata": {},
   "outputs": [
    {
     "data": {
      "text/plain": [
       "array([[ 4,  5,  6],\n",
       "       [ 2,  2,  8],\n",
       "       [ 8,  9, 20]])"
      ]
     },
     "execution_count": 126,
     "metadata": {},
     "output_type": "execute_result"
    }
   ],
   "source": [
    "a = np.array([[5,4,6],[2,8,2],[8,9,20]])\n",
    "b = np.sort(a,axis = 1)\n",
    "b   # it also priting in order."
   ]
  },
  {
   "cell_type": "code",
   "execution_count": 127,
   "id": "0e1af9c4-c57a-4ef8-bb30-6f94dc7839ea",
   "metadata": {},
   "outputs": [
    {
     "data": {
      "text/plain": [
       "array([[ 2,  4,  2],\n",
       "       [ 5,  8,  6],\n",
       "       [ 8,  9, 20]])"
      ]
     },
     "execution_count": 127,
     "metadata": {},
     "output_type": "execute_result"
    }
   ],
   "source": [
    "# Now columns wise\n",
    "a = np.array([[5,4,6],[2,8,2],[8,9,20]])\n",
    "b = np.sort(a,axis=0)\n",
    "b"
   ]
  },
  {
   "cell_type": "markdown",
   "id": "bce15766-1f5b-4494-b9af-f162c72d6a90",
   "metadata": {},
   "source": [
    "### * Mathametical operatoins:-"
   ]
  },
  {
   "cell_type": "code",
   "execution_count": 131,
   "id": "b2b3e0b3-2d5c-4c99-9abf-5ebbbbfe0a37",
   "metadata": {},
   "outputs": [
    {
     "name": "stdout",
     "output_type": "stream",
     "text": [
      "[[41  6]\n",
      " [17 28]\n",
      " [39 50]]\n"
     ]
    }
   ],
   "source": [
    "a = np.array([[1,2],[3,4],[5,6]])\n",
    "b = np.array([[40,4],[14,24],[34,44]])\n",
    "# adding a and b (element wise addition).\n",
    "print(a+b)"
   ]
  },
  {
   "cell_type": "code",
   "execution_count": 132,
   "id": "d84ac1c8-efa5-4217-8723-9780dd394c53",
   "metadata": {},
   "outputs": [
    {
     "name": "stdout",
     "output_type": "stream",
     "text": [
      "[[ 5 12]\n",
      " [21 32]]\n"
     ]
    }
   ],
   "source": [
    "a = np.array([[1,2],[3,4]])\n",
    "b = np.array([[5,6],[7,8]])\n",
    "print(a*b)"
   ]
  },
  {
   "cell_type": "code",
   "execution_count": 133,
   "id": "7f9dbc9e-b93c-49d2-8724-dd1c33604dcf",
   "metadata": {},
   "outputs": [
    {
     "data": {
      "text/plain": [
       "array([[19, 22],\n",
       "       [43, 50]])"
      ]
     },
     "execution_count": 133,
     "metadata": {},
     "output_type": "execute_result"
    }
   ],
   "source": [
    "a = np.array([[1,2],[3,4]])\n",
    "b = np.array([[5,6],[7,8]])\n",
    "# matrix multiplication\n",
    "np.matmul(a,b)"
   ]
  },
  {
   "cell_type": "markdown",
   "id": "17e11694-255a-471f-9bab-0af3cd2d032f",
   "metadata": {},
   "source": [
    "### * join multiple 2D array"
   ]
  },
  {
   "cell_type": "code",
   "execution_count": 134,
   "id": "df60c5da-576b-4baf-b14d-f70700786cc6",
   "metadata": {},
   "outputs": [
    {
     "data": {
      "text/plain": [
       "array([[1, 2],\n",
       "       [3, 4],\n",
       "       [5, 6],\n",
       "       [7, 8]])"
      ]
     },
     "execution_count": 134,
     "metadata": {},
     "output_type": "execute_result"
    }
   ],
   "source": [
    "np.concatenate((a,b),axis =0)"
   ]
  },
  {
   "cell_type": "code",
   "execution_count": 135,
   "id": "24e08dc3-a272-455f-a13b-72da141c8269",
   "metadata": {},
   "outputs": [
    {
     "data": {
      "text/plain": [
       "array([[1, 2, 5, 6],\n",
       "       [3, 4, 7, 8]])"
      ]
     },
     "execution_count": 135,
     "metadata": {},
     "output_type": "execute_result"
    }
   ],
   "source": [
    "np.concatenate((a,b),axis=1)"
   ]
  },
  {
   "cell_type": "code",
   "execution_count": 136,
   "id": "a4fd2b5f-571b-4d5d-af09-93aa117d94f0",
   "metadata": {},
   "outputs": [
    {
     "data": {
      "text/plain": [
       "array([[1, 2],\n",
       "       [3, 4],\n",
       "       [5, 6],\n",
       "       [7, 8]])"
      ]
     },
     "execution_count": 136,
     "metadata": {},
     "output_type": "execute_result"
    }
   ],
   "source": [
    "# Invertcal stack\n",
    "np.vstack((a,b))"
   ]
  },
  {
   "cell_type": "code",
   "execution_count": 137,
   "id": "48eafaea-3981-46e0-bf14-052909a92504",
   "metadata": {},
   "outputs": [
    {
     "data": {
      "text/plain": [
       "array([[1, 2, 5, 6],\n",
       "       [3, 4, 7, 8]])"
      ]
     },
     "execution_count": 137,
     "metadata": {},
     "output_type": "execute_result"
    }
   ],
   "source": [
    "# In horizantal stack\n",
    "np.hstack((a,b))"
   ]
  },
  {
   "cell_type": "markdown",
   "id": "57dc1372-0e93-4338-971d-1cadf72e5a79",
   "metadata": {},
   "source": [
    "--------end-------numpy-------"
   ]
  },
  {
   "cell_type": "code",
   "execution_count": null,
   "id": "dd343591-2c55-422c-9b17-8461d636459b",
   "metadata": {},
   "outputs": [],
   "source": []
  }
 ],
 "metadata": {
  "kernelspec": {
   "display_name": "Python 3 (ipykernel)",
   "language": "python",
   "name": "python3"
  },
  "language_info": {
   "codemirror_mode": {
    "name": "ipython",
    "version": 3
   },
   "file_extension": ".py",
   "mimetype": "text/x-python",
   "name": "python",
   "nbconvert_exporter": "python",
   "pygments_lexer": "ipython3",
   "version": "3.12.7"
  }
 },
 "nbformat": 4,
 "nbformat_minor": 5
}
