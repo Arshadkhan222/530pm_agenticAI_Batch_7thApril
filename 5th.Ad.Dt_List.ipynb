{
 "cells": [
  {
   "cell_type": "markdown",
   "id": "efcb2bc3-8366-4991-88a3-de77242ee325",
   "metadata": {},
   "source": [
    "# List"
   ]
  },
  {
   "cell_type": "markdown",
   "id": "66803699-f19a-4405-800d-53d2fd6c32fe",
   "metadata": {},
   "source": [
    "#### list is advanced data type.list with zero iteam is called empty list.\n",
    "#### list is one of most use  data type in python and very flexible"
   ]
  },
  {
   "cell_type": "code",
   "execution_count": 1,
   "id": "c38dcb0a-1295-4704-86b6-541642e3dd13",
   "metadata": {},
   "outputs": [],
   "source": [
    "# They can store multiple value inside the object\n",
    "# List, set, Dict----> mutable\n",
    "# Tuple:- Immutable"
   ]
  },
  {
   "cell_type": "code",
   "execution_count": 2,
   "id": "fc40c8ea-bb9c-4370-87be-646f470ffc75",
   "metadata": {},
   "outputs": [],
   "source": [
    "empty_list = []"
   ]
  },
  {
   "cell_type": "code",
   "execution_count": 3,
   "id": "a6aa577c-c3f4-4a15-89c1-40baa3bc4e34",
   "metadata": {},
   "outputs": [
    {
     "data": {
      "text/plain": [
       "[]"
      ]
     },
     "execution_count": 3,
     "metadata": {},
     "output_type": "execute_result"
    }
   ],
   "source": [
    "empty_list"
   ]
  },
  {
   "cell_type": "code",
   "execution_count": 4,
   "id": "527f24f9-3c66-4a27-a687-e9fc008c7213",
   "metadata": {},
   "outputs": [
    {
     "data": {
      "text/plain": [
       "int"
      ]
     },
     "execution_count": 4,
     "metadata": {},
     "output_type": "execute_result"
    }
   ],
   "source": [
    "l = 10\n",
    "type(l) # this is int becuse we can store only one value"
   ]
  },
  {
   "cell_type": "code",
   "execution_count": 5,
   "id": "8b217888-c07a-491f-a114-9f7e708bbab4",
   "metadata": {},
   "outputs": [
    {
     "data": {
      "text/plain": [
       "list"
      ]
     },
     "execution_count": 5,
     "metadata": {},
     "output_type": "execute_result"
    }
   ],
   "source": [
    "l = [10,20]\n",
    "type(l)"
   ]
  },
  {
   "cell_type": "code",
   "execution_count": 6,
   "id": "8898e920-cc96-4d29-b2f2-76cd200593b8",
   "metadata": {},
   "outputs": [],
   "source": [
    "# for printin list\n",
    "l = [10,20,30,40]"
   ]
  },
  {
   "cell_type": "code",
   "execution_count": 7,
   "id": "da4f7ea8-7426-4eea-9a6e-c29e68a37540",
   "metadata": {},
   "outputs": [
    {
     "name": "stdout",
     "output_type": "stream",
     "text": [
      "[10, 20, 30, 40]\n"
     ]
    }
   ],
   "source": [
    "print(l)"
   ]
  },
  {
   "cell_type": "code",
   "execution_count": 8,
   "id": "1a931b08-0cab-4955-a8fe-213863f8588e",
   "metadata": {},
   "outputs": [
    {
     "data": {
      "text/plain": [
       "list"
      ]
     },
     "execution_count": 8,
     "metadata": {},
     "output_type": "execute_result"
    }
   ],
   "source": [
    "type(l)"
   ]
  },
  {
   "cell_type": "code",
   "execution_count": 9,
   "id": "66658e81-4387-4977-a885-b49f69cdab6e",
   "metadata": {},
   "outputs": [
    {
     "data": {
      "text/plain": [
       "4"
      ]
     },
     "execution_count": 9,
     "metadata": {},
     "output_type": "execute_result"
    }
   ],
   "source": [
    "# let's count length of l\n",
    "len(l)"
   ]
  },
  {
   "cell_type": "code",
   "execution_count": 10,
   "id": "cc574935-669c-4e4a-b9e5-7193455f9678",
   "metadata": {},
   "outputs": [],
   "source": [
    "# len(string):- number of charector in the given string.\n",
    "# len(list):- number of item inside the list."
   ]
  },
  {
   "cell_type": "code",
   "execution_count": 11,
   "id": "6f30a24f-37b6-45be-80e1-0eba29c10c2a",
   "metadata": {},
   "outputs": [],
   "source": [
    "li = [1 , 10.4, True, 'srk']"
   ]
  },
  {
   "cell_type": "code",
   "execution_count": 12,
   "id": "b85f34d5-1eef-46d4-817e-46c332a8409a",
   "metadata": {},
   "outputs": [
    {
     "name": "stdout",
     "output_type": "stream",
     "text": [
      "[1, 10.4, True, 'srk']\n"
     ]
    }
   ],
   "source": [
    "print(li)"
   ]
  },
  {
   "cell_type": "code",
   "execution_count": 13,
   "id": "fa7ed77c-453c-4e01-b05c-a7bfef32564d",
   "metadata": {},
   "outputs": [
    {
     "data": {
      "text/plain": [
       "4"
      ]
     },
     "execution_count": 13,
     "metadata": {},
     "output_type": "execute_result"
    }
   ],
   "source": [
    "len(li)"
   ]
  },
  {
   "cell_type": "code",
   "execution_count": 14,
   "id": "d9fd174d-be0a-4f25-8b9c-6cf31be3ecc4",
   "metadata": {},
   "outputs": [],
   "source": [
    "nest=[1,4,16,[25,36],49,'srk']"
   ]
  },
  {
   "cell_type": "code",
   "execution_count": 15,
   "id": "7dcd4e4d-7b1c-4f03-94fe-cbf485e2d67e",
   "metadata": {},
   "outputs": [
    {
     "data": {
      "text/plain": [
       "[1, 4, 16, [25, 36], 49, 'srk']"
      ]
     },
     "execution_count": 15,
     "metadata": {},
     "output_type": "execute_result"
    }
   ],
   "source": [
    "nest  # here list inside list which will not count 2 it will count one iteam only"
   ]
  },
  {
   "cell_type": "code",
   "execution_count": 16,
   "id": "6faee249-830c-46b0-9f46-b852a6a92330",
   "metadata": {},
   "outputs": [
    {
     "data": {
      "text/plain": [
       "6"
      ]
     },
     "execution_count": 16,
     "metadata": {},
     "output_type": "execute_result"
    }
   ],
   "source": [
    "len(nest) "
   ]
  },
  {
   "cell_type": "code",
   "execution_count": 17,
   "id": "41f1ec03-5a99-4b4f-8dc3-93ac346e2914",
   "metadata": {},
   "outputs": [
    {
     "data": {
      "text/plain": [
       "1"
      ]
     },
     "execution_count": 17,
     "metadata": {},
     "output_type": "execute_result"
    }
   ],
   "source": [
    "nest[0]"
   ]
  },
  {
   "cell_type": "code",
   "execution_count": 18,
   "id": "6bd4d19e-18e0-40c2-a43e-9c24543d05bb",
   "metadata": {},
   "outputs": [
    {
     "data": {
      "text/plain": [
       "4"
      ]
     },
     "execution_count": 18,
     "metadata": {},
     "output_type": "execute_result"
    }
   ],
   "source": [
    "nest[1]"
   ]
  },
  {
   "cell_type": "code",
   "execution_count": 19,
   "id": "96a0fd09-4c9e-4a95-ac47-b89462509c33",
   "metadata": {},
   "outputs": [
    {
     "data": {
      "text/plain": [
       "[25, 36]"
      ]
     },
     "execution_count": 19,
     "metadata": {},
     "output_type": "execute_result"
    }
   ],
   "source": [
    "nest[3]"
   ]
  },
  {
   "cell_type": "code",
   "execution_count": 20,
   "id": "46706e51-a08a-4f27-af17-a1081c21bade",
   "metadata": {},
   "outputs": [
    {
     "data": {
      "text/plain": [
       "36"
      ]
     },
     "execution_count": 20,
     "metadata": {},
     "output_type": "execute_result"
    }
   ],
   "source": [
    "# if i want to print 36 from this inside list\n",
    "nest[3][1]"
   ]
  },
  {
   "cell_type": "code",
   "execution_count": 21,
   "id": "4817c886-db49-4d57-a06c-a9ca75e05a8b",
   "metadata": {},
   "outputs": [
    {
     "data": {
      "text/plain": [
       "25"
      ]
     },
     "execution_count": 21,
     "metadata": {},
     "output_type": "execute_result"
    }
   ],
   "source": [
    "# and i want 25\n",
    "nest[3][0]"
   ]
  },
  {
   "cell_type": "code",
   "execution_count": 22,
   "id": "623791d4-dd30-473c-bb33-59505e1db0f7",
   "metadata": {},
   "outputs": [
    {
     "data": {
      "text/plain": [
       "4"
      ]
     },
     "execution_count": 22,
     "metadata": {},
     "output_type": "execute_result"
    }
   ],
   "source": [
    "# Q(interview) :- what is the length of list\n",
    "l =[25,30,[26,27,28,'hello'],[32,38]]\n",
    "len(l)"
   ]
  },
  {
   "cell_type": "code",
   "execution_count": 23,
   "id": "10292f65-3b23-471e-8255-f9e2eb5eae90",
   "metadata": {},
   "outputs": [
    {
     "data": {
      "text/plain": [
       "'hello'"
      ]
     },
     "execution_count": 23,
     "metadata": {},
     "output_type": "execute_result"
    }
   ],
   "source": [
    "# i want to print just hello from list\n",
    "l[2][3]"
   ]
  },
  {
   "cell_type": "code",
   "execution_count": 24,
   "id": "844cc45b-26eb-4440-a7f8-bc7e02618d8d",
   "metadata": {},
   "outputs": [
    {
     "data": {
      "text/plain": [
       "'o'"
      ]
     },
     "execution_count": 24,
     "metadata": {},
     "output_type": "execute_result"
    }
   ],
   "source": [
    "# if i want to print just 'o' of string hello\n",
    "l[2][3][4]"
   ]
  },
  {
   "cell_type": "code",
   "execution_count": 25,
   "id": "c648bcba-2f56-4396-b5a7-f2b24bf2e2cd",
   "metadata": {},
   "outputs": [
    {
     "data": {
      "text/plain": [
       "[32, 38]"
      ]
     },
     "execution_count": 25,
     "metadata": {},
     "output_type": "execute_result"
    }
   ],
   "source": [
    "l[3]"
   ]
  },
  {
   "cell_type": "code",
   "execution_count": 26,
   "id": "bae65e5c-a3c5-4fdb-a3bc-c77969615266",
   "metadata": {},
   "outputs": [
    {
     "data": {
      "text/plain": [
       "30"
      ]
     },
     "execution_count": 26,
     "metadata": {},
     "output_type": "execute_result"
    }
   ],
   "source": [
    "l[1]"
   ]
  },
  {
   "cell_type": "code",
   "execution_count": 27,
   "id": "e8075652-9c52-4b1c-ae63-50e20b30e724",
   "metadata": {},
   "outputs": [
    {
     "data": {
      "text/plain": [
       "25"
      ]
     },
     "execution_count": 27,
     "metadata": {},
     "output_type": "execute_result"
    }
   ],
   "source": [
    "l[0]"
   ]
  },
  {
   "cell_type": "code",
   "execution_count": 28,
   "id": "bbcf6908-aed0-45fd-acef-636fd1c34092",
   "metadata": {},
   "outputs": [
    {
     "data": {
      "text/plain": [
       "[20, 30, 40, 50]"
      ]
     },
     "execution_count": 28,
     "metadata": {},
     "output_type": "execute_result"
    }
   ],
   "source": [
    "# slicing \n",
    "number=[10,20,30,40,50,60,70,80]\n",
    "number[1:5]"
   ]
  },
  {
   "cell_type": "code",
   "execution_count": 29,
   "id": "1e3660f3-4987-4519-ae26-81295f42b250",
   "metadata": {},
   "outputs": [
    {
     "data": {
      "text/plain": [
       "[10, 20, 30, 40, 50]"
      ]
     },
     "execution_count": 29,
     "metadata": {},
     "output_type": "execute_result"
    }
   ],
   "source": [
    "number[0:5]"
   ]
  },
  {
   "cell_type": "code",
   "execution_count": 30,
   "id": "842d399e-1560-4368-9c76-2dfe348efded",
   "metadata": {},
   "outputs": [
    {
     "data": {
      "text/plain": [
       "[10, 20, 30, 40, 50, 60, 70, 80]"
      ]
     },
     "execution_count": 30,
     "metadata": {},
     "output_type": "execute_result"
    }
   ],
   "source": [
    "# for entire slicing \n",
    "number[:]"
   ]
  },
  {
   "cell_type": "code",
   "execution_count": 31,
   "id": "88571435-37da-4a56-926c-b8fce4f952e8",
   "metadata": {},
   "outputs": [
    {
     "data": {
      "text/plain": [
       "[10, 20, 30, 40, 50, 60, 70]"
      ]
     },
     "execution_count": 31,
     "metadata": {},
     "output_type": "execute_result"
    }
   ],
   "source": [
    "number[0:7]"
   ]
  },
  {
   "cell_type": "code",
   "execution_count": 32,
   "id": "35bdfafb-faef-4406-a9d5-ad4573cae761",
   "metadata": {},
   "outputs": [
    {
     "data": {
      "text/plain": [
       "[10, 20, 30, 40, 50, 60, 70, 80]"
      ]
     },
     "execution_count": 32,
     "metadata": {},
     "output_type": "execute_result"
    }
   ],
   "source": [
    "number[0:8]"
   ]
  },
  {
   "cell_type": "markdown",
   "id": "5b1eea15-14ef-493a-bd84-13215c0cc030",
   "metadata": {},
   "source": [
    " # List concatenation"
   ]
  },
  {
   "cell_type": "code",
   "execution_count": 33,
   "id": "cd66233e-75a0-431f-a1b5-c94e117b3b08",
   "metadata": {},
   "outputs": [
    {
     "data": {
      "text/plain": [
       "['d', 'b', 'c', 'a', 6, 4.0]"
      ]
     },
     "execution_count": 33,
     "metadata": {},
     "output_type": "execute_result"
    }
   ],
   "source": [
    "l1 = ['d', 'b','c']\n",
    "l2 = ['a', 6, 4.0]\n",
    "l1+l2"
   ]
  },
  {
   "cell_type": "code",
   "execution_count": 34,
   "id": "98be6df2-63d8-492f-b3f9-27027152a496",
   "metadata": {},
   "outputs": [
    {
     "data": {
      "text/plain": [
       "['a', 6, 4.0, 'd', 'b', 'c']"
      ]
     },
     "execution_count": 34,
     "metadata": {},
     "output_type": "execute_result"
    }
   ],
   "source": [
    "l2+l1"
   ]
  },
  {
   "cell_type": "code",
   "execution_count": 35,
   "id": "d7b0839b-4daa-4c3d-852d-ee77083ea920",
   "metadata": {},
   "outputs": [
    {
     "data": {
      "text/plain": [
       "['a', 6, 4.0, 'a', 6, 4.0]"
      ]
     },
     "execution_count": 35,
     "metadata": {},
     "output_type": "execute_result"
    }
   ],
   "source": [
    "l2+l2"
   ]
  },
  {
   "cell_type": "code",
   "execution_count": 36,
   "id": "3fd02707-c0f5-4a77-aca5-f7d857bd94e2",
   "metadata": {},
   "outputs": [
    {
     "data": {
      "text/plain": [
       "['d', 'b', 'c', 'd', 'b', 'c']"
      ]
     },
     "execution_count": 36,
     "metadata": {},
     "output_type": "execute_result"
    }
   ],
   "source": [
    "l1+l1"
   ]
  },
  {
   "cell_type": "code",
   "execution_count": 37,
   "id": "59aff9d9-5939-4bdb-b9cc-98d5f76e7e5e",
   "metadata": {},
   "outputs": [],
   "source": [
    "#mutable := we can add remove or change or modify the object."
   ]
  },
  {
   "cell_type": "code",
   "execution_count": 39,
   "id": "ccdac36b-9f45-42b6-83ac-e9c1bf99c7b7",
   "metadata": {},
   "outputs": [
    {
     "name": "stdout",
     "output_type": "stream",
     "text": [
      "[1, 2, 3]\n"
     ]
    },
    {
     "data": {
      "text/plain": [
       "2101526793344"
      ]
     },
     "execution_count": 39,
     "metadata": {},
     "output_type": "execute_result"
    }
   ],
   "source": [
    "a=[1,2,3]\n",
    "print(a)\n",
    "id(a)"
   ]
  },
  {
   "cell_type": "code",
   "execution_count": 40,
   "id": "b4fa9585-2305-4650-98a6-c81f067d4eb6",
   "metadata": {},
   "outputs": [],
   "source": [
    "# Replace"
   ]
  },
  {
   "cell_type": "code",
   "execution_count": 42,
   "id": "9e1fd2cd-1853-4a98-be98-bbdaa1248bcb",
   "metadata": {},
   "outputs": [],
   "source": [
    "a[1]=200"
   ]
  },
  {
   "cell_type": "code",
   "execution_count": 43,
   "id": "63b7069d-e36f-4733-8983-da51bf6c0f75",
   "metadata": {},
   "outputs": [
    {
     "name": "stdout",
     "output_type": "stream",
     "text": [
      "[1, 200, 3]\n"
     ]
    }
   ],
   "source": [
    "print(a)\n",
    "# so here we have replaced the 2 to 200"
   ]
  },
  {
   "cell_type": "code",
   "execution_count": 46,
   "id": "b1107913-cd87-4760-8ff5-24e8c6b62961",
   "metadata": {},
   "outputs": [
    {
     "name": "stdout",
     "output_type": "stream",
     "text": [
      "[1, 200, 'Arshad']\n"
     ]
    }
   ],
   "source": [
    "a[2]= 'Arshad'\n",
    "print(a)"
   ]
  },
  {
   "cell_type": "code",
   "execution_count": 48,
   "id": "16052d57-7e2b-4356-8177-63e5b6c98401",
   "metadata": {},
   "outputs": [
    {
     "name": "stdout",
     "output_type": "stream",
     "text": [
      "[[1, 2, 3], 200, 'Arshad']\n"
     ]
    }
   ],
   "source": [
    "# we can also change like this\n",
    "a[0]=[1,2,3]\n",
    "print(a)"
   ]
  },
  {
   "cell_type": "markdown",
   "id": "4ffd81d8-5e7c-478e-a4e7-e91eb246dbff",
   "metadata": {},
   "source": [
    "# List Methode"
   ]
  },
  {
   "cell_type": "code",
   "execution_count": 50,
   "id": "0782119b-f2a2-4e52-80df-4ad98aa178b0",
   "metadata": {},
   "outputs": [],
   "source": [
    "# :- This function is applicable for particular datatype\n",
    "# :- Methode is also called attribute"
   ]
  },
  {
   "cell_type": "markdown",
   "id": "4b95496e-c153-4333-bbb4-151da1c4ba4a",
   "metadata": {},
   "source": [
    "# * append()"
   ]
  },
  {
   "cell_type": "raw",
   "id": "99cb928c-caf5-4dfd-a1cb-2df051221819",
   "metadata": {},
   "source": [
    ". This fuction use to add iteam at the end of the list .\n",
    ". item can be either int , float , bool, str, list."
   ]
  },
  {
   "cell_type": "code",
   "execution_count": 83,
   "id": "093b77fa-3d49-4daf-8c2b-37538e87fae2",
   "metadata": {},
   "outputs": [],
   "source": [
    "lst = [1,2,3,4]"
   ]
  },
  {
   "cell_type": "code",
   "execution_count": 84,
   "id": "eceee089-495f-4546-a93f-d13832ab1625",
   "metadata": {},
   "outputs": [
    {
     "data": {
      "text/plain": [
       "[1, 2, 3, 4]"
      ]
     },
     "execution_count": 84,
     "metadata": {},
     "output_type": "execute_result"
    }
   ],
   "source": [
    "lst"
   ]
  },
  {
   "cell_type": "code",
   "execution_count": 85,
   "id": "de202a3c-7869-4b74-a0df-6c3c8b1162a9",
   "metadata": {},
   "outputs": [],
   "source": [
    "lst.append(5)"
   ]
  },
  {
   "cell_type": "code",
   "execution_count": 86,
   "id": "2d837b80-aede-4d60-b484-57a2a8615483",
   "metadata": {},
   "outputs": [
    {
     "data": {
      "text/plain": [
       "[1, 2, 3, 4, 5]"
      ]
     },
     "execution_count": 86,
     "metadata": {},
     "output_type": "execute_result"
    }
   ],
   "source": [
    "lst"
   ]
  },
  {
   "cell_type": "code",
   "execution_count": 87,
   "id": "be0bcd99-cb5b-4c54-930a-56d872530edc",
   "metadata": {},
   "outputs": [],
   "source": [
    "# it can not replace it add in the last"
   ]
  },
  {
   "cell_type": "code",
   "execution_count": 88,
   "id": "1c405a14-60fa-4765-b306-3286163504df",
   "metadata": {},
   "outputs": [],
   "source": [
    "lst.append([5,6])"
   ]
  },
  {
   "cell_type": "code",
   "execution_count": 89,
   "id": "e34fa503-42f5-4dfe-9be6-38e9ccea06c9",
   "metadata": {},
   "outputs": [
    {
     "data": {
      "text/plain": [
       "[1, 2, 3, 4, 5, [5, 6]]"
      ]
     },
     "execution_count": 89,
     "metadata": {},
     "output_type": "execute_result"
    }
   ],
   "source": [
    "lst"
   ]
  },
  {
   "cell_type": "code",
   "execution_count": 90,
   "id": "643c36ce-d966-4651-844a-a2fe96634bc2",
   "metadata": {},
   "outputs": [
    {
     "data": {
      "text/plain": [
       "6"
      ]
     },
     "execution_count": 90,
     "metadata": {},
     "output_type": "execute_result"
    }
   ],
   "source": [
    "len(lst)"
   ]
  },
  {
   "cell_type": "code",
   "execution_count": 91,
   "id": "21cc6722-e16e-4c39-842e-1d12165b8873",
   "metadata": {},
   "outputs": [
    {
     "data": {
      "text/plain": [
       "[1, 2, 3, 4, 5, [5, 6]]"
      ]
     },
     "execution_count": 91,
     "metadata": {},
     "output_type": "execute_result"
    }
   ],
   "source": [
    "lst"
   ]
  },
  {
   "cell_type": "code",
   "execution_count": 92,
   "id": "f23bba47-ba1e-4985-9ed2-493b204d0424",
   "metadata": {},
   "outputs": [
    {
     "data": {
      "text/plain": [
       "[1, 2, 3, 4, 5, [5, 6]]"
      ]
     },
     "execution_count": 92,
     "metadata": {},
     "output_type": "execute_result"
    }
   ],
   "source": [
    "lst"
   ]
  },
  {
   "cell_type": "code",
   "execution_count": 93,
   "id": "fafb6c97-ae60-4739-9b8c-21000dee555b",
   "metadata": {},
   "outputs": [],
   "source": [
    "lst[-1].append(8)"
   ]
  },
  {
   "cell_type": "code",
   "execution_count": 94,
   "id": "b679f3e4-2d89-4710-bea4-59bd0e78d067",
   "metadata": {},
   "outputs": [
    {
     "data": {
      "text/plain": [
       "[1, 2, 3, 4, 5, [5, 6, 8]]"
      ]
     },
     "execution_count": 94,
     "metadata": {},
     "output_type": "execute_result"
    }
   ],
   "source": [
    "lst"
   ]
  },
  {
   "cell_type": "code",
   "execution_count": 95,
   "id": "088ccedd-01a8-48ad-bb67-d7906a5eb58c",
   "metadata": {},
   "outputs": [],
   "source": [
    "lst.append(8)"
   ]
  },
  {
   "cell_type": "code",
   "execution_count": 96,
   "id": "3f0e64be-adee-4ac2-9434-b5dbe48d6ae3",
   "metadata": {},
   "outputs": [
    {
     "data": {
      "text/plain": [
       "[1, 2, 3, 4, 5, [5, 6, 8], 8]"
      ]
     },
     "execution_count": 96,
     "metadata": {},
     "output_type": "execute_result"
    }
   ],
   "source": [
    "lst"
   ]
  },
  {
   "cell_type": "code",
   "execution_count": 97,
   "id": "41e395f2-aeeb-486a-abb7-48c805962ad5",
   "metadata": {},
   "outputs": [],
   "source": [
    "lst.append(9)"
   ]
  },
  {
   "cell_type": "code",
   "execution_count": 98,
   "id": "43dd8050-667d-49eb-ae1b-f9d741ba0592",
   "metadata": {},
   "outputs": [
    {
     "data": {
      "text/plain": [
       "[1, 2, 3, 4, 5, [5, 6, 8], 8, 9]"
      ]
     },
     "execution_count": 98,
     "metadata": {},
     "output_type": "execute_result"
    }
   ],
   "source": [
    "lst"
   ]
  },
  {
   "cell_type": "code",
   "execution_count": 102,
   "id": "e5d48883-c174-4832-b241-693642b0e8da",
   "metadata": {},
   "outputs": [],
   "source": [
    "lst[5].append(10)"
   ]
  },
  {
   "cell_type": "code",
   "execution_count": 103,
   "id": "7dd34235-d275-4b8e-a82c-625c0a31c5c4",
   "metadata": {},
   "outputs": [
    {
     "data": {
      "text/plain": [
       "[1, 2, 3, 4, 5, [5, 6, 8, 10], 8, 9]"
      ]
     },
     "execution_count": 103,
     "metadata": {},
     "output_type": "execute_result"
    }
   ],
   "source": [
    "lst"
   ]
  },
  {
   "cell_type": "code",
   "execution_count": 104,
   "id": "7a44db94-396d-4228-b0ba-c6000bf6dcc4",
   "metadata": {},
   "outputs": [
    {
     "data": {
      "text/plain": [
       "8"
      ]
     },
     "execution_count": 104,
     "metadata": {},
     "output_type": "execute_result"
    }
   ],
   "source": [
    "lst[6]"
   ]
  },
  {
   "cell_type": "markdown",
   "id": "63ac16cc-0dd6-4ad2-8392-fb1cc35e8f31",
   "metadata": {},
   "source": [
    "# * Extend"
   ]
  },
  {
   "cell_type": "raw",
   "id": "611b9330-daec-4718-ac3d-2c65fede54e8",
   "metadata": {},
   "source": [
    "list.extend()\n",
    ". used to add multiple item in a list.\n",
    ". it add indually each item in the end.\n",
    ". whenever you want to add item take them into a list and apply extend()."
   ]
  },
  {
   "cell_type": "raw",
   "id": "de9e772a-c131-4b25-8b16-45f710ee5030",
   "metadata": {},
   "source": [
    ".append can add only one item while extend can add multiple."
   ]
  },
  {
   "cell_type": "code",
   "execution_count": 135,
   "id": "d62efcb8-eead-44ec-95ef-6f7935597ff8",
   "metadata": {},
   "outputs": [],
   "source": [
    "del Lst"
   ]
  },
  {
   "cell_type": "code",
   "execution_count": 137,
   "id": "69731690-0e64-4ab5-9899-7f86ca866024",
   "metadata": {},
   "outputs": [],
   "source": [
    "Lst = [1,2,3,4]\n",
    "Lst.extend([5,[20,4],[20,9,16],'srk'])"
   ]
  },
  {
   "cell_type": "code",
   "execution_count": 138,
   "id": "06e81d22-a2da-474f-b5e2-09f828934568",
   "metadata": {},
   "outputs": [
    {
     "name": "stdout",
     "output_type": "stream",
     "text": [
      "[1, 2, 3, 4, 5, [20, 4], [20, 9, 16], 'srk']\n"
     ]
    }
   ],
   "source": [
    "print(Lst)"
   ]
  },
  {
   "cell_type": "code",
   "execution_count": 146,
   "id": "1b7af5d1-2de2-4d55-9342-33d8fcd78771",
   "metadata": {},
   "outputs": [
    {
     "data": {
      "text/plain": [
       "9"
      ]
     },
     "execution_count": 146,
     "metadata": {},
     "output_type": "execute_result"
    }
   ],
   "source": [
    "len(Lst)"
   ]
  },
  {
   "cell_type": "code",
   "execution_count": 143,
   "id": "c8f706c3-ab53-4523-a854-d10d610ee8d7",
   "metadata": {},
   "outputs": [],
   "source": [
    "# Now append\n",
    "List =[1,2,3,4]\n",
    "List.append([5,[20,4],[20,9,16],'srk'])"
   ]
  },
  {
   "cell_type": "code",
   "execution_count": 144,
   "id": "7c6585cc-a266-4a4f-86a1-42413b03c843",
   "metadata": {},
   "outputs": [
    {
     "name": "stdout",
     "output_type": "stream",
     "text": [
      "[1, 2, 3, 4, [5, [20, 4], [20, 9, 16], 'srk']]\n"
     ]
    }
   ],
   "source": [
    "print(List)"
   ]
  },
  {
   "cell_type": "code",
   "execution_count": 145,
   "id": "4fa2ffac-03c1-481d-a57d-284f48103bcd",
   "metadata": {},
   "outputs": [
    {
     "data": {
      "text/plain": [
       "5"
      ]
     },
     "execution_count": 145,
     "metadata": {},
     "output_type": "execute_result"
    }
   ],
   "source": [
    "len(List)"
   ]
  },
  {
   "cell_type": "code",
   "execution_count": 150,
   "id": "14939678-7c94-4512-897c-f8998f28a1b5",
   "metadata": {},
   "outputs": [],
   "source": [
    "part = [1,2,3,4]\n",
    "part.extend([5,[20,4],[20,9,16]])"
   ]
  },
  {
   "cell_type": "code",
   "execution_count": 151,
   "id": "950f38d1-f540-45fc-88e7-2d900540bec1",
   "metadata": {},
   "outputs": [
    {
     "name": "stdout",
     "output_type": "stream",
     "text": [
      "[1, 2, 3, 4, 5, [20, 4], [20, 9, 16]]\n"
     ]
    }
   ],
   "source": [
    "print(part)"
   ]
  },
  {
   "cell_type": "code",
   "execution_count": 152,
   "id": "5154535a-0eec-422e-abaa-fa9633dc9045",
   "metadata": {},
   "outputs": [
    {
     "data": {
      "text/plain": [
       "7"
      ]
     },
     "execution_count": 152,
     "metadata": {},
     "output_type": "execute_result"
    }
   ],
   "source": [
    "len(part)"
   ]
  },
  {
   "cell_type": "code",
   "execution_count": 156,
   "id": "bf11a482-c9ca-4bcc-b6f6-221854c21740",
   "metadata": {},
   "outputs": [
    {
     "name": "stdout",
     "output_type": "stream",
     "text": [
      "[3, 4, 5, 1, 2, 3]\n"
     ]
    }
   ],
   "source": [
    "l1 = [1,2,3]\n",
    "l2 = [3,4,5]\n",
    "l2.extend(l1)\n",
    "print(l2)"
   ]
  },
  {
   "cell_type": "code",
   "execution_count": 154,
   "id": "c00b85b5-252a-455e-9e7e-28c4521d2d09",
   "metadata": {},
   "outputs": [
    {
     "name": "stdout",
     "output_type": "stream",
     "text": [
      "[1, 2, 3]\n"
     ]
    }
   ],
   "source": [
    "print(l1)"
   ]
  },
  {
   "cell_type": "code",
   "execution_count": 157,
   "id": "132ca01b-9c4e-400c-a65a-723b08e157e1",
   "metadata": {},
   "outputs": [
    {
     "name": "stdout",
     "output_type": "stream",
     "text": [
      "[4, 5, 6, 7, 8, 9]\n"
     ]
    }
   ],
   "source": [
    "l1 = [4,5,6]\n",
    "l2 = [7,8,9]\n",
    "l1.extend(l2)\n",
    "print(l1)"
   ]
  },
  {
   "cell_type": "code",
   "execution_count": 158,
   "id": "7fc0f123-57ea-4a3e-b806-baa0b73a9453",
   "metadata": {},
   "outputs": [
    {
     "name": "stdout",
     "output_type": "stream",
     "text": [
      "[3, 4, 5, [1, 2, 3], [98, 7]]\n"
     ]
    }
   ],
   "source": [
    "l1 = [1,2,3]\n",
    "l2 = [3,4,5]\n",
    "l3 = [98,7]\n",
    "l2.extend([l1,l3])\n",
    "print(l2)"
   ]
  },
  {
   "cell_type": "markdown",
   "id": "1646db27-00d7-4ba9-9200-fbd95f2a5a00",
   "metadata": {},
   "source": [
    "#### * List.extend == List concatenation"
   ]
  },
  {
   "cell_type": "raw",
   "id": "e658a4c4-29df-40fc-a71d-6c4864a02850",
   "metadata": {},
   "source": [
    "what is the diffrence between append function and extend function.\n",
    "\n",
    "Ans:- So both function add element or item in the last. But append will add \n",
    "      only one item and extend will add multiple item."
   ]
  },
  {
   "cell_type": "code",
   "execution_count": 161,
   "id": "d5d137a3-ecea-4cde-847a-62837f9e9955",
   "metadata": {},
   "outputs": [
    {
     "name": "stdout",
     "output_type": "stream",
     "text": [
      "[1, 2, 3, 4, [5, 6, 7]]\n"
     ]
    }
   ],
   "source": [
    "lst = [1,2,3,4]\n",
    "lst.append([5,6,7])\n",
    "print(lst)"
   ]
  },
  {
   "cell_type": "code",
   "execution_count": 162,
   "id": "225f0b86-23c3-4b8b-a877-5b938c8457b8",
   "metadata": {},
   "outputs": [
    {
     "name": "stdout",
     "output_type": "stream",
     "text": [
      "[1, 2, 3, 4, 5, 6, 7]\n"
     ]
    }
   ],
   "source": [
    "lst = [1,2,3,4]\n",
    "lst.extend([5,6,7])\n",
    "print(lst)"
   ]
  },
  {
   "cell_type": "markdown",
   "id": "f8eec1a6-cebf-4601-8b6b-6c013d3dd71c",
   "metadata": {},
   "source": [
    "##### so this is the diffrence between both of them"
   ]
  },
  {
   "cell_type": "code",
   "execution_count": null,
   "id": "40ccfe6d-0c18-47d7-8aac-6c20c6df440f",
   "metadata": {},
   "outputs": [],
   "source": []
  }
 ],
 "metadata": {
  "kernelspec": {
   "display_name": "Python 3 (ipykernel)",
   "language": "python",
   "name": "python3"
  },
  "language_info": {
   "codemirror_mode": {
    "name": "ipython",
    "version": 3
   },
   "file_extension": ".py",
   "mimetype": "text/x-python",
   "name": "python",
   "nbconvert_exporter": "python",
   "pygments_lexer": "ipython3",
   "version": "3.12.7"
  }
 },
 "nbformat": 4,
 "nbformat_minor": 5
}
